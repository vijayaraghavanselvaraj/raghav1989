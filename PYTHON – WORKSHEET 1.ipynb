{
 "cells": [
  {
   "cell_type": "code",
   "execution_count": null,
   "id": "4745f001",
   "metadata": {},
   "outputs": [],
   "source": [
    "def factorial(n):\n",
    "\n",
    "    if n == 0:\n",
    "        return 1\n",
    "    else:\n",
    "        return n * factorial(n-1)\n",
    "n = int(input(\"Enter the number to find a factorial Value\"))\n",
    "print(factorial(n))"
   ]
  },
  {
   "cell_type": "code",
   "execution_count": null,
   "id": "52d85930",
   "metadata": {},
   "outputs": [],
   "source": [
    "def PrimeChecker(a):  \n",
    "    if S > 1:  \n",
    "        for V in range(2, int(S/2) + 1):  \n",
    "            if (S % V) == 0:  \n",
    "                print(S, \"is a composite number\")  \n",
    "                break  \n",
    "        else:  \n",
    "            print(S, \"is a prime number\")  \n",
    "    else:  \n",
    "        print(S, \"is a composite number\")  \n",
    "S = int(input(\"Enter an input number:\"))  \n",
    "PrimeChecker(S)  "
   ]
  },
  {
   "cell_type": "code",
   "execution_count": 7,
   "id": "ee85312f",
   "metadata": {},
   "outputs": [
    {
     "name": "stdout",
     "output_type": "stream",
     "text": [
      "Enter the Word to check Palindrome or not:Mom\n",
      "This is palindrome\n"
     ]
    }
   ],
   "source": [
    "String1 = input('Enter the Word to check Palindrome or not:').casefold()\n",
    "\n",
    "#casefold added to consider the uppeer and lower cases to be treated same\n",
    "\n",
    "String2 = String1[::-1]\n",
    "\n",
    "if String1 == String2:\n",
    "    print('This is palindrome')\n",
    "else:\n",
    "    print('This is not palindrome')"
   ]
  },
  {
   "cell_type": "code",
   "execution_count": 2,
   "id": "76dd8d79",
   "metadata": {},
   "outputs": [
    {
     "name": "stdout",
     "output_type": "stream",
     "text": [
      "Enter an input number:2\n",
      "Enter an input number:3\n",
      "3.605551275463989\n"
     ]
    }
   ],
   "source": [
    "def findHypotenuse(side1, side2):\n",
    " \n",
    "    h = (((side1 * side1) + (side2 * side2))**(1/2));\n",
    "    return h;\n",
    " \n",
    "side1 = int(input(\"Enter an input number:\"))  \n",
    "side2 = int(input(\"Enter an input number:\"))  \n",
    " \n",
    "print(findHypotenuse(side1, side2));"
   ]
  },
  {
   "cell_type": "code",
   "execution_count": null,
   "id": "cddf3b28",
   "metadata": {},
   "outputs": [],
   "source": [
    "string = input(\"Enter a string: \").casefold()\n",
    "list1 = []\n",
    "for char in string:\n",
    "    if char not in list1:\n",
    "        list1.append(char)\n",
    "for item in list1:\n",
    "    print(item,string.count(item), sep = \",\")"
   ]
  }
 ],
 "metadata": {
  "kernelspec": {
   "display_name": "Python 3",
   "language": "python",
   "name": "python3"
  },
  "language_info": {
   "codemirror_mode": {
    "name": "ipython",
    "version": 3
   },
   "file_extension": ".py",
   "mimetype": "text/x-python",
   "name": "python",
   "nbconvert_exporter": "python",
   "pygments_lexer": "ipython3",
   "version": "3.8.8"
  }
 },
 "nbformat": 4,
 "nbformat_minor": 5
}
