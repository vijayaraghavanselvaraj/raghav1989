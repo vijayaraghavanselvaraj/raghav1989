{
 "cells": [
  {
   "cell_type": "code",
   "execution_count": 83,
   "id": "7f893511",
   "metadata": {},
   "outputs": [],
   "source": [
    "import selenium\n",
    "from selenium import webdriver\n",
    "import pandas as pd\n",
    "import warnings\n",
    "warnings.filterwarnings('ignore')"
   ]
  },
  {
   "cell_type": "code",
   "execution_count": 84,
   "id": "49d2486d",
   "metadata": {},
   "outputs": [],
   "source": [
    "driver = webdriver.Chrome('chromedriver.exe')"
   ]
  },
  {
   "cell_type": "code",
   "execution_count": 85,
   "id": "f909c363",
   "metadata": {},
   "outputs": [],
   "source": [
    "url = \"https://www.naukri.com/\"\n",
    "driver.get(url)"
   ]
  },
  {
   "cell_type": "code",
   "execution_count": 86,
   "id": "a7c71f32",
   "metadata": {},
   "outputs": [
    {
     "data": {
      "text/plain": [
       "<selenium.webdriver.remote.webelement.WebElement (session=\"27490150d4c84b33228dcd9dd109b203\", element=\"1bdd03f9-74e1-4aa3-93dd-6af590f028f0\")>"
      ]
     },
     "execution_count": 86,
     "metadata": {},
     "output_type": "execute_result"
    }
   ],
   "source": [
    "title = driver.find_element_by_class_name('suggestor-input')\n",
    "title"
   ]
  },
  {
   "cell_type": "code",
   "execution_count": 87,
   "id": "d38a5cc3",
   "metadata": {},
   "outputs": [],
   "source": [
    "title.send_keys('Data Scientist')"
   ]
  },
  {
   "cell_type": "code",
   "execution_count": 88,
   "id": "12f73c7a",
   "metadata": {},
   "outputs": [
    {
     "data": {
      "text/plain": [
       "<selenium.webdriver.remote.webelement.WebElement (session=\"27490150d4c84b33228dcd9dd109b203\", element=\"24b8a3cf-6343-4897-aaa5-e2cf97b7ac71\")>"
      ]
     },
     "execution_count": 88,
     "metadata": {},
     "output_type": "execute_result"
    }
   ],
   "source": [
    "searchbutton = driver.find_element_by_xpath('/html/body/div/div[2]/div[3]/div/div/div[6]')\n",
    "searchbutton"
   ]
  },
  {
   "cell_type": "code",
   "execution_count": 90,
   "id": "62acac15",
   "metadata": {},
   "outputs": [],
   "source": [
    "searchbutton.click()"
   ]
  },
  {
   "cell_type": "code",
   "execution_count": 92,
   "id": "d0ef8b27",
   "metadata": {},
   "outputs": [
    {
     "data": {
      "text/plain": [
       "<selenium.webdriver.remote.webelement.WebElement (session=\"27490150d4c84b33228dcd9dd109b203\", element=\"e69cb83b-5d43-43f1-a9b3-6307ed0b341a\")>"
      ]
     },
     "execution_count": 92,
     "metadata": {},
     "output_type": "execute_result"
    }
   ],
   "source": [
    "location = driver.find_element_by_xpath('/html/body/div[1]/div[3]/div[2]/section[1]/div[2]/div[3]/div[2]/div[3]/label/p/span[1]')\n",
    "location"
   ]
  },
  {
   "cell_type": "code",
   "execution_count": 93,
   "id": "c5dd17e1",
   "metadata": {},
   "outputs": [],
   "source": [
    "location.click()"
   ]
  },
  {
   "cell_type": "code",
   "execution_count": 94,
   "id": "25daf41e",
   "metadata": {},
   "outputs": [
    {
     "data": {
      "text/plain": [
       "<selenium.webdriver.remote.webelement.WebElement (session=\"27490150d4c84b33228dcd9dd109b203\", element=\"e6e7e022-f5b3-4160-ba6d-c7635211a8c4\")>"
      ]
     },
     "execution_count": 94,
     "metadata": {},
     "output_type": "execute_result"
    }
   ],
   "source": [
    "salary = driver.find_element_by_xpath('/html/body/div[1]/div[3]/div[2]/section[1]/div[2]/div[4]/div[2]/div[1]/label/p/span[1]')\n",
    "salary"
   ]
  },
  {
   "cell_type": "code",
   "execution_count": 95,
   "id": "0acd2beb",
   "metadata": {},
   "outputs": [],
   "source": [
    "salary.click()"
   ]
  },
  {
   "cell_type": "code",
   "execution_count": 97,
   "id": "bd724d23",
   "metadata": {},
   "outputs": [
    {
     "data": {
      "text/plain": [
       "[<selenium.webdriver.remote.webelement.WebElement (session=\"27490150d4c84b33228dcd9dd109b203\", element=\"1e618c75-b9aa-4cdd-ae1c-4e2cf9cb2dfe\")>,\n",
       " <selenium.webdriver.remote.webelement.WebElement (session=\"27490150d4c84b33228dcd9dd109b203\", element=\"19b182e5-fb8c-44d9-99f8-8bd8fbf4a685\")>,\n",
       " <selenium.webdriver.remote.webelement.WebElement (session=\"27490150d4c84b33228dcd9dd109b203\", element=\"f2c6c410-ff29-4b95-ae1f-e74efa5ba81b\")>,\n",
       " <selenium.webdriver.remote.webelement.WebElement (session=\"27490150d4c84b33228dcd9dd109b203\", element=\"fffa222a-825d-41c1-9a5d-de5edea69a35\")>,\n",
       " <selenium.webdriver.remote.webelement.WebElement (session=\"27490150d4c84b33228dcd9dd109b203\", element=\"415426d6-9b4e-41c0-b130-c97c614a5a9b\")>,\n",
       " <selenium.webdriver.remote.webelement.WebElement (session=\"27490150d4c84b33228dcd9dd109b203\", element=\"114a858c-fb1e-4e09-97ef-5a2a12f75500\")>,\n",
       " <selenium.webdriver.remote.webelement.WebElement (session=\"27490150d4c84b33228dcd9dd109b203\", element=\"ca6cf3d8-71ee-42ef-b8ed-dd4bdfbd55d8\")>,\n",
       " <selenium.webdriver.remote.webelement.WebElement (session=\"27490150d4c84b33228dcd9dd109b203\", element=\"bc5541d7-c6bb-4006-a8a2-4e6749cf213a\")>,\n",
       " <selenium.webdriver.remote.webelement.WebElement (session=\"27490150d4c84b33228dcd9dd109b203\", element=\"fe1e89b7-166e-4ed7-be2f-ba50fbf40377\")>,\n",
       " <selenium.webdriver.remote.webelement.WebElement (session=\"27490150d4c84b33228dcd9dd109b203\", element=\"2edbb205-1a7c-4612-8d1b-8566d39d7156\")>,\n",
       " <selenium.webdriver.remote.webelement.WebElement (session=\"27490150d4c84b33228dcd9dd109b203\", element=\"31aa56af-9f7b-401d-9746-36a7a904982c\")>,\n",
       " <selenium.webdriver.remote.webelement.WebElement (session=\"27490150d4c84b33228dcd9dd109b203\", element=\"2c97089a-0826-4086-bceb-46ddec0aa081\")>,\n",
       " <selenium.webdriver.remote.webelement.WebElement (session=\"27490150d4c84b33228dcd9dd109b203\", element=\"2fedc0d4-5478-4953-8e30-0587eb6181a7\")>,\n",
       " <selenium.webdriver.remote.webelement.WebElement (session=\"27490150d4c84b33228dcd9dd109b203\", element=\"628d0c5d-03b2-4e26-a7cf-1ea4bff005b4\")>,\n",
       " <selenium.webdriver.remote.webelement.WebElement (session=\"27490150d4c84b33228dcd9dd109b203\", element=\"6f2f1a82-432c-4f6c-b59b-5f4f0cc12d72\")>,\n",
       " <selenium.webdriver.remote.webelement.WebElement (session=\"27490150d4c84b33228dcd9dd109b203\", element=\"f78a330f-7ed5-4b0e-ac02-b9361c07a7df\")>,\n",
       " <selenium.webdriver.remote.webelement.WebElement (session=\"27490150d4c84b33228dcd9dd109b203\", element=\"d35bbb89-eabe-4901-989b-c63b824cd2ae\")>,\n",
       " <selenium.webdriver.remote.webelement.WebElement (session=\"27490150d4c84b33228dcd9dd109b203\", element=\"76493aed-409b-454b-934a-ad6ad8b02cbe\")>,\n",
       " <selenium.webdriver.remote.webelement.WebElement (session=\"27490150d4c84b33228dcd9dd109b203\", element=\"deed4f43-1c59-4d98-99c3-9f36bca7df67\")>]"
      ]
     },
     "execution_count": 97,
     "metadata": {},
     "output_type": "execute_result"
    }
   ],
   "source": [
    "title = driver.find_elements_by_xpath('//a[@class=\"title fw500 ellipsis\"]')\n",
    "title"
   ]
  },
  {
   "cell_type": "code",
   "execution_count": 98,
   "id": "307a7a26",
   "metadata": {},
   "outputs": [
    {
     "data": {
      "text/plain": [
       "['Junior Data Analyst/ Scientist- Fresher Position',\n",
       " 'Data Scientist | Python | Machine Learning | Deep Learning- Fresher',\n",
       " 'Openings For Jr/mid/Sr level data Scientists',\n",
       " 'Data Scientist',\n",
       " 'Data Analyst / Data Scientist / Business Analytics / Fresher - MNC',\n",
       " 'Senior Data Scientist',\n",
       " 'Data Scientist (Python| Machine Learning)',\n",
       " 'Data Scientist',\n",
       " 'Senior Marketing Data Analyst',\n",
       " 'Developers, Data Scientists, Web Designers, Android Developers']"
      ]
     },
     "execution_count": 98,
     "metadata": {},
     "output_type": "execute_result"
    }
   ],
   "source": [
    "JobTitle = []\n",
    "\n",
    "for role in title:\n",
    "    JobTitle.append(role.text)\n",
    "JobTitle[:10]"
   ]
  },
  {
   "cell_type": "code",
   "execution_count": 99,
   "id": "0ba1c4ef",
   "metadata": {},
   "outputs": [
    {
     "data": {
      "text/plain": [
       "[<selenium.webdriver.remote.webelement.WebElement (session=\"27490150d4c84b33228dcd9dd109b203\", element=\"c662e48c-19b2-4f06-ae42-8b508f76fd70\")>,\n",
       " <selenium.webdriver.remote.webelement.WebElement (session=\"27490150d4c84b33228dcd9dd109b203\", element=\"88cf535e-6695-451e-9201-55457880ef71\")>,\n",
       " <selenium.webdriver.remote.webelement.WebElement (session=\"27490150d4c84b33228dcd9dd109b203\", element=\"4d22395a-d8b6-4039-8f4b-f976b1405248\")>,\n",
       " <selenium.webdriver.remote.webelement.WebElement (session=\"27490150d4c84b33228dcd9dd109b203\", element=\"e3c9b73b-2f9b-4f13-88fc-f3c49b8da458\")>,\n",
       " <selenium.webdriver.remote.webelement.WebElement (session=\"27490150d4c84b33228dcd9dd109b203\", element=\"e0e7fa52-9842-44db-af3f-3502d93cae7f\")>,\n",
       " <selenium.webdriver.remote.webelement.WebElement (session=\"27490150d4c84b33228dcd9dd109b203\", element=\"a78a38e2-47dd-457c-98d0-454450f0450d\")>,\n",
       " <selenium.webdriver.remote.webelement.WebElement (session=\"27490150d4c84b33228dcd9dd109b203\", element=\"ba440be6-634b-41e1-983c-eab1a72ec173\")>,\n",
       " <selenium.webdriver.remote.webelement.WebElement (session=\"27490150d4c84b33228dcd9dd109b203\", element=\"006313ee-2947-4c59-86bc-5bee71e79583\")>,\n",
       " <selenium.webdriver.remote.webelement.WebElement (session=\"27490150d4c84b33228dcd9dd109b203\", element=\"a9550b52-4f6f-433c-a70d-e82d47e85cef\")>,\n",
       " <selenium.webdriver.remote.webelement.WebElement (session=\"27490150d4c84b33228dcd9dd109b203\", element=\"ab494396-42bb-4902-b11d-4761ae9eef26\")>,\n",
       " <selenium.webdriver.remote.webelement.WebElement (session=\"27490150d4c84b33228dcd9dd109b203\", element=\"7097b163-85a6-4c69-827a-a1df45a4dc2d\")>,\n",
       " <selenium.webdriver.remote.webelement.WebElement (session=\"27490150d4c84b33228dcd9dd109b203\", element=\"0663ff3e-1dfa-4f2d-be05-8c977d8df82e\")>,\n",
       " <selenium.webdriver.remote.webelement.WebElement (session=\"27490150d4c84b33228dcd9dd109b203\", element=\"acc731c0-3843-49e1-997d-3d77f911dc33\")>,\n",
       " <selenium.webdriver.remote.webelement.WebElement (session=\"27490150d4c84b33228dcd9dd109b203\", element=\"12728497-d69d-436d-8295-2054fb5a06f8\")>,\n",
       " <selenium.webdriver.remote.webelement.WebElement (session=\"27490150d4c84b33228dcd9dd109b203\", element=\"338c56f6-fca6-4608-a52f-0dc7a44cd0c6\")>,\n",
       " <selenium.webdriver.remote.webelement.WebElement (session=\"27490150d4c84b33228dcd9dd109b203\", element=\"a344ba71-7a66-4187-b7c6-7eb22a5c1685\")>,\n",
       " <selenium.webdriver.remote.webelement.WebElement (session=\"27490150d4c84b33228dcd9dd109b203\", element=\"b6bf1e72-4046-4ed4-bff9-7c988ec4951f\")>,\n",
       " <selenium.webdriver.remote.webelement.WebElement (session=\"27490150d4c84b33228dcd9dd109b203\", element=\"421f5372-9809-481a-baab-bb820f5a8e1c\")>,\n",
       " <selenium.webdriver.remote.webelement.WebElement (session=\"27490150d4c84b33228dcd9dd109b203\", element=\"35f141dd-71c5-4018-9c06-ceaa2cb4283f\")>]"
      ]
     },
     "execution_count": 99,
     "metadata": {},
     "output_type": "execute_result"
    }
   ],
   "source": [
    "loca = driver.find_elements_by_xpath('//li[@class=\"fleft grey-text br2 placeHolderLi location\"]')\n",
    "loca"
   ]
  },
  {
   "cell_type": "code",
   "execution_count": 100,
   "id": "3dc8ee1a",
   "metadata": {},
   "outputs": [
    {
     "data": {
      "text/plain": [
       "['Kolkata, Gurgaon/Gurugram, Bangalore/Bengaluru\\n(WFH during Covid)',\n",
       " 'Noida, Gurgaon/Gurugram, Delhi / NCR',\n",
       " 'Kolkata, Hyderabad/Secunderabad, Pune, Ahmedabad, Chennai, Bangalore/Bengaluru, Delhi / NCR, Mumbai (All Areas)\\n(WFH during Covid)',\n",
       " 'Ahmedabad, Chennai, Bangalore/Bengaluru, Delhi / NCR, Mumbai (All Areas)',\n",
       " 'Noida, New Delhi, Delhi / NCR',\n",
       " 'Kolkata, Mumbai, Gurgaon/Gurugram, Bangalore/Bengaluru',\n",
       " 'Noida',\n",
       " 'Noida',\n",
       " 'Gurgaon/Gurugram',\n",
       " 'Noida']"
      ]
     },
     "execution_count": 100,
     "metadata": {},
     "output_type": "execute_result"
    }
   ],
   "source": [
    "Location = []\n",
    "\n",
    "for loc in loca:\n",
    "    Location.append(loc.text)\n",
    "Location[:10]"
   ]
  },
  {
   "cell_type": "code",
   "execution_count": 101,
   "id": "3c5ccd2d",
   "metadata": {},
   "outputs": [
    {
     "data": {
      "text/plain": [
       "[<selenium.webdriver.remote.webelement.WebElement (session=\"27490150d4c84b33228dcd9dd109b203\", element=\"6b8978d9-65b3-400c-9ff1-ca6d42c53ffc\")>,\n",
       " <selenium.webdriver.remote.webelement.WebElement (session=\"27490150d4c84b33228dcd9dd109b203\", element=\"d5cd3326-c7dc-4027-b3b1-4ca7369b25d1\")>,\n",
       " <selenium.webdriver.remote.webelement.WebElement (session=\"27490150d4c84b33228dcd9dd109b203\", element=\"b16986bd-a340-4bf9-8f25-fdc0aaad48ca\")>,\n",
       " <selenium.webdriver.remote.webelement.WebElement (session=\"27490150d4c84b33228dcd9dd109b203\", element=\"d1f7e187-d171-48e5-877c-778302487344\")>,\n",
       " <selenium.webdriver.remote.webelement.WebElement (session=\"27490150d4c84b33228dcd9dd109b203\", element=\"83cff2bc-83c6-44e3-af72-393152f442b9\")>,\n",
       " <selenium.webdriver.remote.webelement.WebElement (session=\"27490150d4c84b33228dcd9dd109b203\", element=\"7f06af80-5c1b-404d-93c9-2a60194afa80\")>,\n",
       " <selenium.webdriver.remote.webelement.WebElement (session=\"27490150d4c84b33228dcd9dd109b203\", element=\"ecb91103-dd09-4b67-9cad-e00807576514\")>,\n",
       " <selenium.webdriver.remote.webelement.WebElement (session=\"27490150d4c84b33228dcd9dd109b203\", element=\"ba2946e9-c52f-472a-9ead-6f0ec8ac3442\")>,\n",
       " <selenium.webdriver.remote.webelement.WebElement (session=\"27490150d4c84b33228dcd9dd109b203\", element=\"0608e0d4-b94d-4fff-88ca-5e9892f7e790\")>,\n",
       " <selenium.webdriver.remote.webelement.WebElement (session=\"27490150d4c84b33228dcd9dd109b203\", element=\"5404e2bf-b377-48f5-8f41-296f1295948e\")>,\n",
       " <selenium.webdriver.remote.webelement.WebElement (session=\"27490150d4c84b33228dcd9dd109b203\", element=\"2cdb5830-5e16-4434-ab84-2825c6245c59\")>,\n",
       " <selenium.webdriver.remote.webelement.WebElement (session=\"27490150d4c84b33228dcd9dd109b203\", element=\"8d2682fd-4bcc-46ba-8e5b-40e3883cabb8\")>,\n",
       " <selenium.webdriver.remote.webelement.WebElement (session=\"27490150d4c84b33228dcd9dd109b203\", element=\"146b582e-1124-44c7-a92e-67a194251238\")>,\n",
       " <selenium.webdriver.remote.webelement.WebElement (session=\"27490150d4c84b33228dcd9dd109b203\", element=\"937bf13e-25cd-4d6d-ad04-cad98d8bdcee\")>,\n",
       " <selenium.webdriver.remote.webelement.WebElement (session=\"27490150d4c84b33228dcd9dd109b203\", element=\"7c1ba5f0-ce0d-4274-a13d-37f1d45bae0d\")>,\n",
       " <selenium.webdriver.remote.webelement.WebElement (session=\"27490150d4c84b33228dcd9dd109b203\", element=\"488b2a68-682c-47a8-96b0-df794594076c\")>,\n",
       " <selenium.webdriver.remote.webelement.WebElement (session=\"27490150d4c84b33228dcd9dd109b203\", element=\"ef1d8fc8-9c47-4643-a19f-406aeb722aed\")>,\n",
       " <selenium.webdriver.remote.webelement.WebElement (session=\"27490150d4c84b33228dcd9dd109b203\", element=\"5bf587d0-df5e-4431-8592-eec305c9b438\")>,\n",
       " <selenium.webdriver.remote.webelement.WebElement (session=\"27490150d4c84b33228dcd9dd109b203\", element=\"7e611f2a-3afc-47b4-b7aa-d1502cae42f7\")>]"
      ]
     },
     "execution_count": 101,
     "metadata": {},
     "output_type": "execute_result"
    }
   ],
   "source": [
    "cname = driver.find_elements_by_xpath('//a[@class=\"subTitle ellipsis fleft\"]')\n",
    "cname"
   ]
  },
  {
   "cell_type": "code",
   "execution_count": 102,
   "id": "63aeb209",
   "metadata": {},
   "outputs": [
    {
     "data": {
      "text/plain": [
       "['Sejal Consulting Hub',\n",
       " 'Schlesinger Group',\n",
       " 'Pluto seven business solutions (p) limited',\n",
       " 'Wunderman Thompson Commerce Private Limited',\n",
       " 'GABA Consultancy services',\n",
       " 'Dynpro India Pvt. Ltd.',\n",
       " 'Jubna',\n",
       " 'Gauge Data Solutions Pvt Ltd',\n",
       " 'Tide Software',\n",
       " 'Cogmac Technologies']"
      ]
     },
     "execution_count": 102,
     "metadata": {},
     "output_type": "execute_result"
    }
   ],
   "source": [
    "Companyname = []\n",
    "\n",
    "for name in cname:\n",
    "    Companyname.append(name.text)\n",
    "Companyname[:10]"
   ]
  },
  {
   "cell_type": "code",
   "execution_count": 103,
   "id": "e2128742",
   "metadata": {},
   "outputs": [
    {
     "data": {
      "text/html": [
       "<div>\n",
       "<style scoped>\n",
       "    .dataframe tbody tr th:only-of-type {\n",
       "        vertical-align: middle;\n",
       "    }\n",
       "\n",
       "    .dataframe tbody tr th {\n",
       "        vertical-align: top;\n",
       "    }\n",
       "\n",
       "    .dataframe thead th {\n",
       "        text-align: right;\n",
       "    }\n",
       "</style>\n",
       "<table border=\"1\" class=\"dataframe\">\n",
       "  <thead>\n",
       "    <tr style=\"text-align: right;\">\n",
       "      <th></th>\n",
       "      <th>Job Title</th>\n",
       "      <th>Job Location</th>\n",
       "      <th>Company Name</th>\n",
       "    </tr>\n",
       "  </thead>\n",
       "  <tbody>\n",
       "    <tr>\n",
       "      <th>0</th>\n",
       "      <td>Junior Data Analyst/ Scientist- Fresher Position</td>\n",
       "      <td>Kolkata, Gurgaon/Gurugram, Bangalore/Bengaluru...</td>\n",
       "      <td>Sejal Consulting Hub</td>\n",
       "    </tr>\n",
       "    <tr>\n",
       "      <th>1</th>\n",
       "      <td>Data Scientist | Python | Machine Learning | D...</td>\n",
       "      <td>Noida, Gurgaon/Gurugram, Delhi / NCR</td>\n",
       "      <td>Schlesinger Group</td>\n",
       "    </tr>\n",
       "    <tr>\n",
       "      <th>2</th>\n",
       "      <td>Openings For Jr/mid/Sr level data Scientists</td>\n",
       "      <td>Kolkata, Hyderabad/Secunderabad, Pune, Ahmedab...</td>\n",
       "      <td>Pluto seven business solutions (p) limited</td>\n",
       "    </tr>\n",
       "    <tr>\n",
       "      <th>3</th>\n",
       "      <td>Data Scientist</td>\n",
       "      <td>Ahmedabad, Chennai, Bangalore/Bengaluru, Delhi...</td>\n",
       "      <td>Wunderman Thompson Commerce Private Limited</td>\n",
       "    </tr>\n",
       "    <tr>\n",
       "      <th>4</th>\n",
       "      <td>Data Analyst / Data Scientist / Business Analy...</td>\n",
       "      <td>Noida, New Delhi, Delhi / NCR</td>\n",
       "      <td>GABA Consultancy services</td>\n",
       "    </tr>\n",
       "    <tr>\n",
       "      <th>5</th>\n",
       "      <td>Senior Data Scientist</td>\n",
       "      <td>Kolkata, Mumbai, Gurgaon/Gurugram, Bangalore/B...</td>\n",
       "      <td>Dynpro India Pvt. Ltd.</td>\n",
       "    </tr>\n",
       "    <tr>\n",
       "      <th>6</th>\n",
       "      <td>Data Scientist (Python| Machine Learning)</td>\n",
       "      <td>Noida</td>\n",
       "      <td>Jubna</td>\n",
       "    </tr>\n",
       "    <tr>\n",
       "      <th>7</th>\n",
       "      <td>Data Scientist</td>\n",
       "      <td>Noida</td>\n",
       "      <td>Gauge Data Solutions Pvt Ltd</td>\n",
       "    </tr>\n",
       "    <tr>\n",
       "      <th>8</th>\n",
       "      <td>Senior Marketing Data Analyst</td>\n",
       "      <td>Gurgaon/Gurugram</td>\n",
       "      <td>Tide Software</td>\n",
       "    </tr>\n",
       "    <tr>\n",
       "      <th>9</th>\n",
       "      <td>Developers, Data Scientists, Web Designers, An...</td>\n",
       "      <td>Noida</td>\n",
       "      <td>Cogmac Technologies</td>\n",
       "    </tr>\n",
       "    <tr>\n",
       "      <th>10</th>\n",
       "      <td>Financial Research Analyst / Data Entry Operator</td>\n",
       "      <td>New Delhi(Bhikaji Cama)</td>\n",
       "      <td>Eagle Peak Intel Private Limited</td>\n",
       "    </tr>\n",
       "  </tbody>\n",
       "</table>\n",
       "</div>"
      ],
      "text/plain": [
       "                                            Job Title  \\\n",
       "0    Junior Data Analyst/ Scientist- Fresher Position   \n",
       "1   Data Scientist | Python | Machine Learning | D...   \n",
       "2        Openings For Jr/mid/Sr level data Scientists   \n",
       "3                                      Data Scientist   \n",
       "4   Data Analyst / Data Scientist / Business Analy...   \n",
       "5                               Senior Data Scientist   \n",
       "6           Data Scientist (Python| Machine Learning)   \n",
       "7                                      Data Scientist   \n",
       "8                       Senior Marketing Data Analyst   \n",
       "9   Developers, Data Scientists, Web Designers, An...   \n",
       "10   Financial Research Analyst / Data Entry Operator   \n",
       "\n",
       "                                         Job Location  \\\n",
       "0   Kolkata, Gurgaon/Gurugram, Bangalore/Bengaluru...   \n",
       "1                Noida, Gurgaon/Gurugram, Delhi / NCR   \n",
       "2   Kolkata, Hyderabad/Secunderabad, Pune, Ahmedab...   \n",
       "3   Ahmedabad, Chennai, Bangalore/Bengaluru, Delhi...   \n",
       "4                       Noida, New Delhi, Delhi / NCR   \n",
       "5   Kolkata, Mumbai, Gurgaon/Gurugram, Bangalore/B...   \n",
       "6                                               Noida   \n",
       "7                                               Noida   \n",
       "8                                    Gurgaon/Gurugram   \n",
       "9                                               Noida   \n",
       "10                            New Delhi(Bhikaji Cama)   \n",
       "\n",
       "                                   Company Name  \n",
       "0                          Sejal Consulting Hub  \n",
       "1                             Schlesinger Group  \n",
       "2    Pluto seven business solutions (p) limited  \n",
       "3   Wunderman Thompson Commerce Private Limited  \n",
       "4                     GABA Consultancy services  \n",
       "5                        Dynpro India Pvt. Ltd.  \n",
       "6                                         Jubna  \n",
       "7                  Gauge Data Solutions Pvt Ltd  \n",
       "8                                 Tide Software  \n",
       "9                           Cogmac Technologies  \n",
       "10             Eagle Peak Intel Private Limited  "
      ]
     },
     "execution_count": 103,
     "metadata": {},
     "output_type": "execute_result"
    }
   ],
   "source": [
    "data = pd.DataFrame()\n",
    "data ['Job Title'] = JobTitle\n",
    "data ['Job Location'] = Location\n",
    "data ['Company Name'] = Companyname\n",
    "data.head(11)"
   ]
  },
  {
   "cell_type": "code",
   "execution_count": null,
   "id": "4ecc0b55",
   "metadata": {},
   "outputs": [],
   "source": []
  }
 ],
 "metadata": {
  "kernelspec": {
   "display_name": "Python 3",
   "language": "python",
   "name": "python3"
  },
  "language_info": {
   "codemirror_mode": {
    "name": "ipython",
    "version": 3
   },
   "file_extension": ".py",
   "mimetype": "text/x-python",
   "name": "python",
   "nbconvert_exporter": "python",
   "pygments_lexer": "ipython3",
   "version": "3.8.8"
  }
 },
 "nbformat": 4,
 "nbformat_minor": 5
}
