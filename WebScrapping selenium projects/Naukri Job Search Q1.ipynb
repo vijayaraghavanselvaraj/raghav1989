{
 "cells": [
  {
   "cell_type": "code",
   "execution_count": 19,
   "id": "679f5188",
   "metadata": {},
   "outputs": [],
   "source": [
    "import selenium\n",
    "from selenium import webdriver\n",
    "import pandas as pd\n",
    "import warnings\n",
    "warnings.filterwarnings('ignore')"
   ]
  },
  {
   "cell_type": "code",
   "execution_count": 20,
   "id": "8b76a4f6",
   "metadata": {},
   "outputs": [],
   "source": [
    "driver = webdriver.Chrome('chromedriver.exe')"
   ]
  },
  {
   "cell_type": "code",
   "execution_count": 21,
   "id": "4739333c",
   "metadata": {},
   "outputs": [],
   "source": [
    "url = 'https://www.naukri.com/'\n",
    "driver.get(url)"
   ]
  },
  {
   "cell_type": "code",
   "execution_count": 22,
   "id": "3aa91a96",
   "metadata": {},
   "outputs": [
    {
     "data": {
      "text/plain": [
       "<selenium.webdriver.remote.webelement.WebElement (session=\"9ee718888f1bf249973475b62414c865\", element=\"dc39d53e-20c7-44a4-966e-4f15e4d2e5fe\")>"
      ]
     },
     "execution_count": 22,
     "metadata": {},
     "output_type": "execute_result"
    }
   ],
   "source": [
    "job_search = driver.find_element_by_class_name(\"suggestor-input\")\n",
    "job_search"
   ]
  },
  {
   "cell_type": "code",
   "execution_count": 23,
   "id": "b27068ed",
   "metadata": {},
   "outputs": [],
   "source": [
    "job_search.send_keys('Data Analyst')"
   ]
  },
  {
   "cell_type": "code",
   "execution_count": 24,
   "id": "c87d37ba",
   "metadata": {},
   "outputs": [
    {
     "data": {
      "text/plain": [
       "<selenium.webdriver.remote.webelement.WebElement (session=\"9ee718888f1bf249973475b62414c865\", element=\"14029cad-5590-40c3-9b13-dcc60d9dc97f\")>"
      ]
     },
     "execution_count": 24,
     "metadata": {},
     "output_type": "execute_result"
    }
   ],
   "source": [
    "location_search = driver.find_element_by_xpath(\"/html/body/div/div[2]/div[3]/div/div/div[3]/div/div/div/input\")\n",
    "location_search"
   ]
  },
  {
   "cell_type": "code",
   "execution_count": 25,
   "id": "b8957e6e",
   "metadata": {},
   "outputs": [],
   "source": [
    "location_search.send_keys('Bangalore')"
   ]
  },
  {
   "cell_type": "code",
   "execution_count": 26,
   "id": "d4d666db",
   "metadata": {},
   "outputs": [
    {
     "data": {
      "text/plain": [
       "<selenium.webdriver.remote.webelement.WebElement (session=\"9ee718888f1bf249973475b62414c865\", element=\"1159f194-f9c8-4b5e-890a-82fe9465123d\")>"
      ]
     },
     "execution_count": 26,
     "metadata": {},
     "output_type": "execute_result"
    }
   ],
   "source": [
    "search_btn = driver.find_element_by_xpath('/html/body/div/div[2]/div[3]/div/div/div[6]')\n",
    "search_btn"
   ]
  },
  {
   "cell_type": "code",
   "execution_count": 28,
   "id": "d802d7f1",
   "metadata": {},
   "outputs": [],
   "source": [
    "search_btn.click()"
   ]
  },
  {
   "cell_type": "code",
   "execution_count": 29,
   "id": "4ed44bde",
   "metadata": {},
   "outputs": [
    {
     "data": {
      "text/plain": [
       "[<selenium.webdriver.remote.webelement.WebElement (session=\"9ee718888f1bf249973475b62414c865\", element=\"fcf80f38-d238-4087-9fa1-a4f4fb218e41\")>,\n",
       " <selenium.webdriver.remote.webelement.WebElement (session=\"9ee718888f1bf249973475b62414c865\", element=\"80e5a20d-69be-4edc-873e-614795330fd0\")>,\n",
       " <selenium.webdriver.remote.webelement.WebElement (session=\"9ee718888f1bf249973475b62414c865\", element=\"06383369-d6b4-4f38-acd2-3ed39a5d5aef\")>,\n",
       " <selenium.webdriver.remote.webelement.WebElement (session=\"9ee718888f1bf249973475b62414c865\", element=\"39387e03-77a2-467f-85de-480fb1cb9575\")>,\n",
       " <selenium.webdriver.remote.webelement.WebElement (session=\"9ee718888f1bf249973475b62414c865\", element=\"b3cdc8e9-b7b2-4cf8-b057-9b35da382bcc\")>,\n",
       " <selenium.webdriver.remote.webelement.WebElement (session=\"9ee718888f1bf249973475b62414c865\", element=\"a15abb16-ddda-4daf-94c3-4d2bfb0086ed\")>,\n",
       " <selenium.webdriver.remote.webelement.WebElement (session=\"9ee718888f1bf249973475b62414c865\", element=\"2c2ef831-9113-49dc-8a0f-d055beaa37dc\")>,\n",
       " <selenium.webdriver.remote.webelement.WebElement (session=\"9ee718888f1bf249973475b62414c865\", element=\"932cb53d-b787-497b-97e7-e8b9e950e2eb\")>,\n",
       " <selenium.webdriver.remote.webelement.WebElement (session=\"9ee718888f1bf249973475b62414c865\", element=\"5ec2b20d-9991-43aa-a5d3-3b8484336356\")>,\n",
       " <selenium.webdriver.remote.webelement.WebElement (session=\"9ee718888f1bf249973475b62414c865\", element=\"e501f297-c7b7-4133-84e2-baf83f983673\")>,\n",
       " <selenium.webdriver.remote.webelement.WebElement (session=\"9ee718888f1bf249973475b62414c865\", element=\"749687f1-374d-4d11-b820-b73af836d7c2\")>,\n",
       " <selenium.webdriver.remote.webelement.WebElement (session=\"9ee718888f1bf249973475b62414c865\", element=\"b81b94fe-ca95-4b9d-b73b-154061430472\")>,\n",
       " <selenium.webdriver.remote.webelement.WebElement (session=\"9ee718888f1bf249973475b62414c865\", element=\"81621f1d-7818-4966-8cdf-c71e3cff0b07\")>,\n",
       " <selenium.webdriver.remote.webelement.WebElement (session=\"9ee718888f1bf249973475b62414c865\", element=\"a4b01fd2-dd7c-4d95-8bf1-05d22812ec18\")>,\n",
       " <selenium.webdriver.remote.webelement.WebElement (session=\"9ee718888f1bf249973475b62414c865\", element=\"0aa57127-4fc0-41c9-99cd-bc5134f8e134\")>,\n",
       " <selenium.webdriver.remote.webelement.WebElement (session=\"9ee718888f1bf249973475b62414c865\", element=\"f028b27f-2786-404a-bb24-5c426a6a7f73\")>,\n",
       " <selenium.webdriver.remote.webelement.WebElement (session=\"9ee718888f1bf249973475b62414c865\", element=\"c28340f0-4342-4dfe-8f92-2eeae2a90b78\")>,\n",
       " <selenium.webdriver.remote.webelement.WebElement (session=\"9ee718888f1bf249973475b62414c865\", element=\"ded023d1-bd4e-42d8-8daa-e0e3f40ba332\")>,\n",
       " <selenium.webdriver.remote.webelement.WebElement (session=\"9ee718888f1bf249973475b62414c865\", element=\"2c36a0ad-0176-4e03-936c-48a246dce45a\")>,\n",
       " <selenium.webdriver.remote.webelement.WebElement (session=\"9ee718888f1bf249973475b62414c865\", element=\"a2f90e8a-8333-442d-bfbf-496126a4645a\")>]"
      ]
     },
     "execution_count": 29,
     "metadata": {},
     "output_type": "execute_result"
    }
   ],
   "source": [
    "jobs = driver.find_elements_by_xpath('//a[@class=\"title fw500 ellipsis\"]')\n",
    "jobs"
   ]
  },
  {
   "cell_type": "code",
   "execution_count": 30,
   "id": "1d2bac34",
   "metadata": {},
   "outputs": [
    {
     "data": {
      "text/plain": [
       "['Hiring For Business Data Analyst - Bangalore',\n",
       " 'Junior Data Analyst/ Scientist- Fresher Position',\n",
       " 'Data Analyst / Sr. Data Analyst',\n",
       " 'Senior Data Analyst - CRM',\n",
       " 'Lead - Data Analyst / Scientist',\n",
       " 'Research - Data Analyst / Associate',\n",
       " 'Data Analyst - CRM Platform',\n",
       " 'Senior Data Analyst',\n",
       " 'Senior Data Analyst',\n",
       " 'Senior Data Analyst - CRM']"
      ]
     },
     "execution_count": 30,
     "metadata": {},
     "output_type": "execute_result"
    }
   ],
   "source": [
    "JobTitle = []\n",
    "\n",
    "for title in jobs:\n",
    "    JobTitle.append(title.text)\n",
    "JobTitle[0:10]"
   ]
  },
  {
   "cell_type": "code",
   "execution_count": 31,
   "id": "dac40130",
   "metadata": {},
   "outputs": [
    {
     "data": {
      "text/plain": [
       "[<selenium.webdriver.remote.webelement.WebElement (session=\"9ee718888f1bf249973475b62414c865\", element=\"18b24dd2-ec7b-4f5c-bef7-d6813e7281c8\")>,\n",
       " <selenium.webdriver.remote.webelement.WebElement (session=\"9ee718888f1bf249973475b62414c865\", element=\"06a47ac4-f7d2-451b-8a4b-1c66ec83e159\")>,\n",
       " <selenium.webdriver.remote.webelement.WebElement (session=\"9ee718888f1bf249973475b62414c865\", element=\"079b00ba-cfc6-4500-9111-b3c34f79b02d\")>,\n",
       " <selenium.webdriver.remote.webelement.WebElement (session=\"9ee718888f1bf249973475b62414c865\", element=\"facb32a0-f1d1-4e32-9057-b8308f2ee441\")>,\n",
       " <selenium.webdriver.remote.webelement.WebElement (session=\"9ee718888f1bf249973475b62414c865\", element=\"542c0513-252a-463e-af97-88db76b64cf8\")>,\n",
       " <selenium.webdriver.remote.webelement.WebElement (session=\"9ee718888f1bf249973475b62414c865\", element=\"89857f97-fb14-4774-9c82-d644e296240c\")>,\n",
       " <selenium.webdriver.remote.webelement.WebElement (session=\"9ee718888f1bf249973475b62414c865\", element=\"23581010-ff6f-49e8-b0d9-80fc34e33d55\")>,\n",
       " <selenium.webdriver.remote.webelement.WebElement (session=\"9ee718888f1bf249973475b62414c865\", element=\"8282989c-d1a6-4aeb-8e5d-4951b4a0e738\")>,\n",
       " <selenium.webdriver.remote.webelement.WebElement (session=\"9ee718888f1bf249973475b62414c865\", element=\"28f4db8c-5085-4848-befe-4ec411d9f3a4\")>,\n",
       " <selenium.webdriver.remote.webelement.WebElement (session=\"9ee718888f1bf249973475b62414c865\", element=\"dd2c8b32-5146-42cc-a26f-a539bb5bb5e2\")>,\n",
       " <selenium.webdriver.remote.webelement.WebElement (session=\"9ee718888f1bf249973475b62414c865\", element=\"d92fd495-e424-473c-89d6-05db3eb08b70\")>,\n",
       " <selenium.webdriver.remote.webelement.WebElement (session=\"9ee718888f1bf249973475b62414c865\", element=\"1a8f2320-cbad-4010-8f9c-6fb0d2fdee5d\")>,\n",
       " <selenium.webdriver.remote.webelement.WebElement (session=\"9ee718888f1bf249973475b62414c865\", element=\"79ef8009-25fc-484f-a83a-df1871d13b91\")>,\n",
       " <selenium.webdriver.remote.webelement.WebElement (session=\"9ee718888f1bf249973475b62414c865\", element=\"9f7aabbf-5dab-4f5c-b40b-08bd96b3f9c0\")>,\n",
       " <selenium.webdriver.remote.webelement.WebElement (session=\"9ee718888f1bf249973475b62414c865\", element=\"fd891821-db33-486f-96b7-2990c5133adb\")>,\n",
       " <selenium.webdriver.remote.webelement.WebElement (session=\"9ee718888f1bf249973475b62414c865\", element=\"8162c57d-b3b0-43f9-9f45-b3a059816e83\")>,\n",
       " <selenium.webdriver.remote.webelement.WebElement (session=\"9ee718888f1bf249973475b62414c865\", element=\"4d992ec6-d54e-4602-8cd7-5ff43e0abeec\")>,\n",
       " <selenium.webdriver.remote.webelement.WebElement (session=\"9ee718888f1bf249973475b62414c865\", element=\"7dbc358e-7c18-4917-891e-3c9589404170\")>,\n",
       " <selenium.webdriver.remote.webelement.WebElement (session=\"9ee718888f1bf249973475b62414c865\", element=\"98194ae3-2c85-4e2b-aab1-354c5f45ece0\")>,\n",
       " <selenium.webdriver.remote.webelement.WebElement (session=\"9ee718888f1bf249973475b62414c865\", element=\"9cb618b9-4a61-450a-9773-5605425b6f64\")>]"
      ]
     },
     "execution_count": 31,
     "metadata": {},
     "output_type": "execute_result"
    }
   ],
   "source": [
    "job_location = driver.find_elements_by_xpath('//li[@class=\"fleft grey-text br2 placeHolderLi location\"]')\n",
    "job_location"
   ]
  },
  {
   "cell_type": "code",
   "execution_count": 32,
   "id": "d2c89116",
   "metadata": {},
   "outputs": [
    {
     "data": {
      "text/plain": [
       "['Bangalore/Bengaluru',\n",
       " 'Kolkata, Gurgaon/Gurugram, Bangalore/Bengaluru\\n(WFH during Covid)',\n",
       " 'Bangalore/Bengaluru',\n",
       " 'Bangalore/Bengaluru',\n",
       " 'Bangalore/Bengaluru',\n",
       " 'Mumbai, Delhi / NCR, Bangalore/Bengaluru',\n",
       " 'Kolkata, Mumbai, Hyderabad/Secunderabad, Pune, Chennai, Bangalore/Bengaluru, Delhi / NCR',\n",
       " 'Bangalore/Bengaluru',\n",
       " 'Bangalore/Bengaluru\\n(WFH during Covid)',\n",
       " 'Bangalore/Bengaluru']"
      ]
     },
     "execution_count": 32,
     "metadata": {},
     "output_type": "execute_result"
    }
   ],
   "source": [
    "Joblocation = []\n",
    "\n",
    "for location in job_location:\n",
    "    Joblocation.append(location.text)\n",
    "Joblocation[0:10]"
   ]
  },
  {
   "cell_type": "code",
   "execution_count": 33,
   "id": "4dcd1c22",
   "metadata": {},
   "outputs": [
    {
     "data": {
      "text/plain": [
       "[<selenium.webdriver.remote.webelement.WebElement (session=\"9ee718888f1bf249973475b62414c865\", element=\"ed8dc0f4-943f-4fbf-94cc-43e7cc89374d\")>,\n",
       " <selenium.webdriver.remote.webelement.WebElement (session=\"9ee718888f1bf249973475b62414c865\", element=\"82820ecf-89c2-4e06-96b0-9d9b29246927\")>,\n",
       " <selenium.webdriver.remote.webelement.WebElement (session=\"9ee718888f1bf249973475b62414c865\", element=\"fdb96a4c-23bf-4ecc-b760-d00b17a55d70\")>,\n",
       " <selenium.webdriver.remote.webelement.WebElement (session=\"9ee718888f1bf249973475b62414c865\", element=\"19236b60-b82a-4d38-8df7-894bb164db80\")>,\n",
       " <selenium.webdriver.remote.webelement.WebElement (session=\"9ee718888f1bf249973475b62414c865\", element=\"b264d560-4c95-419a-8419-a327bc3d64dc\")>,\n",
       " <selenium.webdriver.remote.webelement.WebElement (session=\"9ee718888f1bf249973475b62414c865\", element=\"5e90a0a1-7539-4610-95d1-2ad1ad2308b6\")>,\n",
       " <selenium.webdriver.remote.webelement.WebElement (session=\"9ee718888f1bf249973475b62414c865\", element=\"fab4f896-7537-4829-9a45-183f058ae631\")>,\n",
       " <selenium.webdriver.remote.webelement.WebElement (session=\"9ee718888f1bf249973475b62414c865\", element=\"f847883b-8959-4543-9203-9242c7437b53\")>,\n",
       " <selenium.webdriver.remote.webelement.WebElement (session=\"9ee718888f1bf249973475b62414c865\", element=\"b718f3ad-a474-454d-b35e-30158b2f36b1\")>,\n",
       " <selenium.webdriver.remote.webelement.WebElement (session=\"9ee718888f1bf249973475b62414c865\", element=\"f26c1415-83d4-442a-8fff-2204fd0473ee\")>,\n",
       " <selenium.webdriver.remote.webelement.WebElement (session=\"9ee718888f1bf249973475b62414c865\", element=\"d6d50a65-75c9-4668-8195-222e322b86c7\")>,\n",
       " <selenium.webdriver.remote.webelement.WebElement (session=\"9ee718888f1bf249973475b62414c865\", element=\"398a46d0-302d-4157-b922-7e949cf0843b\")>,\n",
       " <selenium.webdriver.remote.webelement.WebElement (session=\"9ee718888f1bf249973475b62414c865\", element=\"8189ddbe-e342-4f20-89a8-56f534570524\")>,\n",
       " <selenium.webdriver.remote.webelement.WebElement (session=\"9ee718888f1bf249973475b62414c865\", element=\"87585360-ae27-4dbb-9d79-b88df6b67dca\")>,\n",
       " <selenium.webdriver.remote.webelement.WebElement (session=\"9ee718888f1bf249973475b62414c865\", element=\"752588fe-6a3e-4867-a6ec-20ca8e529e73\")>,\n",
       " <selenium.webdriver.remote.webelement.WebElement (session=\"9ee718888f1bf249973475b62414c865\", element=\"29f30b1d-5dc7-4026-8480-b7533a232df3\")>,\n",
       " <selenium.webdriver.remote.webelement.WebElement (session=\"9ee718888f1bf249973475b62414c865\", element=\"0d5f5035-8151-48e4-a82d-f7463d46d1b5\")>,\n",
       " <selenium.webdriver.remote.webelement.WebElement (session=\"9ee718888f1bf249973475b62414c865\", element=\"53671dc6-d049-42ee-986e-3225fc6eb1a0\")>,\n",
       " <selenium.webdriver.remote.webelement.WebElement (session=\"9ee718888f1bf249973475b62414c865\", element=\"ac2c9856-0dfc-43ae-9981-b5996b22f3d1\")>,\n",
       " <selenium.webdriver.remote.webelement.WebElement (session=\"9ee718888f1bf249973475b62414c865\", element=\"340741eb-1521-45ca-a8b4-8e346c02f7a2\")>]"
      ]
     },
     "execution_count": 33,
     "metadata": {},
     "output_type": "execute_result"
    }
   ],
   "source": [
    "company = driver.find_elements_by_xpath('//a[@class=\"subTitle ellipsis fleft\"]')\n",
    "company"
   ]
  },
  {
   "cell_type": "code",
   "execution_count": 34,
   "id": "8ecbaebd",
   "metadata": {},
   "outputs": [
    {
     "data": {
      "text/plain": [
       "['Synechron',\n",
       " 'Sejal Consulting Hub',\n",
       " 'Vmware',\n",
       " 'Gojek Tech',\n",
       " 'Axim Technologies',\n",
       " 'AXL HR Tech',\n",
       " 'Artech infosystem',\n",
       " 'Walmart',\n",
       " 'SMEDC SERVICES PRIVATE LIMITED',\n",
       " 'GO-JEK India']"
      ]
     },
     "execution_count": 34,
     "metadata": {},
     "output_type": "execute_result"
    }
   ],
   "source": [
    "Companyname = []\n",
    "\n",
    "for name in company:\n",
    "    Companyname.append(name.text)\n",
    "Companyname[0:10]"
   ]
  },
  {
   "cell_type": "code",
   "execution_count": 35,
   "id": "f003ec79",
   "metadata": {},
   "outputs": [
    {
     "data": {
      "text/plain": [
       "[<selenium.webdriver.remote.webelement.WebElement (session=\"9ee718888f1bf249973475b62414c865\", element=\"a23847a0-803b-4342-8669-e110943ff6b0\")>,\n",
       " <selenium.webdriver.remote.webelement.WebElement (session=\"9ee718888f1bf249973475b62414c865\", element=\"c354fb85-cc1b-474a-a4e9-3d6cbbf1b0ed\")>,\n",
       " <selenium.webdriver.remote.webelement.WebElement (session=\"9ee718888f1bf249973475b62414c865\", element=\"8a71d014-1a02-4bfb-ad4d-51473df9e9f4\")>,\n",
       " <selenium.webdriver.remote.webelement.WebElement (session=\"9ee718888f1bf249973475b62414c865\", element=\"fadded6f-a011-4899-9f38-6fdba5a5d7a5\")>,\n",
       " <selenium.webdriver.remote.webelement.WebElement (session=\"9ee718888f1bf249973475b62414c865\", element=\"8478778b-7b1d-474a-9e18-7ad5489365c9\")>,\n",
       " <selenium.webdriver.remote.webelement.WebElement (session=\"9ee718888f1bf249973475b62414c865\", element=\"d5d397a9-86b0-45bc-b12e-410f44fad026\")>,\n",
       " <selenium.webdriver.remote.webelement.WebElement (session=\"9ee718888f1bf249973475b62414c865\", element=\"8c518023-7cf1-425d-89cd-ccdb3f2b5149\")>,\n",
       " <selenium.webdriver.remote.webelement.WebElement (session=\"9ee718888f1bf249973475b62414c865\", element=\"1caa0492-9f6f-40b2-b5c3-a90bcd1a44e0\")>,\n",
       " <selenium.webdriver.remote.webelement.WebElement (session=\"9ee718888f1bf249973475b62414c865\", element=\"04df43ee-e291-4931-a25e-348366da87dd\")>,\n",
       " <selenium.webdriver.remote.webelement.WebElement (session=\"9ee718888f1bf249973475b62414c865\", element=\"6f722e0a-6dcf-4016-a95d-2d4de8d54f0f\")>,\n",
       " <selenium.webdriver.remote.webelement.WebElement (session=\"9ee718888f1bf249973475b62414c865\", element=\"80dd6c5e-14ca-4d8e-a676-9e9acb8ed73f\")>,\n",
       " <selenium.webdriver.remote.webelement.WebElement (session=\"9ee718888f1bf249973475b62414c865\", element=\"1f2495ab-f960-4918-8649-47b0662e6609\")>,\n",
       " <selenium.webdriver.remote.webelement.WebElement (session=\"9ee718888f1bf249973475b62414c865\", element=\"22d6510b-0006-4eb1-b561-a8b40eeb4a6f\")>,\n",
       " <selenium.webdriver.remote.webelement.WebElement (session=\"9ee718888f1bf249973475b62414c865\", element=\"bcee65ba-0e88-4ee1-8bf7-fc56fed6bfae\")>,\n",
       " <selenium.webdriver.remote.webelement.WebElement (session=\"9ee718888f1bf249973475b62414c865\", element=\"abeb8d1f-aee4-474c-9f7f-8646797384ea\")>,\n",
       " <selenium.webdriver.remote.webelement.WebElement (session=\"9ee718888f1bf249973475b62414c865\", element=\"f57e15d7-bbc9-4fb6-9222-44a93f9a81a2\")>,\n",
       " <selenium.webdriver.remote.webelement.WebElement (session=\"9ee718888f1bf249973475b62414c865\", element=\"31964c66-2144-493f-a237-c8c0bc2f91aa\")>,\n",
       " <selenium.webdriver.remote.webelement.WebElement (session=\"9ee718888f1bf249973475b62414c865\", element=\"1ca367a2-975e-475f-ae28-10efa2f2f661\")>,\n",
       " <selenium.webdriver.remote.webelement.WebElement (session=\"9ee718888f1bf249973475b62414c865\", element=\"4c9ce840-5c69-4de7-acf7-843bb3784f23\")>,\n",
       " <selenium.webdriver.remote.webelement.WebElement (session=\"9ee718888f1bf249973475b62414c865\", element=\"20f5b1aa-6892-4506-8e9b-e71bcf74e6dc\")>]"
      ]
     },
     "execution_count": 35,
     "metadata": {},
     "output_type": "execute_result"
    }
   ],
   "source": [
    "exper = driver.find_elements_by_xpath('//li[@class=\"fleft grey-text br2 placeHolderLi experience\"]')\n",
    "exper"
   ]
  },
  {
   "cell_type": "code",
   "execution_count": 36,
   "id": "70ce635c",
   "metadata": {},
   "outputs": [
    {
     "data": {
      "text/plain": [
       "['5-7 Yrs',\n",
       " '0-3 Yrs',\n",
       " '3-6 Yrs',\n",
       " '2-5 Yrs',\n",
       " '12-14 Yrs',\n",
       " '0-2 Yrs',\n",
       " '1-6 Yrs',\n",
       " '4-7 Yrs',\n",
       " '4-8 Yrs',\n",
       " '4-8 Yrs']"
      ]
     },
     "execution_count": 36,
     "metadata": {},
     "output_type": "execute_result"
    }
   ],
   "source": [
    "Experience = []\n",
    "\n",
    "for exp in exper:\n",
    "    Experience.append(exp.text)\n",
    "Experience[0:10]"
   ]
  },
  {
   "cell_type": "code",
   "execution_count": 38,
   "id": "59937fd9",
   "metadata": {},
   "outputs": [
    {
     "data": {
      "text/html": [
       "<div>\n",
       "<style scoped>\n",
       "    .dataframe tbody tr th:only-of-type {\n",
       "        vertical-align: middle;\n",
       "    }\n",
       "\n",
       "    .dataframe tbody tr th {\n",
       "        vertical-align: top;\n",
       "    }\n",
       "\n",
       "    .dataframe thead th {\n",
       "        text-align: right;\n",
       "    }\n",
       "</style>\n",
       "<table border=\"1\" class=\"dataframe\">\n",
       "  <thead>\n",
       "    <tr style=\"text-align: right;\">\n",
       "      <th></th>\n",
       "      <th>Company</th>\n",
       "      <th>Job Title</th>\n",
       "      <th>Job Location</th>\n",
       "      <th>Req Experience</th>\n",
       "    </tr>\n",
       "  </thead>\n",
       "  <tbody>\n",
       "    <tr>\n",
       "      <th>0</th>\n",
       "      <td>Synechron</td>\n",
       "      <td>Hiring For Business Data Analyst - Bangalore</td>\n",
       "      <td>Bangalore/Bengaluru</td>\n",
       "      <td>5-7 Yrs</td>\n",
       "    </tr>\n",
       "    <tr>\n",
       "      <th>1</th>\n",
       "      <td>Sejal Consulting Hub</td>\n",
       "      <td>Junior Data Analyst/ Scientist- Fresher Position</td>\n",
       "      <td>Kolkata, Gurgaon/Gurugram, Bangalore/Bengaluru...</td>\n",
       "      <td>0-3 Yrs</td>\n",
       "    </tr>\n",
       "    <tr>\n",
       "      <th>2</th>\n",
       "      <td>Vmware</td>\n",
       "      <td>Data Analyst / Sr. Data Analyst</td>\n",
       "      <td>Bangalore/Bengaluru</td>\n",
       "      <td>3-6 Yrs</td>\n",
       "    </tr>\n",
       "    <tr>\n",
       "      <th>3</th>\n",
       "      <td>Gojek Tech</td>\n",
       "      <td>Senior Data Analyst - CRM</td>\n",
       "      <td>Bangalore/Bengaluru</td>\n",
       "      <td>2-5 Yrs</td>\n",
       "    </tr>\n",
       "    <tr>\n",
       "      <th>4</th>\n",
       "      <td>Axim Technologies</td>\n",
       "      <td>Lead - Data Analyst / Scientist</td>\n",
       "      <td>Bangalore/Bengaluru</td>\n",
       "      <td>12-14 Yrs</td>\n",
       "    </tr>\n",
       "    <tr>\n",
       "      <th>5</th>\n",
       "      <td>AXL HR Tech</td>\n",
       "      <td>Research - Data Analyst / Associate</td>\n",
       "      <td>Mumbai, Delhi / NCR, Bangalore/Bengaluru</td>\n",
       "      <td>0-2 Yrs</td>\n",
       "    </tr>\n",
       "    <tr>\n",
       "      <th>6</th>\n",
       "      <td>Artech infosystem</td>\n",
       "      <td>Data Analyst - CRM Platform</td>\n",
       "      <td>Kolkata, Mumbai, Hyderabad/Secunderabad, Pune,...</td>\n",
       "      <td>1-6 Yrs</td>\n",
       "    </tr>\n",
       "    <tr>\n",
       "      <th>7</th>\n",
       "      <td>Walmart</td>\n",
       "      <td>Senior Data Analyst</td>\n",
       "      <td>Bangalore/Bengaluru</td>\n",
       "      <td>4-7 Yrs</td>\n",
       "    </tr>\n",
       "    <tr>\n",
       "      <th>8</th>\n",
       "      <td>SMEDC SERVICES PRIVATE LIMITED</td>\n",
       "      <td>Senior Data Analyst</td>\n",
       "      <td>Bangalore/Bengaluru\\n(WFH during Covid)</td>\n",
       "      <td>4-8 Yrs</td>\n",
       "    </tr>\n",
       "    <tr>\n",
       "      <th>9</th>\n",
       "      <td>GO-JEK India</td>\n",
       "      <td>Senior Data Analyst - CRM</td>\n",
       "      <td>Bangalore/Bengaluru</td>\n",
       "      <td>4-8 Yrs</td>\n",
       "    </tr>\n",
       "    <tr>\n",
       "      <th>10</th>\n",
       "      <td>ExecBoardinAsia</td>\n",
       "      <td>Global Data Analyst</td>\n",
       "      <td>Bangalore/Bengaluru</td>\n",
       "      <td>5-10 Yrs</td>\n",
       "    </tr>\n",
       "  </tbody>\n",
       "</table>\n",
       "</div>"
      ],
      "text/plain": [
       "                           Company  \\\n",
       "0                        Synechron   \n",
       "1             Sejal Consulting Hub   \n",
       "2                           Vmware   \n",
       "3                       Gojek Tech   \n",
       "4                Axim Technologies   \n",
       "5                      AXL HR Tech   \n",
       "6                Artech infosystem   \n",
       "7                          Walmart   \n",
       "8   SMEDC SERVICES PRIVATE LIMITED   \n",
       "9                     GO-JEK India   \n",
       "10                 ExecBoardinAsia   \n",
       "\n",
       "                                           Job Title  \\\n",
       "0       Hiring For Business Data Analyst - Bangalore   \n",
       "1   Junior Data Analyst/ Scientist- Fresher Position   \n",
       "2                    Data Analyst / Sr. Data Analyst   \n",
       "3                          Senior Data Analyst - CRM   \n",
       "4                    Lead - Data Analyst / Scientist   \n",
       "5                Research - Data Analyst / Associate   \n",
       "6                        Data Analyst - CRM Platform   \n",
       "7                                Senior Data Analyst   \n",
       "8                                Senior Data Analyst   \n",
       "9                          Senior Data Analyst - CRM   \n",
       "10                               Global Data Analyst   \n",
       "\n",
       "                                         Job Location Req Experience  \n",
       "0                                 Bangalore/Bengaluru        5-7 Yrs  \n",
       "1   Kolkata, Gurgaon/Gurugram, Bangalore/Bengaluru...        0-3 Yrs  \n",
       "2                                 Bangalore/Bengaluru        3-6 Yrs  \n",
       "3                                 Bangalore/Bengaluru        2-5 Yrs  \n",
       "4                                 Bangalore/Bengaluru      12-14 Yrs  \n",
       "5            Mumbai, Delhi / NCR, Bangalore/Bengaluru        0-2 Yrs  \n",
       "6   Kolkata, Mumbai, Hyderabad/Secunderabad, Pune,...        1-6 Yrs  \n",
       "7                                 Bangalore/Bengaluru        4-7 Yrs  \n",
       "8             Bangalore/Bengaluru\\n(WFH during Covid)        4-8 Yrs  \n",
       "9                                 Bangalore/Bengaluru        4-8 Yrs  \n",
       "10                                Bangalore/Bengaluru       5-10 Yrs  "
      ]
     },
     "execution_count": 38,
     "metadata": {},
     "output_type": "execute_result"
    }
   ],
   "source": [
    "data = pd.DataFrame()\n",
    "data['Company'] = Companyname\n",
    "data['Job Title'] = JobTitle\n",
    "data['Job Location'] = Joblocation\n",
    "data['Req Experience'] = Experience\n",
    "data.head(11)"
   ]
  },
  {
   "cell_type": "code",
   "execution_count": null,
   "id": "57a4dee0",
   "metadata": {},
   "outputs": [],
   "source": []
  }
 ],
 "metadata": {
  "kernelspec": {
   "display_name": "Python 3",
   "language": "python",
   "name": "python3"
  },
  "language_info": {
   "codemirror_mode": {
    "name": "ipython",
    "version": 3
   },
   "file_extension": ".py",
   "mimetype": "text/x-python",
   "name": "python",
   "nbconvert_exporter": "python",
   "pygments_lexer": "ipython3",
   "version": "3.8.8"
  }
 },
 "nbformat": 4,
 "nbformat_minor": 5
}
