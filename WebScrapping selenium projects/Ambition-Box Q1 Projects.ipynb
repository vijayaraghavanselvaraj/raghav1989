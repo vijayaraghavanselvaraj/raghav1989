{
 "cells": [
  {
   "cell_type": "code",
   "execution_count": 31,
   "id": "08ed7837",
   "metadata": {},
   "outputs": [],
   "source": [
    "import selenium\n",
    "from selenium import webdriver\n",
    "import pandas as pd\n",
    "import warnings\n",
    "warnings.filterwarnings('ignore')"
   ]
  },
  {
   "cell_type": "code",
   "execution_count": 32,
   "id": "d3fb5bdc",
   "metadata": {},
   "outputs": [],
   "source": [
    "ambbox = webdriver.Chrome('chromedriver.exe')"
   ]
  },
  {
   "cell_type": "code",
   "execution_count": 33,
   "id": "5569459f",
   "metadata": {},
   "outputs": [],
   "source": [
    "url = 'https://www.ambitionbox.com/'\n",
    "ambbox.get(url)"
   ]
  },
  {
   "cell_type": "code",
   "execution_count": 34,
   "id": "7c087498",
   "metadata": {},
   "outputs": [
    {
     "data": {
      "text/plain": [
       "<selenium.webdriver.remote.webelement.WebElement (session=\"5afa915ed2edf8208dc214c8eebf2b32\", element=\"ebda1cb7-bf70-4c25-b5b2-e2332dbc7d4d\")>"
      ]
     },
     "execution_count": 34,
     "metadata": {},
     "output_type": "execute_result"
    }
   ],
   "source": [
    "fnav = ambbox.find_element_by_xpath('/html/body/div[1]/nav/nav/a[6]')\n",
    "fnav"
   ]
  },
  {
   "cell_type": "code",
   "execution_count": 35,
   "id": "a7cc4db6",
   "metadata": {},
   "outputs": [],
   "source": [
    "fnav.click()"
   ]
  },
  {
   "cell_type": "code",
   "execution_count": 36,
   "id": "b86eec58",
   "metadata": {},
   "outputs": [
    {
     "data": {
      "text/plain": [
       "<selenium.webdriver.remote.webelement.WebElement (session=\"5afa915ed2edf8208dc214c8eebf2b32\", element=\"f4737a8e-3c3a-468a-9206-3413a4857486\")>"
      ]
     },
     "execution_count": 36,
     "metadata": {},
     "output_type": "execute_result"
    }
   ],
   "source": [
    "jsearch = ambbox.find_element_by_xpath('/html/body/div/div/div/div[2]/div[1]/div/div/div/div/span/input')\n",
    "jsearch"
   ]
  },
  {
   "cell_type": "code",
   "execution_count": 37,
   "id": "32066ab1",
   "metadata": {},
   "outputs": [],
   "source": [
    "jsearch.send_keys('Data Scientist')"
   ]
  },
  {
   "cell_type": "code",
   "execution_count": 39,
   "id": "ca402420",
   "metadata": {},
   "outputs": [
    {
     "data": {
      "text/plain": [
       "<selenium.webdriver.remote.webelement.WebElement (session=\"5afa915ed2edf8208dc214c8eebf2b32\", element=\"47073769-ddb8-4417-a96c-2e9adab7f135\")>"
      ]
     },
     "execution_count": 39,
     "metadata": {},
     "output_type": "execute_result"
    }
   ],
   "source": [
    "srcbtn = ambbox.find_element_by_xpath('/html/body/div/div/div/div[2]/div[1]/div/div/div/button/span')\n",
    "srcbtn"
   ]
  },
  {
   "cell_type": "code",
   "execution_count": 40,
   "id": "a6085b14",
   "metadata": {},
   "outputs": [],
   "source": [
    "srcbtn.click()"
   ]
  },
  {
   "cell_type": "code",
   "execution_count": 41,
   "id": "4a6399a4",
   "metadata": {},
   "outputs": [
    {
     "data": {
      "text/plain": [
       "<selenium.webdriver.remote.webelement.WebElement (session=\"5afa915ed2edf8208dc214c8eebf2b32\", element=\"fc7cafdb-52a3-4057-96de-7821b9a35fb4\")>"
      ]
     },
     "execution_count": 41,
     "metadata": {},
     "output_type": "execute_result"
    }
   ],
   "source": [
    "locfil = ambbox.find_element_by_xpath('//*[@id=\"filters-row\"]/div/div/div[2]/div[1]/i')\n",
    "locfil"
   ]
  },
  {
   "cell_type": "code",
   "execution_count": 42,
   "id": "ae32a737",
   "metadata": {},
   "outputs": [],
   "source": [
    "locfil.click()"
   ]
  },
  {
   "cell_type": "code",
   "execution_count": 43,
   "id": "bacdfe0a",
   "metadata": {},
   "outputs": [
    {
     "data": {
      "text/plain": [
       "<selenium.webdriver.remote.webelement.WebElement (session=\"5afa915ed2edf8208dc214c8eebf2b32\", element=\"86b895b9-fb0d-41ca-9a81-e180c37fa175\")>"
      ]
     },
     "execution_count": 43,
     "metadata": {},
     "output_type": "execute_result"
    }
   ],
   "source": [
    "locsrch = ambbox.find_element_by_xpath('//*[@id=\"filters-row\"]/div/div/div[2]/div[2]/div/div[2]/input')\n",
    "locsrch"
   ]
  },
  {
   "cell_type": "code",
   "execution_count": 44,
   "id": "e5ff5b5c",
   "metadata": {},
   "outputs": [],
   "source": [
    "locsrch.send_keys('Noida')"
   ]
  },
  {
   "cell_type": "code",
   "execution_count": 45,
   "id": "b52ed2b7",
   "metadata": {},
   "outputs": [
    {
     "data": {
      "text/plain": [
       "<selenium.webdriver.remote.webelement.WebElement (session=\"5afa915ed2edf8208dc214c8eebf2b32\", element=\"034d11f4-87a9-40a5-a6de-401c2c316d3c\")>"
      ]
     },
     "execution_count": 45,
     "metadata": {},
     "output_type": "execute_result"
    }
   ],
   "source": [
    "locsrchbtn = ambbox.find_element_by_xpath('//*[@id=\"filters-row\"]/div/div/div[2]/div[2]/div/div[3]/div[1]/div[1]/div/label')\n",
    "locsrchbtn"
   ]
  },
  {
   "cell_type": "code",
   "execution_count": 46,
   "id": "cdc45809",
   "metadata": {},
   "outputs": [],
   "source": [
    "locsrchbtn.click()"
   ]
  },
  {
   "cell_type": "code",
   "execution_count": 53,
   "id": "289b2fca",
   "metadata": {},
   "outputs": [
    {
     "data": {
      "text/plain": [
       "[<selenium.webdriver.remote.webelement.WebElement (session=\"5afa915ed2edf8208dc214c8eebf2b32\", element=\"096464ea-9fd0-4871-88ff-e91e50b19c85\")>,\n",
       " <selenium.webdriver.remote.webelement.WebElement (session=\"5afa915ed2edf8208dc214c8eebf2b32\", element=\"efd1638d-17fb-4312-9fcd-81dde46e64dd\")>,\n",
       " <selenium.webdriver.remote.webelement.WebElement (session=\"5afa915ed2edf8208dc214c8eebf2b32\", element=\"7bef13d6-d816-49a8-85a9-4bac0625522b\")>,\n",
       " <selenium.webdriver.remote.webelement.WebElement (session=\"5afa915ed2edf8208dc214c8eebf2b32\", element=\"c415f1e2-cb0d-4b53-8163-d9660caa902c\")>,\n",
       " <selenium.webdriver.remote.webelement.WebElement (session=\"5afa915ed2edf8208dc214c8eebf2b32\", element=\"7e143be2-cdf8-41d4-8031-9dde7314d20e\")>,\n",
       " <selenium.webdriver.remote.webelement.WebElement (session=\"5afa915ed2edf8208dc214c8eebf2b32\", element=\"1ce922d6-da25-4231-aa41-228aae286521\")>,\n",
       " <selenium.webdriver.remote.webelement.WebElement (session=\"5afa915ed2edf8208dc214c8eebf2b32\", element=\"8ec17f3e-9d82-4e35-a5ab-f248176d35df\")>,\n",
       " <selenium.webdriver.remote.webelement.WebElement (session=\"5afa915ed2edf8208dc214c8eebf2b32\", element=\"03816914-1dcf-41a0-8907-41d6b97eef14\")>,\n",
       " <selenium.webdriver.remote.webelement.WebElement (session=\"5afa915ed2edf8208dc214c8eebf2b32\", element=\"306b40e9-3655-499e-8b90-dfb6c909b6ed\")>,\n",
       " <selenium.webdriver.remote.webelement.WebElement (session=\"5afa915ed2edf8208dc214c8eebf2b32\", element=\"1de70f04-993a-47b4-8d0d-1463f6929f81\")>]"
      ]
     },
     "execution_count": 53,
     "metadata": {},
     "output_type": "execute_result"
    }
   ],
   "source": [
    "jobrole = ambbox.find_elements_by_xpath('//a[@class=\"title noclick\"]')\n",
    "jobrole"
   ]
  },
  {
   "cell_type": "code",
   "execution_count": 55,
   "id": "f460f0ab",
   "metadata": {},
   "outputs": [
    {
     "data": {
      "text/plain": [
       "['HCL - Data Scientist - NLP/Python (2-6 yrs)',\n",
       " 'Data Scientist',\n",
       " 'Manager Data Scientist',\n",
       " 'Vice President - Data Science',\n",
       " 'CogniTensor - Data Scientist (2-5 yrs)',\n",
       " 'CogniTensor - Data Scientist (2-5 yrs)',\n",
       " 'Data Scientist - Data Science/Model Development (0-6 yrs)',\n",
       " 'Manager - Data Scientist - Retail/BFSI (8-15 yrs)',\n",
       " 'Data Scientist - Consulting Firm (8-15 yrs)',\n",
       " 'Cargo Flash - Operation Research Analyst - Revenue Management System (3-9 yrs)']"
      ]
     },
     "execution_count": 55,
     "metadata": {},
     "output_type": "execute_result"
    }
   ],
   "source": [
    "position = []\n",
    "\n",
    "for role in jobrole:\n",
    "    position.append(role.text)\n",
    "position"
   ]
  },
  {
   "cell_type": "code",
   "execution_count": 58,
   "id": "bc630d79",
   "metadata": {},
   "outputs": [
    {
     "data": {
      "text/plain": [
       "[<selenium.webdriver.remote.webelement.WebElement (session=\"5afa915ed2edf8208dc214c8eebf2b32\", element=\"3ffdfd89-b7ec-4cdb-90e6-4109718bfb3a\")>,\n",
       " <selenium.webdriver.remote.webelement.WebElement (session=\"5afa915ed2edf8208dc214c8eebf2b32\", element=\"713cd4a7-d530-491b-ab77-cbb60f8f97b2\")>,\n",
       " <selenium.webdriver.remote.webelement.WebElement (session=\"5afa915ed2edf8208dc214c8eebf2b32\", element=\"81ef622f-3bfc-4c5c-bf1e-96286549b6af\")>,\n",
       " <selenium.webdriver.remote.webelement.WebElement (session=\"5afa915ed2edf8208dc214c8eebf2b32\", element=\"1f5560fd-466f-4221-b6a9-d688f93c695e\")>,\n",
       " <selenium.webdriver.remote.webelement.WebElement (session=\"5afa915ed2edf8208dc214c8eebf2b32\", element=\"f0179d8c-7771-495a-819e-e989178ba38b\")>,\n",
       " <selenium.webdriver.remote.webelement.WebElement (session=\"5afa915ed2edf8208dc214c8eebf2b32\", element=\"8ad74558-2e3c-4b17-bb1e-dc001856e96d\")>,\n",
       " <selenium.webdriver.remote.webelement.WebElement (session=\"5afa915ed2edf8208dc214c8eebf2b32\", element=\"77583761-372c-4a60-8157-610909e2b140\")>,\n",
       " <selenium.webdriver.remote.webelement.WebElement (session=\"5afa915ed2edf8208dc214c8eebf2b32\", element=\"d565c146-5b9b-4c01-b57d-6ada23cc83d4\")>,\n",
       " <selenium.webdriver.remote.webelement.WebElement (session=\"5afa915ed2edf8208dc214c8eebf2b32\", element=\"7b865e2b-0854-414d-9d89-4423420d7ce5\")>,\n",
       " <selenium.webdriver.remote.webelement.WebElement (session=\"5afa915ed2edf8208dc214c8eebf2b32\", element=\"b577f036-1bbd-45d0-a772-588aa51bc1f9\")>]"
      ]
     },
     "execution_count": 58,
     "metadata": {},
     "output_type": "execute_result"
    }
   ],
   "source": [
    "cmpnyname = ambbox.find_elements_by_xpath('//p[@class=\"company body-medium\"]')\n",
    "cmpnyname"
   ]
  },
  {
   "cell_type": "code",
   "execution_count": 59,
   "id": "2b9e94e5",
   "metadata": {},
   "outputs": [
    {
     "data": {
      "text/plain": [
       "['HCL',\n",
       " 'Jubilant Foodworks Limited',\n",
       " 'Ameriprise Financial',\n",
       " 'Paytm',\n",
       " 'CHT Sapiense',\n",
       " 'CHT Sapiense',\n",
       " 'GI Group',\n",
       " 'GI Group',\n",
       " 'GI Group',\n",
       " 'Cargoflash']"
      ]
     },
     "execution_count": 59,
     "metadata": {},
     "output_type": "execute_result"
    }
   ],
   "source": [
    "cname = []\n",
    "\n",
    "for name in cmpnyname:\n",
    "    cname.append(name.text)\n",
    "cname"
   ]
  },
  {
   "cell_type": "code",
   "execution_count": 60,
   "id": "a99c8f7b",
   "metadata": {},
   "outputs": [
    {
     "data": {
      "text/html": [
       "<div>\n",
       "<style scoped>\n",
       "    .dataframe tbody tr th:only-of-type {\n",
       "        vertical-align: middle;\n",
       "    }\n",
       "\n",
       "    .dataframe tbody tr th {\n",
       "        vertical-align: top;\n",
       "    }\n",
       "\n",
       "    .dataframe thead th {\n",
       "        text-align: right;\n",
       "    }\n",
       "</style>\n",
       "<table border=\"1\" class=\"dataframe\">\n",
       "  <thead>\n",
       "    <tr style=\"text-align: right;\">\n",
       "      <th></th>\n",
       "      <th>Company Name</th>\n",
       "      <th>Position</th>\n",
       "    </tr>\n",
       "  </thead>\n",
       "  <tbody>\n",
       "    <tr>\n",
       "      <th>0</th>\n",
       "      <td>HCL</td>\n",
       "      <td>HCL - Data Scientist - NLP/Python (2-6 yrs)</td>\n",
       "    </tr>\n",
       "    <tr>\n",
       "      <th>1</th>\n",
       "      <td>Jubilant Foodworks Limited</td>\n",
       "      <td>Data Scientist</td>\n",
       "    </tr>\n",
       "    <tr>\n",
       "      <th>2</th>\n",
       "      <td>Ameriprise Financial</td>\n",
       "      <td>Manager Data Scientist</td>\n",
       "    </tr>\n",
       "    <tr>\n",
       "      <th>3</th>\n",
       "      <td>Paytm</td>\n",
       "      <td>Vice President - Data Science</td>\n",
       "    </tr>\n",
       "    <tr>\n",
       "      <th>4</th>\n",
       "      <td>CHT Sapiense</td>\n",
       "      <td>CogniTensor - Data Scientist (2-5 yrs)</td>\n",
       "    </tr>\n",
       "    <tr>\n",
       "      <th>5</th>\n",
       "      <td>CHT Sapiense</td>\n",
       "      <td>CogniTensor - Data Scientist (2-5 yrs)</td>\n",
       "    </tr>\n",
       "    <tr>\n",
       "      <th>6</th>\n",
       "      <td>GI Group</td>\n",
       "      <td>Data Scientist - Data Science/Model Developmen...</td>\n",
       "    </tr>\n",
       "    <tr>\n",
       "      <th>7</th>\n",
       "      <td>GI Group</td>\n",
       "      <td>Manager - Data Scientist - Retail/BFSI (8-15 yrs)</td>\n",
       "    </tr>\n",
       "    <tr>\n",
       "      <th>8</th>\n",
       "      <td>GI Group</td>\n",
       "      <td>Data Scientist - Consulting Firm (8-15 yrs)</td>\n",
       "    </tr>\n",
       "    <tr>\n",
       "      <th>9</th>\n",
       "      <td>Cargoflash</td>\n",
       "      <td>Cargo Flash - Operation Research Analyst - Rev...</td>\n",
       "    </tr>\n",
       "  </tbody>\n",
       "</table>\n",
       "</div>"
      ],
      "text/plain": [
       "                 Company Name  \\\n",
       "0                         HCL   \n",
       "1  Jubilant Foodworks Limited   \n",
       "2        Ameriprise Financial   \n",
       "3                       Paytm   \n",
       "4                CHT Sapiense   \n",
       "5                CHT Sapiense   \n",
       "6                    GI Group   \n",
       "7                    GI Group   \n",
       "8                    GI Group   \n",
       "9                  Cargoflash   \n",
       "\n",
       "                                            Position  \n",
       "0        HCL - Data Scientist - NLP/Python (2-6 yrs)  \n",
       "1                                     Data Scientist  \n",
       "2                             Manager Data Scientist  \n",
       "3                      Vice President - Data Science  \n",
       "4             CogniTensor - Data Scientist (2-5 yrs)  \n",
       "5             CogniTensor - Data Scientist (2-5 yrs)  \n",
       "6  Data Scientist - Data Science/Model Developmen...  \n",
       "7  Manager - Data Scientist - Retail/BFSI (8-15 yrs)  \n",
       "8        Data Scientist - Consulting Firm (8-15 yrs)  \n",
       "9  Cargo Flash - Operation Research Analyst - Rev...  "
      ]
     },
     "execution_count": 60,
     "metadata": {},
     "output_type": "execute_result"
    }
   ],
   "source": [
    "data = pd.DataFrame()\n",
    "data ['Company Name'] = cname\n",
    "data ['Position'] = position\n",
    "data.head(11)"
   ]
  },
  {
   "cell_type": "code",
   "execution_count": null,
   "id": "d3ec0099",
   "metadata": {},
   "outputs": [],
   "source": []
  }
 ],
 "metadata": {
  "kernelspec": {
   "display_name": "Python 3",
   "language": "python",
   "name": "python3"
  },
  "language_info": {
   "codemirror_mode": {
    "name": "ipython",
    "version": 3
   },
   "file_extension": ".py",
   "mimetype": "text/x-python",
   "name": "python",
   "nbconvert_exporter": "python",
   "pygments_lexer": "ipython3",
   "version": "3.8.8"
  }
 },
 "nbformat": 4,
 "nbformat_minor": 5
}
