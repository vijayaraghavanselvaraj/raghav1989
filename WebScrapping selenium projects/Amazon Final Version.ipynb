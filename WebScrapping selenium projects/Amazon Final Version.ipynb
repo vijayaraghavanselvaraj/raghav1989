{
 "cells": [
  {
   "cell_type": "code",
   "execution_count": 24,
   "id": "9a526ed6",
   "metadata": {},
   "outputs": [],
   "source": [
    "import pandas as pd\n",
    "import selenium\n",
    "from selenium import webdriver\n",
    "import warnings\n",
    "warnings.filterwarnings('ignore')"
   ]
  },
  {
   "cell_type": "code",
   "execution_count": 25,
   "id": "da49359d",
   "metadata": {},
   "outputs": [],
   "source": [
    "amazon = webdriver.Chrome('chromedriver.exe')\n"
   ]
  },
  {
   "cell_type": "code",
   "execution_count": 26,
   "id": "b71c176c",
   "metadata": {},
   "outputs": [],
   "source": [
    "url = \"https://www.amazon.in/\"\n",
    "amazon.get(url)"
   ]
  },
  {
   "cell_type": "code",
   "execution_count": 27,
   "id": "c1716e7e",
   "metadata": {},
   "outputs": [
    {
     "data": {
      "text/plain": [
       "<selenium.webdriver.remote.webelement.WebElement (session=\"591bf21231275509f746816bd5fc3535\", element=\"ccd0b464-a8fa-47fd-82cd-737554b5f5ae\")>"
      ]
     },
     "execution_count": 27,
     "metadata": {},
     "output_type": "execute_result"
    }
   ],
   "source": [
    "search = amazon.find_element_by_id(\"twotabsearchtextbox\")\n",
    "search"
   ]
  },
  {
   "cell_type": "code",
   "execution_count": 28,
   "id": "d8aabf52",
   "metadata": {},
   "outputs": [
    {
     "data": {
      "text/plain": [
       "<selenium.webdriver.remote.webelement.WebElement (session=\"591bf21231275509f746816bd5fc3535\", element=\"ccd0b464-a8fa-47fd-82cd-737554b5f5ae\")>"
      ]
     },
     "execution_count": 28,
     "metadata": {},
     "output_type": "execute_result"
    }
   ],
   "source": [
    "search.send_keys('Laptop')\n",
    "search"
   ]
  },
  {
   "cell_type": "code",
   "execution_count": 29,
   "id": "1955b665",
   "metadata": {},
   "outputs": [
    {
     "data": {
      "text/plain": [
       "<selenium.webdriver.remote.webelement.WebElement (session=\"591bf21231275509f746816bd5fc3535\", element=\"b718a19c-f4c9-4772-8722-8e6e97b88ffc\")>"
      ]
     },
     "execution_count": 29,
     "metadata": {},
     "output_type": "execute_result"
    }
   ],
   "source": [
    "searchbtn = amazon.find_element_by_id(\"nav-search-submit-text\")\n",
    "searchbtn"
   ]
  },
  {
   "cell_type": "code",
   "execution_count": 30,
   "id": "0e5786a0",
   "metadata": {},
   "outputs": [],
   "source": [
    "searchbtn.click()"
   ]
  },
  {
   "cell_type": "code",
   "execution_count": 31,
   "id": "8bb5cae1",
   "metadata": {},
   "outputs": [
    {
     "data": {
      "text/plain": [
       "<selenium.webdriver.remote.webelement.WebElement (session=\"591bf21231275509f746816bd5fc3535\", element=\"10b478a9-5221-4f27-a796-09fa4f55f4a8\")>"
      ]
     },
     "execution_count": 31,
     "metadata": {},
     "output_type": "execute_result"
    }
   ],
   "source": [
    "filter1 = amazon.find_element_by_xpath('/html/body/div[1]/div[2]/div[1]/div[2]/div/div[3]/span/div[1]/span/div/div/div[6]/ul[1]/li[13]/span/a/span')\n",
    "filter1"
   ]
  },
  {
   "cell_type": "code",
   "execution_count": 32,
   "id": "3ffe4cb5",
   "metadata": {},
   "outputs": [],
   "source": [
    "filter1.click()"
   ]
  },
  {
   "cell_type": "code",
   "execution_count": 53,
   "id": "90cd0b51",
   "metadata": {},
   "outputs": [
    {
     "data": {
      "text/plain": [
       "<selenium.webdriver.remote.webelement.WebElement (session=\"591bf21231275509f746816bd5fc3535\", element=\"b13d5b24-e215-4723-b652-6d4fbf4859c6\")>"
      ]
     },
     "execution_count": 53,
     "metadata": {},
     "output_type": "execute_result"
    }
   ],
   "source": [
    "filter2 = amazon.find_element_by_xpath('/html/body/div[1]/div[2]/div[1]/div[2]/div/div[3]/span/div[1]/span/div/div/div[6]/ul[1]/li[2]/span/a/span')\n",
    "filter2"
   ]
  },
  {
   "cell_type": "code",
   "execution_count": 34,
   "id": "50326229",
   "metadata": {},
   "outputs": [],
   "source": [
    "filter2.click()"
   ]
  },
  {
   "cell_type": "code",
   "execution_count": 42,
   "id": "04830f86",
   "metadata": {},
   "outputs": [
    {
     "data": {
      "text/plain": [
       "[<selenium.webdriver.remote.webelement.WebElement (session=\"591bf21231275509f746816bd5fc3535\", element=\"a3272f85-f8b2-4fae-a124-29d1585310f0\")>,\n",
       " <selenium.webdriver.remote.webelement.WebElement (session=\"591bf21231275509f746816bd5fc3535\", element=\"974914a0-f51f-440f-957a-4f752183d789\")>,\n",
       " <selenium.webdriver.remote.webelement.WebElement (session=\"591bf21231275509f746816bd5fc3535\", element=\"2b456463-3a4b-4173-a6f5-9d00a0fa72cf\")>,\n",
       " <selenium.webdriver.remote.webelement.WebElement (session=\"591bf21231275509f746816bd5fc3535\", element=\"fc7ef7e0-8d78-4b67-bc29-4557339f58de\")>,\n",
       " <selenium.webdriver.remote.webelement.WebElement (session=\"591bf21231275509f746816bd5fc3535\", element=\"fb50c0de-7225-47c0-9233-a45833483f77\")>,\n",
       " <selenium.webdriver.remote.webelement.WebElement (session=\"591bf21231275509f746816bd5fc3535\", element=\"b1799b42-6d92-4c3f-8f65-8d1b566fabf2\")>,\n",
       " <selenium.webdriver.remote.webelement.WebElement (session=\"591bf21231275509f746816bd5fc3535\", element=\"e4a30464-ec23-46eb-bec9-6f368989fcb6\")>,\n",
       " <selenium.webdriver.remote.webelement.WebElement (session=\"591bf21231275509f746816bd5fc3535\", element=\"3c0cf719-668a-4af4-8ec7-19d782424639\")>,\n",
       " <selenium.webdriver.remote.webelement.WebElement (session=\"591bf21231275509f746816bd5fc3535\", element=\"60d6b9a9-4e9b-4515-852b-3668f5ea34b4\")>,\n",
       " <selenium.webdriver.remote.webelement.WebElement (session=\"591bf21231275509f746816bd5fc3535\", element=\"7cca8f04-59bf-4ffa-96c9-a9f7b4e2702f\")>,\n",
       " <selenium.webdriver.remote.webelement.WebElement (session=\"591bf21231275509f746816bd5fc3535\", element=\"2f6ea8a6-d4b3-4832-9ea7-102622a6b567\")>,\n",
       " <selenium.webdriver.remote.webelement.WebElement (session=\"591bf21231275509f746816bd5fc3535\", element=\"1a7a9fd9-a652-41ed-aee0-79738aa43197\")>,\n",
       " <selenium.webdriver.remote.webelement.WebElement (session=\"591bf21231275509f746816bd5fc3535\", element=\"fdd16457-c2fd-4855-9b83-b31979b0dcb5\")>,\n",
       " <selenium.webdriver.remote.webelement.WebElement (session=\"591bf21231275509f746816bd5fc3535\", element=\"28a97804-2e94-4910-819f-14e442296608\")>,\n",
       " <selenium.webdriver.remote.webelement.WebElement (session=\"591bf21231275509f746816bd5fc3535\", element=\"32657315-2ecc-441d-822b-3d8b04070343\")>,\n",
       " <selenium.webdriver.remote.webelement.WebElement (session=\"591bf21231275509f746816bd5fc3535\", element=\"50ab794d-04b4-41b7-92c6-a94e8ef8707a\")>,\n",
       " <selenium.webdriver.remote.webelement.WebElement (session=\"591bf21231275509f746816bd5fc3535\", element=\"7c745564-3b25-4ef4-bb59-8416a6ce4e1a\")>,\n",
       " <selenium.webdriver.remote.webelement.WebElement (session=\"591bf21231275509f746816bd5fc3535\", element=\"1d0d74a1-6a51-470a-ab81-f7e00ca43d50\")>,\n",
       " <selenium.webdriver.remote.webelement.WebElement (session=\"591bf21231275509f746816bd5fc3535\", element=\"600e25e8-9a5e-4ec7-a3de-0d1456b85e01\")>,\n",
       " <selenium.webdriver.remote.webelement.WebElement (session=\"591bf21231275509f746816bd5fc3535\", element=\"874f86cf-2946-4f13-95cf-9790d4c578e5\")>,\n",
       " <selenium.webdriver.remote.webelement.WebElement (session=\"591bf21231275509f746816bd5fc3535\", element=\"2d9a7e54-8138-4ebc-8182-feb2929bc4f3\")>,\n",
       " <selenium.webdriver.remote.webelement.WebElement (session=\"591bf21231275509f746816bd5fc3535\", element=\"54c5a5c0-f0b9-47e5-8bf5-9c1b51273a02\")>,\n",
       " <selenium.webdriver.remote.webelement.WebElement (session=\"591bf21231275509f746816bd5fc3535\", element=\"76300383-7662-4532-8d0f-a26f6df01aaa\")>,\n",
       " <selenium.webdriver.remote.webelement.WebElement (session=\"591bf21231275509f746816bd5fc3535\", element=\"e670c91b-c3a7-45b5-be37-eda2e2e19fc3\")>,\n",
       " <selenium.webdriver.remote.webelement.WebElement (session=\"591bf21231275509f746816bd5fc3535\", element=\"d6b2f701-38f4-4843-9997-46edcfc2c2b8\")>,\n",
       " <selenium.webdriver.remote.webelement.WebElement (session=\"591bf21231275509f746816bd5fc3535\", element=\"67014d36-21b0-4a46-91b6-159c177703d2\")>,\n",
       " <selenium.webdriver.remote.webelement.WebElement (session=\"591bf21231275509f746816bd5fc3535\", element=\"5aaa641d-7e13-4743-8399-77ecec62d256\")>,\n",
       " <selenium.webdriver.remote.webelement.WebElement (session=\"591bf21231275509f746816bd5fc3535\", element=\"364c0f59-d7da-4461-9a9f-abe4f689d5e8\")>,\n",
       " <selenium.webdriver.remote.webelement.WebElement (session=\"591bf21231275509f746816bd5fc3535\", element=\"3b2f0f46-488d-4b61-a6c0-410f603e8442\")>,\n",
       " <selenium.webdriver.remote.webelement.WebElement (session=\"591bf21231275509f746816bd5fc3535\", element=\"34170dde-0b0a-4e8d-b2bc-d6893a3e3122\")>]"
      ]
     },
     "execution_count": 42,
     "metadata": {},
     "output_type": "execute_result"
    }
   ],
   "source": [
    "title = amazon.find_elements_by_xpath('//h2[@class=\"a-size-mini a-spacing-none a-color-base s-line-clamp-2\"]')\n",
    "title"
   ]
  },
  {
   "cell_type": "code",
   "execution_count": 514,
   "id": "09c16bae",
   "metadata": {},
   "outputs": [
    {
     "data": {
      "text/plain": [
       "['LG Gram 17-inches Ultra-Light Intel Evo 11th Gen Core i7,16 GB RAM, 512 GB SSD, New Win-11 Preload, Iris Xe Graphics, USC -C x 2 (with Power), 1.35 kg, 3 Yr Warranty (17Z90P-G.AH85A2, Black)',\n",
       " 'HP Pavilion 14, Intel 11th Gen i5 16GB RAM/512GB SSD 14 inch(35.6 cm) Laptop, FHD IPS Anti-Glare Display/Iris X Graphics/Backlit KB/B&O Audio/Fingerprint Reader/Win 11/Thin & Light/1.41kg, 14-dv1001TU',\n",
       " 'HP Pavilion 14, Intel 11th Gen i5 16GB RAM/512GB SSD 14 inch(35.6 cm) Laptop, FHD IPS Anti-Glare Display/Iris X Graphics/Backlit KB/B&O Audio/Fingerprint Reader/Win 11/Thin & Light/1.41kg, 14-dv1001TU',\n",
       " 'Lenovo IdeaPad Slim 5 11th Gen Intel Core i5 15.6\"(39.62cm) FHD IPS Thin & Light Laptop (16GB/512GB SSD/Windows 11/MS Office 2021/Backlit Keyboard/Fingerprint Reader/Graphite Grey/1.66Kg), 82FG01H9IN',\n",
       " 'Lenovo IdeaPad Gaming 3 10th Gen Intel i5 15.6\" FHD Laptop (8GB/1TB HDD/GTX 1650 4GB GDDR6 Graphics/60Hz Refresh Rate/Windows 10/Office 2019/Blue Backlit/Onyx Black/2.2Kg), 81Y4018DIN',\n",
       " 'Mi Notebook Horizon Edition 14 Intel Core i7-10510U 10th Gen Thin and Light Laptop(8GB/512GB SSD/Windows 10/Nvidia MX350 2GB Graphics/Grey/1.35Kg)(Without Webcam) XMA1904-AF',\n",
       " 'ASUS VivoBook 15 (2021) Intel Core i5-1035G1 10th Gen, 15.6\"(39.62cms) FHD Thin and Light Laptop (8GB RAM/512GB + 32GB Optane Memory/Windows 11/Office 2021/Silver/1.8 Kg), X515JA-EJ562WS',\n",
       " 'ASUS TUF Gaming F15, 15.6-inch (39.62 cms) FHD 144Hz, Intel Core i5-10300H 10th Gen, GTX 1650 Ti GDDR6 4GB Graphics, Gaming Laptop (8GB RAM/512GB SSD/Windows 10/Fortress Gray/2.3 Kg), FX566LI-HN272T',\n",
       " 'HP Pavilion 14, 11th Gen Intel Core i5 8GB RAM/512GB SSD 14 inch(35.6 cm) Laptop, FHD IPS Micro-Edge Display/Iris Xe Graphics/Backlit KB/B&O Audio/Alexa/FPR/Win 11/Thin & Light/1.41kg, 14-dv1000TU',\n",
       " 'ASUS VivoBook 14 (2021), Intel Core i5-1135G7 11th Gen, 14-Inch (35.56 cms) FHD Thin and Light Laptop (8GB RAM/1TB HDD + 256GB SSD/Office 2019/Windows 10/Integrated/Silver/1.6 kg), X415EA-EB572TS']"
      ]
     },
     "execution_count": 514,
     "metadata": {},
     "output_type": "execute_result"
    }
   ],
   "source": [
    "Productname = []\n",
    "\n",
    "for name in title[:10]:\n",
    "    Productname.append(name.text)\n",
    "Productname"
   ]
  },
  {
   "cell_type": "code",
   "execution_count": 222,
   "id": "79b9df33",
   "metadata": {},
   "outputs": [
    {
     "data": {
      "text/plain": [
       "[<selenium.webdriver.remote.webelement.WebElement (session=\"591bf21231275509f746816bd5fc3535\", element=\"762cadbd-3dd5-4ad5-b86b-efca0933af09\")>,\n",
       " <selenium.webdriver.remote.webelement.WebElement (session=\"591bf21231275509f746816bd5fc3535\", element=\"a10d5376-4f74-4ab8-a06e-11eff9f6ac01\")>,\n",
       " <selenium.webdriver.remote.webelement.WebElement (session=\"591bf21231275509f746816bd5fc3535\", element=\"8b50e94f-5cef-4769-8481-409a0bf3efb1\")>,\n",
       " <selenium.webdriver.remote.webelement.WebElement (session=\"591bf21231275509f746816bd5fc3535\", element=\"5c18713e-a07f-4f90-8b30-d9d25729ed7a\")>,\n",
       " <selenium.webdriver.remote.webelement.WebElement (session=\"591bf21231275509f746816bd5fc3535\", element=\"8ab32fce-8371-42a6-883d-c91bd9cccaf3\")>,\n",
       " <selenium.webdriver.remote.webelement.WebElement (session=\"591bf21231275509f746816bd5fc3535\", element=\"d9a1d762-385b-4acb-b643-1538d28fe01e\")>,\n",
       " <selenium.webdriver.remote.webelement.WebElement (session=\"591bf21231275509f746816bd5fc3535\", element=\"19cddc58-64e3-48c4-a824-3d44f738136b\")>,\n",
       " <selenium.webdriver.remote.webelement.WebElement (session=\"591bf21231275509f746816bd5fc3535\", element=\"0d648849-18ea-420b-b1d6-ed64dcfcef99\")>,\n",
       " <selenium.webdriver.remote.webelement.WebElement (session=\"591bf21231275509f746816bd5fc3535\", element=\"affe5a3c-ec77-4887-926b-cbc955c2c6ad\")>,\n",
       " <selenium.webdriver.remote.webelement.WebElement (session=\"591bf21231275509f746816bd5fc3535\", element=\"7506fe4b-1b26-4613-8610-1864e6b6ec26\")>,\n",
       " <selenium.webdriver.remote.webelement.WebElement (session=\"591bf21231275509f746816bd5fc3535\", element=\"979e2fd6-8a60-4078-bf8e-537f3e5db0fb\")>,\n",
       " <selenium.webdriver.remote.webelement.WebElement (session=\"591bf21231275509f746816bd5fc3535\", element=\"d2f32be9-94ff-4cd0-bd89-b4cf97bc23a2\")>,\n",
       " <selenium.webdriver.remote.webelement.WebElement (session=\"591bf21231275509f746816bd5fc3535\", element=\"78c3aa0a-641a-4087-9104-079910846994\")>,\n",
       " <selenium.webdriver.remote.webelement.WebElement (session=\"591bf21231275509f746816bd5fc3535\", element=\"707d9c74-d9a1-4f51-a97b-3ed5a2e9404c\")>,\n",
       " <selenium.webdriver.remote.webelement.WebElement (session=\"591bf21231275509f746816bd5fc3535\", element=\"0cda7cce-b5c7-425c-a924-b369e9783fb0\")>,\n",
       " <selenium.webdriver.remote.webelement.WebElement (session=\"591bf21231275509f746816bd5fc3535\", element=\"ac51e1c5-a034-4ebb-a7cc-213104eee3d6\")>,\n",
       " <selenium.webdriver.remote.webelement.WebElement (session=\"591bf21231275509f746816bd5fc3535\", element=\"0c740d1d-1f5b-4bc5-aaca-77c484aafad6\")>,\n",
       " <selenium.webdriver.remote.webelement.WebElement (session=\"591bf21231275509f746816bd5fc3535\", element=\"430337d0-ce18-40bf-beb8-283bc253e4e2\")>,\n",
       " <selenium.webdriver.remote.webelement.WebElement (session=\"591bf21231275509f746816bd5fc3535\", element=\"b2aa7d4e-29f7-417d-8dd0-3855e18c9db2\")>,\n",
       " <selenium.webdriver.remote.webelement.WebElement (session=\"591bf21231275509f746816bd5fc3535\", element=\"e672e730-0a80-4b5c-a6ea-59526191d87b\")>,\n",
       " <selenium.webdriver.remote.webelement.WebElement (session=\"591bf21231275509f746816bd5fc3535\", element=\"29e5efe7-6921-4bad-bd4d-1b730210a270\")>,\n",
       " <selenium.webdriver.remote.webelement.WebElement (session=\"591bf21231275509f746816bd5fc3535\", element=\"7abad617-1146-4c2a-a3bf-c139c5579fd1\")>,\n",
       " <selenium.webdriver.remote.webelement.WebElement (session=\"591bf21231275509f746816bd5fc3535\", element=\"07fea572-59ab-4a82-81f1-0f405b70f0d8\")>,\n",
       " <selenium.webdriver.remote.webelement.WebElement (session=\"591bf21231275509f746816bd5fc3535\", element=\"436edf6d-7bca-4c7a-a858-b4fd61427537\")>,\n",
       " <selenium.webdriver.remote.webelement.WebElement (session=\"591bf21231275509f746816bd5fc3535\", element=\"7f3ca74c-6964-41f7-81bd-205a36cd30ac\")>,\n",
       " <selenium.webdriver.remote.webelement.WebElement (session=\"591bf21231275509f746816bd5fc3535\", element=\"96d9e656-ad15-4ef4-8a90-852ef9320660\")>,\n",
       " <selenium.webdriver.remote.webelement.WebElement (session=\"591bf21231275509f746816bd5fc3535\", element=\"7f65aa2a-fbdd-4ac3-94bb-83c789f40e9c\")>,\n",
       " <selenium.webdriver.remote.webelement.WebElement (session=\"591bf21231275509f746816bd5fc3535\", element=\"40abac0f-5000-474c-888c-cea85d0c3537\")>,\n",
       " <selenium.webdriver.remote.webelement.WebElement (session=\"591bf21231275509f746816bd5fc3535\", element=\"1bc013a9-2d5b-44aa-b6ca-4d15d305905c\")>,\n",
       " <selenium.webdriver.remote.webelement.WebElement (session=\"591bf21231275509f746816bd5fc3535\", element=\"1c81e2de-e313-4ad6-b901-813ff5ff01f7\")>,\n",
       " <selenium.webdriver.remote.webelement.WebElement (session=\"591bf21231275509f746816bd5fc3535\", element=\"a6610a86-fa94-4457-970a-dff85ce37a82\")>,\n",
       " <selenium.webdriver.remote.webelement.WebElement (session=\"591bf21231275509f746816bd5fc3535\", element=\"c91372a0-ba12-42df-ae55-38c03d5e5b52\")>,\n",
       " <selenium.webdriver.remote.webelement.WebElement (session=\"591bf21231275509f746816bd5fc3535\", element=\"3941a3bf-21ad-463e-9321-7f7b0f3a29e9\")>,\n",
       " <selenium.webdriver.remote.webelement.WebElement (session=\"591bf21231275509f746816bd5fc3535\", element=\"681f03fb-64c9-4762-96ae-baac89e403bc\")>,\n",
       " <selenium.webdriver.remote.webelement.WebElement (session=\"591bf21231275509f746816bd5fc3535\", element=\"415b95a5-f993-4f5e-9a96-ee54653a1e7d\")>,\n",
       " <selenium.webdriver.remote.webelement.WebElement (session=\"591bf21231275509f746816bd5fc3535\", element=\"90415724-7afc-4472-a546-0b9b3131f97b\")>,\n",
       " <selenium.webdriver.remote.webelement.WebElement (session=\"591bf21231275509f746816bd5fc3535\", element=\"4097f43d-8453-4b50-a564-670a543bcdfc\")>,\n",
       " <selenium.webdriver.remote.webelement.WebElement (session=\"591bf21231275509f746816bd5fc3535\", element=\"3015943e-4875-4a86-9860-27256e25a477\")>,\n",
       " <selenium.webdriver.remote.webelement.WebElement (session=\"591bf21231275509f746816bd5fc3535\", element=\"bb924e70-c08e-476d-902b-1300d6bd9d27\")>,\n",
       " <selenium.webdriver.remote.webelement.WebElement (session=\"591bf21231275509f746816bd5fc3535\", element=\"91c66e0c-7117-4e5c-8a92-53b06c4ab1c7\")>,\n",
       " <selenium.webdriver.remote.webelement.WebElement (session=\"591bf21231275509f746816bd5fc3535\", element=\"9d903af6-21fa-4d49-8145-7ae40ac32c9a\")>,\n",
       " <selenium.webdriver.remote.webelement.WebElement (session=\"591bf21231275509f746816bd5fc3535\", element=\"6c0f84dc-1c71-42f6-ac3e-c1327d58a837\")>,\n",
       " <selenium.webdriver.remote.webelement.WebElement (session=\"591bf21231275509f746816bd5fc3535\", element=\"5b1ce866-8848-4cd7-b3d9-46b8782589d1\")>,\n",
       " <selenium.webdriver.remote.webelement.WebElement (session=\"591bf21231275509f746816bd5fc3535\", element=\"8aaec962-82da-4d4a-ae9b-ddae679bb42a\")>,\n",
       " <selenium.webdriver.remote.webelement.WebElement (session=\"591bf21231275509f746816bd5fc3535\", element=\"c0cc4a6e-39b2-4c9f-9514-d8875c56fe59\")>,\n",
       " <selenium.webdriver.remote.webelement.WebElement (session=\"591bf21231275509f746816bd5fc3535\", element=\"fd41bc9d-6da8-4161-a5ef-1835fc4f6f0c\")>,\n",
       " <selenium.webdriver.remote.webelement.WebElement (session=\"591bf21231275509f746816bd5fc3535\", element=\"ceda53e9-5edb-4530-84f3-5d59dea16dea\")>,\n",
       " <selenium.webdriver.remote.webelement.WebElement (session=\"591bf21231275509f746816bd5fc3535\", element=\"6f95bd46-bade-4edc-aafb-46cb405875b7\")>,\n",
       " <selenium.webdriver.remote.webelement.WebElement (session=\"591bf21231275509f746816bd5fc3535\", element=\"76d6d1f1-cf93-4364-9faf-49f0426f57cc\")>,\n",
       " <selenium.webdriver.remote.webelement.WebElement (session=\"591bf21231275509f746816bd5fc3535\", element=\"e043c107-75fb-40c6-b806-8f867d92d308\")>,\n",
       " <selenium.webdriver.remote.webelement.WebElement (session=\"591bf21231275509f746816bd5fc3535\", element=\"fc747cb3-2729-451f-8501-15de774d5263\")>,\n",
       " <selenium.webdriver.remote.webelement.WebElement (session=\"591bf21231275509f746816bd5fc3535\", element=\"4b6bb6fb-2b8a-4b4a-b64f-c54a3048e6ef\")>,\n",
       " <selenium.webdriver.remote.webelement.WebElement (session=\"591bf21231275509f746816bd5fc3535\", element=\"4886a86e-e27d-486d-b4ad-ad99f6284f19\")>,\n",
       " <selenium.webdriver.remote.webelement.WebElement (session=\"591bf21231275509f746816bd5fc3535\", element=\"6a03460f-93ec-41ee-a153-d6d5e9a3b816\")>,\n",
       " <selenium.webdriver.remote.webelement.WebElement (session=\"591bf21231275509f746816bd5fc3535\", element=\"f7926493-35a5-40b9-8de0-8fdd952d9218\")>,\n",
       " <selenium.webdriver.remote.webelement.WebElement (session=\"591bf21231275509f746816bd5fc3535\", element=\"e5142b83-4cd8-4d43-8d7d-59338787f58b\")>,\n",
       " <selenium.webdriver.remote.webelement.WebElement (session=\"591bf21231275509f746816bd5fc3535\", element=\"3eff5951-5caf-45ea-8cd4-aa841914469b\")>,\n",
       " <selenium.webdriver.remote.webelement.WebElement (session=\"591bf21231275509f746816bd5fc3535\", element=\"6fe3f48b-ed3d-410a-9f86-f9828e0c57a0\")>,\n",
       " <selenium.webdriver.remote.webelement.WebElement (session=\"591bf21231275509f746816bd5fc3535\", element=\"83a39a31-b8dc-401e-803d-da0e841b53a1\")>,\n",
       " <selenium.webdriver.remote.webelement.WebElement (session=\"591bf21231275509f746816bd5fc3535\", element=\"430790de-bb73-4439-8045-2804a8989658\")>,\n",
       " <selenium.webdriver.remote.webelement.WebElement (session=\"591bf21231275509f746816bd5fc3535\", element=\"2d080671-7933-4f83-bd30-2ea536baf290\")>,\n",
       " <selenium.webdriver.remote.webelement.WebElement (session=\"591bf21231275509f746816bd5fc3535\", element=\"7ab51ea8-728b-4d4b-a39b-5c657c68fa88\")>,\n",
       " <selenium.webdriver.remote.webelement.WebElement (session=\"591bf21231275509f746816bd5fc3535\", element=\"3cd44af9-d10b-40bb-bde5-692cdf88e9df\")>,\n",
       " <selenium.webdriver.remote.webelement.WebElement (session=\"591bf21231275509f746816bd5fc3535\", element=\"5787ae06-611f-49e3-aa08-ba0363201f06\")>,\n",
       " <selenium.webdriver.remote.webelement.WebElement (session=\"591bf21231275509f746816bd5fc3535\", element=\"b8bbe733-d9c5-434f-82a4-7251f69c61c7\")>,\n",
       " <selenium.webdriver.remote.webelement.WebElement (session=\"591bf21231275509f746816bd5fc3535\", element=\"6e3b38ce-6229-430b-85f0-bd784ea1fc3c\")>,\n",
       " <selenium.webdriver.remote.webelement.WebElement (session=\"591bf21231275509f746816bd5fc3535\", element=\"f3298339-b8c6-4613-8654-63354b2360d5\")>,\n",
       " <selenium.webdriver.remote.webelement.WebElement (session=\"591bf21231275509f746816bd5fc3535\", element=\"fcbc969e-d9cb-4926-92e6-6f74235a2885\")>,\n",
       " <selenium.webdriver.remote.webelement.WebElement (session=\"591bf21231275509f746816bd5fc3535\", element=\"0ba6429e-3575-4828-a371-2ef88822e7d3\")>,\n",
       " <selenium.webdriver.remote.webelement.WebElement (session=\"591bf21231275509f746816bd5fc3535\", element=\"69803384-7cbb-45e8-bba2-952def07f878\")>,\n",
       " <selenium.webdriver.remote.webelement.WebElement (session=\"591bf21231275509f746816bd5fc3535\", element=\"95cb9f17-28df-458d-8272-e66e955a290e\")>,\n",
       " <selenium.webdriver.remote.webelement.WebElement (session=\"591bf21231275509f746816bd5fc3535\", element=\"295f775f-913a-4357-ab49-aceead5d360c\")>,\n",
       " <selenium.webdriver.remote.webelement.WebElement (session=\"591bf21231275509f746816bd5fc3535\", element=\"b2c99bf6-60a4-4bc6-8def-9bf952928e0c\")>,\n",
       " <selenium.webdriver.remote.webelement.WebElement (session=\"591bf21231275509f746816bd5fc3535\", element=\"7295527c-e86d-425c-840a-4049e681500d\")>,\n",
       " <selenium.webdriver.remote.webelement.WebElement (session=\"591bf21231275509f746816bd5fc3535\", element=\"b2dc36b8-3cf7-4d78-8f27-baff038a4e14\")>,\n",
       " <selenium.webdriver.remote.webelement.WebElement (session=\"591bf21231275509f746816bd5fc3535\", element=\"5ce1c54f-5743-415f-b9ba-c07793471e17\")>,\n",
       " <selenium.webdriver.remote.webelement.WebElement (session=\"591bf21231275509f746816bd5fc3535\", element=\"23f74bcc-6336-4eac-b72b-a25cb1c99020\")>,\n",
       " <selenium.webdriver.remote.webelement.WebElement (session=\"591bf21231275509f746816bd5fc3535\", element=\"b586da0c-3a3f-4ebb-8091-fc35c9e02fe0\")>,\n",
       " <selenium.webdriver.remote.webelement.WebElement (session=\"591bf21231275509f746816bd5fc3535\", element=\"6c8fbcac-c2d6-4716-ad76-58b37a1fee7d\")>,\n",
       " <selenium.webdriver.remote.webelement.WebElement (session=\"591bf21231275509f746816bd5fc3535\", element=\"1b66a9d1-fae8-4107-a61f-cda2bc9fdebe\")>,\n",
       " <selenium.webdriver.remote.webelement.WebElement (session=\"591bf21231275509f746816bd5fc3535\", element=\"a689f4d5-9df6-45b1-b1b3-c6ef09ae2255\")>,\n",
       " <selenium.webdriver.remote.webelement.WebElement (session=\"591bf21231275509f746816bd5fc3535\", element=\"f0e3d55b-1d0e-4236-91ec-c3adac28e4ed\")>,\n",
       " <selenium.webdriver.remote.webelement.WebElement (session=\"591bf21231275509f746816bd5fc3535\", element=\"607dcec8-e640-4461-8314-09d16d9fdf09\")>,\n",
       " <selenium.webdriver.remote.webelement.WebElement (session=\"591bf21231275509f746816bd5fc3535\", element=\"4709123d-3a5b-401c-98e1-d54438290b01\")>,\n",
       " <selenium.webdriver.remote.webelement.WebElement (session=\"591bf21231275509f746816bd5fc3535\", element=\"3ba04763-8ea3-4a2d-97e3-d43914a7e6ad\")>,\n",
       " <selenium.webdriver.remote.webelement.WebElement (session=\"591bf21231275509f746816bd5fc3535\", element=\"f85c3ccb-7d4e-47cf-9e59-673bd3f06de7\")>,\n",
       " <selenium.webdriver.remote.webelement.WebElement (session=\"591bf21231275509f746816bd5fc3535\", element=\"8e483d6f-f559-43db-beb5-4d6a8fa6c13a\")>,\n",
       " <selenium.webdriver.remote.webelement.WebElement (session=\"591bf21231275509f746816bd5fc3535\", element=\"44f0fb76-18ec-4d19-9d63-85670f57cdd9\")>,\n",
       " <selenium.webdriver.remote.webelement.WebElement (session=\"591bf21231275509f746816bd5fc3535\", element=\"f2331688-b846-4181-ad89-ea08ee9a1fdc\")>,\n",
       " <selenium.webdriver.remote.webelement.WebElement (session=\"591bf21231275509f746816bd5fc3535\", element=\"eae89750-aafd-428d-8978-1d49cd9ebb10\")>,\n",
       " <selenium.webdriver.remote.webelement.WebElement (session=\"591bf21231275509f746816bd5fc3535\", element=\"e9ae2702-387f-49dd-941f-5e5241e0c7e3\")>,\n",
       " <selenium.webdriver.remote.webelement.WebElement (session=\"591bf21231275509f746816bd5fc3535\", element=\"5f3e9acd-6650-49ec-85b9-2635c5447c61\")>,\n",
       " <selenium.webdriver.remote.webelement.WebElement (session=\"591bf21231275509f746816bd5fc3535\", element=\"152edd33-f15f-496f-9d1c-0255e1ff593e\")>,\n",
       " <selenium.webdriver.remote.webelement.WebElement (session=\"591bf21231275509f746816bd5fc3535\", element=\"0cda875f-99df-4590-8ac5-5ab4d291b856\")>,\n",
       " <selenium.webdriver.remote.webelement.WebElement (session=\"591bf21231275509f746816bd5fc3535\", element=\"336612a2-c3ff-4eac-9e9b-c36c42a1de28\")>,\n",
       " <selenium.webdriver.remote.webelement.WebElement (session=\"591bf21231275509f746816bd5fc3535\", element=\"9195ed09-3b44-49e8-a34b-9254bf7e6278\")>,\n",
       " <selenium.webdriver.remote.webelement.WebElement (session=\"591bf21231275509f746816bd5fc3535\", element=\"6df11d23-566a-45c9-8890-bb8f097b6329\")>,\n",
       " <selenium.webdriver.remote.webelement.WebElement (session=\"591bf21231275509f746816bd5fc3535\", element=\"f64187fb-7034-4dc8-94cb-82aa30d3974d\")>,\n",
       " <selenium.webdriver.remote.webelement.WebElement (session=\"591bf21231275509f746816bd5fc3535\", element=\"563c84f4-dd3b-4bbe-aea0-43e65001f036\")>,\n",
       " <selenium.webdriver.remote.webelement.WebElement (session=\"591bf21231275509f746816bd5fc3535\", element=\"939eddc5-f0d1-4d6f-8714-169e67668765\")>,\n",
       " <selenium.webdriver.remote.webelement.WebElement (session=\"591bf21231275509f746816bd5fc3535\", element=\"8cdcc32c-f0be-4b55-a536-e377d985c872\")>,\n",
       " <selenium.webdriver.remote.webelement.WebElement (session=\"591bf21231275509f746816bd5fc3535\", element=\"c3fe900f-a707-425c-a0f0-7151e747582a\")>,\n",
       " <selenium.webdriver.remote.webelement.WebElement (session=\"591bf21231275509f746816bd5fc3535\", element=\"a44e1e30-ca9b-4af1-8d43-28a0e4a20c03\")>,\n",
       " <selenium.webdriver.remote.webelement.WebElement (session=\"591bf21231275509f746816bd5fc3535\", element=\"a6a7fefd-e2de-4865-b627-a8363a743857\")>,\n",
       " <selenium.webdriver.remote.webelement.WebElement (session=\"591bf21231275509f746816bd5fc3535\", element=\"0f3bda58-720c-4b7f-941c-8212da648df3\")>,\n",
       " <selenium.webdriver.remote.webelement.WebElement (session=\"591bf21231275509f746816bd5fc3535\", element=\"a0c24037-c4e6-4e84-8bca-158287d2e53d\")>,\n",
       " <selenium.webdriver.remote.webelement.WebElement (session=\"591bf21231275509f746816bd5fc3535\", element=\"91c7db61-e1fd-45c5-ae2f-890589614662\")>,\n",
       " <selenium.webdriver.remote.webelement.WebElement (session=\"591bf21231275509f746816bd5fc3535\", element=\"be007a65-3822-4a6b-8ccf-cbf7a88904ac\")>,\n",
       " <selenium.webdriver.remote.webelement.WebElement (session=\"591bf21231275509f746816bd5fc3535\", element=\"76140b8f-9db9-4229-be35-77ed2749fe96\")>,\n",
       " <selenium.webdriver.remote.webelement.WebElement (session=\"591bf21231275509f746816bd5fc3535\", element=\"e08a0620-8707-49a1-9cb8-b2e46fa84309\")>,\n",
       " <selenium.webdriver.remote.webelement.WebElement (session=\"591bf21231275509f746816bd5fc3535\", element=\"fe3dd492-fb05-4091-a420-848f9cc849b4\")>,\n",
       " <selenium.webdriver.remote.webelement.WebElement (session=\"591bf21231275509f746816bd5fc3535\", element=\"de67cd8e-0192-4a2c-b3e9-005b9943a5d4\")>,\n",
       " <selenium.webdriver.remote.webelement.WebElement (session=\"591bf21231275509f746816bd5fc3535\", element=\"38d8c61b-6f9b-4eb9-be29-0375ac275e00\")>,\n",
       " <selenium.webdriver.remote.webelement.WebElement (session=\"591bf21231275509f746816bd5fc3535\", element=\"4db282cc-5509-4b76-893a-046639cf0b9e\")>,\n",
       " <selenium.webdriver.remote.webelement.WebElement (session=\"591bf21231275509f746816bd5fc3535\", element=\"48baddc5-12aa-48c2-a082-9e5b442959d9\")>,\n",
       " <selenium.webdriver.remote.webelement.WebElement (session=\"591bf21231275509f746816bd5fc3535\", element=\"dce91003-2afe-425c-b8be-c5d685dd6c64\")>,\n",
       " <selenium.webdriver.remote.webelement.WebElement (session=\"591bf21231275509f746816bd5fc3535\", element=\"cec5c3a7-4099-4adc-bcb1-59c97c86027d\")>,\n",
       " <selenium.webdriver.remote.webelement.WebElement (session=\"591bf21231275509f746816bd5fc3535\", element=\"49d22d71-a895-47d9-982d-bd25c40463fa\")>,\n",
       " <selenium.webdriver.remote.webelement.WebElement (session=\"591bf21231275509f746816bd5fc3535\", element=\"9ed7b326-c8e1-48ac-a550-56a57977202c\")>,\n",
       " <selenium.webdriver.remote.webelement.WebElement (session=\"591bf21231275509f746816bd5fc3535\", element=\"d80c6f6c-3fb6-4c55-b138-1e38b19d3e85\")>,\n",
       " <selenium.webdriver.remote.webelement.WebElement (session=\"591bf21231275509f746816bd5fc3535\", element=\"67ea9ce8-28fa-4d26-b788-450e7821be34\")>,\n",
       " <selenium.webdriver.remote.webelement.WebElement (session=\"591bf21231275509f746816bd5fc3535\", element=\"8cac5d34-881f-4a4e-9619-ee6632c73f91\")>,\n",
       " <selenium.webdriver.remote.webelement.WebElement (session=\"591bf21231275509f746816bd5fc3535\", element=\"c334d9b7-d1ae-4e16-ae44-4c2865265ca2\")>,\n",
       " <selenium.webdriver.remote.webelement.WebElement (session=\"591bf21231275509f746816bd5fc3535\", element=\"ae7a2df2-13e3-4f6c-b1ce-5ada2f4d4b14\")>,\n",
       " <selenium.webdriver.remote.webelement.WebElement (session=\"591bf21231275509f746816bd5fc3535\", element=\"476991bc-148f-4415-ab73-43150ae3492c\")>,\n",
       " <selenium.webdriver.remote.webelement.WebElement (session=\"591bf21231275509f746816bd5fc3535\", element=\"124bb95e-6230-452b-95f7-237dc3720a89\")>,\n",
       " <selenium.webdriver.remote.webelement.WebElement (session=\"591bf21231275509f746816bd5fc3535\", element=\"5d93849e-b86e-4b5c-96b1-83d9d3234e13\")>,\n",
       " <selenium.webdriver.remote.webelement.WebElement (session=\"591bf21231275509f746816bd5fc3535\", element=\"b54577f7-cf44-418d-a35f-316423187173\")>,\n",
       " <selenium.webdriver.remote.webelement.WebElement (session=\"591bf21231275509f746816bd5fc3535\", element=\"2e15012b-89cf-4c65-9165-62c417a79867\")>,\n",
       " <selenium.webdriver.remote.webelement.WebElement (session=\"591bf21231275509f746816bd5fc3535\", element=\"67a10651-f673-4a6f-88e6-0fd8f6ca5b28\")>,\n",
       " <selenium.webdriver.remote.webelement.WebElement (session=\"591bf21231275509f746816bd5fc3535\", element=\"2d0cf3c8-85c6-4d0f-b8d8-8f25d38b26a4\")>,\n",
       " <selenium.webdriver.remote.webelement.WebElement (session=\"591bf21231275509f746816bd5fc3535\", element=\"213e47c3-e9e6-46ad-b699-a56e44952ce4\")>,\n",
       " <selenium.webdriver.remote.webelement.WebElement (session=\"591bf21231275509f746816bd5fc3535\", element=\"294647b8-5c50-4712-98ec-0ed326833cab\")>,\n",
       " <selenium.webdriver.remote.webelement.WebElement (session=\"591bf21231275509f746816bd5fc3535\", element=\"171c1d91-975a-4198-85cf-f887364c58ff\")>,\n",
       " <selenium.webdriver.remote.webelement.WebElement (session=\"591bf21231275509f746816bd5fc3535\", element=\"29e32ae0-445d-4e08-b1b8-fe9b11e487d8\")>]"
      ]
     },
     "execution_count": 222,
     "metadata": {},
     "output_type": "execute_result"
    }
   ],
   "source": [
    "ratings = amazon.find_elements_by_xpath('//div[@class=\"a-row a-size-small\"]//span')\n",
    "ratings"
   ]
  },
  {
   "cell_type": "code",
   "execution_count": 266,
   "id": "1d089852",
   "metadata": {},
   "outputs": [
    {
     "data": {
      "text/plain": [
       "[<selenium.webdriver.remote.webelement.WebElement (session=\"591bf21231275509f746816bd5fc3535\", element=\"762cadbd-3dd5-4ad5-b86b-efca0933af09\")>,\n",
       " <selenium.webdriver.remote.webelement.WebElement (session=\"591bf21231275509f746816bd5fc3535\", element=\"a10d5376-4f74-4ab8-a06e-11eff9f6ac01\")>,\n",
       " <selenium.webdriver.remote.webelement.WebElement (session=\"591bf21231275509f746816bd5fc3535\", element=\"8b50e94f-5cef-4769-8481-409a0bf3efb1\")>,\n",
       " <selenium.webdriver.remote.webelement.WebElement (session=\"591bf21231275509f746816bd5fc3535\", element=\"5c18713e-a07f-4f90-8b30-d9d25729ed7a\")>,\n",
       " <selenium.webdriver.remote.webelement.WebElement (session=\"591bf21231275509f746816bd5fc3535\", element=\"8ab32fce-8371-42a6-883d-c91bd9cccaf3\")>,\n",
       " <selenium.webdriver.remote.webelement.WebElement (session=\"591bf21231275509f746816bd5fc3535\", element=\"d9a1d762-385b-4acb-b643-1538d28fe01e\")>,\n",
       " <selenium.webdriver.remote.webelement.WebElement (session=\"591bf21231275509f746816bd5fc3535\", element=\"19cddc58-64e3-48c4-a824-3d44f738136b\")>,\n",
       " <selenium.webdriver.remote.webelement.WebElement (session=\"591bf21231275509f746816bd5fc3535\", element=\"0d648849-18ea-420b-b1d6-ed64dcfcef99\")>,\n",
       " <selenium.webdriver.remote.webelement.WebElement (session=\"591bf21231275509f746816bd5fc3535\", element=\"affe5a3c-ec77-4887-926b-cbc955c2c6ad\")>,\n",
       " <selenium.webdriver.remote.webelement.WebElement (session=\"591bf21231275509f746816bd5fc3535\", element=\"7506fe4b-1b26-4613-8610-1864e6b6ec26\")>,\n",
       " <selenium.webdriver.remote.webelement.WebElement (session=\"591bf21231275509f746816bd5fc3535\", element=\"979e2fd6-8a60-4078-bf8e-537f3e5db0fb\")>,\n",
       " <selenium.webdriver.remote.webelement.WebElement (session=\"591bf21231275509f746816bd5fc3535\", element=\"d2f32be9-94ff-4cd0-bd89-b4cf97bc23a2\")>,\n",
       " <selenium.webdriver.remote.webelement.WebElement (session=\"591bf21231275509f746816bd5fc3535\", element=\"78c3aa0a-641a-4087-9104-079910846994\")>,\n",
       " <selenium.webdriver.remote.webelement.WebElement (session=\"591bf21231275509f746816bd5fc3535\", element=\"707d9c74-d9a1-4f51-a97b-3ed5a2e9404c\")>,\n",
       " <selenium.webdriver.remote.webelement.WebElement (session=\"591bf21231275509f746816bd5fc3535\", element=\"0cda7cce-b5c7-425c-a924-b369e9783fb0\")>,\n",
       " <selenium.webdriver.remote.webelement.WebElement (session=\"591bf21231275509f746816bd5fc3535\", element=\"ac51e1c5-a034-4ebb-a7cc-213104eee3d6\")>,\n",
       " <selenium.webdriver.remote.webelement.WebElement (session=\"591bf21231275509f746816bd5fc3535\", element=\"0c740d1d-1f5b-4bc5-aaca-77c484aafad6\")>,\n",
       " <selenium.webdriver.remote.webelement.WebElement (session=\"591bf21231275509f746816bd5fc3535\", element=\"430337d0-ce18-40bf-beb8-283bc253e4e2\")>,\n",
       " <selenium.webdriver.remote.webelement.WebElement (session=\"591bf21231275509f746816bd5fc3535\", element=\"b2aa7d4e-29f7-417d-8dd0-3855e18c9db2\")>,\n",
       " <selenium.webdriver.remote.webelement.WebElement (session=\"591bf21231275509f746816bd5fc3535\", element=\"e672e730-0a80-4b5c-a6ea-59526191d87b\")>,\n",
       " <selenium.webdriver.remote.webelement.WebElement (session=\"591bf21231275509f746816bd5fc3535\", element=\"29e5efe7-6921-4bad-bd4d-1b730210a270\")>,\n",
       " <selenium.webdriver.remote.webelement.WebElement (session=\"591bf21231275509f746816bd5fc3535\", element=\"7abad617-1146-4c2a-a3bf-c139c5579fd1\")>,\n",
       " <selenium.webdriver.remote.webelement.WebElement (session=\"591bf21231275509f746816bd5fc3535\", element=\"07fea572-59ab-4a82-81f1-0f405b70f0d8\")>,\n",
       " <selenium.webdriver.remote.webelement.WebElement (session=\"591bf21231275509f746816bd5fc3535\", element=\"436edf6d-7bca-4c7a-a858-b4fd61427537\")>,\n",
       " <selenium.webdriver.remote.webelement.WebElement (session=\"591bf21231275509f746816bd5fc3535\", element=\"7f3ca74c-6964-41f7-81bd-205a36cd30ac\")>,\n",
       " <selenium.webdriver.remote.webelement.WebElement (session=\"591bf21231275509f746816bd5fc3535\", element=\"96d9e656-ad15-4ef4-8a90-852ef9320660\")>,\n",
       " <selenium.webdriver.remote.webelement.WebElement (session=\"591bf21231275509f746816bd5fc3535\", element=\"7f65aa2a-fbdd-4ac3-94bb-83c789f40e9c\")>,\n",
       " <selenium.webdriver.remote.webelement.WebElement (session=\"591bf21231275509f746816bd5fc3535\", element=\"40abac0f-5000-474c-888c-cea85d0c3537\")>,\n",
       " <selenium.webdriver.remote.webelement.WebElement (session=\"591bf21231275509f746816bd5fc3535\", element=\"1bc013a9-2d5b-44aa-b6ca-4d15d305905c\")>,\n",
       " <selenium.webdriver.remote.webelement.WebElement (session=\"591bf21231275509f746816bd5fc3535\", element=\"1c81e2de-e313-4ad6-b901-813ff5ff01f7\")>,\n",
       " <selenium.webdriver.remote.webelement.WebElement (session=\"591bf21231275509f746816bd5fc3535\", element=\"a6610a86-fa94-4457-970a-dff85ce37a82\")>,\n",
       " <selenium.webdriver.remote.webelement.WebElement (session=\"591bf21231275509f746816bd5fc3535\", element=\"c91372a0-ba12-42df-ae55-38c03d5e5b52\")>,\n",
       " <selenium.webdriver.remote.webelement.WebElement (session=\"591bf21231275509f746816bd5fc3535\", element=\"3941a3bf-21ad-463e-9321-7f7b0f3a29e9\")>,\n",
       " <selenium.webdriver.remote.webelement.WebElement (session=\"591bf21231275509f746816bd5fc3535\", element=\"681f03fb-64c9-4762-96ae-baac89e403bc\")>,\n",
       " <selenium.webdriver.remote.webelement.WebElement (session=\"591bf21231275509f746816bd5fc3535\", element=\"415b95a5-f993-4f5e-9a96-ee54653a1e7d\")>,\n",
       " <selenium.webdriver.remote.webelement.WebElement (session=\"591bf21231275509f746816bd5fc3535\", element=\"90415724-7afc-4472-a546-0b9b3131f97b\")>,\n",
       " <selenium.webdriver.remote.webelement.WebElement (session=\"591bf21231275509f746816bd5fc3535\", element=\"4097f43d-8453-4b50-a564-670a543bcdfc\")>,\n",
       " <selenium.webdriver.remote.webelement.WebElement (session=\"591bf21231275509f746816bd5fc3535\", element=\"3015943e-4875-4a86-9860-27256e25a477\")>,\n",
       " <selenium.webdriver.remote.webelement.WebElement (session=\"591bf21231275509f746816bd5fc3535\", element=\"bb924e70-c08e-476d-902b-1300d6bd9d27\")>,\n",
       " <selenium.webdriver.remote.webelement.WebElement (session=\"591bf21231275509f746816bd5fc3535\", element=\"91c66e0c-7117-4e5c-8a92-53b06c4ab1c7\")>,\n",
       " <selenium.webdriver.remote.webelement.WebElement (session=\"591bf21231275509f746816bd5fc3535\", element=\"9d903af6-21fa-4d49-8145-7ae40ac32c9a\")>,\n",
       " <selenium.webdriver.remote.webelement.WebElement (session=\"591bf21231275509f746816bd5fc3535\", element=\"6c0f84dc-1c71-42f6-ac3e-c1327d58a837\")>,\n",
       " <selenium.webdriver.remote.webelement.WebElement (session=\"591bf21231275509f746816bd5fc3535\", element=\"5b1ce866-8848-4cd7-b3d9-46b8782589d1\")>,\n",
       " <selenium.webdriver.remote.webelement.WebElement (session=\"591bf21231275509f746816bd5fc3535\", element=\"8aaec962-82da-4d4a-ae9b-ddae679bb42a\")>,\n",
       " <selenium.webdriver.remote.webelement.WebElement (session=\"591bf21231275509f746816bd5fc3535\", element=\"c0cc4a6e-39b2-4c9f-9514-d8875c56fe59\")>,\n",
       " <selenium.webdriver.remote.webelement.WebElement (session=\"591bf21231275509f746816bd5fc3535\", element=\"fd41bc9d-6da8-4161-a5ef-1835fc4f6f0c\")>,\n",
       " <selenium.webdriver.remote.webelement.WebElement (session=\"591bf21231275509f746816bd5fc3535\", element=\"ceda53e9-5edb-4530-84f3-5d59dea16dea\")>,\n",
       " <selenium.webdriver.remote.webelement.WebElement (session=\"591bf21231275509f746816bd5fc3535\", element=\"6f95bd46-bade-4edc-aafb-46cb405875b7\")>,\n",
       " <selenium.webdriver.remote.webelement.WebElement (session=\"591bf21231275509f746816bd5fc3535\", element=\"76d6d1f1-cf93-4364-9faf-49f0426f57cc\")>,\n",
       " <selenium.webdriver.remote.webelement.WebElement (session=\"591bf21231275509f746816bd5fc3535\", element=\"e043c107-75fb-40c6-b806-8f867d92d308\")>,\n",
       " <selenium.webdriver.remote.webelement.WebElement (session=\"591bf21231275509f746816bd5fc3535\", element=\"fc747cb3-2729-451f-8501-15de774d5263\")>,\n",
       " <selenium.webdriver.remote.webelement.WebElement (session=\"591bf21231275509f746816bd5fc3535\", element=\"4b6bb6fb-2b8a-4b4a-b64f-c54a3048e6ef\")>,\n",
       " <selenium.webdriver.remote.webelement.WebElement (session=\"591bf21231275509f746816bd5fc3535\", element=\"4886a86e-e27d-486d-b4ad-ad99f6284f19\")>,\n",
       " <selenium.webdriver.remote.webelement.WebElement (session=\"591bf21231275509f746816bd5fc3535\", element=\"6a03460f-93ec-41ee-a153-d6d5e9a3b816\")>,\n",
       " <selenium.webdriver.remote.webelement.WebElement (session=\"591bf21231275509f746816bd5fc3535\", element=\"f7926493-35a5-40b9-8de0-8fdd952d9218\")>,\n",
       " <selenium.webdriver.remote.webelement.WebElement (session=\"591bf21231275509f746816bd5fc3535\", element=\"e5142b83-4cd8-4d43-8d7d-59338787f58b\")>,\n",
       " <selenium.webdriver.remote.webelement.WebElement (session=\"591bf21231275509f746816bd5fc3535\", element=\"3eff5951-5caf-45ea-8cd4-aa841914469b\")>,\n",
       " <selenium.webdriver.remote.webelement.WebElement (session=\"591bf21231275509f746816bd5fc3535\", element=\"6fe3f48b-ed3d-410a-9f86-f9828e0c57a0\")>,\n",
       " <selenium.webdriver.remote.webelement.WebElement (session=\"591bf21231275509f746816bd5fc3535\", element=\"83a39a31-b8dc-401e-803d-da0e841b53a1\")>,\n",
       " <selenium.webdriver.remote.webelement.WebElement (session=\"591bf21231275509f746816bd5fc3535\", element=\"430790de-bb73-4439-8045-2804a8989658\")>,\n",
       " <selenium.webdriver.remote.webelement.WebElement (session=\"591bf21231275509f746816bd5fc3535\", element=\"2d080671-7933-4f83-bd30-2ea536baf290\")>,\n",
       " <selenium.webdriver.remote.webelement.WebElement (session=\"591bf21231275509f746816bd5fc3535\", element=\"7ab51ea8-728b-4d4b-a39b-5c657c68fa88\")>,\n",
       " <selenium.webdriver.remote.webelement.WebElement (session=\"591bf21231275509f746816bd5fc3535\", element=\"3cd44af9-d10b-40bb-bde5-692cdf88e9df\")>,\n",
       " <selenium.webdriver.remote.webelement.WebElement (session=\"591bf21231275509f746816bd5fc3535\", element=\"5787ae06-611f-49e3-aa08-ba0363201f06\")>,\n",
       " <selenium.webdriver.remote.webelement.WebElement (session=\"591bf21231275509f746816bd5fc3535\", element=\"b8bbe733-d9c5-434f-82a4-7251f69c61c7\")>,\n",
       " <selenium.webdriver.remote.webelement.WebElement (session=\"591bf21231275509f746816bd5fc3535\", element=\"6e3b38ce-6229-430b-85f0-bd784ea1fc3c\")>,\n",
       " <selenium.webdriver.remote.webelement.WebElement (session=\"591bf21231275509f746816bd5fc3535\", element=\"f3298339-b8c6-4613-8654-63354b2360d5\")>,\n",
       " <selenium.webdriver.remote.webelement.WebElement (session=\"591bf21231275509f746816bd5fc3535\", element=\"fcbc969e-d9cb-4926-92e6-6f74235a2885\")>,\n",
       " <selenium.webdriver.remote.webelement.WebElement (session=\"591bf21231275509f746816bd5fc3535\", element=\"0ba6429e-3575-4828-a371-2ef88822e7d3\")>,\n",
       " <selenium.webdriver.remote.webelement.WebElement (session=\"591bf21231275509f746816bd5fc3535\", element=\"69803384-7cbb-45e8-bba2-952def07f878\")>,\n",
       " <selenium.webdriver.remote.webelement.WebElement (session=\"591bf21231275509f746816bd5fc3535\", element=\"95cb9f17-28df-458d-8272-e66e955a290e\")>,\n",
       " <selenium.webdriver.remote.webelement.WebElement (session=\"591bf21231275509f746816bd5fc3535\", element=\"295f775f-913a-4357-ab49-aceead5d360c\")>,\n",
       " <selenium.webdriver.remote.webelement.WebElement (session=\"591bf21231275509f746816bd5fc3535\", element=\"b2c99bf6-60a4-4bc6-8def-9bf952928e0c\")>,\n",
       " <selenium.webdriver.remote.webelement.WebElement (session=\"591bf21231275509f746816bd5fc3535\", element=\"7295527c-e86d-425c-840a-4049e681500d\")>,\n",
       " <selenium.webdriver.remote.webelement.WebElement (session=\"591bf21231275509f746816bd5fc3535\", element=\"b2dc36b8-3cf7-4d78-8f27-baff038a4e14\")>,\n",
       " <selenium.webdriver.remote.webelement.WebElement (session=\"591bf21231275509f746816bd5fc3535\", element=\"5ce1c54f-5743-415f-b9ba-c07793471e17\")>,\n",
       " <selenium.webdriver.remote.webelement.WebElement (session=\"591bf21231275509f746816bd5fc3535\", element=\"23f74bcc-6336-4eac-b72b-a25cb1c99020\")>,\n",
       " <selenium.webdriver.remote.webelement.WebElement (session=\"591bf21231275509f746816bd5fc3535\", element=\"b586da0c-3a3f-4ebb-8091-fc35c9e02fe0\")>,\n",
       " <selenium.webdriver.remote.webelement.WebElement (session=\"591bf21231275509f746816bd5fc3535\", element=\"6c8fbcac-c2d6-4716-ad76-58b37a1fee7d\")>,\n",
       " <selenium.webdriver.remote.webelement.WebElement (session=\"591bf21231275509f746816bd5fc3535\", element=\"1b66a9d1-fae8-4107-a61f-cda2bc9fdebe\")>,\n",
       " <selenium.webdriver.remote.webelement.WebElement (session=\"591bf21231275509f746816bd5fc3535\", element=\"a689f4d5-9df6-45b1-b1b3-c6ef09ae2255\")>,\n",
       " <selenium.webdriver.remote.webelement.WebElement (session=\"591bf21231275509f746816bd5fc3535\", element=\"f0e3d55b-1d0e-4236-91ec-c3adac28e4ed\")>,\n",
       " <selenium.webdriver.remote.webelement.WebElement (session=\"591bf21231275509f746816bd5fc3535\", element=\"607dcec8-e640-4461-8314-09d16d9fdf09\")>,\n",
       " <selenium.webdriver.remote.webelement.WebElement (session=\"591bf21231275509f746816bd5fc3535\", element=\"4709123d-3a5b-401c-98e1-d54438290b01\")>,\n",
       " <selenium.webdriver.remote.webelement.WebElement (session=\"591bf21231275509f746816bd5fc3535\", element=\"3ba04763-8ea3-4a2d-97e3-d43914a7e6ad\")>,\n",
       " <selenium.webdriver.remote.webelement.WebElement (session=\"591bf21231275509f746816bd5fc3535\", element=\"f85c3ccb-7d4e-47cf-9e59-673bd3f06de7\")>,\n",
       " <selenium.webdriver.remote.webelement.WebElement (session=\"591bf21231275509f746816bd5fc3535\", element=\"8e483d6f-f559-43db-beb5-4d6a8fa6c13a\")>,\n",
       " <selenium.webdriver.remote.webelement.WebElement (session=\"591bf21231275509f746816bd5fc3535\", element=\"44f0fb76-18ec-4d19-9d63-85670f57cdd9\")>,\n",
       " <selenium.webdriver.remote.webelement.WebElement (session=\"591bf21231275509f746816bd5fc3535\", element=\"f2331688-b846-4181-ad89-ea08ee9a1fdc\")>,\n",
       " <selenium.webdriver.remote.webelement.WebElement (session=\"591bf21231275509f746816bd5fc3535\", element=\"eae89750-aafd-428d-8978-1d49cd9ebb10\")>,\n",
       " <selenium.webdriver.remote.webelement.WebElement (session=\"591bf21231275509f746816bd5fc3535\", element=\"e9ae2702-387f-49dd-941f-5e5241e0c7e3\")>,\n",
       " <selenium.webdriver.remote.webelement.WebElement (session=\"591bf21231275509f746816bd5fc3535\", element=\"5f3e9acd-6650-49ec-85b9-2635c5447c61\")>,\n",
       " <selenium.webdriver.remote.webelement.WebElement (session=\"591bf21231275509f746816bd5fc3535\", element=\"152edd33-f15f-496f-9d1c-0255e1ff593e\")>,\n",
       " <selenium.webdriver.remote.webelement.WebElement (session=\"591bf21231275509f746816bd5fc3535\", element=\"0cda875f-99df-4590-8ac5-5ab4d291b856\")>,\n",
       " <selenium.webdriver.remote.webelement.WebElement (session=\"591bf21231275509f746816bd5fc3535\", element=\"336612a2-c3ff-4eac-9e9b-c36c42a1de28\")>,\n",
       " <selenium.webdriver.remote.webelement.WebElement (session=\"591bf21231275509f746816bd5fc3535\", element=\"9195ed09-3b44-49e8-a34b-9254bf7e6278\")>,\n",
       " <selenium.webdriver.remote.webelement.WebElement (session=\"591bf21231275509f746816bd5fc3535\", element=\"6df11d23-566a-45c9-8890-bb8f097b6329\")>,\n",
       " <selenium.webdriver.remote.webelement.WebElement (session=\"591bf21231275509f746816bd5fc3535\", element=\"f64187fb-7034-4dc8-94cb-82aa30d3974d\")>,\n",
       " <selenium.webdriver.remote.webelement.WebElement (session=\"591bf21231275509f746816bd5fc3535\", element=\"563c84f4-dd3b-4bbe-aea0-43e65001f036\")>,\n",
       " <selenium.webdriver.remote.webelement.WebElement (session=\"591bf21231275509f746816bd5fc3535\", element=\"939eddc5-f0d1-4d6f-8714-169e67668765\")>,\n",
       " <selenium.webdriver.remote.webelement.WebElement (session=\"591bf21231275509f746816bd5fc3535\", element=\"8cdcc32c-f0be-4b55-a536-e377d985c872\")>,\n",
       " <selenium.webdriver.remote.webelement.WebElement (session=\"591bf21231275509f746816bd5fc3535\", element=\"c3fe900f-a707-425c-a0f0-7151e747582a\")>,\n",
       " <selenium.webdriver.remote.webelement.WebElement (session=\"591bf21231275509f746816bd5fc3535\", element=\"a44e1e30-ca9b-4af1-8d43-28a0e4a20c03\")>,\n",
       " <selenium.webdriver.remote.webelement.WebElement (session=\"591bf21231275509f746816bd5fc3535\", element=\"a6a7fefd-e2de-4865-b627-a8363a743857\")>,\n",
       " <selenium.webdriver.remote.webelement.WebElement (session=\"591bf21231275509f746816bd5fc3535\", element=\"0f3bda58-720c-4b7f-941c-8212da648df3\")>,\n",
       " <selenium.webdriver.remote.webelement.WebElement (session=\"591bf21231275509f746816bd5fc3535\", element=\"a0c24037-c4e6-4e84-8bca-158287d2e53d\")>,\n",
       " <selenium.webdriver.remote.webelement.WebElement (session=\"591bf21231275509f746816bd5fc3535\", element=\"91c7db61-e1fd-45c5-ae2f-890589614662\")>,\n",
       " <selenium.webdriver.remote.webelement.WebElement (session=\"591bf21231275509f746816bd5fc3535\", element=\"be007a65-3822-4a6b-8ccf-cbf7a88904ac\")>,\n",
       " <selenium.webdriver.remote.webelement.WebElement (session=\"591bf21231275509f746816bd5fc3535\", element=\"76140b8f-9db9-4229-be35-77ed2749fe96\")>,\n",
       " <selenium.webdriver.remote.webelement.WebElement (session=\"591bf21231275509f746816bd5fc3535\", element=\"e08a0620-8707-49a1-9cb8-b2e46fa84309\")>,\n",
       " <selenium.webdriver.remote.webelement.WebElement (session=\"591bf21231275509f746816bd5fc3535\", element=\"fe3dd492-fb05-4091-a420-848f9cc849b4\")>,\n",
       " <selenium.webdriver.remote.webelement.WebElement (session=\"591bf21231275509f746816bd5fc3535\", element=\"de67cd8e-0192-4a2c-b3e9-005b9943a5d4\")>,\n",
       " <selenium.webdriver.remote.webelement.WebElement (session=\"591bf21231275509f746816bd5fc3535\", element=\"38d8c61b-6f9b-4eb9-be29-0375ac275e00\")>,\n",
       " <selenium.webdriver.remote.webelement.WebElement (session=\"591bf21231275509f746816bd5fc3535\", element=\"4db282cc-5509-4b76-893a-046639cf0b9e\")>,\n",
       " <selenium.webdriver.remote.webelement.WebElement (session=\"591bf21231275509f746816bd5fc3535\", element=\"48baddc5-12aa-48c2-a082-9e5b442959d9\")>,\n",
       " <selenium.webdriver.remote.webelement.WebElement (session=\"591bf21231275509f746816bd5fc3535\", element=\"dce91003-2afe-425c-b8be-c5d685dd6c64\")>,\n",
       " <selenium.webdriver.remote.webelement.WebElement (session=\"591bf21231275509f746816bd5fc3535\", element=\"cec5c3a7-4099-4adc-bcb1-59c97c86027d\")>,\n",
       " <selenium.webdriver.remote.webelement.WebElement (session=\"591bf21231275509f746816bd5fc3535\", element=\"49d22d71-a895-47d9-982d-bd25c40463fa\")>,\n",
       " <selenium.webdriver.remote.webelement.WebElement (session=\"591bf21231275509f746816bd5fc3535\", element=\"9ed7b326-c8e1-48ac-a550-56a57977202c\")>,\n",
       " <selenium.webdriver.remote.webelement.WebElement (session=\"591bf21231275509f746816bd5fc3535\", element=\"d80c6f6c-3fb6-4c55-b138-1e38b19d3e85\")>,\n",
       " <selenium.webdriver.remote.webelement.WebElement (session=\"591bf21231275509f746816bd5fc3535\", element=\"67ea9ce8-28fa-4d26-b788-450e7821be34\")>,\n",
       " <selenium.webdriver.remote.webelement.WebElement (session=\"591bf21231275509f746816bd5fc3535\", element=\"8cac5d34-881f-4a4e-9619-ee6632c73f91\")>,\n",
       " <selenium.webdriver.remote.webelement.WebElement (session=\"591bf21231275509f746816bd5fc3535\", element=\"c334d9b7-d1ae-4e16-ae44-4c2865265ca2\")>,\n",
       " <selenium.webdriver.remote.webelement.WebElement (session=\"591bf21231275509f746816bd5fc3535\", element=\"ae7a2df2-13e3-4f6c-b1ce-5ada2f4d4b14\")>,\n",
       " <selenium.webdriver.remote.webelement.WebElement (session=\"591bf21231275509f746816bd5fc3535\", element=\"476991bc-148f-4415-ab73-43150ae3492c\")>,\n",
       " <selenium.webdriver.remote.webelement.WebElement (session=\"591bf21231275509f746816bd5fc3535\", element=\"124bb95e-6230-452b-95f7-237dc3720a89\")>,\n",
       " <selenium.webdriver.remote.webelement.WebElement (session=\"591bf21231275509f746816bd5fc3535\", element=\"5d93849e-b86e-4b5c-96b1-83d9d3234e13\")>,\n",
       " <selenium.webdriver.remote.webelement.WebElement (session=\"591bf21231275509f746816bd5fc3535\", element=\"b54577f7-cf44-418d-a35f-316423187173\")>,\n",
       " <selenium.webdriver.remote.webelement.WebElement (session=\"591bf21231275509f746816bd5fc3535\", element=\"2e15012b-89cf-4c65-9165-62c417a79867\")>,\n",
       " <selenium.webdriver.remote.webelement.WebElement (session=\"591bf21231275509f746816bd5fc3535\", element=\"67a10651-f673-4a6f-88e6-0fd8f6ca5b28\")>,\n",
       " <selenium.webdriver.remote.webelement.WebElement (session=\"591bf21231275509f746816bd5fc3535\", element=\"2d0cf3c8-85c6-4d0f-b8d8-8f25d38b26a4\")>,\n",
       " <selenium.webdriver.remote.webelement.WebElement (session=\"591bf21231275509f746816bd5fc3535\", element=\"213e47c3-e9e6-46ad-b699-a56e44952ce4\")>,\n",
       " <selenium.webdriver.remote.webelement.WebElement (session=\"591bf21231275509f746816bd5fc3535\", element=\"294647b8-5c50-4712-98ec-0ed326833cab\")>,\n",
       " <selenium.webdriver.remote.webelement.WebElement (session=\"591bf21231275509f746816bd5fc3535\", element=\"171c1d91-975a-4198-85cf-f887364c58ff\")>,\n",
       " <selenium.webdriver.remote.webelement.WebElement (session=\"591bf21231275509f746816bd5fc3535\", element=\"29e32ae0-445d-4e08-b1b8-fe9b11e487d8\")>]"
      ]
     },
     "execution_count": 266,
     "metadata": {},
     "output_type": "execute_result"
    }
   ],
   "source": [
    "ratings = amazon.find_elements_by_xpath('//div[@class=\"a-row a-size-small\"]//span')\n",
    "ratings"
   ]
  },
  {
   "cell_type": "code",
   "execution_count": 421,
   "id": "f76d63f2",
   "metadata": {},
   "outputs": [
    {
     "data": {
      "text/plain": [
       "['4.6 out of 5 stars ',\n",
       " ' 4.4 out of 5 stars ',\n",
       " ' 4.4 out of 5 stars ',\n",
       " ' 4.3 out of 5 stars ',\n",
       " ' 4.0 out of 5 stars ',\n",
       " ' 4.4 out of 5 stars ',\n",
       " ' 5.0 out of 5 stars ',\n",
       " ' 4.1 out of 5 stars ',\n",
       " ' 5.0 out of 5 stars ',\n",
       " ' 4.2 out of 5 stars ']"
      ]
     },
     "execution_count": 421,
     "metadata": {},
     "output_type": "execute_result"
    }
   ],
   "source": [
    "Productrating = []\n",
    "\n",
    "for rating in ratings:\n",
    "    Productrating.append(rating.get_attribute('aria-label'))\n",
    "Productrating\n",
    "\n",
    "Productrating1 = ' '.join(map(str, Productrating)).split('None')\n",
    "Productrating1\n",
    "\n",
    "finalrating1 = Productrating1[0]\n",
    "finalrating2 = Productrating1[3]\n",
    "finalrating3 = Productrating1[6]\n",
    "finalrating4 = Productrating1[9]\n",
    "finalrating5 = Productrating1[12]\n",
    "finalrating6 = Productrating1[15]\n",
    "finalrating7 = Productrating1[18]\n",
    "finalrating8 = Productrating1[21]\n",
    "finalrating9 = Productrating1[24]\n",
    "finalrating10 = Productrating1[27]\n",
    "finalrating11 = Productrating1[30]\n",
    "finalrating11\n",
    "\n",
    "\n",
    "frating = list([finalrating1]+[finalrating2]+[finalrating3]+[finalrating4]+[finalrating5]+[finalrating7]+[finalrating8]+[finalrating9]+[finalrating10]+[finalrating11])\n",
    "frating"
   ]
  },
  {
   "cell_type": "code",
   "execution_count": 445,
   "id": "6bf8a668",
   "metadata": {},
   "outputs": [
    {
     "data": {
      "text/plain": [
       "[<selenium.webdriver.remote.webelement.WebElement (session=\"591bf21231275509f746816bd5fc3535\", element=\"c805e334-fc7d-4ed7-baca-cba0f817be94\")>,\n",
       " <selenium.webdriver.remote.webelement.WebElement (session=\"591bf21231275509f746816bd5fc3535\", element=\"28f4c2e4-9e77-4f6e-a8a1-89c270112429\")>,\n",
       " <selenium.webdriver.remote.webelement.WebElement (session=\"591bf21231275509f746816bd5fc3535\", element=\"bab65e08-8f51-40e9-a5ce-09f5cd542545\")>,\n",
       " <selenium.webdriver.remote.webelement.WebElement (session=\"591bf21231275509f746816bd5fc3535\", element=\"4a37cb18-f937-4750-b6aa-2d926b19d75b\")>,\n",
       " <selenium.webdriver.remote.webelement.WebElement (session=\"591bf21231275509f746816bd5fc3535\", element=\"3c056d66-f9ae-426f-bb9a-cd29a1a00493\")>,\n",
       " <selenium.webdriver.remote.webelement.WebElement (session=\"591bf21231275509f746816bd5fc3535\", element=\"aa0c70ee-340e-4a6b-ad91-a126a5372dd3\")>,\n",
       " <selenium.webdriver.remote.webelement.WebElement (session=\"591bf21231275509f746816bd5fc3535\", element=\"1f6c21d3-471d-43be-bed1-2fce2e55ca76\")>,\n",
       " <selenium.webdriver.remote.webelement.WebElement (session=\"591bf21231275509f746816bd5fc3535\", element=\"fc57179c-3438-40cf-ab51-e2fc02735e0f\")>,\n",
       " <selenium.webdriver.remote.webelement.WebElement (session=\"591bf21231275509f746816bd5fc3535\", element=\"6c00f335-ded7-494d-aefa-41dfbddba73d\")>,\n",
       " <selenium.webdriver.remote.webelement.WebElement (session=\"591bf21231275509f746816bd5fc3535\", element=\"19e3d38c-3a9d-4def-b7a7-9a405be92972\")>,\n",
       " <selenium.webdriver.remote.webelement.WebElement (session=\"591bf21231275509f746816bd5fc3535\", element=\"cbca146b-214d-49a5-9a7a-77ad71033746\")>,\n",
       " <selenium.webdriver.remote.webelement.WebElement (session=\"591bf21231275509f746816bd5fc3535\", element=\"1ca4d8c2-4901-4518-b495-660a75fdb93d\")>,\n",
       " <selenium.webdriver.remote.webelement.WebElement (session=\"591bf21231275509f746816bd5fc3535\", element=\"312f0c40-38a6-40d6-9dcc-97e9342159e0\")>,\n",
       " <selenium.webdriver.remote.webelement.WebElement (session=\"591bf21231275509f746816bd5fc3535\", element=\"45e38fe8-96a3-43a7-9d6e-3181157180f4\")>,\n",
       " <selenium.webdriver.remote.webelement.WebElement (session=\"591bf21231275509f746816bd5fc3535\", element=\"f8c91024-c81b-4fd4-be51-67d09944e2e5\")>,\n",
       " <selenium.webdriver.remote.webelement.WebElement (session=\"591bf21231275509f746816bd5fc3535\", element=\"ba098f7a-b1a7-45b4-821f-9165ec896511\")>,\n",
       " <selenium.webdriver.remote.webelement.WebElement (session=\"591bf21231275509f746816bd5fc3535\", element=\"2b081927-5679-4d26-9a30-2a64ba2f52de\")>,\n",
       " <selenium.webdriver.remote.webelement.WebElement (session=\"591bf21231275509f746816bd5fc3535\", element=\"5c5227ff-c774-412c-ac1e-72c5e90c58e1\")>,\n",
       " <selenium.webdriver.remote.webelement.WebElement (session=\"591bf21231275509f746816bd5fc3535\", element=\"d7ecc5df-309a-4133-b570-24e7f572835b\")>,\n",
       " <selenium.webdriver.remote.webelement.WebElement (session=\"591bf21231275509f746816bd5fc3535\", element=\"8c22c60c-f8f1-4da7-9c71-d3dcdc9f0dff\")>,\n",
       " <selenium.webdriver.remote.webelement.WebElement (session=\"591bf21231275509f746816bd5fc3535\", element=\"ef9ea4b2-44ff-4a30-af31-301fa308dacf\")>,\n",
       " <selenium.webdriver.remote.webelement.WebElement (session=\"591bf21231275509f746816bd5fc3535\", element=\"90ac88d9-2dc2-4117-b3e3-b6fef14e0483\")>,\n",
       " <selenium.webdriver.remote.webelement.WebElement (session=\"591bf21231275509f746816bd5fc3535\", element=\"aaf3bf0c-a367-4cf3-b966-df4523ee73c3\")>,\n",
       " <selenium.webdriver.remote.webelement.WebElement (session=\"591bf21231275509f746816bd5fc3535\", element=\"f668d963-4f02-47fa-9ffb-345e20424b80\")>,\n",
       " <selenium.webdriver.remote.webelement.WebElement (session=\"591bf21231275509f746816bd5fc3535\", element=\"cc54a51e-e254-45c7-92b7-7f1f76766b79\")>,\n",
       " <selenium.webdriver.remote.webelement.WebElement (session=\"591bf21231275509f746816bd5fc3535\", element=\"8cea4197-2611-49a7-9ec9-524b1a5620f1\")>,\n",
       " <selenium.webdriver.remote.webelement.WebElement (session=\"591bf21231275509f746816bd5fc3535\", element=\"0ea82ae4-86c6-4e57-9401-b0e8581bc6d3\")>,\n",
       " <selenium.webdriver.remote.webelement.WebElement (session=\"591bf21231275509f746816bd5fc3535\", element=\"8a7579ef-a971-42e9-9bfa-64313245abeb\")>,\n",
       " <selenium.webdriver.remote.webelement.WebElement (session=\"591bf21231275509f746816bd5fc3535\", element=\"69368814-c114-40a7-aa02-6029526a0cf8\")>,\n",
       " <selenium.webdriver.remote.webelement.WebElement (session=\"591bf21231275509f746816bd5fc3535\", element=\"af615e72-b654-4690-88ff-4f67a2745ef8\")>]"
      ]
     },
     "execution_count": 445,
     "metadata": {},
     "output_type": "execute_result"
    }
   ],
   "source": [
    "price = amazon.find_elements_by_xpath('//span[@class=\"a-price-whole\"]')\n",
    "price"
   ]
  },
  {
   "cell_type": "code",
   "execution_count": 513,
   "id": "2ee2f091",
   "metadata": {},
   "outputs": [
    {
     "data": {
      "text/plain": [
       "['94,999',\n",
       " '67,990',\n",
       " '67,990',\n",
       " '62,990',\n",
       " '49,990',\n",
       " '49,990',\n",
       " '49,990',\n",
       " '58,990',\n",
       " '61,990',\n",
       " '49,990']"
      ]
     },
     "execution_count": 513,
     "metadata": {},
     "output_type": "execute_result"
    }
   ],
   "source": [
    "Productprice = []\n",
    "\n",
    "for pri in price[:10]:\n",
    "    Productprice.append(pri.text)\n",
    "Productprice"
   ]
  },
  {
   "cell_type": "code",
   "execution_count": 498,
   "id": "235872c4",
   "metadata": {},
   "outputs": [
    {
     "data": {
      "text/plain": [
       "[<selenium.webdriver.remote.webelement.WebElement (session=\"591bf21231275509f746816bd5fc3535\", element=\"8b50e94f-5cef-4769-8481-409a0bf3efb1\")>,\n",
       " <selenium.webdriver.remote.webelement.WebElement (session=\"591bf21231275509f746816bd5fc3535\", element=\"0d648849-18ea-420b-b1d6-ed64dcfcef99\")>,\n",
       " <selenium.webdriver.remote.webelement.WebElement (session=\"591bf21231275509f746816bd5fc3535\", element=\"78c3aa0a-641a-4087-9104-079910846994\")>,\n",
       " <selenium.webdriver.remote.webelement.WebElement (session=\"591bf21231275509f746816bd5fc3535\", element=\"430337d0-ce18-40bf-beb8-283bc253e4e2\")>,\n",
       " <selenium.webdriver.remote.webelement.WebElement (session=\"591bf21231275509f746816bd5fc3535\", element=\"07fea572-59ab-4a82-81f1-0f405b70f0d8\")>,\n",
       " <selenium.webdriver.remote.webelement.WebElement (session=\"591bf21231275509f746816bd5fc3535\", element=\"40abac0f-5000-474c-888c-cea85d0c3537\")>,\n",
       " <selenium.webdriver.remote.webelement.WebElement (session=\"591bf21231275509f746816bd5fc3535\", element=\"3941a3bf-21ad-463e-9321-7f7b0f3a29e9\")>,\n",
       " <selenium.webdriver.remote.webelement.WebElement (session=\"591bf21231275509f746816bd5fc3535\", element=\"3015943e-4875-4a86-9860-27256e25a477\")>,\n",
       " <selenium.webdriver.remote.webelement.WebElement (session=\"591bf21231275509f746816bd5fc3535\", element=\"5b1ce866-8848-4cd7-b3d9-46b8782589d1\")>,\n",
       " <selenium.webdriver.remote.webelement.WebElement (session=\"591bf21231275509f746816bd5fc3535\", element=\"6f95bd46-bade-4edc-aafb-46cb405875b7\")>,\n",
       " <selenium.webdriver.remote.webelement.WebElement (session=\"591bf21231275509f746816bd5fc3535\", element=\"4886a86e-e27d-486d-b4ad-ad99f6284f19\")>,\n",
       " <selenium.webdriver.remote.webelement.WebElement (session=\"591bf21231275509f746816bd5fc3535\", element=\"6fe3f48b-ed3d-410a-9f86-f9828e0c57a0\")>,\n",
       " <selenium.webdriver.remote.webelement.WebElement (session=\"591bf21231275509f746816bd5fc3535\", element=\"3cd44af9-d10b-40bb-bde5-692cdf88e9df\")>,\n",
       " <selenium.webdriver.remote.webelement.WebElement (session=\"591bf21231275509f746816bd5fc3535\", element=\"fcbc969e-d9cb-4926-92e6-6f74235a2885\")>,\n",
       " <selenium.webdriver.remote.webelement.WebElement (session=\"591bf21231275509f746816bd5fc3535\", element=\"b2c99bf6-60a4-4bc6-8def-9bf952928e0c\")>,\n",
       " <selenium.webdriver.remote.webelement.WebElement (session=\"591bf21231275509f746816bd5fc3535\", element=\"b586da0c-3a3f-4ebb-8091-fc35c9e02fe0\")>,\n",
       " <selenium.webdriver.remote.webelement.WebElement (session=\"591bf21231275509f746816bd5fc3535\", element=\"607dcec8-e640-4461-8314-09d16d9fdf09\")>,\n",
       " <selenium.webdriver.remote.webelement.WebElement (session=\"591bf21231275509f746816bd5fc3535\", element=\"44f0fb76-18ec-4d19-9d63-85670f57cdd9\")>,\n",
       " <selenium.webdriver.remote.webelement.WebElement (session=\"591bf21231275509f746816bd5fc3535\", element=\"152edd33-f15f-496f-9d1c-0255e1ff593e\")>,\n",
       " <selenium.webdriver.remote.webelement.WebElement (session=\"591bf21231275509f746816bd5fc3535\", element=\"f64187fb-7034-4dc8-94cb-82aa30d3974d\")>,\n",
       " <selenium.webdriver.remote.webelement.WebElement (session=\"591bf21231275509f746816bd5fc3535\", element=\"a44e1e30-ca9b-4af1-8d43-28a0e4a20c03\")>,\n",
       " <selenium.webdriver.remote.webelement.WebElement (session=\"591bf21231275509f746816bd5fc3535\", element=\"be007a65-3822-4a6b-8ccf-cbf7a88904ac\")>,\n",
       " <selenium.webdriver.remote.webelement.WebElement (session=\"591bf21231275509f746816bd5fc3535\", element=\"38d8c61b-6f9b-4eb9-be29-0375ac275e00\")>,\n",
       " <selenium.webdriver.remote.webelement.WebElement (session=\"591bf21231275509f746816bd5fc3535\", element=\"49d22d71-a895-47d9-982d-bd25c40463fa\")>,\n",
       " <selenium.webdriver.remote.webelement.WebElement (session=\"591bf21231275509f746816bd5fc3535\", element=\"c334d9b7-d1ae-4e16-ae44-4c2865265ca2\")>,\n",
       " <selenium.webdriver.remote.webelement.WebElement (session=\"591bf21231275509f746816bd5fc3535\", element=\"b54577f7-cf44-418d-a35f-316423187173\")>,\n",
       " <selenium.webdriver.remote.webelement.WebElement (session=\"591bf21231275509f746816bd5fc3535\", element=\"294647b8-5c50-4712-98ec-0ed326833cab\")>,\n",
       " <selenium.webdriver.remote.webelement.WebElement (session=\"591bf21231275509f746816bd5fc3535\", element=\"6949ebd1-a3a6-4285-b069-5b15b60764b6\")>,\n",
       " <selenium.webdriver.remote.webelement.WebElement (session=\"591bf21231275509f746816bd5fc3535\", element=\"9c757191-a640-4fd7-b4e4-2b0bb16bb683\")>,\n",
       " <selenium.webdriver.remote.webelement.WebElement (session=\"591bf21231275509f746816bd5fc3535\", element=\"e27f9a6b-971d-4f5f-a377-928ff695d6c2\")>,\n",
       " <selenium.webdriver.remote.webelement.WebElement (session=\"591bf21231275509f746816bd5fc3535\", element=\"902020c0-4e19-4530-a9f3-dd033852bf74\")>,\n",
       " <selenium.webdriver.remote.webelement.WebElement (session=\"591bf21231275509f746816bd5fc3535\", element=\"ac25a046-0614-4782-adee-27b05a8bd956\")>,\n",
       " <selenium.webdriver.remote.webelement.WebElement (session=\"591bf21231275509f746816bd5fc3535\", element=\"24f5ffd4-8ec6-4471-b023-c94738f17fa3\")>,\n",
       " <selenium.webdriver.remote.webelement.WebElement (session=\"591bf21231275509f746816bd5fc3535\", element=\"9d62d2fb-0123-4f92-8d7b-cbc830d1a71d\")>,\n",
       " <selenium.webdriver.remote.webelement.WebElement (session=\"591bf21231275509f746816bd5fc3535\", element=\"f1cd4eb6-9dab-47d9-bd36-ca6146a43fce\")>,\n",
       " <selenium.webdriver.remote.webelement.WebElement (session=\"591bf21231275509f746816bd5fc3535\", element=\"57080680-4de4-49f5-936a-c69c6ee1c52e\")>,\n",
       " <selenium.webdriver.remote.webelement.WebElement (session=\"591bf21231275509f746816bd5fc3535\", element=\"3c25f93f-84a0-4e8a-bbc2-2d62db718527\")>,\n",
       " <selenium.webdriver.remote.webelement.WebElement (session=\"591bf21231275509f746816bd5fc3535\", element=\"4bafbfa8-b546-403f-aa01-ce5b48ac4aa0\")>,\n",
       " <selenium.webdriver.remote.webelement.WebElement (session=\"591bf21231275509f746816bd5fc3535\", element=\"c7e4ea40-38f5-44bd-a24f-81e22b5dae82\")>,\n",
       " <selenium.webdriver.remote.webelement.WebElement (session=\"591bf21231275509f746816bd5fc3535\", element=\"28da042a-0f40-467a-9eb2-aa73b4fd760c\")>,\n",
       " <selenium.webdriver.remote.webelement.WebElement (session=\"591bf21231275509f746816bd5fc3535\", element=\"ba36872b-3497-4265-ad9c-2268dd3716b1\")>,\n",
       " <selenium.webdriver.remote.webelement.WebElement (session=\"591bf21231275509f746816bd5fc3535\", element=\"4f3a646a-fb79-4bfa-94c7-c43539f34e3a\")>,\n",
       " <selenium.webdriver.remote.webelement.WebElement (session=\"591bf21231275509f746816bd5fc3535\", element=\"616def5a-be20-471f-9ea8-eab78772cb75\")>,\n",
       " <selenium.webdriver.remote.webelement.WebElement (session=\"591bf21231275509f746816bd5fc3535\", element=\"48995654-0fc7-444e-ba1a-a7cea8d7be99\")>]"
      ]
     },
     "execution_count": 498,
     "metadata": {},
     "output_type": "execute_result"
    }
   ],
   "source": [
    "ratings123 = amazon.find_elements_by_class_name(\"a-icon-alt\")\n",
    "ratings123"
   ]
  },
  {
   "cell_type": "code",
   "execution_count": 511,
   "id": "769e1825",
   "metadata": {},
   "outputs": [
    {
     "data": {
      "text/plain": [
       "['4.8 out of 5 stars',\n",
       " '4.4 out of 5 stars',\n",
       " '4.4 out of 5 stars',\n",
       " '4.3 out of 5 stars',\n",
       " '4.0 out of 5 stars',\n",
       " '4.2 out of 5 stars',\n",
       " '4.4 out of 5 stars',\n",
       " '5.0 out of 5 stars',\n",
       " '4.1 out of 5 stars',\n",
       " '5.0 out of 5 stars']"
      ]
     },
     "execution_count": 511,
     "metadata": {},
     "output_type": "execute_result"
    }
   ],
   "source": [
    "updatingrating = []\n",
    "\n",
    "for rev12 in ratings123[:10]:\n",
    "    updatingrating.append(rev12.get_attribute('textContent'))\n",
    "updatingrating"
   ]
  },
  {
   "cell_type": "code",
   "execution_count": 515,
   "id": "1fa9430c",
   "metadata": {},
   "outputs": [
    {
     "data": {
      "text/html": [
       "<div>\n",
       "<style scoped>\n",
       "    .dataframe tbody tr th:only-of-type {\n",
       "        vertical-align: middle;\n",
       "    }\n",
       "\n",
       "    .dataframe tbody tr th {\n",
       "        vertical-align: top;\n",
       "    }\n",
       "\n",
       "    .dataframe thead th {\n",
       "        text-align: right;\n",
       "    }\n",
       "</style>\n",
       "<table border=\"1\" class=\"dataframe\">\n",
       "  <thead>\n",
       "    <tr style=\"text-align: right;\">\n",
       "      <th></th>\n",
       "      <th>Name</th>\n",
       "      <th>Price</th>\n",
       "      <th>Rating</th>\n",
       "    </tr>\n",
       "  </thead>\n",
       "  <tbody>\n",
       "    <tr>\n",
       "      <th>0</th>\n",
       "      <td>LG Gram 17-inches Ultra-Light Intel Evo 11th G...</td>\n",
       "      <td>94,999</td>\n",
       "      <td>4.8 out of 5 stars</td>\n",
       "    </tr>\n",
       "    <tr>\n",
       "      <th>1</th>\n",
       "      <td>HP Pavilion 14, Intel 11th Gen i5 16GB RAM/512...</td>\n",
       "      <td>67,990</td>\n",
       "      <td>4.4 out of 5 stars</td>\n",
       "    </tr>\n",
       "    <tr>\n",
       "      <th>2</th>\n",
       "      <td>HP Pavilion 14, Intel 11th Gen i5 16GB RAM/512...</td>\n",
       "      <td>67,990</td>\n",
       "      <td>4.4 out of 5 stars</td>\n",
       "    </tr>\n",
       "    <tr>\n",
       "      <th>3</th>\n",
       "      <td>Lenovo IdeaPad Slim 5 11th Gen Intel Core i5 1...</td>\n",
       "      <td>62,990</td>\n",
       "      <td>4.3 out of 5 stars</td>\n",
       "    </tr>\n",
       "    <tr>\n",
       "      <th>4</th>\n",
       "      <td>Lenovo IdeaPad Gaming 3 10th Gen Intel i5 15.6...</td>\n",
       "      <td>49,990</td>\n",
       "      <td>4.0 out of 5 stars</td>\n",
       "    </tr>\n",
       "    <tr>\n",
       "      <th>5</th>\n",
       "      <td>Mi Notebook Horizon Edition 14 Intel Core i7-1...</td>\n",
       "      <td>49,990</td>\n",
       "      <td>4.2 out of 5 stars</td>\n",
       "    </tr>\n",
       "    <tr>\n",
       "      <th>6</th>\n",
       "      <td>ASUS VivoBook 15 (2021) Intel Core i5-1035G1 1...</td>\n",
       "      <td>49,990</td>\n",
       "      <td>4.4 out of 5 stars</td>\n",
       "    </tr>\n",
       "    <tr>\n",
       "      <th>7</th>\n",
       "      <td>ASUS TUF Gaming F15, 15.6-inch (39.62 cms) FHD...</td>\n",
       "      <td>58,990</td>\n",
       "      <td>5.0 out of 5 stars</td>\n",
       "    </tr>\n",
       "    <tr>\n",
       "      <th>8</th>\n",
       "      <td>HP Pavilion 14, 11th Gen Intel Core i5 8GB RAM...</td>\n",
       "      <td>61,990</td>\n",
       "      <td>4.1 out of 5 stars</td>\n",
       "    </tr>\n",
       "    <tr>\n",
       "      <th>9</th>\n",
       "      <td>ASUS VivoBook 14 (2021), Intel Core i5-1135G7 ...</td>\n",
       "      <td>49,990</td>\n",
       "      <td>5.0 out of 5 stars</td>\n",
       "    </tr>\n",
       "  </tbody>\n",
       "</table>\n",
       "</div>"
      ],
      "text/plain": [
       "                                                Name   Price  \\\n",
       "0  LG Gram 17-inches Ultra-Light Intel Evo 11th G...  94,999   \n",
       "1  HP Pavilion 14, Intel 11th Gen i5 16GB RAM/512...  67,990   \n",
       "2  HP Pavilion 14, Intel 11th Gen i5 16GB RAM/512...  67,990   \n",
       "3  Lenovo IdeaPad Slim 5 11th Gen Intel Core i5 1...  62,990   \n",
       "4  Lenovo IdeaPad Gaming 3 10th Gen Intel i5 15.6...  49,990   \n",
       "5  Mi Notebook Horizon Edition 14 Intel Core i7-1...  49,990   \n",
       "6  ASUS VivoBook 15 (2021) Intel Core i5-1035G1 1...  49,990   \n",
       "7  ASUS TUF Gaming F15, 15.6-inch (39.62 cms) FHD...  58,990   \n",
       "8  HP Pavilion 14, 11th Gen Intel Core i5 8GB RAM...  61,990   \n",
       "9  ASUS VivoBook 14 (2021), Intel Core i5-1135G7 ...  49,990   \n",
       "\n",
       "               Rating  \n",
       "0  4.8 out of 5 stars  \n",
       "1  4.4 out of 5 stars  \n",
       "2  4.4 out of 5 stars  \n",
       "3  4.3 out of 5 stars  \n",
       "4  4.0 out of 5 stars  \n",
       "5  4.2 out of 5 stars  \n",
       "6  4.4 out of 5 stars  \n",
       "7  5.0 out of 5 stars  \n",
       "8  4.1 out of 5 stars  \n",
       "9  5.0 out of 5 stars  "
      ]
     },
     "execution_count": 515,
     "metadata": {},
     "output_type": "execute_result"
    }
   ],
   "source": [
    "finaldata = pd.DataFrame()\n",
    "finaldata ['Name'] = Productname\n",
    "finaldata ['Price'] = Productprice\n",
    "finaldata ['Rating'] = updatingrating\n",
    "finaldata.head(11)"
   ]
  },
  {
   "cell_type": "code",
   "execution_count": null,
   "id": "e41fe44c",
   "metadata": {},
   "outputs": [],
   "source": []
  }
 ],
 "metadata": {
  "kernelspec": {
   "display_name": "Python 3",
   "language": "python",
   "name": "python3"
  },
  "language_info": {
   "codemirror_mode": {
    "name": "ipython",
    "version": 3
   },
   "file_extension": ".py",
   "mimetype": "text/x-python",
   "name": "python",
   "nbconvert_exporter": "python",
   "pygments_lexer": "ipython3",
   "version": "3.8.8"
  }
 },
 "nbformat": 4,
 "nbformat_minor": 5
}
