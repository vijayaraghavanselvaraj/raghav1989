{
 "cells": [
  {
   "cell_type": "code",
   "execution_count": 94,
   "id": "5b1e3b06",
   "metadata": {},
   "outputs": [],
   "source": [
    "import selenium\n",
    "from selenium import webdriver\n",
    "import pandas as pd\n",
    "import warnings\n",
    "warnings.filterwarnings('ignore')"
   ]
  },
  {
   "cell_type": "code",
   "execution_count": 95,
   "id": "89def30d",
   "metadata": {},
   "outputs": [],
   "source": [
    "ambibox = webdriver.Chrome('chromedriver.exe')\n",
    "url = 'https://www.ambitionbox.com/'\n",
    "ambibox.get(url)"
   ]
  },
  {
   "cell_type": "code",
   "execution_count": 96,
   "id": "3bc41b67",
   "metadata": {},
   "outputs": [
    {
     "data": {
      "text/plain": [
       "<selenium.webdriver.remote.webelement.WebElement (session=\"951a7fe2453eda10de6320933a9f7622\", element=\"fd8d4519-b4d2-4e84-9ad3-585ddfcc6fa0\")>"
      ]
     },
     "execution_count": 96,
     "metadata": {},
     "output_type": "execute_result"
    }
   ],
   "source": [
    "navsalary = ambibox.find_element_by_xpath('//*[@id=\"headerWrapper\"]/nav/nav/a[4]')\n",
    "navsalary"
   ]
  },
  {
   "cell_type": "code",
   "execution_count": 97,
   "id": "88ec1eaf",
   "metadata": {},
   "outputs": [],
   "source": [
    "navsalary.click()"
   ]
  },
  {
   "cell_type": "code",
   "execution_count": 98,
   "id": "e5146b4d",
   "metadata": {},
   "outputs": [
    {
     "data": {
      "text/plain": [
       "<selenium.webdriver.remote.webelement.WebElement (session=\"951a7fe2453eda10de6320933a9f7622\", element=\"d0efa5c5-fdf0-4b18-96bf-4ab7ea869a2b\")>"
      ]
     },
     "execution_count": 98,
     "metadata": {},
     "output_type": "execute_result"
    }
   ],
   "source": [
    "srchbtn = ambibox.find_element_by_xpath('//*[@id=\"jobProfileSearchbox\"]')\n",
    "srchbtn"
   ]
  },
  {
   "cell_type": "code",
   "execution_count": 99,
   "id": "fd820294",
   "metadata": {},
   "outputs": [],
   "source": [
    "srchbtn.send_keys('Data Scientist')"
   ]
  },
  {
   "cell_type": "code",
   "execution_count": 100,
   "id": "84afa97f",
   "metadata": {},
   "outputs": [
    {
     "data": {
      "text/plain": [
       "<selenium.webdriver.remote.webelement.WebElement (session=\"951a7fe2453eda10de6320933a9f7622\", element=\"f4dd4bcb-754b-4ccb-8167-6e2be5e0b5ec\")>"
      ]
     },
     "execution_count": 100,
     "metadata": {},
     "output_type": "execute_result"
    }
   ],
   "source": [
    "srcresult = ambibox.find_element_by_xpath('//*[@id=\"salaries\"]/main/section[1]/div[2]/div[1]/span/div/div/div[1]/div')\n",
    "srcresult"
   ]
  },
  {
   "cell_type": "code",
   "execution_count": 101,
   "id": "2038964f",
   "metadata": {},
   "outputs": [],
   "source": [
    "srcresult.click()"
   ]
  },
  {
   "cell_type": "code",
   "execution_count": 108,
   "id": "5a3b18af",
   "metadata": {},
   "outputs": [
    {
     "data": {
      "text/plain": [
       "[<selenium.webdriver.remote.webelement.WebElement (session=\"951a7fe2453eda10de6320933a9f7622\", element=\"915bd089-beb0-4f1c-b95c-881090345648\")>,\n",
       " <selenium.webdriver.remote.webelement.WebElement (session=\"951a7fe2453eda10de6320933a9f7622\", element=\"a3f4a9d3-261d-49b5-a7d2-81aef0f2c134\")>,\n",
       " <selenium.webdriver.remote.webelement.WebElement (session=\"951a7fe2453eda10de6320933a9f7622\", element=\"6c727193-5bd2-45db-bb71-9dbe1aa9d2b1\")>,\n",
       " <selenium.webdriver.remote.webelement.WebElement (session=\"951a7fe2453eda10de6320933a9f7622\", element=\"3e30e2a0-4c6e-448d-8415-6d2dab66c8d0\")>,\n",
       " <selenium.webdriver.remote.webelement.WebElement (session=\"951a7fe2453eda10de6320933a9f7622\", element=\"f777ad4c-f470-4be9-8252-1031c147f3b4\")>,\n",
       " <selenium.webdriver.remote.webelement.WebElement (session=\"951a7fe2453eda10de6320933a9f7622\", element=\"5321733f-a619-4aa0-9529-829a1e391ff0\")>,\n",
       " <selenium.webdriver.remote.webelement.WebElement (session=\"951a7fe2453eda10de6320933a9f7622\", element=\"6ac2f6bb-9266-46a5-852d-2c0e247ebefc\")>,\n",
       " <selenium.webdriver.remote.webelement.WebElement (session=\"951a7fe2453eda10de6320933a9f7622\", element=\"6026325a-ca3e-48b6-9dee-f6054a806b22\")>,\n",
       " <selenium.webdriver.remote.webelement.WebElement (session=\"951a7fe2453eda10de6320933a9f7622\", element=\"e6651493-7bbd-403e-8d97-0aa06b8cfbed\")>,\n",
       " <selenium.webdriver.remote.webelement.WebElement (session=\"951a7fe2453eda10de6320933a9f7622\", element=\"0a9276f6-639f-497c-9ad8-63b138c7cafe\")>]"
      ]
     },
     "execution_count": 108,
     "metadata": {},
     "output_type": "execute_result"
    }
   ],
   "source": [
    "averagesalary = ambibox.find_elements_by_xpath('//p[@class=\"averageCtc\"]')\n",
    "averagesalary"
   ]
  },
  {
   "cell_type": "code",
   "execution_count": 112,
   "id": "20afbb0f",
   "metadata": {},
   "outputs": [
    {
     "data": {
      "text/plain": [
       "['₹ 28.7L',\n",
       " '₹ 19.5L',\n",
       " '₹ 15.8L',\n",
       " '₹ 15.0L',\n",
       " '₹ 15.0L',\n",
       " '₹ 13.5L',\n",
       " '₹ 13.5L',\n",
       " '₹ 12.7L',\n",
       " '₹ 12.4L',\n",
       " '₹ 11.9L']"
      ]
     },
     "execution_count": 112,
     "metadata": {},
     "output_type": "execute_result"
    }
   ],
   "source": [
    "avsalary = []\n",
    "\n",
    "for salary1 in averagesalary:\n",
    "    avsalary.append(salary1.text)\n",
    "avsalary"
   ]
  },
  {
   "cell_type": "code",
   "execution_count": 117,
   "id": "a12d7d3c",
   "metadata": {},
   "outputs": [
    {
     "data": {
      "text/plain": [
       "[<selenium.webdriver.remote.webelement.WebElement (session=\"951a7fe2453eda10de6320933a9f7622\", element=\"7ed65aec-3058-49c6-a63d-2875b668aa83\")>,\n",
       " <selenium.webdriver.remote.webelement.WebElement (session=\"951a7fe2453eda10de6320933a9f7622\", element=\"4c6b7d7f-e237-4ff7-aa07-fca51f7ada15\")>,\n",
       " <selenium.webdriver.remote.webelement.WebElement (session=\"951a7fe2453eda10de6320933a9f7622\", element=\"65e0c4c4-c5af-412c-bbae-0a47ddceabc0\")>,\n",
       " <selenium.webdriver.remote.webelement.WebElement (session=\"951a7fe2453eda10de6320933a9f7622\", element=\"fe3f8518-0e42-4fa6-8c92-2dbb6c82dd6a\")>,\n",
       " <selenium.webdriver.remote.webelement.WebElement (session=\"951a7fe2453eda10de6320933a9f7622\", element=\"97fb3bca-7611-46a0-adb8-c6a0424c242f\")>,\n",
       " <selenium.webdriver.remote.webelement.WebElement (session=\"951a7fe2453eda10de6320933a9f7622\", element=\"863068ed-08e7-49f1-8bd8-791dbad40dd9\")>,\n",
       " <selenium.webdriver.remote.webelement.WebElement (session=\"951a7fe2453eda10de6320933a9f7622\", element=\"cc48d0ea-c1cf-4672-9113-d6167d462525\")>,\n",
       " <selenium.webdriver.remote.webelement.WebElement (session=\"951a7fe2453eda10de6320933a9f7622\", element=\"ddef613d-de9c-4c3d-933c-458f90dead80\")>,\n",
       " <selenium.webdriver.remote.webelement.WebElement (session=\"951a7fe2453eda10de6320933a9f7622\", element=\"588e60db-49af-4436-92b7-d8efa4954b2f\")>,\n",
       " <selenium.webdriver.remote.webelement.WebElement (session=\"951a7fe2453eda10de6320933a9f7622\", element=\"cbe5bce6-5c70-4729-8635-595c61cb95b9\")>]"
      ]
     },
     "execution_count": 117,
     "metadata": {},
     "output_type": "execute_result"
    }
   ],
   "source": [
    "strtsalary = ambibox.find_elements_by_xpath('//div[@class=\"salary-values\"]')\n",
    "strtsalary"
   ]
  },
  {
   "cell_type": "code",
   "execution_count": 118,
   "id": "3d66c57f",
   "metadata": {},
   "outputs": [
    {
     "data": {
      "text/plain": [
       "['₹ 17.7L',\n",
       " '₹ 15.0L',\n",
       " '₹ 9.8L',\n",
       " '₹ 9.5L',\n",
       " '₹ 11.0L',\n",
       " '₹ 7.2L',\n",
       " '₹ 8.3L',\n",
       " '₹ 10.0L',\n",
       " '₹ 8.5L',\n",
       " '₹ 5.8L']"
      ]
     },
     "execution_count": 118,
     "metadata": {},
     "output_type": "execute_result"
    }
   ],
   "source": [
    "startingsalary = []\n",
    "\n",
    "for salary2 in strtsalary:\n",
    "    startingsalary.append(salary2.text.split('\\n')[0])\n",
    "startingsalary"
   ]
  },
  {
   "cell_type": "code",
   "execution_count": 119,
   "id": "5f41868d",
   "metadata": {},
   "outputs": [
    {
     "data": {
      "text/plain": [
       "['₹ 35.0L',\n",
       " '₹ 25.0L',\n",
       " '₹ 20.0L',\n",
       " '₹ 22.0L',\n",
       " '₹ 21.3L',\n",
       " '₹ 20.5L',\n",
       " '₹ 18.5L',\n",
       " '₹ 21.0L',\n",
       " '₹ 15.0L',\n",
       " '₹ 21.5L']"
      ]
     },
     "execution_count": 119,
     "metadata": {},
     "output_type": "execute_result"
    }
   ],
   "source": [
    "maxsalary = []\n",
    "\n",
    "for salary3 in strtsalary:\n",
    "    maxsalary.append(salary3.text.split('\\n')[1])\n",
    "maxsalary"
   ]
  },
  {
   "cell_type": "code",
   "execution_count": 120,
   "id": "e4cadecd",
   "metadata": {},
   "outputs": [
    {
     "data": {
      "text/plain": [
       "[<selenium.webdriver.remote.webelement.WebElement (session=\"951a7fe2453eda10de6320933a9f7622\", element=\"cc3927ab-6d37-4b95-a9be-769e5713d924\")>,\n",
       " <selenium.webdriver.remote.webelement.WebElement (session=\"951a7fe2453eda10de6320933a9f7622\", element=\"851246bd-1239-41a7-8d80-1c693e12a605\")>,\n",
       " <selenium.webdriver.remote.webelement.WebElement (session=\"951a7fe2453eda10de6320933a9f7622\", element=\"06595d74-66d5-4cf3-86ca-371d526284bc\")>,\n",
       " <selenium.webdriver.remote.webelement.WebElement (session=\"951a7fe2453eda10de6320933a9f7622\", element=\"3ed457e1-4e25-432e-891e-ab85058f478d\")>,\n",
       " <selenium.webdriver.remote.webelement.WebElement (session=\"951a7fe2453eda10de6320933a9f7622\", element=\"b63ef47f-b271-4503-80e3-8c4e87e76eaf\")>,\n",
       " <selenium.webdriver.remote.webelement.WebElement (session=\"951a7fe2453eda10de6320933a9f7622\", element=\"87f6c5dc-0578-4985-91f3-d871ab6a8295\")>,\n",
       " <selenium.webdriver.remote.webelement.WebElement (session=\"951a7fe2453eda10de6320933a9f7622\", element=\"c266049d-b598-458b-9d8a-3d6dcbad4dbb\")>,\n",
       " <selenium.webdriver.remote.webelement.WebElement (session=\"951a7fe2453eda10de6320933a9f7622\", element=\"c3d9c1be-d084-4ecd-8b68-eadd69b54bcf\")>,\n",
       " <selenium.webdriver.remote.webelement.WebElement (session=\"951a7fe2453eda10de6320933a9f7622\", element=\"7b55a965-4ff4-4f62-b06c-44f207d63da1\")>,\n",
       " <selenium.webdriver.remote.webelement.WebElement (session=\"951a7fe2453eda10de6320933a9f7622\", element=\"5e4851e7-8bb6-4ba2-aeb8-91bbe97a887f\")>]"
      ]
     },
     "execution_count": 120,
     "metadata": {},
     "output_type": "execute_result"
    }
   ],
   "source": [
    "comname = ambibox.find_elements_by_xpath('//div[@class=\"name\"]')\n",
    "comname"
   ]
  },
  {
   "cell_type": "code",
   "execution_count": 122,
   "id": "29e6da3f",
   "metadata": {},
   "outputs": [
    {
     "data": {
      "text/plain": [
       "['Walmart',\n",
       " 'Ab Inbev',\n",
       " 'ZS',\n",
       " 'Fractal Analytics',\n",
       " 'Optum',\n",
       " 'UnitedHealth',\n",
       " 'Tiger Analytics',\n",
       " 'Verizon',\n",
       " 'Ganit Business Solutions',\n",
       " 'Ericsson']"
      ]
     },
     "execution_count": 122,
     "metadata": {},
     "output_type": "execute_result"
    }
   ],
   "source": [
    "Company = []\n",
    "\n",
    "for nam in comname:\n",
    "    Company.append(nam.text.split('\\n')[0])\n",
    "Company"
   ]
  },
  {
   "cell_type": "code",
   "execution_count": 123,
   "id": "3c5d1411",
   "metadata": {},
   "outputs": [
    {
     "data": {
      "text/plain": [
       "['based on 10 salaries',\n",
       " 'based on 22 salaries',\n",
       " 'based on 14 salaries',\n",
       " 'based on 72 salaries',\n",
       " 'based on 23 salaries',\n",
       " 'based on 49 salaries',\n",
       " 'based on 27 salaries',\n",
       " 'based on 14 salaries',\n",
       " 'based on 13 salaries',\n",
       " 'based on 42 salaries']"
      ]
     },
     "execution_count": 123,
     "metadata": {},
     "output_type": "execute_result"
    }
   ],
   "source": [
    "salaryrecord = []\n",
    "\n",
    "for srcrd in comname:\n",
    "    salaryrecord.append(srcrd.text.split('\\n')[1])\n",
    "salaryrecord"
   ]
  },
  {
   "cell_type": "code",
   "execution_count": 124,
   "id": "2f4deded",
   "metadata": {},
   "outputs": [
    {
     "data": {
      "text/plain": [
       "[<selenium.webdriver.remote.webelement.WebElement (session=\"951a7fe2453eda10de6320933a9f7622\", element=\"8c752523-dbd6-45ff-8ceb-baab4a9dfd36\")>,\n",
       " <selenium.webdriver.remote.webelement.WebElement (session=\"951a7fe2453eda10de6320933a9f7622\", element=\"ab84659b-3e28-4607-b09a-017a4b26dc1f\")>,\n",
       " <selenium.webdriver.remote.webelement.WebElement (session=\"951a7fe2453eda10de6320933a9f7622\", element=\"805744c1-7ec3-469e-a62e-972779b0c734\")>,\n",
       " <selenium.webdriver.remote.webelement.WebElement (session=\"951a7fe2453eda10de6320933a9f7622\", element=\"536ee3f1-6ebc-4f1f-adbd-2459969109b0\")>,\n",
       " <selenium.webdriver.remote.webelement.WebElement (session=\"951a7fe2453eda10de6320933a9f7622\", element=\"5d204ed4-847f-4b2e-9aa8-84e719752474\")>,\n",
       " <selenium.webdriver.remote.webelement.WebElement (session=\"951a7fe2453eda10de6320933a9f7622\", element=\"0a700dea-837c-40a9-b587-51af58fa0a0f\")>,\n",
       " <selenium.webdriver.remote.webelement.WebElement (session=\"951a7fe2453eda10de6320933a9f7622\", element=\"61f4bc76-e988-4651-bd66-fa55a8380ce3\")>,\n",
       " <selenium.webdriver.remote.webelement.WebElement (session=\"951a7fe2453eda10de6320933a9f7622\", element=\"b99b1721-7ccd-4b16-89bf-e8643ff19fca\")>,\n",
       " <selenium.webdriver.remote.webelement.WebElement (session=\"951a7fe2453eda10de6320933a9f7622\", element=\"e9b1adc3-b8b9-42ae-aa6f-928a9952a8f1\")>,\n",
       " <selenium.webdriver.remote.webelement.WebElement (session=\"951a7fe2453eda10de6320933a9f7622\", element=\"f7f566f3-f599-4a6b-a13b-a90486e92f3f\")>]"
      ]
     },
     "execution_count": 124,
     "metadata": {},
     "output_type": "execute_result"
    }
   ],
   "source": [
    "jbrole = ambibox.find_elements_by_xpath('//div[@class=\"salaries sbold-list-header\"]')\n",
    "jbrole"
   ]
  },
  {
   "cell_type": "code",
   "execution_count": 127,
   "id": "2e9ddf5b",
   "metadata": {},
   "outputs": [
    {
     "data": {
      "text/plain": [
       "['Data Scientist',\n",
       " 'Data Scientist',\n",
       " 'Data Scientist',\n",
       " 'Data Scientist',\n",
       " 'Data Scientist',\n",
       " 'Data Scientist',\n",
       " 'Data Scientist',\n",
       " 'Data Scientist',\n",
       " 'Data Scientist',\n",
       " 'Data Scientist']"
      ]
     },
     "execution_count": 127,
     "metadata": {},
     "output_type": "execute_result"
    }
   ],
   "source": [
    "Jobrole = []\n",
    "\n",
    "for roles in jbrole:\n",
    "    Jobrole.append(roles.text.split('\\n . \\n')[0])\n",
    "Jobrole"
   ]
  },
  {
   "cell_type": "code",
   "execution_count": 128,
   "id": "4ca5f0aa",
   "metadata": {},
   "outputs": [
    {
     "data": {
      "text/plain": [
       "['3 yrs exp',\n",
       " '3-4 yrs exp',\n",
       " '2 yrs exp',\n",
       " '2-4 yrs exp',\n",
       " '3-4 yrs exp',\n",
       " '2-4 yrs exp',\n",
       " '3-4 yrs exp',\n",
       " '4 yrs exp',\n",
       " '4 yrs exp',\n",
       " '3-4 yrs exp']"
      ]
     },
     "execution_count": 128,
     "metadata": {},
     "output_type": "execute_result"
    }
   ],
   "source": [
    "Experience = []\n",
    "\n",
    "for exp in jbrole:\n",
    "    Experience.append(exp.text.split('\\n . \\n')[1])\n",
    "Experience"
   ]
  },
  {
   "cell_type": "code",
   "execution_count": 129,
   "id": "1e89358b",
   "metadata": {},
   "outputs": [
    {
     "data": {
      "text/html": [
       "<div>\n",
       "<style scoped>\n",
       "    .dataframe tbody tr th:only-of-type {\n",
       "        vertical-align: middle;\n",
       "    }\n",
       "\n",
       "    .dataframe tbody tr th {\n",
       "        vertical-align: top;\n",
       "    }\n",
       "\n",
       "    .dataframe thead th {\n",
       "        text-align: right;\n",
       "    }\n",
       "</style>\n",
       "<table border=\"1\" class=\"dataframe\">\n",
       "  <thead>\n",
       "    <tr style=\"text-align: right;\">\n",
       "      <th></th>\n",
       "      <th>Company Name</th>\n",
       "      <th>Job Role</th>\n",
       "      <th>Average Salary</th>\n",
       "      <th>Starting Salary</th>\n",
       "      <th>Maximum Salary</th>\n",
       "      <th>Avg Exprience</th>\n",
       "      <th>Avg Record</th>\n",
       "    </tr>\n",
       "  </thead>\n",
       "  <tbody>\n",
       "    <tr>\n",
       "      <th>0</th>\n",
       "      <td>Walmart</td>\n",
       "      <td>Data Scientist</td>\n",
       "      <td>₹ 28.7L</td>\n",
       "      <td>₹ 17.7L</td>\n",
       "      <td>₹ 35.0L</td>\n",
       "      <td>3 yrs exp</td>\n",
       "      <td>based on 10 salaries</td>\n",
       "    </tr>\n",
       "    <tr>\n",
       "      <th>1</th>\n",
       "      <td>Ab Inbev</td>\n",
       "      <td>Data Scientist</td>\n",
       "      <td>₹ 19.5L</td>\n",
       "      <td>₹ 15.0L</td>\n",
       "      <td>₹ 25.0L</td>\n",
       "      <td>3-4 yrs exp</td>\n",
       "      <td>based on 22 salaries</td>\n",
       "    </tr>\n",
       "    <tr>\n",
       "      <th>2</th>\n",
       "      <td>ZS</td>\n",
       "      <td>Data Scientist</td>\n",
       "      <td>₹ 15.8L</td>\n",
       "      <td>₹ 9.8L</td>\n",
       "      <td>₹ 20.0L</td>\n",
       "      <td>2 yrs exp</td>\n",
       "      <td>based on 14 salaries</td>\n",
       "    </tr>\n",
       "    <tr>\n",
       "      <th>3</th>\n",
       "      <td>Fractal Analytics</td>\n",
       "      <td>Data Scientist</td>\n",
       "      <td>₹ 15.0L</td>\n",
       "      <td>₹ 9.5L</td>\n",
       "      <td>₹ 22.0L</td>\n",
       "      <td>2-4 yrs exp</td>\n",
       "      <td>based on 72 salaries</td>\n",
       "    </tr>\n",
       "    <tr>\n",
       "      <th>4</th>\n",
       "      <td>Optum</td>\n",
       "      <td>Data Scientist</td>\n",
       "      <td>₹ 15.0L</td>\n",
       "      <td>₹ 11.0L</td>\n",
       "      <td>₹ 21.3L</td>\n",
       "      <td>3-4 yrs exp</td>\n",
       "      <td>based on 23 salaries</td>\n",
       "    </tr>\n",
       "    <tr>\n",
       "      <th>5</th>\n",
       "      <td>UnitedHealth</td>\n",
       "      <td>Data Scientist</td>\n",
       "      <td>₹ 13.5L</td>\n",
       "      <td>₹ 7.2L</td>\n",
       "      <td>₹ 20.5L</td>\n",
       "      <td>2-4 yrs exp</td>\n",
       "      <td>based on 49 salaries</td>\n",
       "    </tr>\n",
       "    <tr>\n",
       "      <th>6</th>\n",
       "      <td>Tiger Analytics</td>\n",
       "      <td>Data Scientist</td>\n",
       "      <td>₹ 13.5L</td>\n",
       "      <td>₹ 8.3L</td>\n",
       "      <td>₹ 18.5L</td>\n",
       "      <td>3-4 yrs exp</td>\n",
       "      <td>based on 27 salaries</td>\n",
       "    </tr>\n",
       "    <tr>\n",
       "      <th>7</th>\n",
       "      <td>Verizon</td>\n",
       "      <td>Data Scientist</td>\n",
       "      <td>₹ 12.7L</td>\n",
       "      <td>₹ 10.0L</td>\n",
       "      <td>₹ 21.0L</td>\n",
       "      <td>4 yrs exp</td>\n",
       "      <td>based on 14 salaries</td>\n",
       "    </tr>\n",
       "    <tr>\n",
       "      <th>8</th>\n",
       "      <td>Ganit Business Solutions</td>\n",
       "      <td>Data Scientist</td>\n",
       "      <td>₹ 12.4L</td>\n",
       "      <td>₹ 8.5L</td>\n",
       "      <td>₹ 15.0L</td>\n",
       "      <td>4 yrs exp</td>\n",
       "      <td>based on 13 salaries</td>\n",
       "    </tr>\n",
       "    <tr>\n",
       "      <th>9</th>\n",
       "      <td>Ericsson</td>\n",
       "      <td>Data Scientist</td>\n",
       "      <td>₹ 11.9L</td>\n",
       "      <td>₹ 5.8L</td>\n",
       "      <td>₹ 21.5L</td>\n",
       "      <td>3-4 yrs exp</td>\n",
       "      <td>based on 42 salaries</td>\n",
       "    </tr>\n",
       "  </tbody>\n",
       "</table>\n",
       "</div>"
      ],
      "text/plain": [
       "               Company Name        Job Role Average Salary Starting Salary  \\\n",
       "0                   Walmart  Data Scientist        ₹ 28.7L         ₹ 17.7L   \n",
       "1                  Ab Inbev  Data Scientist        ₹ 19.5L         ₹ 15.0L   \n",
       "2                        ZS  Data Scientist        ₹ 15.8L          ₹ 9.8L   \n",
       "3         Fractal Analytics  Data Scientist        ₹ 15.0L          ₹ 9.5L   \n",
       "4                     Optum  Data Scientist        ₹ 15.0L         ₹ 11.0L   \n",
       "5              UnitedHealth  Data Scientist        ₹ 13.5L          ₹ 7.2L   \n",
       "6           Tiger Analytics  Data Scientist        ₹ 13.5L          ₹ 8.3L   \n",
       "7                   Verizon  Data Scientist        ₹ 12.7L         ₹ 10.0L   \n",
       "8  Ganit Business Solutions  Data Scientist        ₹ 12.4L          ₹ 8.5L   \n",
       "9                  Ericsson  Data Scientist        ₹ 11.9L          ₹ 5.8L   \n",
       "\n",
       "  Maximum Salary Avg Exprience            Avg Record  \n",
       "0        ₹ 35.0L     3 yrs exp  based on 10 salaries  \n",
       "1        ₹ 25.0L   3-4 yrs exp  based on 22 salaries  \n",
       "2        ₹ 20.0L     2 yrs exp  based on 14 salaries  \n",
       "3        ₹ 22.0L   2-4 yrs exp  based on 72 salaries  \n",
       "4        ₹ 21.3L   3-4 yrs exp  based on 23 salaries  \n",
       "5        ₹ 20.5L   2-4 yrs exp  based on 49 salaries  \n",
       "6        ₹ 18.5L   3-4 yrs exp  based on 27 salaries  \n",
       "7        ₹ 21.0L     4 yrs exp  based on 14 salaries  \n",
       "8        ₹ 15.0L     4 yrs exp  based on 13 salaries  \n",
       "9        ₹ 21.5L   3-4 yrs exp  based on 42 salaries  "
      ]
     },
     "execution_count": 129,
     "metadata": {},
     "output_type": "execute_result"
    }
   ],
   "source": [
    "data = pd.DataFrame()\n",
    "\n",
    "data ['Company Name'] = Company\n",
    "data ['Job Role'] = Jobrole\n",
    "data ['Average Salary'] = avsalary\n",
    "data ['Starting Salary'] = startingsalary\n",
    "data ['Maximum Salary'] = maxsalary\n",
    "data ['Avg Exprience'] = Experience\n",
    "data ['Avg Record'] = salaryrecord\n",
    "data.head(11)"
   ]
  },
  {
   "cell_type": "code",
   "execution_count": null,
   "id": "2d960186",
   "metadata": {},
   "outputs": [],
   "source": []
  }
 ],
 "metadata": {
  "kernelspec": {
   "display_name": "Python 3",
   "language": "python",
   "name": "python3"
  },
  "language_info": {
   "codemirror_mode": {
    "name": "ipython",
    "version": 3
   },
   "file_extension": ".py",
   "mimetype": "text/x-python",
   "name": "python",
   "nbconvert_exporter": "python",
   "pygments_lexer": "ipython3",
   "version": "3.8.8"
  }
 },
 "nbformat": 4,
 "nbformat_minor": 5
}
