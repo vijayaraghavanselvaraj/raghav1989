{
 "cells": [
  {
   "cell_type": "code",
   "execution_count": 1,
   "id": "311aec95",
   "metadata": {},
   "outputs": [],
   "source": [
    "import selenium\n",
    "from selenium import webdriver\n",
    "import pandas as pd\n",
    "import warnings\n",
    "warnings.filterwarnings('ignore')"
   ]
  },
  {
   "cell_type": "code",
   "execution_count": 2,
   "id": "810f5c79",
   "metadata": {},
   "outputs": [],
   "source": [
    "driver = webdriver.Chrome('chromedriver.exe')"
   ]
  },
  {
   "cell_type": "code",
   "execution_count": 3,
   "id": "376d30e5",
   "metadata": {},
   "outputs": [],
   "source": [
    "url = \"https://www.naukri.com/\"\n",
    "driver.get(url)"
   ]
  },
  {
   "cell_type": "code",
   "execution_count": 4,
   "id": "8373c925",
   "metadata": {},
   "outputs": [
    {
     "data": {
      "text/plain": [
       "<selenium.webdriver.remote.webelement.WebElement (session=\"f60cc6578504703ff08aa6c1ff8dbe1e\", element=\"aa653d2b-e81b-48ef-b79a-3d5b76220ea5\")>"
      ]
     },
     "execution_count": 4,
     "metadata": {},
     "output_type": "execute_result"
    }
   ],
   "source": [
    "search_job = driver.find_element_by_class_name('suggestor-input')\n",
    "search_job"
   ]
  },
  {
   "cell_type": "code",
   "execution_count": 5,
   "id": "9268aef4",
   "metadata": {},
   "outputs": [],
   "source": [
    "search_job.send_keys('Data Scientist')"
   ]
  },
  {
   "cell_type": "code",
   "execution_count": 6,
   "id": "7288cf44",
   "metadata": {},
   "outputs": [
    {
     "data": {
      "text/plain": [
       "<selenium.webdriver.remote.webelement.WebElement (session=\"f60cc6578504703ff08aa6c1ff8dbe1e\", element=\"052516db-a8e6-4ecd-83a3-b09f50800e6f\")>"
      ]
     },
     "execution_count": 6,
     "metadata": {},
     "output_type": "execute_result"
    }
   ],
   "source": [
    "search_joblocation = driver.find_element_by_xpath('/html/body/div/div[2]/div[3]/div/div/div[3]/div/div/div/input')\n",
    "search_joblocation"
   ]
  },
  {
   "cell_type": "code",
   "execution_count": 7,
   "id": "15f33d73",
   "metadata": {},
   "outputs": [],
   "source": [
    "search_joblocation.send_keys('Bangalore')"
   ]
  },
  {
   "cell_type": "code",
   "execution_count": 8,
   "id": "c578255a",
   "metadata": {},
   "outputs": [
    {
     "data": {
      "text/plain": [
       "<selenium.webdriver.remote.webelement.WebElement (session=\"f60cc6578504703ff08aa6c1ff8dbe1e\", element=\"d1f7c18e-a9df-42be-aa4d-8a8e689fb5e9\")>"
      ]
     },
     "execution_count": 8,
     "metadata": {},
     "output_type": "execute_result"
    }
   ],
   "source": [
    "search_button = driver.find_element_by_xpath('/html/body/div/div[2]/div[3]/div/div/div[6]')\n",
    "search_button"
   ]
  },
  {
   "cell_type": "code",
   "execution_count": 9,
   "id": "085c77b3",
   "metadata": {},
   "outputs": [],
   "source": [
    "search_button.click()"
   ]
  },
  {
   "cell_type": "code",
   "execution_count": 11,
   "id": "2e882c02",
   "metadata": {},
   "outputs": [
    {
     "data": {
      "text/plain": [
       "[<selenium.webdriver.remote.webelement.WebElement (session=\"f60cc6578504703ff08aa6c1ff8dbe1e\", element=\"2bd7c063-5a30-4296-9891-39542c1d2cb4\")>,\n",
       " <selenium.webdriver.remote.webelement.WebElement (session=\"f60cc6578504703ff08aa6c1ff8dbe1e\", element=\"c6c85702-798e-42a7-90c7-db7c6f70b036\")>,\n",
       " <selenium.webdriver.remote.webelement.WebElement (session=\"f60cc6578504703ff08aa6c1ff8dbe1e\", element=\"4ea70b88-45fd-4da1-9b1b-d9e7cf751203\")>,\n",
       " <selenium.webdriver.remote.webelement.WebElement (session=\"f60cc6578504703ff08aa6c1ff8dbe1e\", element=\"23cf997f-d61d-4612-8a61-750b0064aace\")>,\n",
       " <selenium.webdriver.remote.webelement.WebElement (session=\"f60cc6578504703ff08aa6c1ff8dbe1e\", element=\"9be2f931-8c37-4462-b926-381cef8c3e2e\")>,\n",
       " <selenium.webdriver.remote.webelement.WebElement (session=\"f60cc6578504703ff08aa6c1ff8dbe1e\", element=\"98b986ad-aa63-4240-9f55-f316c5e63349\")>,\n",
       " <selenium.webdriver.remote.webelement.WebElement (session=\"f60cc6578504703ff08aa6c1ff8dbe1e\", element=\"65a28b16-347f-482e-af4d-cb7669b2a8e9\")>,\n",
       " <selenium.webdriver.remote.webelement.WebElement (session=\"f60cc6578504703ff08aa6c1ff8dbe1e\", element=\"1165ba56-ca6f-4079-b747-a80a5ab10ea7\")>,\n",
       " <selenium.webdriver.remote.webelement.WebElement (session=\"f60cc6578504703ff08aa6c1ff8dbe1e\", element=\"27dc5240-0ca8-47c0-a87a-0e84096fc865\")>,\n",
       " <selenium.webdriver.remote.webelement.WebElement (session=\"f60cc6578504703ff08aa6c1ff8dbe1e\", element=\"bfad23fa-c686-4f92-a8fb-d88d6abe0e8d\")>,\n",
       " <selenium.webdriver.remote.webelement.WebElement (session=\"f60cc6578504703ff08aa6c1ff8dbe1e\", element=\"2f494555-f416-48a2-aff7-ec23cae45afd\")>,\n",
       " <selenium.webdriver.remote.webelement.WebElement (session=\"f60cc6578504703ff08aa6c1ff8dbe1e\", element=\"73a4cce6-71a8-4377-b24c-b02da60de00d\")>,\n",
       " <selenium.webdriver.remote.webelement.WebElement (session=\"f60cc6578504703ff08aa6c1ff8dbe1e\", element=\"9172eb06-60eb-42b1-ac84-f4fa56f6b969\")>,\n",
       " <selenium.webdriver.remote.webelement.WebElement (session=\"f60cc6578504703ff08aa6c1ff8dbe1e\", element=\"b82dbe7c-7d8e-4669-ad7d-110c0b7ae44f\")>,\n",
       " <selenium.webdriver.remote.webelement.WebElement (session=\"f60cc6578504703ff08aa6c1ff8dbe1e\", element=\"c40144e6-57a9-4111-aefa-2027a6d3298e\")>,\n",
       " <selenium.webdriver.remote.webelement.WebElement (session=\"f60cc6578504703ff08aa6c1ff8dbe1e\", element=\"0e4de9ec-9674-4028-8690-704e66888c80\")>,\n",
       " <selenium.webdriver.remote.webelement.WebElement (session=\"f60cc6578504703ff08aa6c1ff8dbe1e\", element=\"9ba13230-413b-491b-a485-0b36b4cf32b1\")>,\n",
       " <selenium.webdriver.remote.webelement.WebElement (session=\"f60cc6578504703ff08aa6c1ff8dbe1e\", element=\"f3e825d9-ff83-4e25-b41d-68037bdce832\")>,\n",
       " <selenium.webdriver.remote.webelement.WebElement (session=\"f60cc6578504703ff08aa6c1ff8dbe1e\", element=\"81c79eb5-e05c-47fa-a602-e6e5ad1c0df4\")>,\n",
       " <selenium.webdriver.remote.webelement.WebElement (session=\"f60cc6578504703ff08aa6c1ff8dbe1e\", element=\"679ff441-2944-4f1e-8ff2-a84339b11ccd\")>]"
      ]
     },
     "execution_count": 11,
     "metadata": {},
     "output_type": "execute_result"
    }
   ],
   "source": [
    "rolename = driver.find_elements_by_xpath('//a[@class=\"title fw500 ellipsis\"]')\n",
    "rolename"
   ]
  },
  {
   "cell_type": "code",
   "execution_count": 13,
   "id": "bf33de43",
   "metadata": {},
   "outputs": [
    {
     "data": {
      "text/plain": [
       "['Sr Data Scientist',\n",
       " 'Senior Data Scientist',\n",
       " 'Senior Data Scientist',\n",
       " 'Senior Manager - Lead Data Scientist',\n",
       " 'Associate Data Scientist',\n",
       " 'Junior Programmer - Data Scientist',\n",
       " 'Lead/Senior Data Scientist (NLP)',\n",
       " 'Sr . Data Scientist',\n",
       " 'Sr. Data Scientist',\n",
       " 'Senior Data Scientist - Logistics']"
      ]
     },
     "execution_count": 13,
     "metadata": {},
     "output_type": "execute_result"
    }
   ],
   "source": [
    "JobRole = []\n",
    "\n",
    "for role in rolename:\n",
    "    JobRole.append(role.text)\n",
    "JobRole[0:10]"
   ]
  },
  {
   "cell_type": "code",
   "execution_count": 15,
   "id": "f9e8bd36",
   "metadata": {},
   "outputs": [
    {
     "data": {
      "text/plain": [
       "[<selenium.webdriver.remote.webelement.WebElement (session=\"f60cc6578504703ff08aa6c1ff8dbe1e\", element=\"e300e71e-06a1-465c-ad08-0869313eeda6\")>,\n",
       " <selenium.webdriver.remote.webelement.WebElement (session=\"f60cc6578504703ff08aa6c1ff8dbe1e\", element=\"389b7826-df58-43f6-8ca4-2681c9dfbc9f\")>,\n",
       " <selenium.webdriver.remote.webelement.WebElement (session=\"f60cc6578504703ff08aa6c1ff8dbe1e\", element=\"814e2cdd-e462-4e99-93e6-5f32e9da7ce9\")>,\n",
       " <selenium.webdriver.remote.webelement.WebElement (session=\"f60cc6578504703ff08aa6c1ff8dbe1e\", element=\"9353fe94-41c8-48da-a1bb-a8502396a76c\")>,\n",
       " <selenium.webdriver.remote.webelement.WebElement (session=\"f60cc6578504703ff08aa6c1ff8dbe1e\", element=\"ef998962-4e56-4f64-94a1-ea76643a0eef\")>,\n",
       " <selenium.webdriver.remote.webelement.WebElement (session=\"f60cc6578504703ff08aa6c1ff8dbe1e\", element=\"33f9164c-cd27-464f-b9ae-f2391277954a\")>,\n",
       " <selenium.webdriver.remote.webelement.WebElement (session=\"f60cc6578504703ff08aa6c1ff8dbe1e\", element=\"8fe1d961-3810-4beb-acd2-4373e177d5d7\")>,\n",
       " <selenium.webdriver.remote.webelement.WebElement (session=\"f60cc6578504703ff08aa6c1ff8dbe1e\", element=\"9463ec4d-76be-4a15-b867-1f95043696b0\")>,\n",
       " <selenium.webdriver.remote.webelement.WebElement (session=\"f60cc6578504703ff08aa6c1ff8dbe1e\", element=\"4bf9421f-1185-4faa-a18b-cfa4c80a1534\")>,\n",
       " <selenium.webdriver.remote.webelement.WebElement (session=\"f60cc6578504703ff08aa6c1ff8dbe1e\", element=\"aa48a5f3-a5e0-458b-b0c7-507270d93088\")>,\n",
       " <selenium.webdriver.remote.webelement.WebElement (session=\"f60cc6578504703ff08aa6c1ff8dbe1e\", element=\"33c85bd3-21a7-484e-ab68-99d0ed424c56\")>,\n",
       " <selenium.webdriver.remote.webelement.WebElement (session=\"f60cc6578504703ff08aa6c1ff8dbe1e\", element=\"b7bad4bd-df24-4320-9f8d-9e4083fc0444\")>,\n",
       " <selenium.webdriver.remote.webelement.WebElement (session=\"f60cc6578504703ff08aa6c1ff8dbe1e\", element=\"d2444d28-d996-4b41-aa4c-16aad427facb\")>,\n",
       " <selenium.webdriver.remote.webelement.WebElement (session=\"f60cc6578504703ff08aa6c1ff8dbe1e\", element=\"700dbf08-93d8-44b1-87b9-9ab734296425\")>,\n",
       " <selenium.webdriver.remote.webelement.WebElement (session=\"f60cc6578504703ff08aa6c1ff8dbe1e\", element=\"ab7d8cee-2e2c-424a-b51f-b8a817fa317b\")>,\n",
       " <selenium.webdriver.remote.webelement.WebElement (session=\"f60cc6578504703ff08aa6c1ff8dbe1e\", element=\"33666951-8909-4fb4-9dfa-11f291cba94d\")>,\n",
       " <selenium.webdriver.remote.webelement.WebElement (session=\"f60cc6578504703ff08aa6c1ff8dbe1e\", element=\"c5f7b315-fad7-4a85-99fe-8c5a4d89ddec\")>,\n",
       " <selenium.webdriver.remote.webelement.WebElement (session=\"f60cc6578504703ff08aa6c1ff8dbe1e\", element=\"02061163-609f-45ed-9f38-5f75db6eb454\")>,\n",
       " <selenium.webdriver.remote.webelement.WebElement (session=\"f60cc6578504703ff08aa6c1ff8dbe1e\", element=\"6dbe4b61-a55c-47c6-96dc-56e78cfe46af\")>,\n",
       " <selenium.webdriver.remote.webelement.WebElement (session=\"f60cc6578504703ff08aa6c1ff8dbe1e\", element=\"7be7e3c7-244a-422f-819a-f99de5e5674c\")>]"
      ]
     },
     "execution_count": 15,
     "metadata": {},
     "output_type": "execute_result"
    }
   ],
   "source": [
    "loc = driver.find_elements_by_xpath('//li[@class=\"fleft grey-text br2 placeHolderLi location\"]')\n",
    "loc"
   ]
  },
  {
   "cell_type": "code",
   "execution_count": 16,
   "id": "c3d58987",
   "metadata": {},
   "outputs": [
    {
     "data": {
      "text/plain": [
       "['Bangalore/Bengaluru',\n",
       " 'Bangalore/Bengaluru',\n",
       " 'Bangalore/Bengaluru',\n",
       " 'Bangalore/Bengaluru',\n",
       " 'Chennai, Bangalore/Bengaluru',\n",
       " 'Bangalore/Bengaluru',\n",
       " 'Bangalore/Bengaluru\\n(WFH during Covid)',\n",
       " 'Mumbai, Bangalore/Bengaluru',\n",
       " 'Pune, Bangalore/Bengaluru, Mumbai (All Areas)\\n(WFH during Covid)',\n",
       " 'Bangalore/Bengaluru']"
      ]
     },
     "execution_count": 16,
     "metadata": {},
     "output_type": "execute_result"
    }
   ],
   "source": [
    "JobLocation = []\n",
    "\n",
    "for location in loc:\n",
    "    JobLocation.append(location.text)\n",
    "JobLocation[0:10]"
   ]
  },
  {
   "cell_type": "code",
   "execution_count": 17,
   "id": "108b9936",
   "metadata": {},
   "outputs": [
    {
     "data": {
      "text/plain": [
       "[<selenium.webdriver.remote.webelement.WebElement (session=\"f60cc6578504703ff08aa6c1ff8dbe1e\", element=\"b2a7abcb-ea94-4bf4-b160-2c5c91ca4e02\")>,\n",
       " <selenium.webdriver.remote.webelement.WebElement (session=\"f60cc6578504703ff08aa6c1ff8dbe1e\", element=\"f1686958-db7b-4bf5-95b3-63ba3a5573ac\")>,\n",
       " <selenium.webdriver.remote.webelement.WebElement (session=\"f60cc6578504703ff08aa6c1ff8dbe1e\", element=\"32ec112c-862e-4265-b769-d41ac7850c18\")>,\n",
       " <selenium.webdriver.remote.webelement.WebElement (session=\"f60cc6578504703ff08aa6c1ff8dbe1e\", element=\"c7381e7b-59e1-4428-86e2-8ca0b47e933b\")>,\n",
       " <selenium.webdriver.remote.webelement.WebElement (session=\"f60cc6578504703ff08aa6c1ff8dbe1e\", element=\"aadcf74d-fd67-4e4a-9cc0-07f394fb6bc0\")>,\n",
       " <selenium.webdriver.remote.webelement.WebElement (session=\"f60cc6578504703ff08aa6c1ff8dbe1e\", element=\"87e56028-2aa0-471f-8d15-8e231090c225\")>,\n",
       " <selenium.webdriver.remote.webelement.WebElement (session=\"f60cc6578504703ff08aa6c1ff8dbe1e\", element=\"b67e32ab-32d2-4879-86eb-2cdb60721a2c\")>,\n",
       " <selenium.webdriver.remote.webelement.WebElement (session=\"f60cc6578504703ff08aa6c1ff8dbe1e\", element=\"f5d894a1-7cd7-4aa6-8407-32409bd7860e\")>,\n",
       " <selenium.webdriver.remote.webelement.WebElement (session=\"f60cc6578504703ff08aa6c1ff8dbe1e\", element=\"ec036444-e375-4f52-98f8-cf26755f45c5\")>,\n",
       " <selenium.webdriver.remote.webelement.WebElement (session=\"f60cc6578504703ff08aa6c1ff8dbe1e\", element=\"8a0ffb81-d4bd-41a2-b61e-ab5bf64532c9\")>,\n",
       " <selenium.webdriver.remote.webelement.WebElement (session=\"f60cc6578504703ff08aa6c1ff8dbe1e\", element=\"589116f7-0f66-4c3c-b74f-0a96cbad1ff5\")>,\n",
       " <selenium.webdriver.remote.webelement.WebElement (session=\"f60cc6578504703ff08aa6c1ff8dbe1e\", element=\"1eeea54e-c20a-4993-923e-7055097474f5\")>,\n",
       " <selenium.webdriver.remote.webelement.WebElement (session=\"f60cc6578504703ff08aa6c1ff8dbe1e\", element=\"e769af6b-f4f7-4a43-bf72-f2ea4da20026\")>,\n",
       " <selenium.webdriver.remote.webelement.WebElement (session=\"f60cc6578504703ff08aa6c1ff8dbe1e\", element=\"4ec2fe62-5a7f-4e6d-83d7-d7d726f98ecf\")>,\n",
       " <selenium.webdriver.remote.webelement.WebElement (session=\"f60cc6578504703ff08aa6c1ff8dbe1e\", element=\"9d572810-dde2-4204-9a89-d86a740c63e2\")>,\n",
       " <selenium.webdriver.remote.webelement.WebElement (session=\"f60cc6578504703ff08aa6c1ff8dbe1e\", element=\"6a7974e9-96d9-43ed-aef7-6525656c1c0b\")>,\n",
       " <selenium.webdriver.remote.webelement.WebElement (session=\"f60cc6578504703ff08aa6c1ff8dbe1e\", element=\"0f28ecb4-7cd5-4664-ab05-104b61ed4e27\")>,\n",
       " <selenium.webdriver.remote.webelement.WebElement (session=\"f60cc6578504703ff08aa6c1ff8dbe1e\", element=\"37210386-66b6-4c22-a101-a0aa2e456616\")>,\n",
       " <selenium.webdriver.remote.webelement.WebElement (session=\"f60cc6578504703ff08aa6c1ff8dbe1e\", element=\"a6210ee0-6feb-4899-9ead-6f46044ac4f5\")>,\n",
       " <selenium.webdriver.remote.webelement.WebElement (session=\"f60cc6578504703ff08aa6c1ff8dbe1e\", element=\"696deac4-dfd9-474d-954e-92bbf4b3e5ee\")>]"
      ]
     },
     "execution_count": 17,
     "metadata": {},
     "output_type": "execute_result"
    }
   ],
   "source": [
    "com_name = driver.find_elements_by_xpath('//a[@class=\"subTitle ellipsis fleft\"]')\n",
    "com_name"
   ]
  },
  {
   "cell_type": "code",
   "execution_count": 18,
   "id": "dd630bdb",
   "metadata": {},
   "outputs": [
    {
     "data": {
      "text/plain": [
       "['Siemens',\n",
       " 'Dell',\n",
       " 'Dell',\n",
       " 'ExecBoardinAsia',\n",
       " 'Shell',\n",
       " 'GSK India',\n",
       " 'Samya.AI A FRACTAL Entity',\n",
       " 'RKSV',\n",
       " 'NutaNXT Technologies',\n",
       " 'GO-JEK India']"
      ]
     },
     "execution_count": 18,
     "metadata": {},
     "output_type": "execute_result"
    }
   ],
   "source": [
    "Company = []\n",
    "\n",
    "for comp in com_name:\n",
    "    Company.append(comp.text)\n",
    "Company[0:10]"
   ]
  },
  {
   "cell_type": "code",
   "execution_count": 19,
   "id": "85f80564",
   "metadata": {},
   "outputs": [
    {
     "data": {
      "text/html": [
       "<div>\n",
       "<style scoped>\n",
       "    .dataframe tbody tr th:only-of-type {\n",
       "        vertical-align: middle;\n",
       "    }\n",
       "\n",
       "    .dataframe tbody tr th {\n",
       "        vertical-align: top;\n",
       "    }\n",
       "\n",
       "    .dataframe thead th {\n",
       "        text-align: right;\n",
       "    }\n",
       "</style>\n",
       "<table border=\"1\" class=\"dataframe\">\n",
       "  <thead>\n",
       "    <tr style=\"text-align: right;\">\n",
       "      <th></th>\n",
       "      <th>Company Name</th>\n",
       "      <th>Job Location</th>\n",
       "      <th>Job Title</th>\n",
       "    </tr>\n",
       "  </thead>\n",
       "  <tbody>\n",
       "    <tr>\n",
       "      <th>0</th>\n",
       "      <td>Siemens</td>\n",
       "      <td>Bangalore/Bengaluru</td>\n",
       "      <td>Sr Data Scientist</td>\n",
       "    </tr>\n",
       "    <tr>\n",
       "      <th>1</th>\n",
       "      <td>Dell</td>\n",
       "      <td>Bangalore/Bengaluru</td>\n",
       "      <td>Senior Data Scientist</td>\n",
       "    </tr>\n",
       "    <tr>\n",
       "      <th>2</th>\n",
       "      <td>Dell</td>\n",
       "      <td>Bangalore/Bengaluru</td>\n",
       "      <td>Senior Data Scientist</td>\n",
       "    </tr>\n",
       "    <tr>\n",
       "      <th>3</th>\n",
       "      <td>ExecBoardinAsia</td>\n",
       "      <td>Bangalore/Bengaluru</td>\n",
       "      <td>Senior Manager - Lead Data Scientist</td>\n",
       "    </tr>\n",
       "    <tr>\n",
       "      <th>4</th>\n",
       "      <td>Shell</td>\n",
       "      <td>Chennai, Bangalore/Bengaluru</td>\n",
       "      <td>Associate Data Scientist</td>\n",
       "    </tr>\n",
       "    <tr>\n",
       "      <th>5</th>\n",
       "      <td>GSK India</td>\n",
       "      <td>Bangalore/Bengaluru</td>\n",
       "      <td>Junior Programmer - Data Scientist</td>\n",
       "    </tr>\n",
       "    <tr>\n",
       "      <th>6</th>\n",
       "      <td>Samya.AI A FRACTAL Entity</td>\n",
       "      <td>Bangalore/Bengaluru\\n(WFH during Covid)</td>\n",
       "      <td>Lead/Senior Data Scientist (NLP)</td>\n",
       "    </tr>\n",
       "    <tr>\n",
       "      <th>7</th>\n",
       "      <td>RKSV</td>\n",
       "      <td>Mumbai, Bangalore/Bengaluru</td>\n",
       "      <td>Sr . Data Scientist</td>\n",
       "    </tr>\n",
       "    <tr>\n",
       "      <th>8</th>\n",
       "      <td>NutaNXT Technologies</td>\n",
       "      <td>Pune, Bangalore/Bengaluru, Mumbai (All Areas)\\...</td>\n",
       "      <td>Sr. Data Scientist</td>\n",
       "    </tr>\n",
       "    <tr>\n",
       "      <th>9</th>\n",
       "      <td>GO-JEK India</td>\n",
       "      <td>Bangalore/Bengaluru</td>\n",
       "      <td>Senior Data Scientist - Logistics</td>\n",
       "    </tr>\n",
       "    <tr>\n",
       "      <th>10</th>\n",
       "      <td>Vmware</td>\n",
       "      <td>Bangalore/Bengaluru</td>\n",
       "      <td>Senior Data Scientist, Data Sciences</td>\n",
       "    </tr>\n",
       "  </tbody>\n",
       "</table>\n",
       "</div>"
      ],
      "text/plain": [
       "                 Company Name  \\\n",
       "0                     Siemens   \n",
       "1                        Dell   \n",
       "2                        Dell   \n",
       "3             ExecBoardinAsia   \n",
       "4                       Shell   \n",
       "5                   GSK India   \n",
       "6   Samya.AI A FRACTAL Entity   \n",
       "7                        RKSV   \n",
       "8        NutaNXT Technologies   \n",
       "9                GO-JEK India   \n",
       "10                     Vmware   \n",
       "\n",
       "                                         Job Location  \\\n",
       "0                                 Bangalore/Bengaluru   \n",
       "1                                 Bangalore/Bengaluru   \n",
       "2                                 Bangalore/Bengaluru   \n",
       "3                                 Bangalore/Bengaluru   \n",
       "4                        Chennai, Bangalore/Bengaluru   \n",
       "5                                 Bangalore/Bengaluru   \n",
       "6             Bangalore/Bengaluru\\n(WFH during Covid)   \n",
       "7                         Mumbai, Bangalore/Bengaluru   \n",
       "8   Pune, Bangalore/Bengaluru, Mumbai (All Areas)\\...   \n",
       "9                                 Bangalore/Bengaluru   \n",
       "10                                Bangalore/Bengaluru   \n",
       "\n",
       "                               Job Title  \n",
       "0                      Sr Data Scientist  \n",
       "1                  Senior Data Scientist  \n",
       "2                  Senior Data Scientist  \n",
       "3   Senior Manager - Lead Data Scientist  \n",
       "4               Associate Data Scientist  \n",
       "5     Junior Programmer - Data Scientist  \n",
       "6       Lead/Senior Data Scientist (NLP)  \n",
       "7                    Sr . Data Scientist  \n",
       "8                     Sr. Data Scientist  \n",
       "9      Senior Data Scientist - Logistics  \n",
       "10  Senior Data Scientist, Data Sciences  "
      ]
     },
     "execution_count": 19,
     "metadata": {},
     "output_type": "execute_result"
    }
   ],
   "source": [
    "data = pd.DataFrame()\n",
    "data['Company Name'] = Company\n",
    "data['Job Location'] = JobLocation\n",
    "data['Job Title'] = JobRole\n",
    "data.head(11)"
   ]
  },
  {
   "cell_type": "code",
   "execution_count": null,
   "id": "f2dbe566",
   "metadata": {},
   "outputs": [],
   "source": []
  }
 ],
 "metadata": {
  "kernelspec": {
   "display_name": "Python 3",
   "language": "python",
   "name": "python3"
  },
  "language_info": {
   "codemirror_mode": {
    "name": "ipython",
    "version": 3
   },
   "file_extension": ".py",
   "mimetype": "text/x-python",
   "name": "python",
   "nbconvert_exporter": "python",
   "pygments_lexer": "ipython3",
   "version": "3.8.8"
  }
 },
 "nbformat": 4,
 "nbformat_minor": 5
}
