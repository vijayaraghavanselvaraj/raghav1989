{
 "cells": [
  {
   "cell_type": "code",
   "execution_count": 1,
   "id": "323534b9",
   "metadata": {},
   "outputs": [],
   "source": [
    "import selenium\n",
    "from selenium import webdriver\n",
    "import pandas as pd\n",
    "import warnings\n",
    "warnings.filterwarnings('ignore')"
   ]
  },
  {
   "cell_type": "code",
   "execution_count": 2,
   "id": "5331319d",
   "metadata": {},
   "outputs": [],
   "source": [
    "driver = webdriver.Chrome('chromedriver.exe')"
   ]
  },
  {
   "cell_type": "code",
   "execution_count": 4,
   "id": "c2fe5141",
   "metadata": {},
   "outputs": [],
   "source": [
    "url = \"https://www.flipkart.com/apple-iphone-11-black-64-gb-includes-%20earpods-poweradapter/p/itm0f37c2240b217?pid=MOBFKCTSVZAXUHGR&lid=LSTMOBFKC%20TSVZAXUHGREPBFGI&marketplace\"\n",
    "driver.get(url)"
   ]
  },
  {
   "cell_type": "code",
   "execution_count": 5,
   "id": "d45df09d",
   "metadata": {},
   "outputs": [
    {
     "data": {
      "text/plain": [
       "[<selenium.webdriver.remote.webelement.WebElement (session=\"564f79b0035b341a0ba0e97b1cfa4ff2\", element=\"48eed559-8014-47e4-b0d2-39f28db367b1\")>]"
      ]
     },
     "execution_count": 5,
     "metadata": {},
     "output_type": "execute_result"
    }
   ],
   "source": [
    "ratings = driver.find_elements_by_class_name('_2d4LTz')\n",
    "ratings"
   ]
  },
  {
   "cell_type": "code",
   "execution_count": 6,
   "id": "6b169da9",
   "metadata": {},
   "outputs": [
    {
     "data": {
      "text/plain": [
       "['4.6']"
      ]
     },
     "execution_count": 6,
     "metadata": {},
     "output_type": "execute_result"
    }
   ],
   "source": [
    "Rating = []\n",
    "\n",
    "for ratin in ratings:\n",
    "    Rating.append(ratin.text)\n",
    "Rating"
   ]
  },
  {
   "cell_type": "code",
   "execution_count": 8,
   "id": "62a8fb9a",
   "metadata": {},
   "outputs": [
    {
     "data": {
      "text/plain": [
       "[<selenium.webdriver.remote.webelement.WebElement (session=\"564f79b0035b341a0ba0e97b1cfa4ff2\", element=\"7246363b-3036-476e-b24c-e1085de23710\")>,\n",
       " <selenium.webdriver.remote.webelement.WebElement (session=\"564f79b0035b341a0ba0e97b1cfa4ff2\", element=\"d8df7e25-9702-4dc8-a3f2-b50aafdbe87b\")>,\n",
       " <selenium.webdriver.remote.webelement.WebElement (session=\"564f79b0035b341a0ba0e97b1cfa4ff2\", element=\"e4bd5da7-a631-41ed-83df-8efed4cdf747\")>,\n",
       " <selenium.webdriver.remote.webelement.WebElement (session=\"564f79b0035b341a0ba0e97b1cfa4ff2\", element=\"b7c878dc-d0e7-4d40-b025-5acdcc29db61\")>]"
      ]
     },
     "execution_count": 8,
     "metadata": {},
     "output_type": "execute_result"
    }
   ],
   "source": [
    "rev = driver.find_elements_by_class_name('_2a78PX')\n",
    "rev"
   ]
  },
  {
   "cell_type": "code",
   "execution_count": 11,
   "id": "d4dafd8d",
   "metadata": {},
   "outputs": [
    {
     "data": {
      "text/plain": [
       "['4.5 Camera', '4.2 Battery', '4.4 Display', '4.2 Value for Money']"
      ]
     },
     "execution_count": 11,
     "metadata": {},
     "output_type": "execute_result"
    }
   ],
   "source": [
    "Review = []\n",
    "\n",
    "for revie in rev:\n",
    "    Review.append(revie.text.replace('\\n', \" \"))\n",
    "Review"
   ]
  },
  {
   "cell_type": "code",
   "execution_count": 53,
   "id": "43e44d6e",
   "metadata": {},
   "outputs": [
    {
     "data": {
      "text/plain": [
       "[<selenium.webdriver.remote.webelement.WebElement (session=\"564f79b0035b341a0ba0e97b1cfa4ff2\", element=\"3a8c9f12-61d2-4fd1-a066-234811dcb570\")>,\n",
       " <selenium.webdriver.remote.webelement.WebElement (session=\"564f79b0035b341a0ba0e97b1cfa4ff2\", element=\"897b47fa-bf94-4dc8-b0e6-22c8fc585447\")>,\n",
       " <selenium.webdriver.remote.webelement.WebElement (session=\"564f79b0035b341a0ba0e97b1cfa4ff2\", element=\"9a29473d-96f5-4d0a-a4fd-aea8a68cd3d5\")>,\n",
       " <selenium.webdriver.remote.webelement.WebElement (session=\"564f79b0035b341a0ba0e97b1cfa4ff2\", element=\"621fb062-e70b-4265-860f-886bbc144041\")>,\n",
       " <selenium.webdriver.remote.webelement.WebElement (session=\"564f79b0035b341a0ba0e97b1cfa4ff2\", element=\"6998810a-fa37-489b-8f07-39ea411094bc\")>,\n",
       " <selenium.webdriver.remote.webelement.WebElement (session=\"564f79b0035b341a0ba0e97b1cfa4ff2\", element=\"101b05f9-d044-40dc-997c-15e8690b7a5a\")>,\n",
       " <selenium.webdriver.remote.webelement.WebElement (session=\"564f79b0035b341a0ba0e97b1cfa4ff2\", element=\"c9b5fc8e-c070-4b2d-9a04-451ec4070890\")>,\n",
       " <selenium.webdriver.remote.webelement.WebElement (session=\"564f79b0035b341a0ba0e97b1cfa4ff2\", element=\"32dac966-67d1-4f8d-a688-924f0b2b228d\")>,\n",
       " <selenium.webdriver.remote.webelement.WebElement (session=\"564f79b0035b341a0ba0e97b1cfa4ff2\", element=\"4c974baf-5e84-4f96-852a-5dc25837ca9d\")>]"
      ]
     },
     "execution_count": 53,
     "metadata": {},
     "output_type": "execute_result"
    }
   ],
   "source": [
    "fulrevline1 = driver.find_elements_by_xpath('//div[@class=\"_3LWZlK _1BLPMq\"]')[:3]\n",
    "fulrevline2 = driver.find_elements_by_xpath('//p[@class=\"_2-N8zT\"]')[:3]\n",
    "fulrevline3 = driver.find_elements_by_xpath('//div[@class=\"t-ZTKy\"]')[:3]\n",
    "fulrevline3\n",
    "\n",
    "fulreviewpag1 = list(fulrevline1+fulrevline2+fulrevline3)\n",
    "fulreviewpag1"
   ]
  },
  {
   "cell_type": "code",
   "execution_count": 61,
   "id": "75314670",
   "metadata": {},
   "outputs": [
    {
     "data": {
      "text/plain": [
       "[['5'], ['5'], ['5']]"
      ]
     },
     "execution_count": 61,
     "metadata": {},
     "output_type": "execute_result"
    }
   ],
   "source": [
    "FullReview1 = []\n",
    "\n",
    "for freview in fulrevline1:\n",
    "    FullReview1.append(freview.text.split('\\n'))\n",
    "FullReview1"
   ]
  },
  {
   "cell_type": "code",
   "execution_count": 62,
   "id": "4f73906f",
   "metadata": {},
   "outputs": [
    {
     "data": {
      "text/plain": [
       "[['Brilliant'], ['Simply awesome'], ['Perfect product!']]"
      ]
     },
     "execution_count": 62,
     "metadata": {},
     "output_type": "execute_result"
    }
   ],
   "source": [
    "FullReview2 = []\n",
    "\n",
    "for freview in fulrevline2:\n",
    "    FullReview2.append(freview.text.split('\\n'))\n",
    "FullReview2"
   ]
  },
  {
   "cell_type": "code",
   "execution_count": 63,
   "id": "21b27cca",
   "metadata": {},
   "outputs": [
    {
     "data": {
      "text/plain": [
       "[['The Best Phone for the Money',\n",
       "  '',\n",
       "  'The iPhone 11 offers superb cameras, a more durable design and excellent battery life for an affordable price.',\n",
       "  '',\n",
       "  'Compelling ultra-wide camera',\n",
       "  'New Night mode is excellent',\n",
       "  'Long battery life'],\n",
       " ['Really satisfied with the Product I received... It’s totally genuine and the packaging was also really good so if ur planning to buy just go for it.'],\n",
       " ['Amazing phone with great cameras and better battery which gives you the best performance. I just love the camera .']]"
      ]
     },
     "execution_count": 63,
     "metadata": {},
     "output_type": "execute_result"
    }
   ],
   "source": [
    "FullReview3 = []\n",
    "\n",
    "for freview in fulrevline3:\n",
    "    FullReview3.append(freview.text.split('\\n'))\n",
    "FullReview3"
   ]
  },
  {
   "cell_type": "code",
   "execution_count": 64,
   "id": "8cc2b0e5",
   "metadata": {},
   "outputs": [
    {
     "data": {
      "text/html": [
       "<div>\n",
       "<style scoped>\n",
       "    .dataframe tbody tr th:only-of-type {\n",
       "        vertical-align: middle;\n",
       "    }\n",
       "\n",
       "    .dataframe tbody tr th {\n",
       "        vertical-align: top;\n",
       "    }\n",
       "\n",
       "    .dataframe thead th {\n",
       "        text-align: right;\n",
       "    }\n",
       "</style>\n",
       "<table border=\"1\" class=\"dataframe\">\n",
       "  <thead>\n",
       "    <tr style=\"text-align: right;\">\n",
       "      <th></th>\n",
       "      <th>Rating</th>\n",
       "      <th>Short Review</th>\n",
       "      <th>Full Review</th>\n",
       "    </tr>\n",
       "  </thead>\n",
       "  <tbody>\n",
       "    <tr>\n",
       "      <th>0</th>\n",
       "      <td>[5]</td>\n",
       "      <td>[Brilliant]</td>\n",
       "      <td>[The Best Phone for the Money, , The iPhone 11...</td>\n",
       "    </tr>\n",
       "    <tr>\n",
       "      <th>1</th>\n",
       "      <td>[5]</td>\n",
       "      <td>[Simply awesome]</td>\n",
       "      <td>[Really satisfied with the Product I received....</td>\n",
       "    </tr>\n",
       "    <tr>\n",
       "      <th>2</th>\n",
       "      <td>[5]</td>\n",
       "      <td>[Perfect product!]</td>\n",
       "      <td>[Amazing phone with great cameras and better b...</td>\n",
       "    </tr>\n",
       "  </tbody>\n",
       "</table>\n",
       "</div>"
      ],
      "text/plain": [
       "  Rating        Short Review  \\\n",
       "0    [5]         [Brilliant]   \n",
       "1    [5]    [Simply awesome]   \n",
       "2    [5]  [Perfect product!]   \n",
       "\n",
       "                                         Full Review  \n",
       "0  [The Best Phone for the Money, , The iPhone 11...  \n",
       "1  [Really satisfied with the Product I received....  \n",
       "2  [Amazing phone with great cameras and better b...  "
      ]
     },
     "execution_count": 64,
     "metadata": {},
     "output_type": "execute_result"
    }
   ],
   "source": [
    "data = pd.DataFrame()\n",
    "data ['Rating'] = FullReview1\n",
    "data ['Short Review'] = FullReview2\n",
    "data ['Full Review'] = FullReview3\n",
    "data.head(10)"
   ]
  },
  {
   "cell_type": "code",
   "execution_count": 65,
   "id": "f335a2c0",
   "metadata": {},
   "outputs": [
    {
     "data": {
      "text/plain": [
       "<selenium.webdriver.remote.webelement.WebElement (session=\"564f79b0035b341a0ba0e97b1cfa4ff2\", element=\"a02b1309-1ddc-4112-a823-4a96301786fe\")>"
      ]
     },
     "execution_count": 65,
     "metadata": {},
     "output_type": "execute_result"
    }
   ],
   "source": [
    "readallrev = driver.find_element_by_xpath('/html/body/div[1]/div/div[3]/div[1]/div[2]/div[7]/div/div/div[5]/div/a/div')\n",
    "readallrev"
   ]
  },
  {
   "cell_type": "code",
   "execution_count": 66,
   "id": "afe8b87d",
   "metadata": {},
   "outputs": [],
   "source": [
    "readallrev.click()"
   ]
  },
  {
   "cell_type": "code",
   "execution_count": 69,
   "id": "c2d7cae1",
   "metadata": {},
   "outputs": [
    {
     "data": {
      "text/plain": [
       "[<selenium.webdriver.remote.webelement.WebElement (session=\"564f79b0035b341a0ba0e97b1cfa4ff2\", element=\"816ccfa5-6430-42b5-bcb1-f6ee8accc818\")>,\n",
       " <selenium.webdriver.remote.webelement.WebElement (session=\"564f79b0035b341a0ba0e97b1cfa4ff2\", element=\"ebe70a6a-7db8-49f5-a72a-e29f371b2585\")>,\n",
       " <selenium.webdriver.remote.webelement.WebElement (session=\"564f79b0035b341a0ba0e97b1cfa4ff2\", element=\"258c7343-cd12-4992-9fbd-4b77e968a85c\")>,\n",
       " <selenium.webdriver.remote.webelement.WebElement (session=\"564f79b0035b341a0ba0e97b1cfa4ff2\", element=\"ac099be4-d317-458e-abf8-c00c1e66f454\")>,\n",
       " <selenium.webdriver.remote.webelement.WebElement (session=\"564f79b0035b341a0ba0e97b1cfa4ff2\", element=\"5b445bc9-42f4-46db-bf82-2c399f68d496\")>,\n",
       " <selenium.webdriver.remote.webelement.WebElement (session=\"564f79b0035b341a0ba0e97b1cfa4ff2\", element=\"225c10a4-0d4b-44f5-ba0f-c92d19f1c1ba\")>,\n",
       " <selenium.webdriver.remote.webelement.WebElement (session=\"564f79b0035b341a0ba0e97b1cfa4ff2\", element=\"6754775e-a161-4b85-a0f5-4ddcfb53475a\")>,\n",
       " <selenium.webdriver.remote.webelement.WebElement (session=\"564f79b0035b341a0ba0e97b1cfa4ff2\", element=\"8f10d07b-f0db-4901-add6-eafde9ef3b28\")>,\n",
       " <selenium.webdriver.remote.webelement.WebElement (session=\"564f79b0035b341a0ba0e97b1cfa4ff2\", element=\"f131f1fe-874c-4c2f-bcb9-db9fc8e8ad83\")>,\n",
       " <selenium.webdriver.remote.webelement.WebElement (session=\"564f79b0035b341a0ba0e97b1cfa4ff2\", element=\"2296bef2-b9b9-45b6-b05e-de46e75b6171\")>,\n",
       " <selenium.webdriver.remote.webelement.WebElement (session=\"564f79b0035b341a0ba0e97b1cfa4ff2\", element=\"f0075273-4c39-44b8-a63f-64253e6393c5\")>,\n",
       " <selenium.webdriver.remote.webelement.WebElement (session=\"564f79b0035b341a0ba0e97b1cfa4ff2\", element=\"b11932e2-7e41-4501-9cfe-eedade6e8437\")>,\n",
       " <selenium.webdriver.remote.webelement.WebElement (session=\"564f79b0035b341a0ba0e97b1cfa4ff2\", element=\"cf6d6fba-6e50-4db4-ab66-de601414a984\")>,\n",
       " <selenium.webdriver.remote.webelement.WebElement (session=\"564f79b0035b341a0ba0e97b1cfa4ff2\", element=\"aeb774ca-8915-4b11-a997-00b96df0e00f\")>,\n",
       " <selenium.webdriver.remote.webelement.WebElement (session=\"564f79b0035b341a0ba0e97b1cfa4ff2\", element=\"edee7e6e-6776-4b6f-a816-044591f9266e\")>,\n",
       " <selenium.webdriver.remote.webelement.WebElement (session=\"564f79b0035b341a0ba0e97b1cfa4ff2\", element=\"74346fc1-0c80-4377-abc7-1cef93829dd3\")>,\n",
       " <selenium.webdriver.remote.webelement.WebElement (session=\"564f79b0035b341a0ba0e97b1cfa4ff2\", element=\"26ddcd65-2992-4ae4-96d7-38b8594b1dbc\")>,\n",
       " <selenium.webdriver.remote.webelement.WebElement (session=\"564f79b0035b341a0ba0e97b1cfa4ff2\", element=\"cb09b4c4-dedb-4d4d-a6d3-28d10199d4f3\")>,\n",
       " <selenium.webdriver.remote.webelement.WebElement (session=\"564f79b0035b341a0ba0e97b1cfa4ff2\", element=\"11b2507a-4d03-4e1b-a183-4ac90a485ef2\")>,\n",
       " <selenium.webdriver.remote.webelement.WebElement (session=\"564f79b0035b341a0ba0e97b1cfa4ff2\", element=\"afab866a-d11a-42bb-98b4-6a8786a43c6c\")>,\n",
       " <selenium.webdriver.remote.webelement.WebElement (session=\"564f79b0035b341a0ba0e97b1cfa4ff2\", element=\"3c1954c9-5f79-4776-822c-f769995a94bb\")>,\n",
       " <selenium.webdriver.remote.webelement.WebElement (session=\"564f79b0035b341a0ba0e97b1cfa4ff2\", element=\"89771048-31fa-4623-a6d0-1040a7143cde\")>,\n",
       " <selenium.webdriver.remote.webelement.WebElement (session=\"564f79b0035b341a0ba0e97b1cfa4ff2\", element=\"48093d4f-94da-4ac0-b26e-f99d85665324\")>,\n",
       " <selenium.webdriver.remote.webelement.WebElement (session=\"564f79b0035b341a0ba0e97b1cfa4ff2\", element=\"22f18421-7b5c-4315-899c-108a0874b472\")>,\n",
       " <selenium.webdriver.remote.webelement.WebElement (session=\"564f79b0035b341a0ba0e97b1cfa4ff2\", element=\"c2257c8c-54fc-4bcd-b928-234e51b7f820\")>,\n",
       " <selenium.webdriver.remote.webelement.WebElement (session=\"564f79b0035b341a0ba0e97b1cfa4ff2\", element=\"117e036f-f601-4c8a-b9d3-53b1046de431\")>,\n",
       " <selenium.webdriver.remote.webelement.WebElement (session=\"564f79b0035b341a0ba0e97b1cfa4ff2\", element=\"f872d996-3ed8-401e-b142-451b5b217f26\")>,\n",
       " <selenium.webdriver.remote.webelement.WebElement (session=\"564f79b0035b341a0ba0e97b1cfa4ff2\", element=\"9ab3594f-c334-4430-b81c-5555193aa126\")>,\n",
       " <selenium.webdriver.remote.webelement.WebElement (session=\"564f79b0035b341a0ba0e97b1cfa4ff2\", element=\"1dcddcc4-a18d-47f2-8067-77235f75632d\")>,\n",
       " <selenium.webdriver.remote.webelement.WebElement (session=\"564f79b0035b341a0ba0e97b1cfa4ff2\", element=\"dc694e7a-6a16-423b-b0c2-5e93f5046784\")>]"
      ]
     },
     "execution_count": 69,
     "metadata": {},
     "output_type": "execute_result"
    }
   ],
   "source": [
    "fulrevline4 = driver.find_elements_by_xpath('//div[@class=\"_3LWZlK _1BLPMq\"]')[:100]\n",
    "fulrevline5 = driver.find_elements_by_xpath('//p[@class=\"_2-N8zT\"]')[:100]\n",
    "fulrevline6 = driver.find_elements_by_xpath('//div[@class=\"t-ZTKy\"]')[:100]\n",
    "fulrevline6\n",
    "\n",
    "fulreviewpag2 = list(fulrevline4+fulrevline5+fulrevline6)\n",
    "fulreviewpag2"
   ]
  },
  {
   "cell_type": "code",
   "execution_count": 70,
   "id": "47d97978",
   "metadata": {},
   "outputs": [
    {
     "data": {
      "text/plain": [
       "[['5'], ['5'], ['5'], ['5'], ['5'], ['5'], ['5'], ['4'], ['5'], ['5']]"
      ]
     },
     "execution_count": 70,
     "metadata": {},
     "output_type": "execute_result"
    }
   ],
   "source": [
    "FullReview4 = []\n",
    "\n",
    "for freview in fulrevline4:\n",
    "    FullReview4.append(freview.text.split('\\n'))\n",
    "FullReview4"
   ]
  },
  {
   "cell_type": "code",
   "execution_count": 71,
   "id": "dd5d92bd",
   "metadata": {},
   "outputs": [
    {
     "data": {
      "text/plain": [
       "[['Brilliant'],\n",
       " ['Simply awesome'],\n",
       " ['Perfect product!'],\n",
       " ['Best in the market!'],\n",
       " ['Worth every penny'],\n",
       " ['Fabulous!'],\n",
       " ['Great product'],\n",
       " ['Good choice'],\n",
       " ['Highly recommended'],\n",
       " ['Worth every penny']]"
      ]
     },
     "execution_count": 71,
     "metadata": {},
     "output_type": "execute_result"
    }
   ],
   "source": [
    "FullReview5 = []\n",
    "\n",
    "for freview in fulrevline5:\n",
    "    FullReview5.append(freview.text.split('\\n'))\n",
    "FullReview5"
   ]
  },
  {
   "cell_type": "code",
   "execution_count": 72,
   "id": "cdfec853",
   "metadata": {},
   "outputs": [
    {
     "data": {
      "text/plain": [
       "[['The Best Phone for the Money',\n",
       "  '',\n",
       "  'The iPhone 11 offers superb cameras, a more durable design and excellent battery life for an affordable price.',\n",
       "  '',\n",
       "  'Compelling ultra-wide camera',\n",
       "  'New Night mode is excellent',\n",
       "  'Long battery life'],\n",
       " ['Really satisfied with the Product I received... It’s totally genuine and the packaging was also really good so if ur planning to buy just go for it.'],\n",
       " ['Amazing phone with great cameras and better battery which gives you the best performance. I just love the camera .'],\n",
       " ['Great iPhone very snappy experience as apple kind. Upgraded from iPhone 7.',\n",
       "  'Pros',\n",
       "  '-Camera top class',\n",
       "  '- Battery top performed',\n",
       "  '-Chipset no need to say as apple kind',\n",
       "  '-Security as you expect from apple',\n",
       "  '- Display super bright industry leading colour',\n",
       "  'accuracy and super responsive',\n",
       "  '-Build quality as expect from apple sturdy',\n",
       "  'premium durable beautiful stylish.',\n",
       "  '-Os most stable os in smartphone industry',\n",
       "  '',\n",
       "  'Cons',\n",
       "  '-No 5G',\n",
       "  '-Display is not based on OLED technology',\n",
       "  '-Charger headphones and 1 apple stic...',\n",
       "  'READ MORE'],\n",
       " ['Previously I was using one plus 3t it was a great phone',\n",
       "  'And then I decided to upgrade I am stuck between Samsung s10 plus or iPhone 11',\n",
       "  'I have seen the specs and everything were good except the display it’s somewhere between 720-1080 and it’s not even an amoled it’s an LCD display',\n",
       "  'But I decided to go with iPhone because I have never used an IOS device I have Been an android user from the past 9 years I ordered IPhone 11 (128gb) product red',\n",
       "  'My experience after using 3 weeks',\n",
       "  '1. The delivery ...',\n",
       "  'READ MORE'],\n",
       " ['This is my first iOS phone. I am very happy with this product. Very much satisfied with this. I love this phone.'],\n",
       " ['Amazing Powerful and Durable Gadget.',\n",
       "  '',\n",
       "  'I’m am very happy with the camera picture quality, Amazing face id unlocked in dark room, Strong battery with perfect screen size as you can carry easily in pocket. This is my third iPhone.',\n",
       "  '',\n",
       "  'I shifted from android Samsung Note series to iPhone because of the strong build quality and peace of mind for next 3-4 years.',\n",
       "  '',\n",
       "  'Don’t think to much just go for it and I suggest you to go for minimum 128gb variant or more 256gb.',\n",
       "  '',\n",
       "  'I’ve attached my puppy pics and no fi...',\n",
       "  'READ MORE'],\n",
       " ['So far it’s been an AMAZING experience coming back to iOS after nearly a decade but it’s not as versatile as android though phone is sturdy dropped it accidentally a couple of times and nothing happened fortunately camera is awesome'],\n",
       " ['What a camera .....just awesome ..you can feel this iPhone just awesome . Good for gaming also ...try pubg in hd it’s just wow'],\n",
       " ['i11 is worthy to buy, too much happy with the product. Thank u flipkart I received the item on time..loved it..']]"
      ]
     },
     "execution_count": 72,
     "metadata": {},
     "output_type": "execute_result"
    }
   ],
   "source": [
    "FullReview6 = []\n",
    "\n",
    "for freview in fulrevline6:\n",
    "    FullReview6.append(freview.text.split('\\n'))\n",
    "FullReview6"
   ]
  },
  {
   "cell_type": "code",
   "execution_count": 73,
   "id": "00dfb04b",
   "metadata": {},
   "outputs": [
    {
     "data": {
      "text/html": [
       "<div>\n",
       "<style scoped>\n",
       "    .dataframe tbody tr th:only-of-type {\n",
       "        vertical-align: middle;\n",
       "    }\n",
       "\n",
       "    .dataframe tbody tr th {\n",
       "        vertical-align: top;\n",
       "    }\n",
       "\n",
       "    .dataframe thead th {\n",
       "        text-align: right;\n",
       "    }\n",
       "</style>\n",
       "<table border=\"1\" class=\"dataframe\">\n",
       "  <thead>\n",
       "    <tr style=\"text-align: right;\">\n",
       "      <th></th>\n",
       "      <th>Rating</th>\n",
       "      <th>Short Review</th>\n",
       "      <th>Full Review</th>\n",
       "    </tr>\n",
       "  </thead>\n",
       "  <tbody>\n",
       "    <tr>\n",
       "      <th>0</th>\n",
       "      <td>[5]</td>\n",
       "      <td>[Brilliant]</td>\n",
       "      <td>[The Best Phone for the Money, , The iPhone 11...</td>\n",
       "    </tr>\n",
       "    <tr>\n",
       "      <th>1</th>\n",
       "      <td>[5]</td>\n",
       "      <td>[Simply awesome]</td>\n",
       "      <td>[Really satisfied with the Product I received....</td>\n",
       "    </tr>\n",
       "    <tr>\n",
       "      <th>2</th>\n",
       "      <td>[5]</td>\n",
       "      <td>[Perfect product!]</td>\n",
       "      <td>[Amazing phone with great cameras and better b...</td>\n",
       "    </tr>\n",
       "    <tr>\n",
       "      <th>3</th>\n",
       "      <td>[5]</td>\n",
       "      <td>[Best in the market!]</td>\n",
       "      <td>[Great iPhone very snappy experience as apple ...</td>\n",
       "    </tr>\n",
       "    <tr>\n",
       "      <th>4</th>\n",
       "      <td>[5]</td>\n",
       "      <td>[Worth every penny]</td>\n",
       "      <td>[Previously I was using one plus 3t it was a g...</td>\n",
       "    </tr>\n",
       "    <tr>\n",
       "      <th>5</th>\n",
       "      <td>[5]</td>\n",
       "      <td>[Fabulous!]</td>\n",
       "      <td>[This is my first iOS phone. I am very happy w...</td>\n",
       "    </tr>\n",
       "    <tr>\n",
       "      <th>6</th>\n",
       "      <td>[5]</td>\n",
       "      <td>[Great product]</td>\n",
       "      <td>[Amazing Powerful and Durable Gadget., , I’m a...</td>\n",
       "    </tr>\n",
       "    <tr>\n",
       "      <th>7</th>\n",
       "      <td>[4]</td>\n",
       "      <td>[Good choice]</td>\n",
       "      <td>[So far it’s been an AMAZING experience coming...</td>\n",
       "    </tr>\n",
       "    <tr>\n",
       "      <th>8</th>\n",
       "      <td>[5]</td>\n",
       "      <td>[Highly recommended]</td>\n",
       "      <td>[What a camera .....just awesome ..you can fee...</td>\n",
       "    </tr>\n",
       "    <tr>\n",
       "      <th>9</th>\n",
       "      <td>[5]</td>\n",
       "      <td>[Worth every penny]</td>\n",
       "      <td>[i11 is worthy to buy, too much happy with the...</td>\n",
       "    </tr>\n",
       "  </tbody>\n",
       "</table>\n",
       "</div>"
      ],
      "text/plain": [
       "  Rating           Short Review  \\\n",
       "0    [5]            [Brilliant]   \n",
       "1    [5]       [Simply awesome]   \n",
       "2    [5]     [Perfect product!]   \n",
       "3    [5]  [Best in the market!]   \n",
       "4    [5]    [Worth every penny]   \n",
       "5    [5]            [Fabulous!]   \n",
       "6    [5]        [Great product]   \n",
       "7    [4]          [Good choice]   \n",
       "8    [5]   [Highly recommended]   \n",
       "9    [5]    [Worth every penny]   \n",
       "\n",
       "                                         Full Review  \n",
       "0  [The Best Phone for the Money, , The iPhone 11...  \n",
       "1  [Really satisfied with the Product I received....  \n",
       "2  [Amazing phone with great cameras and better b...  \n",
       "3  [Great iPhone very snappy experience as apple ...  \n",
       "4  [Previously I was using one plus 3t it was a g...  \n",
       "5  [This is my first iOS phone. I am very happy w...  \n",
       "6  [Amazing Powerful and Durable Gadget., , I’m a...  \n",
       "7  [So far it’s been an AMAZING experience coming...  \n",
       "8  [What a camera .....just awesome ..you can fee...  \n",
       "9  [i11 is worthy to buy, too much happy with the...  "
      ]
     },
     "execution_count": 73,
     "metadata": {},
     "output_type": "execute_result"
    }
   ],
   "source": [
    "data1 = pd.DataFrame()\n",
    "data1 ['Rating'] = FullReview4\n",
    "data1 ['Short Review'] = FullReview5\n",
    "data1 ['Full Review'] = FullReview6\n",
    "data1.head(10)"
   ]
  },
  {
   "cell_type": "code",
   "execution_count": 74,
   "id": "d90b9589",
   "metadata": {},
   "outputs": [
    {
     "data": {
      "text/plain": [
       "<selenium.webdriver.remote.webelement.WebElement (session=\"564f79b0035b341a0ba0e97b1cfa4ff2\", element=\"a8bffd75-a7cd-4bbe-af38-6b398088e534\")>"
      ]
     },
     "execution_count": 74,
     "metadata": {},
     "output_type": "execute_result"
    }
   ],
   "source": [
    "clicknextpage2 = driver.find_element_by_xpath('/html/body/div[1]/div/div[3]/div/div/div[2]/div[13]/div/div/nav/a[2]')\n",
    "clicknextpage2"
   ]
  },
  {
   "cell_type": "code",
   "execution_count": 76,
   "id": "32ea6a1a",
   "metadata": {},
   "outputs": [],
   "source": [
    "clicknextpage2.click()"
   ]
  },
  {
   "cell_type": "code",
   "execution_count": 77,
   "id": "59234354",
   "metadata": {},
   "outputs": [
    {
     "data": {
      "text/plain": [
       "[<selenium.webdriver.remote.webelement.WebElement (session=\"564f79b0035b341a0ba0e97b1cfa4ff2\", element=\"2a19c8f6-8eb6-4b01-96cf-451f56df3e91\")>,\n",
       " <selenium.webdriver.remote.webelement.WebElement (session=\"564f79b0035b341a0ba0e97b1cfa4ff2\", element=\"5598a7c5-3d9b-49ff-9766-45f14666f1a9\")>,\n",
       " <selenium.webdriver.remote.webelement.WebElement (session=\"564f79b0035b341a0ba0e97b1cfa4ff2\", element=\"e504b1e0-feea-4b92-848a-ded3ad3033cb\")>,\n",
       " <selenium.webdriver.remote.webelement.WebElement (session=\"564f79b0035b341a0ba0e97b1cfa4ff2\", element=\"1d9cd3ba-f3d2-40b9-8aaf-f1c5d60e3fd3\")>,\n",
       " <selenium.webdriver.remote.webelement.WebElement (session=\"564f79b0035b341a0ba0e97b1cfa4ff2\", element=\"43e63c71-00f9-495b-8f4d-b23ec42a674a\")>,\n",
       " <selenium.webdriver.remote.webelement.WebElement (session=\"564f79b0035b341a0ba0e97b1cfa4ff2\", element=\"0a168054-a7c3-4db8-b632-0a6558e41a49\")>,\n",
       " <selenium.webdriver.remote.webelement.WebElement (session=\"564f79b0035b341a0ba0e97b1cfa4ff2\", element=\"243e8f50-f262-4fe8-87cc-d4eac16d1fe9\")>,\n",
       " <selenium.webdriver.remote.webelement.WebElement (session=\"564f79b0035b341a0ba0e97b1cfa4ff2\", element=\"4c6955d4-fdd1-4103-a65c-ca3b283e4f21\")>,\n",
       " <selenium.webdriver.remote.webelement.WebElement (session=\"564f79b0035b341a0ba0e97b1cfa4ff2\", element=\"88fd2d20-6f1d-41d5-9ad6-867291146a03\")>,\n",
       " <selenium.webdriver.remote.webelement.WebElement (session=\"564f79b0035b341a0ba0e97b1cfa4ff2\", element=\"6cdafd07-7404-4879-b160-0a4407d8eb6a\")>,\n",
       " <selenium.webdriver.remote.webelement.WebElement (session=\"564f79b0035b341a0ba0e97b1cfa4ff2\", element=\"8a25b06c-9e84-406c-991e-31085f11fe68\")>,\n",
       " <selenium.webdriver.remote.webelement.WebElement (session=\"564f79b0035b341a0ba0e97b1cfa4ff2\", element=\"005c0b48-3ee8-4655-aa19-d9d6cb60e537\")>,\n",
       " <selenium.webdriver.remote.webelement.WebElement (session=\"564f79b0035b341a0ba0e97b1cfa4ff2\", element=\"aa5132fa-b553-402c-a6f4-9fc8d0dd4353\")>,\n",
       " <selenium.webdriver.remote.webelement.WebElement (session=\"564f79b0035b341a0ba0e97b1cfa4ff2\", element=\"a26cd28a-c661-40df-9cb7-75bdd54e9bfa\")>,\n",
       " <selenium.webdriver.remote.webelement.WebElement (session=\"564f79b0035b341a0ba0e97b1cfa4ff2\", element=\"dedadf3a-e47d-4184-8945-57d159187d5a\")>,\n",
       " <selenium.webdriver.remote.webelement.WebElement (session=\"564f79b0035b341a0ba0e97b1cfa4ff2\", element=\"a5d10e93-bad3-4b7a-923f-4194ba968a46\")>,\n",
       " <selenium.webdriver.remote.webelement.WebElement (session=\"564f79b0035b341a0ba0e97b1cfa4ff2\", element=\"444e1471-96aa-417e-aa78-975d1ee7eaad\")>,\n",
       " <selenium.webdriver.remote.webelement.WebElement (session=\"564f79b0035b341a0ba0e97b1cfa4ff2\", element=\"599216f4-c52e-448c-a922-4c5efe6c8c9a\")>,\n",
       " <selenium.webdriver.remote.webelement.WebElement (session=\"564f79b0035b341a0ba0e97b1cfa4ff2\", element=\"ced1a17f-20b5-4d42-b5ae-0681f9cacb71\")>,\n",
       " <selenium.webdriver.remote.webelement.WebElement (session=\"564f79b0035b341a0ba0e97b1cfa4ff2\", element=\"be504c64-92c9-462e-92e9-119486d69b93\")>,\n",
       " <selenium.webdriver.remote.webelement.WebElement (session=\"564f79b0035b341a0ba0e97b1cfa4ff2\", element=\"5c39aa84-ce41-4485-968d-4d7db9602bab\")>,\n",
       " <selenium.webdriver.remote.webelement.WebElement (session=\"564f79b0035b341a0ba0e97b1cfa4ff2\", element=\"fcf78b8b-e948-4b62-9147-3f8646433a33\")>,\n",
       " <selenium.webdriver.remote.webelement.WebElement (session=\"564f79b0035b341a0ba0e97b1cfa4ff2\", element=\"51990d35-5400-4038-866b-512fa7b7ad1f\")>,\n",
       " <selenium.webdriver.remote.webelement.WebElement (session=\"564f79b0035b341a0ba0e97b1cfa4ff2\", element=\"5d4793f9-bafb-474b-b655-1307a7603610\")>,\n",
       " <selenium.webdriver.remote.webelement.WebElement (session=\"564f79b0035b341a0ba0e97b1cfa4ff2\", element=\"084987ac-4035-4062-b5e7-e4992759d014\")>,\n",
       " <selenium.webdriver.remote.webelement.WebElement (session=\"564f79b0035b341a0ba0e97b1cfa4ff2\", element=\"fe386535-5d8a-4653-8ef0-3629a7e869e3\")>,\n",
       " <selenium.webdriver.remote.webelement.WebElement (session=\"564f79b0035b341a0ba0e97b1cfa4ff2\", element=\"5f67e477-c4c8-4d55-979a-3d09919bf328\")>,\n",
       " <selenium.webdriver.remote.webelement.WebElement (session=\"564f79b0035b341a0ba0e97b1cfa4ff2\", element=\"b31de7be-f01a-4ddb-97c9-5f9e6bfccbdc\")>,\n",
       " <selenium.webdriver.remote.webelement.WebElement (session=\"564f79b0035b341a0ba0e97b1cfa4ff2\", element=\"1fe4bd5e-82fa-48be-a6b4-f563acd60936\")>,\n",
       " <selenium.webdriver.remote.webelement.WebElement (session=\"564f79b0035b341a0ba0e97b1cfa4ff2\", element=\"c62981b5-2bb9-4433-8298-2f7264b72fc8\")>]"
      ]
     },
     "execution_count": 77,
     "metadata": {},
     "output_type": "execute_result"
    }
   ],
   "source": [
    "fulrevline7 = driver.find_elements_by_xpath('//div[@class=\"_3LWZlK _1BLPMq\"]')[:100]\n",
    "fulrevline8 = driver.find_elements_by_xpath('//p[@class=\"_2-N8zT\"]')[:100]\n",
    "fulrevline9 = driver.find_elements_by_xpath('//div[@class=\"t-ZTKy\"]')[:100]\n",
    "fulrevline9\n",
    "\n",
    "fulreviewpag3 = list(fulrevline7+fulrevline8+fulrevline9)\n",
    "fulreviewpag3"
   ]
  },
  {
   "cell_type": "code",
   "execution_count": 78,
   "id": "424db2c1",
   "metadata": {},
   "outputs": [
    {
     "data": {
      "text/plain": [
       "[['5'], ['5'], ['5'], ['5'], ['5'], ['5'], ['5'], ['5'], ['5'], ['5']]"
      ]
     },
     "execution_count": 78,
     "metadata": {},
     "output_type": "execute_result"
    }
   ],
   "source": [
    "FullReview7 = []\n",
    "\n",
    "for freview in fulrevline7:\n",
    "    FullReview7.append(freview.text.split('\\n'))\n",
    "FullReview7"
   ]
  },
  {
   "cell_type": "code",
   "execution_count": 79,
   "id": "baec6282",
   "metadata": {},
   "outputs": [
    {
     "data": {
      "text/plain": [
       "[['Highly recommended'],\n",
       " ['Perfect product!'],\n",
       " ['Perfect product!'],\n",
       " ['Highly recommended'],\n",
       " ['Perfect product!'],\n",
       " ['Worth every penny'],\n",
       " ['Classy product'],\n",
       " ['Simply awesome'],\n",
       " ['Worth every penny'],\n",
       " ['Worth every penny']]"
      ]
     },
     "execution_count": 79,
     "metadata": {},
     "output_type": "execute_result"
    }
   ],
   "source": [
    "FullReview8 = []\n",
    "\n",
    "for freview in fulrevline8:\n",
    "    FullReview8.append(freview.text.split('\\n'))\n",
    "FullReview8"
   ]
  },
  {
   "cell_type": "code",
   "execution_count": 80,
   "id": "13a99d4c",
   "metadata": {},
   "outputs": [
    {
     "data": {
      "text/plain": [
       "[['iphone 11 is a very good phone to buy only if you can compromise for the display. The display on this is device is pretty good but you can get other options with better displays in this price segment.',\n",
       "  'If you can survive with an HD+ LCD panel with thicker bezels and a notch up top then this is a very good phone for you.',\n",
       "  'Cameras are awesome, battery backup excellent, great performance and a decent premium look. Good job Apple !'],\n",
       " ['It’s a must buy who is looking for an upgrade from previous generation of iPhones. If you are using XR then still you can hold on for sometime and upgrade to 2020 model else this phone is a must buy . Camera quality is amazing and wide angle is something to count upon. Performance wise it’s amazing and feels premium while holding in hand. So a big YES for this device. Go for 128 GB variant as the 4K videos will occupy lots of space and the storage can get over very quickly. Try to buy it with...',\n",
       "  'READ MORE'],\n",
       " ['Value for money❤️❤️',\n",
       "  'Its awesome mobile phone in the world ...',\n",
       "  'Display was very good and bright ..',\n",
       "  'Trust me freinds you r never regret after Buying..',\n",
       "  'Just go for it....',\n",
       "  'I love this phone and i switch to iphone x to 11'],\n",
       " [\"It's my first time to use iOS phone and I am loving my upgradation 😍😍 I love the color, I love the assebility of the phone....I need to learn more about its functionality, but as far as I have seen, it's quite easy and it has a lot of functions to work on, specially if you are a content writer or a blogger you get a lot of content creation platforms and they are really amazing.\",\n",
       "  '',\n",
       "  'This phone not only for good quality photography but a lot of other task too.😍💯'],\n",
       " [\"Iphone is just awesome.. battery backup is very very nice.. continuously for 10 hours we can use it.camera is just awesome.. display is just fab.i love it alot..i had to wait 15 days for it as i pre ordered it..overalll it's worth the price..these all images are clicked by my iPhone..and i love it.\"],\n",
       " ['Best budget Iphone till date ❤️ go for it guys without second thought. Let me explain you guys about Camera, Display, battery, and performance.',\n",
       "  '',\n",
       "  'Camera: at this price range there is no comparison of camera, you’ll love the picture quality as well as video quality. I am a Vlogger I wanted an iPhone with 4k video by front camera and I got this phone and I am more than happy 😃',\n",
       "  '',\n",
       "  'Battery: I use this phone roughly as I am active social media person and I have a youtube channel. so the battery ba...',\n",
       "  'READ MORE'],\n",
       " ['Totally in love with this ❤ the camera quality is amazing just love it 😘😘😘 itsss dammnnnnnn amazing... Must buy iPhone 11 this is my best experience ever ☀👌👌🧡🧡🧡🧡🧡 thanku apple ❤'],\n",
       " ['Excellent camera, good performance, no lag. The lcd display is also good.. but difference come when we watch movie in prime and Netflix, the colours are not vibrant.. as we see in amoled display.. and the charger in box is of 5 watts.. takes more than 3 hours to charge from 0 to 100.. so guys be prepare to buy 18 watts charger . Finally I am an android user, it was my first Iapple phone, I promise u guys the iOS is so smooth.. overall the phone is damn good.... close eyes to buy it.. thanks t...',\n",
       "  'READ MORE'],\n",
       " ['Smooth like butter, camera like fantabulous, sound is crystal clear & its red color is damn attractive, i am just loving it. Must buy if you love photography.',\n",
       "  '',\n",
       "  'Lucky to get it in sale, thank you Flipkart.'],\n",
       " ['It’s been almost a month since I have been using this phone. I upgraded from an iPhone 8. The main issue with my 8 was battery and this phone is just awesome when it comes to battery. It lasts a day and a half for me with my regular use , internet connected always with 4g',\n",
       "  'Can’t move forward without saying this. Battery of this phone is a life saver when I am traveling or at work when I don’t get the option to charge',\n",
       "  'Camera is superb. Front cam selfies and back cam photos are just awesome.',\n",
       "  '...',\n",
       "  'READ MORE']]"
      ]
     },
     "execution_count": 80,
     "metadata": {},
     "output_type": "execute_result"
    }
   ],
   "source": [
    "FullReview9 = []\n",
    "\n",
    "for freview in fulrevline9:\n",
    "    FullReview9.append(freview.text.split('\\n'))\n",
    "FullReview9"
   ]
  },
  {
   "cell_type": "code",
   "execution_count": 81,
   "id": "91f63978",
   "metadata": {},
   "outputs": [
    {
     "data": {
      "text/html": [
       "<div>\n",
       "<style scoped>\n",
       "    .dataframe tbody tr th:only-of-type {\n",
       "        vertical-align: middle;\n",
       "    }\n",
       "\n",
       "    .dataframe tbody tr th {\n",
       "        vertical-align: top;\n",
       "    }\n",
       "\n",
       "    .dataframe thead th {\n",
       "        text-align: right;\n",
       "    }\n",
       "</style>\n",
       "<table border=\"1\" class=\"dataframe\">\n",
       "  <thead>\n",
       "    <tr style=\"text-align: right;\">\n",
       "      <th></th>\n",
       "      <th>Rating</th>\n",
       "      <th>Short Review</th>\n",
       "      <th>Full Review</th>\n",
       "    </tr>\n",
       "  </thead>\n",
       "  <tbody>\n",
       "    <tr>\n",
       "      <th>0</th>\n",
       "      <td>[5]</td>\n",
       "      <td>[Highly recommended]</td>\n",
       "      <td>[iphone 11 is a very good phone to buy only if...</td>\n",
       "    </tr>\n",
       "    <tr>\n",
       "      <th>1</th>\n",
       "      <td>[5]</td>\n",
       "      <td>[Perfect product!]</td>\n",
       "      <td>[It’s a must buy who is looking for an upgrade...</td>\n",
       "    </tr>\n",
       "    <tr>\n",
       "      <th>2</th>\n",
       "      <td>[5]</td>\n",
       "      <td>[Perfect product!]</td>\n",
       "      <td>[Value for money❤️❤️, Its awesome mobile phone...</td>\n",
       "    </tr>\n",
       "    <tr>\n",
       "      <th>3</th>\n",
       "      <td>[5]</td>\n",
       "      <td>[Highly recommended]</td>\n",
       "      <td>[It's my first time to use iOS phone and I am ...</td>\n",
       "    </tr>\n",
       "    <tr>\n",
       "      <th>4</th>\n",
       "      <td>[5]</td>\n",
       "      <td>[Perfect product!]</td>\n",
       "      <td>[Iphone is just awesome.. battery backup is ve...</td>\n",
       "    </tr>\n",
       "    <tr>\n",
       "      <th>5</th>\n",
       "      <td>[5]</td>\n",
       "      <td>[Worth every penny]</td>\n",
       "      <td>[Best budget Iphone till date ❤️ go for it guy...</td>\n",
       "    </tr>\n",
       "    <tr>\n",
       "      <th>6</th>\n",
       "      <td>[5]</td>\n",
       "      <td>[Classy product]</td>\n",
       "      <td>[Totally in love with this ❤ the camera qualit...</td>\n",
       "    </tr>\n",
       "    <tr>\n",
       "      <th>7</th>\n",
       "      <td>[5]</td>\n",
       "      <td>[Simply awesome]</td>\n",
       "      <td>[Excellent camera, good performance, no lag. T...</td>\n",
       "    </tr>\n",
       "    <tr>\n",
       "      <th>8</th>\n",
       "      <td>[5]</td>\n",
       "      <td>[Worth every penny]</td>\n",
       "      <td>[Smooth like butter, camera like fantabulous, ...</td>\n",
       "    </tr>\n",
       "    <tr>\n",
       "      <th>9</th>\n",
       "      <td>[5]</td>\n",
       "      <td>[Worth every penny]</td>\n",
       "      <td>[It’s been almost a month since I have been us...</td>\n",
       "    </tr>\n",
       "  </tbody>\n",
       "</table>\n",
       "</div>"
      ],
      "text/plain": [
       "  Rating          Short Review  \\\n",
       "0    [5]  [Highly recommended]   \n",
       "1    [5]    [Perfect product!]   \n",
       "2    [5]    [Perfect product!]   \n",
       "3    [5]  [Highly recommended]   \n",
       "4    [5]    [Perfect product!]   \n",
       "5    [5]   [Worth every penny]   \n",
       "6    [5]      [Classy product]   \n",
       "7    [5]      [Simply awesome]   \n",
       "8    [5]   [Worth every penny]   \n",
       "9    [5]   [Worth every penny]   \n",
       "\n",
       "                                         Full Review  \n",
       "0  [iphone 11 is a very good phone to buy only if...  \n",
       "1  [It’s a must buy who is looking for an upgrade...  \n",
       "2  [Value for money❤️❤️, Its awesome mobile phone...  \n",
       "3  [It's my first time to use iOS phone and I am ...  \n",
       "4  [Iphone is just awesome.. battery backup is ve...  \n",
       "5  [Best budget Iphone till date ❤️ go for it guy...  \n",
       "6  [Totally in love with this ❤ the camera qualit...  \n",
       "7  [Excellent camera, good performance, no lag. T...  \n",
       "8  [Smooth like butter, camera like fantabulous, ...  \n",
       "9  [It’s been almost a month since I have been us...  "
      ]
     },
     "execution_count": 81,
     "metadata": {},
     "output_type": "execute_result"
    }
   ],
   "source": [
    "data2 = pd.DataFrame()\n",
    "data2 ['Rating'] = FullReview7\n",
    "data2 ['Short Review'] = FullReview8\n",
    "data2 ['Full Review'] = FullReview9\n",
    "data2.head(11)"
   ]
  },
  {
   "cell_type": "code",
   "execution_count": 88,
   "id": "57b344ae",
   "metadata": {},
   "outputs": [
    {
     "data": {
      "text/plain": [
       "<selenium.webdriver.remote.webelement.WebElement (session=\"564f79b0035b341a0ba0e97b1cfa4ff2\", element=\"b738dd3e-27fa-407a-a5d8-743114f31dfe\")>"
      ]
     },
     "execution_count": 88,
     "metadata": {},
     "output_type": "execute_result"
    }
   ],
   "source": [
    "clicknextpage3 = driver.find_element_by_xpath('/html/body/div[1]/div/div[3]/div/div/div[2]/div[13]/div/div/nav/a[4]')\n",
    "clicknextpage3"
   ]
  },
  {
   "cell_type": "code",
   "execution_count": 89,
   "id": "0aee6b37",
   "metadata": {},
   "outputs": [],
   "source": [
    "clicknextpage3.click()"
   ]
  },
  {
   "cell_type": "code",
   "execution_count": 90,
   "id": "6acb9172",
   "metadata": {},
   "outputs": [
    {
     "data": {
      "text/plain": [
       "[<selenium.webdriver.remote.webelement.WebElement (session=\"564f79b0035b341a0ba0e97b1cfa4ff2\", element=\"b686a6b9-515d-4ed9-9966-87ab6a451a13\")>,\n",
       " <selenium.webdriver.remote.webelement.WebElement (session=\"564f79b0035b341a0ba0e97b1cfa4ff2\", element=\"cde45eb9-9ac3-44e1-be97-c724a14df84c\")>,\n",
       " <selenium.webdriver.remote.webelement.WebElement (session=\"564f79b0035b341a0ba0e97b1cfa4ff2\", element=\"dae07f28-d28d-4429-a1a9-fdc0ea2ddf4f\")>,\n",
       " <selenium.webdriver.remote.webelement.WebElement (session=\"564f79b0035b341a0ba0e97b1cfa4ff2\", element=\"de0164fa-f2ac-44ae-afe6-61d9258f7679\")>,\n",
       " <selenium.webdriver.remote.webelement.WebElement (session=\"564f79b0035b341a0ba0e97b1cfa4ff2\", element=\"08e71941-2545-48a9-9df6-5f60838058f2\")>,\n",
       " <selenium.webdriver.remote.webelement.WebElement (session=\"564f79b0035b341a0ba0e97b1cfa4ff2\", element=\"4622be8c-f208-4ad6-bd5d-7811d0d671be\")>,\n",
       " <selenium.webdriver.remote.webelement.WebElement (session=\"564f79b0035b341a0ba0e97b1cfa4ff2\", element=\"59a6bf79-74c7-4629-89ce-6be6ea2592cf\")>,\n",
       " <selenium.webdriver.remote.webelement.WebElement (session=\"564f79b0035b341a0ba0e97b1cfa4ff2\", element=\"cb4b7535-0b68-49d2-9d96-dd46346bb4ad\")>,\n",
       " <selenium.webdriver.remote.webelement.WebElement (session=\"564f79b0035b341a0ba0e97b1cfa4ff2\", element=\"0a72bacb-8b44-4000-843b-461086d7fcc4\")>,\n",
       " <selenium.webdriver.remote.webelement.WebElement (session=\"564f79b0035b341a0ba0e97b1cfa4ff2\", element=\"9449540a-c1fb-4979-addc-c1ce0d6275d6\")>,\n",
       " <selenium.webdriver.remote.webelement.WebElement (session=\"564f79b0035b341a0ba0e97b1cfa4ff2\", element=\"648e232c-2cf3-4505-ad76-a004c456f069\")>,\n",
       " <selenium.webdriver.remote.webelement.WebElement (session=\"564f79b0035b341a0ba0e97b1cfa4ff2\", element=\"a8b5b458-31a4-4d60-bd7c-576eb2e4edba\")>,\n",
       " <selenium.webdriver.remote.webelement.WebElement (session=\"564f79b0035b341a0ba0e97b1cfa4ff2\", element=\"8c929b3c-b025-4e88-8c48-94c65cec9e5e\")>,\n",
       " <selenium.webdriver.remote.webelement.WebElement (session=\"564f79b0035b341a0ba0e97b1cfa4ff2\", element=\"622baae7-51e4-495c-8707-8755ea543009\")>,\n",
       " <selenium.webdriver.remote.webelement.WebElement (session=\"564f79b0035b341a0ba0e97b1cfa4ff2\", element=\"27ba2b3f-15a0-4839-9d15-edbdd4686113\")>,\n",
       " <selenium.webdriver.remote.webelement.WebElement (session=\"564f79b0035b341a0ba0e97b1cfa4ff2\", element=\"e101cbd7-46f6-45b7-b186-71ce0aba26ec\")>,\n",
       " <selenium.webdriver.remote.webelement.WebElement (session=\"564f79b0035b341a0ba0e97b1cfa4ff2\", element=\"95074874-5a4f-4e8b-b3ad-0be380df8caa\")>,\n",
       " <selenium.webdriver.remote.webelement.WebElement (session=\"564f79b0035b341a0ba0e97b1cfa4ff2\", element=\"5abb129c-140f-49f6-8981-027ec67966f9\")>,\n",
       " <selenium.webdriver.remote.webelement.WebElement (session=\"564f79b0035b341a0ba0e97b1cfa4ff2\", element=\"f18f7562-3069-4c24-8ddb-6ceda42e01f9\")>,\n",
       " <selenium.webdriver.remote.webelement.WebElement (session=\"564f79b0035b341a0ba0e97b1cfa4ff2\", element=\"09e8ea87-a5e6-40c1-98b4-e1502ae2b105\")>,\n",
       " <selenium.webdriver.remote.webelement.WebElement (session=\"564f79b0035b341a0ba0e97b1cfa4ff2\", element=\"7c9d150c-4a4f-4051-9599-76fb2961c567\")>,\n",
       " <selenium.webdriver.remote.webelement.WebElement (session=\"564f79b0035b341a0ba0e97b1cfa4ff2\", element=\"c9539436-5350-40a4-9f0d-eb61aeea92bf\")>,\n",
       " <selenium.webdriver.remote.webelement.WebElement (session=\"564f79b0035b341a0ba0e97b1cfa4ff2\", element=\"8694b816-d381-46d2-b192-96968bbfac1a\")>,\n",
       " <selenium.webdriver.remote.webelement.WebElement (session=\"564f79b0035b341a0ba0e97b1cfa4ff2\", element=\"d81c0f99-dee8-465d-b09a-ec7a3d7147bc\")>,\n",
       " <selenium.webdriver.remote.webelement.WebElement (session=\"564f79b0035b341a0ba0e97b1cfa4ff2\", element=\"8c32c4fe-db17-4a5e-9970-d60f4ab0c321\")>,\n",
       " <selenium.webdriver.remote.webelement.WebElement (session=\"564f79b0035b341a0ba0e97b1cfa4ff2\", element=\"96a29c0f-7db4-47b6-815a-e813bd899cca\")>,\n",
       " <selenium.webdriver.remote.webelement.WebElement (session=\"564f79b0035b341a0ba0e97b1cfa4ff2\", element=\"920a1384-e4f6-4070-89f1-74b7899e25a8\")>,\n",
       " <selenium.webdriver.remote.webelement.WebElement (session=\"564f79b0035b341a0ba0e97b1cfa4ff2\", element=\"dc9b450d-0386-47a3-941c-4864c5908e83\")>,\n",
       " <selenium.webdriver.remote.webelement.WebElement (session=\"564f79b0035b341a0ba0e97b1cfa4ff2\", element=\"136d82de-d62b-4aca-ad44-1267e6995515\")>,\n",
       " <selenium.webdriver.remote.webelement.WebElement (session=\"564f79b0035b341a0ba0e97b1cfa4ff2\", element=\"a92d4c19-bad7-4007-85fd-94ab5e0a8323\")>]"
      ]
     },
     "execution_count": 90,
     "metadata": {},
     "output_type": "execute_result"
    }
   ],
   "source": [
    "fulrevline10 = driver.find_elements_by_xpath('//div[@class=\"_3LWZlK _1BLPMq\"]')[:100]\n",
    "fulrevline11 = driver.find_elements_by_xpath('//p[@class=\"_2-N8zT\"]')[:100]\n",
    "fulrevline12 = driver.find_elements_by_xpath('//div[@class=\"t-ZTKy\"]')[:100]\n",
    "fulrevline12\n",
    "\n",
    "fulreviewpag4 = list(fulrevline10+fulrevline11+fulrevline12)\n",
    "fulreviewpag4"
   ]
  },
  {
   "cell_type": "code",
   "execution_count": 91,
   "id": "104deae8",
   "metadata": {},
   "outputs": [
    {
     "data": {
      "text/plain": [
       "[['5'], ['5'], ['4'], ['5'], ['5'], ['5'], ['4'], ['5'], ['5'], ['5']]"
      ]
     },
     "execution_count": 91,
     "metadata": {},
     "output_type": "execute_result"
    }
   ],
   "source": [
    "FullReview10 = []\n",
    "\n",
    "for freview in fulrevline10:\n",
    "    FullReview10.append(freview.text.split('\\n'))\n",
    "FullReview10"
   ]
  },
  {
   "cell_type": "code",
   "execution_count": 92,
   "id": "119281db",
   "metadata": {},
   "outputs": [
    {
     "data": {
      "text/plain": [
       "[['Wonderful'],\n",
       " ['Terrific'],\n",
       " ['Nice product'],\n",
       " ['Perfect product!'],\n",
       " ['Classy product'],\n",
       " ['Brilliant'],\n",
       " ['Good choice'],\n",
       " ['Must buy!'],\n",
       " ['Wonderful'],\n",
       " ['Perfect product!']]"
      ]
     },
     "execution_count": 92,
     "metadata": {},
     "output_type": "execute_result"
    }
   ],
   "source": [
    "FullReview11 = []\n",
    "\n",
    "for freview in fulrevline11:\n",
    "    FullReview11.append(freview.text.split('\\n'))\n",
    "FullReview11"
   ]
  },
  {
   "cell_type": "code",
   "execution_count": 93,
   "id": "78af60db",
   "metadata": {},
   "outputs": [
    {
     "data": {
      "text/plain": [
       "[['This is my first ever I phone. Before this I was using my google nexus 5. But moving from android to iOS is a great experience. It’s worth at this price. I will highly recommend it if you want to move to iOS. The best part of this phone is it’s camera and it’s battery life. This two things have won my heart. I loved it. Happy to have it in my hand. Still exploring its features. And can’t forget to mention Flipkart service. Very prompt service and fast delivery.'],\n",
       " ['Really worth of money. i just love it. It is the best phone ever.'],\n",
       " ['Awesome Phone. Slightly high price but worth. Better than iPhone XR.',\n",
       "  'Camera is superb and wide angle camera is very clear.',\n",
       "  '12MP selfie camera is also very good.',\n",
       "  'A13 Chip gives a very good and smooth performance.'],\n",
       " ['Battery backup is extraordinary, camera is decent & performance offered by A13 bionic is awsome. The display is good in practical usage like the visibility of display is very good in direct sun light compare to pro models. Iam extremely satisfied for the money I spent.'],\n",
       " ['Superb Product !!!',\n",
       "  'A big and worthy upgrade from mi 3S to iphone 11 .',\n",
       "  'Totally loved it !'],\n",
       " ['I have migrated from OP 7pro... and trust me, iPhone 11 is totally worth it.. following are the reasons:-',\n",
       "  '1)there is ABSOLUTELY NO ISSUE WITH THE DISPLAY... its crisp, sharp and I found it to be much much better than OP7 pro. Netflix, Prime video all run crisply... you won’t miss a thing. True Tone works flawlessly...the display brightness is perfect. OP have not calibrated their screens properly.',\n",
       "  '2) iPhone 11 series have really good cameras... others have spoken in depth about them.',\n",
       "  '3) bat...',\n",
       "  'READ MORE'],\n",
       " ['Looking so good 👍 😍 super 👌 stylish 😎 phone',\n",
       "  'Clean box 📦 good 👍 delivery 👌 fast delivery',\n",
       "  'Original box Original iphone 📱 👌 😍😍😍'],\n",
       " ['It’s an amazing product from apple and the camera is simply superb. Phone is faster.Night shot is simply superb and detailing and colour differentiation from camera is an added advantage',\n",
       "  '',\n",
       "  'This review I have written from iPhone 11 only and I am glad to say outside.',\n",
       "  '',\n",
       "  'Cons wise if we see HD+ display only, no battery percentage indicator as in older iPhone 8.',\n",
       "  'No assistive touch control button in it',\n",
       "  'No oleophobic coating on back panel glass and finger prints are visible but since I bought mint gr...',\n",
       "  'READ MORE'],\n",
       " ['I just directly switch from iphone 6s to iphone 11 .The best premium smartphone I recommend to everyone. Excellent quality and colors the iphone have in 11 series.',\n",
       "  'Camera quality is just awesome and the major feel when we hold in our hands. The sound quality and volume is also higher then the previous models.',\n",
       "  'I will recommend to buy iphone 11 instead of pro models , there is nothing much difference as this model contains everything which fulfill our needs.',\n",
       "  '',\n",
       "  'Only one thing that I dislike abo...',\n",
       "  'READ MORE'],\n",
       " ['After 1 month use I found camera quality best compared to my previous Samsung note 10+.Display not good as note 10 also charging too slow.Apple should add fast charger like 11 plus and pro.Best phone for daily use']]"
      ]
     },
     "execution_count": 93,
     "metadata": {},
     "output_type": "execute_result"
    }
   ],
   "source": [
    "FullReview12 = []\n",
    "\n",
    "for freview in fulrevline12:\n",
    "    FullReview12.append(freview.text.split('\\n'))\n",
    "FullReview12"
   ]
  },
  {
   "cell_type": "code",
   "execution_count": 94,
   "id": "ab222b42",
   "metadata": {},
   "outputs": [
    {
     "data": {
      "text/html": [
       "<div>\n",
       "<style scoped>\n",
       "    .dataframe tbody tr th:only-of-type {\n",
       "        vertical-align: middle;\n",
       "    }\n",
       "\n",
       "    .dataframe tbody tr th {\n",
       "        vertical-align: top;\n",
       "    }\n",
       "\n",
       "    .dataframe thead th {\n",
       "        text-align: right;\n",
       "    }\n",
       "</style>\n",
       "<table border=\"1\" class=\"dataframe\">\n",
       "  <thead>\n",
       "    <tr style=\"text-align: right;\">\n",
       "      <th></th>\n",
       "      <th>Rating</th>\n",
       "      <th>Short Review</th>\n",
       "      <th>Full Review</th>\n",
       "    </tr>\n",
       "  </thead>\n",
       "  <tbody>\n",
       "    <tr>\n",
       "      <th>0</th>\n",
       "      <td>[5]</td>\n",
       "      <td>[Wonderful]</td>\n",
       "      <td>[This is my first ever I phone. Before this I ...</td>\n",
       "    </tr>\n",
       "    <tr>\n",
       "      <th>1</th>\n",
       "      <td>[5]</td>\n",
       "      <td>[Terrific]</td>\n",
       "      <td>[Really worth of money. i just love it. It is ...</td>\n",
       "    </tr>\n",
       "    <tr>\n",
       "      <th>2</th>\n",
       "      <td>[4]</td>\n",
       "      <td>[Nice product]</td>\n",
       "      <td>[Awesome Phone. Slightly high price but worth....</td>\n",
       "    </tr>\n",
       "    <tr>\n",
       "      <th>3</th>\n",
       "      <td>[5]</td>\n",
       "      <td>[Perfect product!]</td>\n",
       "      <td>[Battery backup is extraordinary, camera is de...</td>\n",
       "    </tr>\n",
       "    <tr>\n",
       "      <th>4</th>\n",
       "      <td>[5]</td>\n",
       "      <td>[Classy product]</td>\n",
       "      <td>[Superb Product !!!, A big and worthy upgrade ...</td>\n",
       "    </tr>\n",
       "    <tr>\n",
       "      <th>5</th>\n",
       "      <td>[5]</td>\n",
       "      <td>[Brilliant]</td>\n",
       "      <td>[I have migrated from OP 7pro... and trust me,...</td>\n",
       "    </tr>\n",
       "    <tr>\n",
       "      <th>6</th>\n",
       "      <td>[4]</td>\n",
       "      <td>[Good choice]</td>\n",
       "      <td>[Looking so good 👍 😍 super 👌 stylish 😎 phone, ...</td>\n",
       "    </tr>\n",
       "    <tr>\n",
       "      <th>7</th>\n",
       "      <td>[5]</td>\n",
       "      <td>[Must buy!]</td>\n",
       "      <td>[It’s an amazing product from apple and the ca...</td>\n",
       "    </tr>\n",
       "    <tr>\n",
       "      <th>8</th>\n",
       "      <td>[5]</td>\n",
       "      <td>[Wonderful]</td>\n",
       "      <td>[I just directly switch from iphone 6s to ipho...</td>\n",
       "    </tr>\n",
       "    <tr>\n",
       "      <th>9</th>\n",
       "      <td>[5]</td>\n",
       "      <td>[Perfect product!]</td>\n",
       "      <td>[After 1 month use I found camera quality best...</td>\n",
       "    </tr>\n",
       "  </tbody>\n",
       "</table>\n",
       "</div>"
      ],
      "text/plain": [
       "  Rating        Short Review  \\\n",
       "0    [5]         [Wonderful]   \n",
       "1    [5]          [Terrific]   \n",
       "2    [4]      [Nice product]   \n",
       "3    [5]  [Perfect product!]   \n",
       "4    [5]    [Classy product]   \n",
       "5    [5]         [Brilliant]   \n",
       "6    [4]       [Good choice]   \n",
       "7    [5]         [Must buy!]   \n",
       "8    [5]         [Wonderful]   \n",
       "9    [5]  [Perfect product!]   \n",
       "\n",
       "                                         Full Review  \n",
       "0  [This is my first ever I phone. Before this I ...  \n",
       "1  [Really worth of money. i just love it. It is ...  \n",
       "2  [Awesome Phone. Slightly high price but worth....  \n",
       "3  [Battery backup is extraordinary, camera is de...  \n",
       "4  [Superb Product !!!, A big and worthy upgrade ...  \n",
       "5  [I have migrated from OP 7pro... and trust me,...  \n",
       "6  [Looking so good 👍 😍 super 👌 stylish 😎 phone, ...  \n",
       "7  [It’s an amazing product from apple and the ca...  \n",
       "8  [I just directly switch from iphone 6s to ipho...  \n",
       "9  [After 1 month use I found camera quality best...  "
      ]
     },
     "execution_count": 94,
     "metadata": {},
     "output_type": "execute_result"
    }
   ],
   "source": [
    "data3 = pd.DataFrame()\n",
    "data3 ['Rating'] = FullReview10\n",
    "data3 ['Short Review'] = FullReview11\n",
    "data3 ['Full Review'] = FullReview12\n",
    "data3.head(11)"
   ]
  },
  {
   "cell_type": "code",
   "execution_count": 96,
   "id": "6fd8af4b",
   "metadata": {},
   "outputs": [
    {
     "data": {
      "text/plain": [
       "<selenium.webdriver.remote.webelement.WebElement (session=\"564f79b0035b341a0ba0e97b1cfa4ff2\", element=\"2cb0e0fe-296d-44cb-ab95-d9f2aa4b8912\")>"
      ]
     },
     "execution_count": 96,
     "metadata": {},
     "output_type": "execute_result"
    }
   ],
   "source": [
    "clicknextpage4 = driver.find_element_by_xpath('/html/body/div[1]/div/div[3]/div/div/div[2]/div[13]/div/div/nav/a[5]')\n",
    "clicknextpage4"
   ]
  },
  {
   "cell_type": "code",
   "execution_count": 97,
   "id": "bc2be379",
   "metadata": {},
   "outputs": [],
   "source": [
    "clicknextpage4.click()"
   ]
  },
  {
   "cell_type": "code",
   "execution_count": 183,
   "id": "e9f3566d",
   "metadata": {},
   "outputs": [
    {
     "data": {
      "text/plain": [
       "[<selenium.webdriver.remote.webelement.WebElement (session=\"564f79b0035b341a0ba0e97b1cfa4ff2\", element=\"4a5779a3-d2ad-48a2-bb06-a87857356218\")>,\n",
       " <selenium.webdriver.remote.webelement.WebElement (session=\"564f79b0035b341a0ba0e97b1cfa4ff2\", element=\"01e24828-133b-48ab-ba4a-7950fc3bb3cd\")>,\n",
       " <selenium.webdriver.remote.webelement.WebElement (session=\"564f79b0035b341a0ba0e97b1cfa4ff2\", element=\"3f8b1884-0f82-4e63-9b3e-134419eaedd8\")>,\n",
       " <selenium.webdriver.remote.webelement.WebElement (session=\"564f79b0035b341a0ba0e97b1cfa4ff2\", element=\"e7e31747-6385-4dbe-a7b7-4b2f84800947\")>,\n",
       " <selenium.webdriver.remote.webelement.WebElement (session=\"564f79b0035b341a0ba0e97b1cfa4ff2\", element=\"d09742fb-5d71-4d9e-9b50-61842644f61a\")>,\n",
       " <selenium.webdriver.remote.webelement.WebElement (session=\"564f79b0035b341a0ba0e97b1cfa4ff2\", element=\"1d38b5e7-7de9-46ce-9721-bb5afed723bc\")>,\n",
       " <selenium.webdriver.remote.webelement.WebElement (session=\"564f79b0035b341a0ba0e97b1cfa4ff2\", element=\"b1858659-b7c9-468d-afcc-bcb9a789c877\")>,\n",
       " <selenium.webdriver.remote.webelement.WebElement (session=\"564f79b0035b341a0ba0e97b1cfa4ff2\", element=\"0c7e8f03-1f8c-4740-998b-2266d7f522f4\")>,\n",
       " <selenium.webdriver.remote.webelement.WebElement (session=\"564f79b0035b341a0ba0e97b1cfa4ff2\", element=\"0b73a0c9-11f7-488f-b92b-253d127e810d\")>,\n",
       " <selenium.webdriver.remote.webelement.WebElement (session=\"564f79b0035b341a0ba0e97b1cfa4ff2\", element=\"734b0354-d594-493e-86e4-5696943170f9\")>,\n",
       " <selenium.webdriver.remote.webelement.WebElement (session=\"564f79b0035b341a0ba0e97b1cfa4ff2\", element=\"bc6d8d1f-0334-43cc-90fb-68709d16c72d\")>,\n",
       " <selenium.webdriver.remote.webelement.WebElement (session=\"564f79b0035b341a0ba0e97b1cfa4ff2\", element=\"27c1bb40-67de-419c-9a81-008efcea5314\")>,\n",
       " <selenium.webdriver.remote.webelement.WebElement (session=\"564f79b0035b341a0ba0e97b1cfa4ff2\", element=\"1251bad4-f424-402d-b0dc-771007ecdc25\")>,\n",
       " <selenium.webdriver.remote.webelement.WebElement (session=\"564f79b0035b341a0ba0e97b1cfa4ff2\", element=\"4626733b-38a1-4f21-b63a-d4138ed5aeb2\")>,\n",
       " <selenium.webdriver.remote.webelement.WebElement (session=\"564f79b0035b341a0ba0e97b1cfa4ff2\", element=\"a0b9bc14-4036-4558-8fe8-706e9873cb02\")>,\n",
       " <selenium.webdriver.remote.webelement.WebElement (session=\"564f79b0035b341a0ba0e97b1cfa4ff2\", element=\"28083102-4636-47d9-823d-b58a3affc7de\")>,\n",
       " <selenium.webdriver.remote.webelement.WebElement (session=\"564f79b0035b341a0ba0e97b1cfa4ff2\", element=\"c84a6ef3-587b-4aaa-b9e1-e3020d9a053f\")>,\n",
       " <selenium.webdriver.remote.webelement.WebElement (session=\"564f79b0035b341a0ba0e97b1cfa4ff2\", element=\"7bf4f2da-2423-4a49-8752-3e3ba0b09a36\")>,\n",
       " <selenium.webdriver.remote.webelement.WebElement (session=\"564f79b0035b341a0ba0e97b1cfa4ff2\", element=\"416dd58d-3d36-4122-93e0-602e0cd21b52\")>,\n",
       " <selenium.webdriver.remote.webelement.WebElement (session=\"564f79b0035b341a0ba0e97b1cfa4ff2\", element=\"7815750e-f540-45cb-86f3-0a2d9e6b6770\")>,\n",
       " <selenium.webdriver.remote.webelement.WebElement (session=\"564f79b0035b341a0ba0e97b1cfa4ff2\", element=\"07879fbb-6550-4012-b943-bd30863a4116\")>,\n",
       " <selenium.webdriver.remote.webelement.WebElement (session=\"564f79b0035b341a0ba0e97b1cfa4ff2\", element=\"a025f6ef-5ca8-4d81-adff-92a5a2ffd684\")>,\n",
       " <selenium.webdriver.remote.webelement.WebElement (session=\"564f79b0035b341a0ba0e97b1cfa4ff2\", element=\"e0ea6dcb-1347-43cf-bc5a-86167db8737b\")>,\n",
       " <selenium.webdriver.remote.webelement.WebElement (session=\"564f79b0035b341a0ba0e97b1cfa4ff2\", element=\"d14978d6-b697-409d-92e1-a9c0cf9c56fe\")>,\n",
       " <selenium.webdriver.remote.webelement.WebElement (session=\"564f79b0035b341a0ba0e97b1cfa4ff2\", element=\"a32ea0e9-6a4b-4f67-8f22-368d8e5684a1\")>,\n",
       " <selenium.webdriver.remote.webelement.WebElement (session=\"564f79b0035b341a0ba0e97b1cfa4ff2\", element=\"bdd3088b-eb1d-4e2f-9c67-ab5e7b9099b1\")>,\n",
       " <selenium.webdriver.remote.webelement.WebElement (session=\"564f79b0035b341a0ba0e97b1cfa4ff2\", element=\"a2f7e9dc-ad48-46ca-be1d-3446b13a6fae\")>,\n",
       " <selenium.webdriver.remote.webelement.WebElement (session=\"564f79b0035b341a0ba0e97b1cfa4ff2\", element=\"6f0db68a-fd6f-4199-a47f-b17f1eef322d\")>,\n",
       " <selenium.webdriver.remote.webelement.WebElement (session=\"564f79b0035b341a0ba0e97b1cfa4ff2\", element=\"80534899-290c-4baa-b161-9e62fad1c138\")>,\n",
       " <selenium.webdriver.remote.webelement.WebElement (session=\"564f79b0035b341a0ba0e97b1cfa4ff2\", element=\"938491a9-d8c3-4735-85c3-422a817598ff\")>]"
      ]
     },
     "execution_count": 183,
     "metadata": {},
     "output_type": "execute_result"
    }
   ],
   "source": [
    "fulrevline13_1 = driver.find_elements_by_xpath('//div[@class=\"_3LWZlK _1BLPMq\"]')[:8]\n",
    "fulrevline13_2 = driver.find_elements_by_xpath('//div[@class=\"_3LWZlK _1rdVr6 _1BLPMq\"]')[:1]\n",
    "fulrevline13_3 = driver.find_elements_by_xpath('//div[@class=\"_3LWZlK _1BLPMq\"]')[8:]\n",
    "fulrevline14 = driver.find_elements_by_xpath('//p[@class=\"_2-N8zT\"]')[:100]\n",
    "fulrevline15 = driver.find_elements_by_xpath('//div[@class=\"t-ZTKy\"]')[:100]\n",
    "fulrevline15\n",
    "\n",
    "fulreviewpag5 = list(fulrevline13_1+fulrevline13_2+fulrevline13_3+fulrevline14+fulrevline15)\n",
    "fulreviewpag5"
   ]
  },
  {
   "cell_type": "code",
   "execution_count": 184,
   "id": "e96458b6",
   "metadata": {},
   "outputs": [
    {
     "data": {
      "text/plain": [
       "[['5'], ['5'], ['5'], ['5'], ['5'], ['5'], ['5'], ['4']]"
      ]
     },
     "execution_count": 184,
     "metadata": {},
     "output_type": "execute_result"
    }
   ],
   "source": [
    "FullReview13_1 = []\n",
    "\n",
    "for freview in fulrevline13_1:\n",
    "    FullReview13_1.append(freview.text.split('\\n'))\n",
    "FullReview13_1"
   ]
  },
  {
   "cell_type": "code",
   "execution_count": 185,
   "id": "6d1023de",
   "metadata": {},
   "outputs": [
    {
     "data": {
      "text/plain": [
       "[['1']]"
      ]
     },
     "execution_count": 185,
     "metadata": {},
     "output_type": "execute_result"
    }
   ],
   "source": [
    "FullReview13_2 = []\n",
    "\n",
    "for freview in fulrevline13_2:\n",
    "    FullReview13_2.append(freview.text.split('\\n'))\n",
    "FullReview13_2"
   ]
  },
  {
   "cell_type": "code",
   "execution_count": 186,
   "id": "cb9aba28",
   "metadata": {},
   "outputs": [
    {
     "data": {
      "text/plain": [
       "[['5']]"
      ]
     },
     "execution_count": 186,
     "metadata": {},
     "output_type": "execute_result"
    }
   ],
   "source": [
    "FullReview13_3 = []\n",
    "\n",
    "for freview in fulrevline13_3:\n",
    "    FullReview13_3.append(freview.text.split('\\n'))\n",
    "FullReview13_3"
   ]
  },
  {
   "cell_type": "code",
   "execution_count": 187,
   "id": "1215242b",
   "metadata": {},
   "outputs": [
    {
     "data": {
      "text/plain": [
       "[['5'], ['5'], ['5'], ['5'], ['5'], ['5'], ['5'], ['4'], ['1'], ['5']]"
      ]
     },
     "execution_count": 187,
     "metadata": {},
     "output_type": "execute_result"
    }
   ],
   "source": [
    "FullReview13 = list(FullReview13_1+FullReview13_2+FullReview13_3)\n",
    "FullReview13"
   ]
  },
  {
   "cell_type": "code",
   "execution_count": 188,
   "id": "de098fef",
   "metadata": {},
   "outputs": [
    {
     "data": {
      "text/plain": [
       "[['Terrific purchase'],\n",
       " ['Simply awesome'],\n",
       " ['Great product'],\n",
       " ['Terrific purchase'],\n",
       " ['Mind-blowing purchase'],\n",
       " ['Excellent'],\n",
       " ['Simply awesome'],\n",
       " ['Good quality product'],\n",
       " ['Very poor'],\n",
       " ['Classy product']]"
      ]
     },
     "execution_count": 188,
     "metadata": {},
     "output_type": "execute_result"
    }
   ],
   "source": [
    "FullReview14 = []\n",
    "\n",
    "for freview in fulrevline14:\n",
    "    FullReview14.append(freview.text.split('\\n'))\n",
    "FullReview14"
   ]
  },
  {
   "cell_type": "code",
   "execution_count": 189,
   "id": "77c1942b",
   "metadata": {},
   "outputs": [
    {
     "data": {
      "text/plain": [
       "[['Upgraded from iphone 6 to 11 best phone for iphone users battery is much better than other iphones camera is awesome love to use it.camera is so clear in night.'],\n",
       " [\"It's very high performances devise i am like the service of flipkart delevary very fast and packing very nice perfect phone\"],\n",
       " ['Well you all know the specifications . One of a kind. Best iPhone till date. Many enhancements to the camera app with many options. Love the glass body with matte finish in the lens area on the back. Lovely colours to choose from. Best battery in an iPhone till date, enough to last more than a day in normal usage. I tested my iPhone 11 battery and lasted for than 24 hours after full charge still with 30% battery charge left. Watched movies for some time. Normal usage on calls, browsing, musi...',\n",
       "  'READ MORE'],\n",
       " ['The built quality is not very premium.',\n",
       "  'The battery back is great .',\n",
       "  'The LCD panel is not so sharp but the brightness level is very High .',\n",
       "  'Camera is super duper awesome.',\n",
       "  'The red colour which people think is bright is actually very soothing and excellent colour to choose from .',\n",
       "  'The A13 Bionic chip is really a flagship processor and can beat any phone which even has 12 gb ram .',\n",
       "  'Camera module is very great and looks very stylish.'],\n",
       " ['This will help you more. See if you are planning to buy iPhone 11. I will say. Yes. But there are some plans I just want to disclose before you buy. 1) If you are an existing iPhone X/XS/XS Max/ XR user, better you guys do not think it to buy. You guys have more or less better gadget. 2) If you are an android user and planning to buy premium phone. I will suggest them to please buy iPhone instead of buying an Android. I bet you will never go back to android after using IOS. Now I want to shar...',\n",
       "  'READ MORE'],\n",
       " ['Amazing camera and feel super machine I am not describe my feeling but this is amazing Phone I am so lucky I have this'],\n",
       " ['Really good actually this is my first apple product am using its really awesome performance wise excellent. Am really happy with this iphone11'],\n",
       " ['it is very good at performance. Camera is best like before and very smooth response even in water. Don’t buy 12 mini buy iPhone 11 , it is far better than 12 mini believe me ! Have a nice day \\uf8ff ☺️'],\n",
       " ['Reviewing again after 5 months. At the beginning the battery and performance was good but it degraded soon. Also I was facing heating issues. The mobile will heat up like a stove sometimes. You cannot even play Pubg even in low settings properly, performance is not a problem but heating is. Also if you play that game for 10 mins the brightness will be automatically down due to over heating even when the auto brightness is set to off. This will not be solved even if u manually increase the bri...',\n",
       "  'READ MORE'],\n",
       " ['We are on apple ecosystem for almost eight years now with couple of iPads and iPhones, including Xr.',\n",
       "  '',\n",
       "  'Bought iPhone 11 as a gift to my daughter who loves it. We chose for a purple coloured one. Believe me it is gorgeous and towards the lighter shade. Dazzling and brilliant!',\n",
       "  '',\n",
       "  'The phone is great and does excellent RAM management like any other Apple device.',\n",
       "  '',\n",
       "  'The screen, though a LCD and lesser ppi as compared to other flagship phones of competitor brands, is a delight to watch with perfect re...',\n",
       "  'READ MORE']]"
      ]
     },
     "execution_count": 189,
     "metadata": {},
     "output_type": "execute_result"
    }
   ],
   "source": [
    "FullReview15 = []\n",
    "\n",
    "for freview in fulrevline15:\n",
    "    FullReview15.append(freview.text.split('\\n'))\n",
    "FullReview15"
   ]
  },
  {
   "cell_type": "code",
   "execution_count": 192,
   "id": "cff7175e",
   "metadata": {},
   "outputs": [
    {
     "data": {
      "text/html": [
       "<div>\n",
       "<style scoped>\n",
       "    .dataframe tbody tr th:only-of-type {\n",
       "        vertical-align: middle;\n",
       "    }\n",
       "\n",
       "    .dataframe tbody tr th {\n",
       "        vertical-align: top;\n",
       "    }\n",
       "\n",
       "    .dataframe thead th {\n",
       "        text-align: right;\n",
       "    }\n",
       "</style>\n",
       "<table border=\"1\" class=\"dataframe\">\n",
       "  <thead>\n",
       "    <tr style=\"text-align: right;\">\n",
       "      <th></th>\n",
       "      <th>Rating</th>\n",
       "      <th>Short Review</th>\n",
       "      <th>Full Review</th>\n",
       "    </tr>\n",
       "  </thead>\n",
       "  <tbody>\n",
       "    <tr>\n",
       "      <th>0</th>\n",
       "      <td>[5]</td>\n",
       "      <td>[Terrific purchase]</td>\n",
       "      <td>[Upgraded from iphone 6 to 11 best phone for i...</td>\n",
       "    </tr>\n",
       "    <tr>\n",
       "      <th>1</th>\n",
       "      <td>[5]</td>\n",
       "      <td>[Simply awesome]</td>\n",
       "      <td>[It's very high performances devise i am like ...</td>\n",
       "    </tr>\n",
       "    <tr>\n",
       "      <th>2</th>\n",
       "      <td>[5]</td>\n",
       "      <td>[Great product]</td>\n",
       "      <td>[Well you all know the specifications . One of...</td>\n",
       "    </tr>\n",
       "    <tr>\n",
       "      <th>3</th>\n",
       "      <td>[5]</td>\n",
       "      <td>[Terrific purchase]</td>\n",
       "      <td>[The built quality is not very premium., The b...</td>\n",
       "    </tr>\n",
       "    <tr>\n",
       "      <th>4</th>\n",
       "      <td>[5]</td>\n",
       "      <td>[Mind-blowing purchase]</td>\n",
       "      <td>[This will help you more. See if you are plann...</td>\n",
       "    </tr>\n",
       "    <tr>\n",
       "      <th>5</th>\n",
       "      <td>[5]</td>\n",
       "      <td>[Excellent]</td>\n",
       "      <td>[Amazing camera and feel super machine I am no...</td>\n",
       "    </tr>\n",
       "    <tr>\n",
       "      <th>6</th>\n",
       "      <td>[5]</td>\n",
       "      <td>[Simply awesome]</td>\n",
       "      <td>[Really good actually this is my first apple p...</td>\n",
       "    </tr>\n",
       "    <tr>\n",
       "      <th>7</th>\n",
       "      <td>[4]</td>\n",
       "      <td>[Good quality product]</td>\n",
       "      <td>[it is very good at performance. Camera is bes...</td>\n",
       "    </tr>\n",
       "    <tr>\n",
       "      <th>8</th>\n",
       "      <td>[1]</td>\n",
       "      <td>[Very poor]</td>\n",
       "      <td>[Reviewing again after 5 months. At the beginn...</td>\n",
       "    </tr>\n",
       "    <tr>\n",
       "      <th>9</th>\n",
       "      <td>[5]</td>\n",
       "      <td>[Classy product]</td>\n",
       "      <td>[We are on apple ecosystem for almost eight ye...</td>\n",
       "    </tr>\n",
       "  </tbody>\n",
       "</table>\n",
       "</div>"
      ],
      "text/plain": [
       "  Rating             Short Review  \\\n",
       "0    [5]      [Terrific purchase]   \n",
       "1    [5]         [Simply awesome]   \n",
       "2    [5]          [Great product]   \n",
       "3    [5]      [Terrific purchase]   \n",
       "4    [5]  [Mind-blowing purchase]   \n",
       "5    [5]              [Excellent]   \n",
       "6    [5]         [Simply awesome]   \n",
       "7    [4]   [Good quality product]   \n",
       "8    [1]              [Very poor]   \n",
       "9    [5]         [Classy product]   \n",
       "\n",
       "                                         Full Review  \n",
       "0  [Upgraded from iphone 6 to 11 best phone for i...  \n",
       "1  [It's very high performances devise i am like ...  \n",
       "2  [Well you all know the specifications . One of...  \n",
       "3  [The built quality is not very premium., The b...  \n",
       "4  [This will help you more. See if you are plann...  \n",
       "5  [Amazing camera and feel super machine I am no...  \n",
       "6  [Really good actually this is my first apple p...  \n",
       "7  [it is very good at performance. Camera is bes...  \n",
       "8  [Reviewing again after 5 months. At the beginn...  \n",
       "9  [We are on apple ecosystem for almost eight ye...  "
      ]
     },
     "execution_count": 192,
     "metadata": {},
     "output_type": "execute_result"
    }
   ],
   "source": [
    "data4 = pd.DataFrame()\n",
    "data4 ['Rating'] = FullReview13\n",
    "data4 ['Short Review'] = FullReview14\n",
    "data4 ['Full Review'] = FullReview15\n",
    "data4.head(11)"
   ]
  },
  {
   "cell_type": "code",
   "execution_count": 194,
   "id": "5cfd686c",
   "metadata": {},
   "outputs": [
    {
     "data": {
      "text/plain": [
       "<selenium.webdriver.remote.webelement.WebElement (session=\"564f79b0035b341a0ba0e97b1cfa4ff2\", element=\"dceed9bd-be58-4166-aac7-52f80353235a\")>"
      ]
     },
     "execution_count": 194,
     "metadata": {},
     "output_type": "execute_result"
    }
   ],
   "source": [
    "clicknextpage5 = driver.find_element_by_xpath('/html/body/div[1]/div/div[3]/div/div/div[2]/div[13]/div/div/nav/a[6]')\n",
    "clicknextpage5"
   ]
  },
  {
   "cell_type": "code",
   "execution_count": 195,
   "id": "837a7b7f",
   "metadata": {},
   "outputs": [],
   "source": [
    "clicknextpage5.click()"
   ]
  },
  {
   "cell_type": "code",
   "execution_count": 198,
   "id": "797fb380",
   "metadata": {},
   "outputs": [
    {
     "data": {
      "text/plain": [
       "[<selenium.webdriver.remote.webelement.WebElement (session=\"564f79b0035b341a0ba0e97b1cfa4ff2\", element=\"98bb954a-9491-4132-8b1c-76601b05349f\")>,\n",
       " <selenium.webdriver.remote.webelement.WebElement (session=\"564f79b0035b341a0ba0e97b1cfa4ff2\", element=\"77f7aa5f-920e-4407-b85b-4d7214374b61\")>,\n",
       " <selenium.webdriver.remote.webelement.WebElement (session=\"564f79b0035b341a0ba0e97b1cfa4ff2\", element=\"57b30cfa-8fa2-4db9-b867-2060405cda3e\")>,\n",
       " <selenium.webdriver.remote.webelement.WebElement (session=\"564f79b0035b341a0ba0e97b1cfa4ff2\", element=\"c6c57783-86a0-4886-96ad-3ac351da10b4\")>,\n",
       " <selenium.webdriver.remote.webelement.WebElement (session=\"564f79b0035b341a0ba0e97b1cfa4ff2\", element=\"7caed945-f8a4-4f86-93d0-d5b1568c1d01\")>,\n",
       " <selenium.webdriver.remote.webelement.WebElement (session=\"564f79b0035b341a0ba0e97b1cfa4ff2\", element=\"19408022-77c7-4553-ad88-6d52db5a06dd\")>,\n",
       " <selenium.webdriver.remote.webelement.WebElement (session=\"564f79b0035b341a0ba0e97b1cfa4ff2\", element=\"ac01e205-4a49-44d6-85c9-47ba7db9e42c\")>,\n",
       " <selenium.webdriver.remote.webelement.WebElement (session=\"564f79b0035b341a0ba0e97b1cfa4ff2\", element=\"aa2d33e7-98ba-4f71-bd5a-b880a8b33e3e\")>,\n",
       " <selenium.webdriver.remote.webelement.WebElement (session=\"564f79b0035b341a0ba0e97b1cfa4ff2\", element=\"da0fe2a0-d761-4628-8102-863b42adde7e\")>,\n",
       " <selenium.webdriver.remote.webelement.WebElement (session=\"564f79b0035b341a0ba0e97b1cfa4ff2\", element=\"54bc880a-efd7-4702-af71-9a9e74bce958\")>,\n",
       " <selenium.webdriver.remote.webelement.WebElement (session=\"564f79b0035b341a0ba0e97b1cfa4ff2\", element=\"ae5e43bf-9b16-46b9-9f35-b9209cf861d7\")>,\n",
       " <selenium.webdriver.remote.webelement.WebElement (session=\"564f79b0035b341a0ba0e97b1cfa4ff2\", element=\"81375565-5325-41a7-bc51-f348cbb070b0\")>,\n",
       " <selenium.webdriver.remote.webelement.WebElement (session=\"564f79b0035b341a0ba0e97b1cfa4ff2\", element=\"4acf61aa-5777-463e-81af-bb2f5f38476e\")>,\n",
       " <selenium.webdriver.remote.webelement.WebElement (session=\"564f79b0035b341a0ba0e97b1cfa4ff2\", element=\"1aff5d5d-2bdf-4b53-bcdf-795ec73518a1\")>,\n",
       " <selenium.webdriver.remote.webelement.WebElement (session=\"564f79b0035b341a0ba0e97b1cfa4ff2\", element=\"fc93de1e-8cd2-4f46-a177-147b56e1bb37\")>,\n",
       " <selenium.webdriver.remote.webelement.WebElement (session=\"564f79b0035b341a0ba0e97b1cfa4ff2\", element=\"130f9f59-5ada-4ef7-a279-505bc0a71add\")>,\n",
       " <selenium.webdriver.remote.webelement.WebElement (session=\"564f79b0035b341a0ba0e97b1cfa4ff2\", element=\"1fec0255-75d9-4190-9517-85b02b926b15\")>,\n",
       " <selenium.webdriver.remote.webelement.WebElement (session=\"564f79b0035b341a0ba0e97b1cfa4ff2\", element=\"8a0848f5-1c19-44e1-84f9-702cb1c222c5\")>,\n",
       " <selenium.webdriver.remote.webelement.WebElement (session=\"564f79b0035b341a0ba0e97b1cfa4ff2\", element=\"bd850fac-3124-43d8-8d3c-281471f4c306\")>,\n",
       " <selenium.webdriver.remote.webelement.WebElement (session=\"564f79b0035b341a0ba0e97b1cfa4ff2\", element=\"e05c3af5-afdf-4988-ad30-53ff013601f8\")>,\n",
       " <selenium.webdriver.remote.webelement.WebElement (session=\"564f79b0035b341a0ba0e97b1cfa4ff2\", element=\"b96c7c49-b7f7-4102-9a0c-1738fad2dd2e\")>,\n",
       " <selenium.webdriver.remote.webelement.WebElement (session=\"564f79b0035b341a0ba0e97b1cfa4ff2\", element=\"f339531f-297b-47c6-be79-8e23e7e32068\")>,\n",
       " <selenium.webdriver.remote.webelement.WebElement (session=\"564f79b0035b341a0ba0e97b1cfa4ff2\", element=\"57c659cd-9e60-4cf0-b40d-a3410b134627\")>,\n",
       " <selenium.webdriver.remote.webelement.WebElement (session=\"564f79b0035b341a0ba0e97b1cfa4ff2\", element=\"b0f87240-4a4d-4785-a6aa-83317813a34c\")>,\n",
       " <selenium.webdriver.remote.webelement.WebElement (session=\"564f79b0035b341a0ba0e97b1cfa4ff2\", element=\"c1eab1a4-701c-4530-be0e-9a820788fde8\")>,\n",
       " <selenium.webdriver.remote.webelement.WebElement (session=\"564f79b0035b341a0ba0e97b1cfa4ff2\", element=\"9c8626f5-2c8a-40db-a9c6-9cc3eefd02c5\")>,\n",
       " <selenium.webdriver.remote.webelement.WebElement (session=\"564f79b0035b341a0ba0e97b1cfa4ff2\", element=\"f3e9afa2-1d21-4f48-a36d-840a9e5aaacb\")>,\n",
       " <selenium.webdriver.remote.webelement.WebElement (session=\"564f79b0035b341a0ba0e97b1cfa4ff2\", element=\"4a7d8fa4-dbd3-44cb-ad38-7e23be25b569\")>,\n",
       " <selenium.webdriver.remote.webelement.WebElement (session=\"564f79b0035b341a0ba0e97b1cfa4ff2\", element=\"7dc922bc-160a-458b-a35c-1381104fcaa4\")>,\n",
       " <selenium.webdriver.remote.webelement.WebElement (session=\"564f79b0035b341a0ba0e97b1cfa4ff2\", element=\"77d5fdc9-03cd-44dd-b251-ca15d33e7005\")>]"
      ]
     },
     "execution_count": 198,
     "metadata": {},
     "output_type": "execute_result"
    }
   ],
   "source": [
    "fulrevline16 = driver.find_elements_by_xpath('//div[@class=\"_3LWZlK _1BLPMq\"]')[:100]\n",
    "fulrevline17 = driver.find_elements_by_xpath('//p[@class=\"_2-N8zT\"]')[:100]\n",
    "fulrevline18 = driver.find_elements_by_xpath('//div[@class=\"t-ZTKy\"]')[:100]\n",
    "fulrevline18\n",
    "\n",
    "fulreviewpag6 = list(fulrevline16+fulrevline17+fulrevline18)\n",
    "fulreviewpag6"
   ]
  },
  {
   "cell_type": "code",
   "execution_count": 199,
   "id": "8643ca27",
   "metadata": {},
   "outputs": [
    {
     "data": {
      "text/plain": [
       "[['5'], ['5'], ['5'], ['5'], ['5'], ['5'], ['5'], ['5'], ['4'], ['5']]"
      ]
     },
     "execution_count": 199,
     "metadata": {},
     "output_type": "execute_result"
    }
   ],
   "source": [
    "FullReview16 = []\n",
    "\n",
    "for freview in fulrevline16:\n",
    "    FullReview16.append(freview.text.split('\\n'))\n",
    "FullReview16"
   ]
  },
  {
   "cell_type": "code",
   "execution_count": 200,
   "id": "756101be",
   "metadata": {},
   "outputs": [
    {
     "data": {
      "text/plain": [
       "[['Perfect product!'],\n",
       " ['Must buy!'],\n",
       " ['Fabulous!'],\n",
       " ['Mind-blowing purchase'],\n",
       " ['Mind-blowing purchase'],\n",
       " ['Wonderful'],\n",
       " ['Must buy!'],\n",
       " ['Great product'],\n",
       " ['Very Good'],\n",
       " ['Classy product']]"
      ]
     },
     "execution_count": 200,
     "metadata": {},
     "output_type": "execute_result"
    }
   ],
   "source": [
    "FullReview17 = []\n",
    "\n",
    "for freview in fulrevline17:\n",
    "    FullReview17.append(freview.text.split('\\n'))\n",
    "FullReview17"
   ]
  },
  {
   "cell_type": "code",
   "execution_count": 201,
   "id": "8c9647a2",
   "metadata": {},
   "outputs": [
    {
     "data": {
      "text/plain": [
       "[['It is just awesome mobile for this price from Apple,',\n",
       "  '',\n",
       "  'After 10 days review',\n",
       "  '',\n",
       "  'Battery enough for 1 day even 24*7 Internet will be on and mostly internet usage',\n",
       "  '',\n",
       "  'Camera is just awesome cool , android 64 MP is equal to this just 12 MP',\n",
       "  '',\n",
       "  'A13 Bionic chip will give more high performance without hanging',\n",
       "  '',\n",
       "  'Audio stereo speakers will give Dolby atoms sound with crystal clear',\n",
       "  '',\n",
       "  'Video recording is like cinematic shots of every sec can be a 4K 60fps. Just awesome this phone',\n",
       "  'iPhone 11 loved one'],\n",
       " ['Best Apple iPhone that i have bought at a very reasonable price, camera quality is next level just awesome n of superior quality android phones not even close(RIP) to that and also battery is really good but packaging by Flipkart of iPhone was very poor of such a expensive product, firstly im bit worried about the quality of product if i purchased it through online how was the product but i think now this was mine best decision to bought it through Flipkart online because i got genuine Apple...',\n",
       "  'READ MORE'],\n",
       " [\"I can say I'm damn impressed with iPhone 11. As they says iPhone 11 have the toughest glass ever in the smartphone which you'll find on the front and back and it's totally smooth. The fit and finish is full apple quality - there's no sense that any cheaping out has happened in the construction. Without saying it's camera features this review won't complete. The iPhone 11 has a dual camera system, consisting of a wide angle len's that's pretty much same as found on the iPhone XR last year, but...\",\n",
       "  'READ MORE'],\n",
       " ['Best Quality Product OF iPhone Series , Sound Quality & Camera quality is very awesome, Battery Life is very Sufficient for 24 hr Backup With Full Internet Access , I love this this Product too much , It is very fast & making me Very fast in all my daily Routine',\n",
       "  'Highlights;',\n",
       "  '1.Camera: 5 STAR',\n",
       "  '2.Video Recording: 5 star',\n",
       "  '3.Night mODE sHOOTING & Camera:4 star',\n",
       "  '4. Audio Quality: Awesome',\n",
       "  '5. Battery : 5 Star',\n",
       "  '6. Touch:5 Star',\n",
       "  '7. Processor: Very Fast',\n",
       "  'The M...',\n",
       "  'READ MORE'],\n",
       " ['First thanks to Flipkart for this amazing deal and phone is outstanding. I upgraded from iPhone 7 and this is like very big upgrade. But the packaging was very basic I expected a good packaging as they only wrapped one layer of bubble wrap which I don’t think is enough to protect this expensive phone. And I recommend this phone and seller as well.',\n",
       "  '',\n",
       "  'And I’m posting this review after using it for 4 days.'],\n",
       " ['Superfast delivery by Flipkart. Thanks.',\n",
       "  '',\n",
       "  '1. iPhone 11 is a pretty solid phone for the money you are paying.',\n",
       "  '2. All the bad reviews about the display is confusing. It’s not that bad.',\n",
       "  '3. I switched from a Oneplus 7t. I have no complaints about the display quality of iPhone. Yes, it’s not OLED, so, we are missing on the deep blacks. But that’s it. It is a very colour accurate display. Gets adequately bright and I could not find any pixelation.',\n",
       "  '4. Performance is one of the best, if not best, in ...',\n",
       "  'READ MORE'],\n",
       " ['I rate this product 5* as it has got amazing user experience with the best performing A13 bionic processor. The screen responds and graphics rendering is top notch. With casual gaming and internet browsing, the battery lasts for approx. 1 day. Camera is very good. You will fall in love with the portrait mode. You can call me a loyal Apple customer or whatever but I won’t stop praising the products and overall experience. That user experience matters and is worth every penny you pay.',\n",
       "  '',\n",
       "  'Below ar...',\n",
       "  'READ MORE'],\n",
       " [\"Again back to apple iphone after a gap of 2-3 years. It's pleasure to use iOS and the quality product by Apple. Iphone 11 still works like a beast in 2021 also. It really capable of doing day to day usage as well as hard core gaming. Battery is awesome. I'm really too much satisfied with it. Apart fto the very gorgious IPS LCD (AMOLED will be better) everything is mind boggling. Iphone💕.\"],\n",
       " ['impressive super phone and best in class camera ,sound and face unlock is super fast just see and phone is unlock and fast in daily apps use'],\n",
       " ['Well while switching from android to iOS the first thing you need to be careful about is that you will loose all your whatsapp chat backups as both are different operating systems. Camera clarity is awesome and though being an lcd screen clarity and resolution is good. Battery backup is also good unlike previous gen iPhone. So far the experience is good will Padre after a few months of usage.',\n",
       "  '',\n",
       "  'P.S the black is more of a dark grey shade and not jet black']]"
      ]
     },
     "execution_count": 201,
     "metadata": {},
     "output_type": "execute_result"
    }
   ],
   "source": [
    "FullReview18 = []\n",
    "\n",
    "for freview in fulrevline18:\n",
    "    FullReview18.append(freview.text.split('\\n'))\n",
    "FullReview18"
   ]
  },
  {
   "cell_type": "code",
   "execution_count": 202,
   "id": "68af9558",
   "metadata": {},
   "outputs": [
    {
     "data": {
      "text/html": [
       "<div>\n",
       "<style scoped>\n",
       "    .dataframe tbody tr th:only-of-type {\n",
       "        vertical-align: middle;\n",
       "    }\n",
       "\n",
       "    .dataframe tbody tr th {\n",
       "        vertical-align: top;\n",
       "    }\n",
       "\n",
       "    .dataframe thead th {\n",
       "        text-align: right;\n",
       "    }\n",
       "</style>\n",
       "<table border=\"1\" class=\"dataframe\">\n",
       "  <thead>\n",
       "    <tr style=\"text-align: right;\">\n",
       "      <th></th>\n",
       "      <th>Rating</th>\n",
       "      <th>Short Review</th>\n",
       "      <th>Full Review</th>\n",
       "    </tr>\n",
       "  </thead>\n",
       "  <tbody>\n",
       "    <tr>\n",
       "      <th>0</th>\n",
       "      <td>[5]</td>\n",
       "      <td>[Perfect product!]</td>\n",
       "      <td>[It is just awesome mobile for this price from...</td>\n",
       "    </tr>\n",
       "    <tr>\n",
       "      <th>1</th>\n",
       "      <td>[5]</td>\n",
       "      <td>[Must buy!]</td>\n",
       "      <td>[Best Apple iPhone that i have bought at a ver...</td>\n",
       "    </tr>\n",
       "    <tr>\n",
       "      <th>2</th>\n",
       "      <td>[5]</td>\n",
       "      <td>[Fabulous!]</td>\n",
       "      <td>[I can say I'm damn impressed with iPhone 11. ...</td>\n",
       "    </tr>\n",
       "    <tr>\n",
       "      <th>3</th>\n",
       "      <td>[5]</td>\n",
       "      <td>[Mind-blowing purchase]</td>\n",
       "      <td>[Best Quality Product OF iPhone Series , Sound...</td>\n",
       "    </tr>\n",
       "    <tr>\n",
       "      <th>4</th>\n",
       "      <td>[5]</td>\n",
       "      <td>[Mind-blowing purchase]</td>\n",
       "      <td>[First thanks to Flipkart for this amazing dea...</td>\n",
       "    </tr>\n",
       "    <tr>\n",
       "      <th>5</th>\n",
       "      <td>[5]</td>\n",
       "      <td>[Wonderful]</td>\n",
       "      <td>[Superfast delivery by Flipkart. Thanks., , 1....</td>\n",
       "    </tr>\n",
       "    <tr>\n",
       "      <th>6</th>\n",
       "      <td>[5]</td>\n",
       "      <td>[Must buy!]</td>\n",
       "      <td>[I rate this product 5* as it has got amazing ...</td>\n",
       "    </tr>\n",
       "    <tr>\n",
       "      <th>7</th>\n",
       "      <td>[5]</td>\n",
       "      <td>[Great product]</td>\n",
       "      <td>[Again back to apple iphone after a gap of 2-3...</td>\n",
       "    </tr>\n",
       "    <tr>\n",
       "      <th>8</th>\n",
       "      <td>[4]</td>\n",
       "      <td>[Very Good]</td>\n",
       "      <td>[impressive super phone and best in class came...</td>\n",
       "    </tr>\n",
       "    <tr>\n",
       "      <th>9</th>\n",
       "      <td>[5]</td>\n",
       "      <td>[Classy product]</td>\n",
       "      <td>[Well while switching from android to iOS the ...</td>\n",
       "    </tr>\n",
       "  </tbody>\n",
       "</table>\n",
       "</div>"
      ],
      "text/plain": [
       "  Rating             Short Review  \\\n",
       "0    [5]       [Perfect product!]   \n",
       "1    [5]              [Must buy!]   \n",
       "2    [5]              [Fabulous!]   \n",
       "3    [5]  [Mind-blowing purchase]   \n",
       "4    [5]  [Mind-blowing purchase]   \n",
       "5    [5]              [Wonderful]   \n",
       "6    [5]              [Must buy!]   \n",
       "7    [5]          [Great product]   \n",
       "8    [4]              [Very Good]   \n",
       "9    [5]         [Classy product]   \n",
       "\n",
       "                                         Full Review  \n",
       "0  [It is just awesome mobile for this price from...  \n",
       "1  [Best Apple iPhone that i have bought at a ver...  \n",
       "2  [I can say I'm damn impressed with iPhone 11. ...  \n",
       "3  [Best Quality Product OF iPhone Series , Sound...  \n",
       "4  [First thanks to Flipkart for this amazing dea...  \n",
       "5  [Superfast delivery by Flipkart. Thanks., , 1....  \n",
       "6  [I rate this product 5* as it has got amazing ...  \n",
       "7  [Again back to apple iphone after a gap of 2-3...  \n",
       "8  [impressive super phone and best in class came...  \n",
       "9  [Well while switching from android to iOS the ...  "
      ]
     },
     "execution_count": 202,
     "metadata": {},
     "output_type": "execute_result"
    }
   ],
   "source": [
    "data5 = pd.DataFrame()\n",
    "data5 ['Rating'] = FullReview16\n",
    "data5 ['Short Review'] = FullReview17\n",
    "data5 ['Full Review'] = FullReview18\n",
    "data5.head(11)"
   ]
  },
  {
   "cell_type": "code",
   "execution_count": 207,
   "id": "a89b49fa",
   "metadata": {},
   "outputs": [
    {
     "data": {
      "text/plain": [
       "<selenium.webdriver.remote.webelement.WebElement (session=\"564f79b0035b341a0ba0e97b1cfa4ff2\", element=\"a745db2e-087a-4390-aecf-9eb4036b66b2\")>"
      ]
     },
     "execution_count": 207,
     "metadata": {},
     "output_type": "execute_result"
    }
   ],
   "source": [
    "clicknextpage6 = driver.find_element_by_xpath('/html/body/div[1]/div/div[3]/div/div/div[2]/div[13]/div/div/nav/a[7]')\n",
    "clicknextpage6"
   ]
  },
  {
   "cell_type": "code",
   "execution_count": 208,
   "id": "3e67fe1f",
   "metadata": {},
   "outputs": [],
   "source": [
    "clicknextpage6.click()"
   ]
  },
  {
   "cell_type": "code",
   "execution_count": 209,
   "id": "c86ab81a",
   "metadata": {},
   "outputs": [
    {
     "data": {
      "text/plain": [
       "[<selenium.webdriver.remote.webelement.WebElement (session=\"564f79b0035b341a0ba0e97b1cfa4ff2\", element=\"1e0747ef-87ac-4933-a75d-8ea9a1c8f087\")>,\n",
       " <selenium.webdriver.remote.webelement.WebElement (session=\"564f79b0035b341a0ba0e97b1cfa4ff2\", element=\"6955a2e8-7f72-4e1e-a419-1afba3775b01\")>,\n",
       " <selenium.webdriver.remote.webelement.WebElement (session=\"564f79b0035b341a0ba0e97b1cfa4ff2\", element=\"0be322e1-4685-409a-bdd2-798890ecab02\")>,\n",
       " <selenium.webdriver.remote.webelement.WebElement (session=\"564f79b0035b341a0ba0e97b1cfa4ff2\", element=\"581229b9-a1e2-4ae0-a7b6-3eec618bf090\")>,\n",
       " <selenium.webdriver.remote.webelement.WebElement (session=\"564f79b0035b341a0ba0e97b1cfa4ff2\", element=\"4cf9a002-e2ae-42c8-966a-39647f44f627\")>,\n",
       " <selenium.webdriver.remote.webelement.WebElement (session=\"564f79b0035b341a0ba0e97b1cfa4ff2\", element=\"f6be8a50-c327-4be3-908f-307428c3267a\")>,\n",
       " <selenium.webdriver.remote.webelement.WebElement (session=\"564f79b0035b341a0ba0e97b1cfa4ff2\", element=\"6bf61717-521e-404b-a33d-7ce4ba808367\")>,\n",
       " <selenium.webdriver.remote.webelement.WebElement (session=\"564f79b0035b341a0ba0e97b1cfa4ff2\", element=\"b6b8c5aa-5c3f-4e21-8dcb-1f6a921928a6\")>,\n",
       " <selenium.webdriver.remote.webelement.WebElement (session=\"564f79b0035b341a0ba0e97b1cfa4ff2\", element=\"e7b08a46-63ce-475c-b2ab-b69ff411a06e\")>,\n",
       " <selenium.webdriver.remote.webelement.WebElement (session=\"564f79b0035b341a0ba0e97b1cfa4ff2\", element=\"29fea641-98a1-40e7-acba-ef5f8b5dabbc\")>,\n",
       " <selenium.webdriver.remote.webelement.WebElement (session=\"564f79b0035b341a0ba0e97b1cfa4ff2\", element=\"b8ccac06-e762-4f17-b747-1c739f3a9701\")>,\n",
       " <selenium.webdriver.remote.webelement.WebElement (session=\"564f79b0035b341a0ba0e97b1cfa4ff2\", element=\"7b4cd5ae-d0e8-40c8-8a2d-72f65a6ae2d2\")>,\n",
       " <selenium.webdriver.remote.webelement.WebElement (session=\"564f79b0035b341a0ba0e97b1cfa4ff2\", element=\"a2d76aba-58a3-4f84-a92c-4f3b6c79c8be\")>,\n",
       " <selenium.webdriver.remote.webelement.WebElement (session=\"564f79b0035b341a0ba0e97b1cfa4ff2\", element=\"3b83f657-f776-4ca1-9601-1939c39be5d2\")>,\n",
       " <selenium.webdriver.remote.webelement.WebElement (session=\"564f79b0035b341a0ba0e97b1cfa4ff2\", element=\"58aba2bc-2399-46bf-a5f1-3e4be7a7fe81\")>,\n",
       " <selenium.webdriver.remote.webelement.WebElement (session=\"564f79b0035b341a0ba0e97b1cfa4ff2\", element=\"b9b46511-6e45-4f7d-9f2e-5f099cb54db6\")>,\n",
       " <selenium.webdriver.remote.webelement.WebElement (session=\"564f79b0035b341a0ba0e97b1cfa4ff2\", element=\"8fc39a4e-98e6-42df-a974-6bcb638abbd4\")>,\n",
       " <selenium.webdriver.remote.webelement.WebElement (session=\"564f79b0035b341a0ba0e97b1cfa4ff2\", element=\"72579459-8e0b-43c6-921e-28824040c07d\")>,\n",
       " <selenium.webdriver.remote.webelement.WebElement (session=\"564f79b0035b341a0ba0e97b1cfa4ff2\", element=\"b78913e7-c987-41b4-99b8-4ac4d39fee57\")>,\n",
       " <selenium.webdriver.remote.webelement.WebElement (session=\"564f79b0035b341a0ba0e97b1cfa4ff2\", element=\"b25cb2f8-e748-4305-a3c9-5752e1911d18\")>,\n",
       " <selenium.webdriver.remote.webelement.WebElement (session=\"564f79b0035b341a0ba0e97b1cfa4ff2\", element=\"271f991a-d03f-456a-b5cd-2c6e1ef30517\")>,\n",
       " <selenium.webdriver.remote.webelement.WebElement (session=\"564f79b0035b341a0ba0e97b1cfa4ff2\", element=\"36ac5afb-c40c-4789-9fd4-8b1bb22bea7f\")>,\n",
       " <selenium.webdriver.remote.webelement.WebElement (session=\"564f79b0035b341a0ba0e97b1cfa4ff2\", element=\"0fc19e0a-09bc-4339-965c-7569d53d127e\")>,\n",
       " <selenium.webdriver.remote.webelement.WebElement (session=\"564f79b0035b341a0ba0e97b1cfa4ff2\", element=\"53c55bee-9d33-416c-92bd-899a9a80ca04\")>,\n",
       " <selenium.webdriver.remote.webelement.WebElement (session=\"564f79b0035b341a0ba0e97b1cfa4ff2\", element=\"ef23d548-92dd-4847-9e33-a55c5dc66997\")>,\n",
       " <selenium.webdriver.remote.webelement.WebElement (session=\"564f79b0035b341a0ba0e97b1cfa4ff2\", element=\"b287ee6d-3ab7-4e96-9307-0cc433bc91ce\")>,\n",
       " <selenium.webdriver.remote.webelement.WebElement (session=\"564f79b0035b341a0ba0e97b1cfa4ff2\", element=\"1cfc6874-5e07-46ca-87bf-aa8d121ac5cb\")>,\n",
       " <selenium.webdriver.remote.webelement.WebElement (session=\"564f79b0035b341a0ba0e97b1cfa4ff2\", element=\"9eab63b0-dff6-43cf-9319-6d815630508a\")>,\n",
       " <selenium.webdriver.remote.webelement.WebElement (session=\"564f79b0035b341a0ba0e97b1cfa4ff2\", element=\"46f3d4b7-086c-4052-9b97-108f9c701451\")>,\n",
       " <selenium.webdriver.remote.webelement.WebElement (session=\"564f79b0035b341a0ba0e97b1cfa4ff2\", element=\"daea5632-33ac-47fc-a879-5c30cb02b179\")>]"
      ]
     },
     "execution_count": 209,
     "metadata": {},
     "output_type": "execute_result"
    }
   ],
   "source": [
    "fulrevline19 = driver.find_elements_by_xpath('//div[@class=\"_3LWZlK _1BLPMq\"]')[:100]\n",
    "fulrevline20 = driver.find_elements_by_xpath('//p[@class=\"_2-N8zT\"]')[:100]\n",
    "fulrevline21 = driver.find_elements_by_xpath('//div[@class=\"t-ZTKy\"]')[:100]\n",
    "fulrevline21\n",
    "\n",
    "fulreviewpag7 = list(fulrevline19+fulrevline20+fulrevline21)\n",
    "fulreviewpag7"
   ]
  },
  {
   "cell_type": "code",
   "execution_count": 210,
   "id": "2a0e7ec3",
   "metadata": {},
   "outputs": [
    {
     "data": {
      "text/plain": [
       "[['5'], ['5'], ['5'], ['4'], ['5'], ['5'], ['5'], ['5'], ['5'], ['5']]"
      ]
     },
     "execution_count": 210,
     "metadata": {},
     "output_type": "execute_result"
    }
   ],
   "source": [
    "FullReview19 = []\n",
    "\n",
    "for freview in fulrevline19:\n",
    "    FullReview19.append(freview.text.split('\\n'))\n",
    "FullReview19"
   ]
  },
  {
   "cell_type": "code",
   "execution_count": 211,
   "id": "225e5147",
   "metadata": {},
   "outputs": [
    {
     "data": {
      "text/plain": [
       "[['Perfect product!'],\n",
       " ['Just wow!'],\n",
       " ['Awesome'],\n",
       " ['Pretty good'],\n",
       " ['Terrific purchase'],\n",
       " ['Awesome'],\n",
       " ['Classy product'],\n",
       " ['Brilliant'],\n",
       " ['Terrific'],\n",
       " ['Perfect product!']]"
      ]
     },
     "execution_count": 211,
     "metadata": {},
     "output_type": "execute_result"
    }
   ],
   "source": [
    "FullReview20 = []\n",
    "\n",
    "for freview in fulrevline20:\n",
    "    FullReview20.append(freview.text.split('\\n'))\n",
    "FullReview20"
   ]
  },
  {
   "cell_type": "code",
   "execution_count": 212,
   "id": "ba7e14c9",
   "metadata": {},
   "outputs": [
    {
     "data": {
      "text/plain": [
       "[['In love with this iphone great performance,camera ,battery everything. Go for it have a uncompareble battery backup, no doubts in iPhone camera here You can see the picture which is shot on my iPhone In love with this iphone great performance,camera ,battery everything. Go for it have a uncompareble battery backup, no doubts in iPhone camera here You can see the picture which is shot on my iPhone In love with this iphone great performance,camera ,battery everything. Go for it have a uncompare...',\n",
       "  'READ MORE'],\n",
       " ['Best in class. Battery backup is good especially when you play games like Pubg COD. But it is sort of heavy when you hold in hands. Portrait mode is best to click pictures. Stage light effect is awesome. Try to click photos outside in nature because photos inside home or room will not give you the quality in any phone even in DSLR.'],\n",
       " ['Very excited to have this phone. This phone has the real power unlike the android phones having SD 855 . The battery life is very good and the camera quality is excellent as comapred to redmi and other phones except google pixel. I M enjoying every single bit of it. Would recommed only if you have the budget.'],\n",
       " ['I was using Iphone 6s and also Oneplus 6t. Both mobiles were perfectly alright in Photos, gaming, and smooth interface . My 6s mobile getting battery issue. thought upgrade to 11. Really like this mobile of its Internal storage (compare to 6s) , camera and its touch feeling. Its a worth buying mobile for me.'],\n",
       " ['Its Very awesome product working and good camera quality and all about best product and also flipkart is very great deal and offer nice price'],\n",
       " ['I am using this phone for 5 days and its one of the best camera out there ❤️ the screen is not oled and i am coming from iphone xs so its little bit not up to the mark i would say',\n",
       "  'But overall value for money💕😍the battery back up is far better than my iphone xs and its worth in my apple ecosystem💫❤️if u are an apple User and have the eco system then go for it❤️though i will be getting the new iphone but its pretty good💫'],\n",
       " ['Best and amazing product.....phone looks so premium.... battary is also good as expected .... Wide angle camera is so addictive ...if you are a IOS lover....then this phone will be the best choice for you all!!💯🔥'],\n",
       " ['Excellent camera and display touching very nice and smooth very improvement against iPhone XR and new processor is very fast'],\n",
       " ['I got this beast today. And I must say the picture quality of its camera is awesome. Both the cameras works fine.',\n",
       "  '',\n",
       "  'As for as the processing is concerned, it runs without any lag. You can play and do whatever you want without a glitch.',\n",
       "  '',\n",
       "  'The battery runs for a day with medium and high workload.',\n",
       "  '',\n",
       "  'The display is good and the speakers are working fine.',\n",
       "  '',\n",
       "  \"The earphones doesn't have any base and you can use it for calling mostly.\",\n",
       "  '',\n",
       "  'The charging time is approximately for 90 minutes for full charging...',\n",
       "  'READ MORE'],\n",
       " ['Awesome purchase. Amazing phone with good battery backup. It’s a top notch device. White colour looks amazing. Phone has a few extra feature than iPhone XR. Overall, this is value for money']]"
      ]
     },
     "execution_count": 212,
     "metadata": {},
     "output_type": "execute_result"
    }
   ],
   "source": [
    "FullReview21 = []\n",
    "\n",
    "for freview in fulrevline21:\n",
    "    FullReview21.append(freview.text.split('\\n'))\n",
    "FullReview21"
   ]
  },
  {
   "cell_type": "code",
   "execution_count": 213,
   "id": "03d68906",
   "metadata": {},
   "outputs": [
    {
     "data": {
      "text/html": [
       "<div>\n",
       "<style scoped>\n",
       "    .dataframe tbody tr th:only-of-type {\n",
       "        vertical-align: middle;\n",
       "    }\n",
       "\n",
       "    .dataframe tbody tr th {\n",
       "        vertical-align: top;\n",
       "    }\n",
       "\n",
       "    .dataframe thead th {\n",
       "        text-align: right;\n",
       "    }\n",
       "</style>\n",
       "<table border=\"1\" class=\"dataframe\">\n",
       "  <thead>\n",
       "    <tr style=\"text-align: right;\">\n",
       "      <th></th>\n",
       "      <th>Rating</th>\n",
       "      <th>Short Review</th>\n",
       "      <th>Full Review</th>\n",
       "    </tr>\n",
       "  </thead>\n",
       "  <tbody>\n",
       "    <tr>\n",
       "      <th>0</th>\n",
       "      <td>[5]</td>\n",
       "      <td>[Perfect product!]</td>\n",
       "      <td>[In love with this iphone great performance,ca...</td>\n",
       "    </tr>\n",
       "    <tr>\n",
       "      <th>1</th>\n",
       "      <td>[5]</td>\n",
       "      <td>[Just wow!]</td>\n",
       "      <td>[Best in class. Battery backup is good especia...</td>\n",
       "    </tr>\n",
       "    <tr>\n",
       "      <th>2</th>\n",
       "      <td>[5]</td>\n",
       "      <td>[Awesome]</td>\n",
       "      <td>[Very excited to have this phone. This phone h...</td>\n",
       "    </tr>\n",
       "    <tr>\n",
       "      <th>3</th>\n",
       "      <td>[4]</td>\n",
       "      <td>[Pretty good]</td>\n",
       "      <td>[I was using Iphone 6s and also Oneplus 6t. Bo...</td>\n",
       "    </tr>\n",
       "    <tr>\n",
       "      <th>4</th>\n",
       "      <td>[5]</td>\n",
       "      <td>[Terrific purchase]</td>\n",
       "      <td>[Its Very awesome product working and good cam...</td>\n",
       "    </tr>\n",
       "    <tr>\n",
       "      <th>5</th>\n",
       "      <td>[5]</td>\n",
       "      <td>[Awesome]</td>\n",
       "      <td>[I am using this phone for 5 days and its one ...</td>\n",
       "    </tr>\n",
       "    <tr>\n",
       "      <th>6</th>\n",
       "      <td>[5]</td>\n",
       "      <td>[Classy product]</td>\n",
       "      <td>[Best and amazing product.....phone looks so p...</td>\n",
       "    </tr>\n",
       "    <tr>\n",
       "      <th>7</th>\n",
       "      <td>[5]</td>\n",
       "      <td>[Brilliant]</td>\n",
       "      <td>[Excellent camera and display touching very ni...</td>\n",
       "    </tr>\n",
       "    <tr>\n",
       "      <th>8</th>\n",
       "      <td>[5]</td>\n",
       "      <td>[Terrific]</td>\n",
       "      <td>[I got this beast today. And I must say the pi...</td>\n",
       "    </tr>\n",
       "    <tr>\n",
       "      <th>9</th>\n",
       "      <td>[5]</td>\n",
       "      <td>[Perfect product!]</td>\n",
       "      <td>[Awesome purchase. Amazing phone with good bat...</td>\n",
       "    </tr>\n",
       "  </tbody>\n",
       "</table>\n",
       "</div>"
      ],
      "text/plain": [
       "  Rating         Short Review  \\\n",
       "0    [5]   [Perfect product!]   \n",
       "1    [5]          [Just wow!]   \n",
       "2    [5]            [Awesome]   \n",
       "3    [4]        [Pretty good]   \n",
       "4    [5]  [Terrific purchase]   \n",
       "5    [5]            [Awesome]   \n",
       "6    [5]     [Classy product]   \n",
       "7    [5]          [Brilliant]   \n",
       "8    [5]           [Terrific]   \n",
       "9    [5]   [Perfect product!]   \n",
       "\n",
       "                                         Full Review  \n",
       "0  [In love with this iphone great performance,ca...  \n",
       "1  [Best in class. Battery backup is good especia...  \n",
       "2  [Very excited to have this phone. This phone h...  \n",
       "3  [I was using Iphone 6s and also Oneplus 6t. Bo...  \n",
       "4  [Its Very awesome product working and good cam...  \n",
       "5  [I am using this phone for 5 days and its one ...  \n",
       "6  [Best and amazing product.....phone looks so p...  \n",
       "7  [Excellent camera and display touching very ni...  \n",
       "8  [I got this beast today. And I must say the pi...  \n",
       "9  [Awesome purchase. Amazing phone with good bat...  "
      ]
     },
     "execution_count": 213,
     "metadata": {},
     "output_type": "execute_result"
    }
   ],
   "source": [
    "data6 = pd.DataFrame()\n",
    "data6 ['Rating'] = FullReview19\n",
    "data6 ['Short Review'] = FullReview20\n",
    "data6 ['Full Review'] = FullReview21\n",
    "data6.head(11)"
   ]
  },
  {
   "cell_type": "code",
   "execution_count": 218,
   "id": "fa5ec115",
   "metadata": {},
   "outputs": [
    {
     "data": {
      "text/plain": [
       "<selenium.webdriver.remote.webelement.WebElement (session=\"564f79b0035b341a0ba0e97b1cfa4ff2\", element=\"5adf6e28-0881-4595-83eb-5a8e8d81d23a\")>"
      ]
     },
     "execution_count": 218,
     "metadata": {},
     "output_type": "execute_result"
    }
   ],
   "source": [
    "clicknextpage7 = driver.find_element_by_xpath('/html/body/div[1]/div/div[3]/div/div/div[2]/div[13]/div/div/nav/a[4]')\n",
    "clicknextpage7"
   ]
  },
  {
   "cell_type": "code",
   "execution_count": 219,
   "id": "2cd45a5c",
   "metadata": {},
   "outputs": [],
   "source": [
    "clicknextpage7.click()"
   ]
  },
  {
   "cell_type": "code",
   "execution_count": 225,
   "id": "201e3c2e",
   "metadata": {},
   "outputs": [
    {
     "data": {
      "text/plain": [
       "[<selenium.webdriver.remote.webelement.WebElement (session=\"564f79b0035b341a0ba0e97b1cfa4ff2\", element=\"8e563ed6-da9e-47c3-84f8-b97a6e6920c9\")>,\n",
       " <selenium.webdriver.remote.webelement.WebElement (session=\"564f79b0035b341a0ba0e97b1cfa4ff2\", element=\"e6b50fc1-1927-4233-924d-07fde3032b5b\")>,\n",
       " <selenium.webdriver.remote.webelement.WebElement (session=\"564f79b0035b341a0ba0e97b1cfa4ff2\", element=\"cb3909a9-6610-4daf-b8f6-de1b9c35fc82\")>,\n",
       " <selenium.webdriver.remote.webelement.WebElement (session=\"564f79b0035b341a0ba0e97b1cfa4ff2\", element=\"a8b8d2e0-85f0-4f58-b5df-bb3f37db67bf\")>,\n",
       " <selenium.webdriver.remote.webelement.WebElement (session=\"564f79b0035b341a0ba0e97b1cfa4ff2\", element=\"3472873a-918c-42bf-af02-77fb26ed0769\")>,\n",
       " <selenium.webdriver.remote.webelement.WebElement (session=\"564f79b0035b341a0ba0e97b1cfa4ff2\", element=\"64b835c6-80ae-41cf-afa4-c96f12a4a676\")>,\n",
       " <selenium.webdriver.remote.webelement.WebElement (session=\"564f79b0035b341a0ba0e97b1cfa4ff2\", element=\"ee80f932-51c8-487c-b82e-8b9d1845154b\")>,\n",
       " <selenium.webdriver.remote.webelement.WebElement (session=\"564f79b0035b341a0ba0e97b1cfa4ff2\", element=\"708d7998-6e5b-458a-a25e-fa06a0414a7b\")>,\n",
       " <selenium.webdriver.remote.webelement.WebElement (session=\"564f79b0035b341a0ba0e97b1cfa4ff2\", element=\"d49cc8f3-e43a-45ea-9cac-b2350a8ec4a3\")>,\n",
       " <selenium.webdriver.remote.webelement.WebElement (session=\"564f79b0035b341a0ba0e97b1cfa4ff2\", element=\"1a6acbcd-919d-4a91-bf84-7ca7804120f3\")>,\n",
       " <selenium.webdriver.remote.webelement.WebElement (session=\"564f79b0035b341a0ba0e97b1cfa4ff2\", element=\"5a6384d1-4039-4bc7-b8b8-0c4995a7facf\")>,\n",
       " <selenium.webdriver.remote.webelement.WebElement (session=\"564f79b0035b341a0ba0e97b1cfa4ff2\", element=\"71a58ec2-bec7-494d-91b8-507635d07a02\")>,\n",
       " <selenium.webdriver.remote.webelement.WebElement (session=\"564f79b0035b341a0ba0e97b1cfa4ff2\", element=\"421bf234-8b54-4e15-bebd-cd6bcb6287f0\")>,\n",
       " <selenium.webdriver.remote.webelement.WebElement (session=\"564f79b0035b341a0ba0e97b1cfa4ff2\", element=\"d462fde5-2cbb-4085-8ba1-51baea3c9b59\")>,\n",
       " <selenium.webdriver.remote.webelement.WebElement (session=\"564f79b0035b341a0ba0e97b1cfa4ff2\", element=\"e473a703-255b-4ff5-85b2-92e40323a45d\")>,\n",
       " <selenium.webdriver.remote.webelement.WebElement (session=\"564f79b0035b341a0ba0e97b1cfa4ff2\", element=\"183e0c5d-7858-40c6-8db6-a182f7649c75\")>,\n",
       " <selenium.webdriver.remote.webelement.WebElement (session=\"564f79b0035b341a0ba0e97b1cfa4ff2\", element=\"c61b3d9e-2c57-4525-ab6f-fc7ab051d42e\")>,\n",
       " <selenium.webdriver.remote.webelement.WebElement (session=\"564f79b0035b341a0ba0e97b1cfa4ff2\", element=\"0d586fc3-5f00-4206-8df7-b8329efa089a\")>,\n",
       " <selenium.webdriver.remote.webelement.WebElement (session=\"564f79b0035b341a0ba0e97b1cfa4ff2\", element=\"d264048e-c874-4364-8637-bca6899537d5\")>,\n",
       " <selenium.webdriver.remote.webelement.WebElement (session=\"564f79b0035b341a0ba0e97b1cfa4ff2\", element=\"a197a1fc-6fc8-43f4-bba0-6ed1af8e19e2\")>,\n",
       " <selenium.webdriver.remote.webelement.WebElement (session=\"564f79b0035b341a0ba0e97b1cfa4ff2\", element=\"2b6f28e7-990e-4555-8d57-c765fe70040c\")>,\n",
       " <selenium.webdriver.remote.webelement.WebElement (session=\"564f79b0035b341a0ba0e97b1cfa4ff2\", element=\"c00a6da8-b3f1-4fe0-a177-68285090d7e0\")>,\n",
       " <selenium.webdriver.remote.webelement.WebElement (session=\"564f79b0035b341a0ba0e97b1cfa4ff2\", element=\"088f656e-40ef-4987-a3e6-7d473d5dd1e5\")>,\n",
       " <selenium.webdriver.remote.webelement.WebElement (session=\"564f79b0035b341a0ba0e97b1cfa4ff2\", element=\"7a385582-66c2-4c92-ba41-df1c35da260a\")>,\n",
       " <selenium.webdriver.remote.webelement.WebElement (session=\"564f79b0035b341a0ba0e97b1cfa4ff2\", element=\"35bbc484-f011-4b65-841b-ec1a85361e50\")>,\n",
       " <selenium.webdriver.remote.webelement.WebElement (session=\"564f79b0035b341a0ba0e97b1cfa4ff2\", element=\"5e427707-83ea-4b74-81b4-55825d509df0\")>,\n",
       " <selenium.webdriver.remote.webelement.WebElement (session=\"564f79b0035b341a0ba0e97b1cfa4ff2\", element=\"3e5dac8e-6bfd-45ba-9a01-18db0e950c08\")>,\n",
       " <selenium.webdriver.remote.webelement.WebElement (session=\"564f79b0035b341a0ba0e97b1cfa4ff2\", element=\"9dfea6a4-8ff8-45d3-aad9-4f87ddcc4aca\")>,\n",
       " <selenium.webdriver.remote.webelement.WebElement (session=\"564f79b0035b341a0ba0e97b1cfa4ff2\", element=\"d4801fa8-c527-4edf-bdb9-42e8781442aa\")>,\n",
       " <selenium.webdriver.remote.webelement.WebElement (session=\"564f79b0035b341a0ba0e97b1cfa4ff2\", element=\"49b164e3-26bb-4c4a-9cd9-9986c14f5ee9\")>]"
      ]
     },
     "execution_count": 225,
     "metadata": {},
     "output_type": "execute_result"
    }
   ],
   "source": [
    "fulrevline22_1 = driver.find_elements_by_xpath('//div[@class=\"_3LWZlK _1BLPMq\"]')[:2]\n",
    "fulrevline22_2 = driver.find_elements_by_xpath('//div[@class=\"_3LWZlK _1rdVr6 _1BLPMq\"]')[:1]\n",
    "fulrevline22_3 = driver.find_elements_by_xpath('//div[@class=\"_3LWZlK _1BLPMq\"]')[2:]\n",
    "fulrevline23 = driver.find_elements_by_xpath('//p[@class=\"_2-N8zT\"]')[:100]\n",
    "fulrevline24 = driver.find_elements_by_xpath('//div[@class=\"t-ZTKy\"]')[:100]\n",
    "fulrevline24\n",
    "\n",
    "fulreviewpag8 = list(fulrevline22_1+fulrevline22_2+fulrevline22_3+fulrevline23+fulrevline24)\n",
    "fulreviewpag8"
   ]
  },
  {
   "cell_type": "code",
   "execution_count": 227,
   "id": "6c8faaba",
   "metadata": {},
   "outputs": [
    {
     "data": {
      "text/plain": [
       "[['5'], ['5']]"
      ]
     },
     "execution_count": 227,
     "metadata": {},
     "output_type": "execute_result"
    }
   ],
   "source": [
    "FullReview22_1 = []\n",
    "\n",
    "for freview in fulrevline22_1:\n",
    "    FullReview22_1.append(freview.text.split('\\n'))\n",
    "FullReview22_1"
   ]
  },
  {
   "cell_type": "code",
   "execution_count": 228,
   "id": "0fe84f53",
   "metadata": {},
   "outputs": [
    {
     "data": {
      "text/plain": [
       "[['1']]"
      ]
     },
     "execution_count": 228,
     "metadata": {},
     "output_type": "execute_result"
    }
   ],
   "source": [
    "FullReview22_2 = []\n",
    "\n",
    "for freview in fulrevline22_2:\n",
    "    FullReview22_2.append(freview.text.split('\\n'))\n",
    "FullReview22_2"
   ]
  },
  {
   "cell_type": "code",
   "execution_count": 229,
   "id": "94b8f841",
   "metadata": {},
   "outputs": [
    {
     "data": {
      "text/plain": [
       "[['5'], ['5'], ['5'], ['4'], ['5'], ['5'], ['5']]"
      ]
     },
     "execution_count": 229,
     "metadata": {},
     "output_type": "execute_result"
    }
   ],
   "source": [
    "FullReview22_3 = []\n",
    "\n",
    "for freview in fulrevline22_3:\n",
    "    FullReview22_3.append(freview.text.split('\\n'))\n",
    "FullReview22_3"
   ]
  },
  {
   "cell_type": "code",
   "execution_count": 230,
   "id": "c2a9eeb7",
   "metadata": {},
   "outputs": [
    {
     "data": {
      "text/plain": [
       "[['5'], ['5'], ['1'], ['5'], ['5'], ['5'], ['4'], ['5'], ['5'], ['5']]"
      ]
     },
     "execution_count": 230,
     "metadata": {},
     "output_type": "execute_result"
    }
   ],
   "source": [
    "FullReview22 = list(FullReview22_1+FullReview22_2+FullReview22_3)\n",
    "FullReview22"
   ]
  },
  {
   "cell_type": "code",
   "execution_count": 222,
   "id": "92edd7c5",
   "metadata": {},
   "outputs": [
    {
     "data": {
      "text/plain": [
       "[['Awesome'],\n",
       " ['Perfect product!'],\n",
       " ['Very poor'],\n",
       " ['Fabulous!'],\n",
       " ['Excellent'],\n",
       " ['Must buy!'],\n",
       " ['Value-for-money'],\n",
       " ['Best in the market!'],\n",
       " ['Brilliant'],\n",
       " ['Terrific purchase']]"
      ]
     },
     "execution_count": 222,
     "metadata": {},
     "output_type": "execute_result"
    }
   ],
   "source": [
    "FullReview23 = []\n",
    "\n",
    "for freview in fulrevline23:\n",
    "    FullReview23.append(freview.text.split('\\n'))\n",
    "FullReview23"
   ]
  },
  {
   "cell_type": "code",
   "execution_count": 223,
   "id": "151dbb0d",
   "metadata": {},
   "outputs": [
    {
     "data": {
      "text/plain": [
       "[['Always love the apple products, upgraded from old iPhone 6S plus to this after having my first baby. I just love to click baby’s photos with it. Overall I just love this phone. Battery back up is okay, sound quality is good. Haven’t tested yet waterproof yet. Only one thing I hate is apple could have given charger & headphones in box.'],\n",
       " ['Value for money',\n",
       "  '5 star rating',\n",
       "  'Excellent camera',\n",
       "  'Battery backup full day in single charge.',\n",
       "  '',\n",
       "  'Tougher and water resistant design, glossy back.',\n",
       "  'The screen has excellent brightness and contrast.',\n",
       "  'Apple A13 Bionic is the fastest smartphone chip on the planet.',\n",
       "  'Excellent battery life, fast charging support.',\n",
       "  'Stereo speakers with great quality.'],\n",
       " ['Please DONT buy from here,',\n",
       "  '',\n",
       "  'I purchased Apple iPhone 11. with an exchange of IPhone 7, the exchange did not go well, iPhone 7 had a small scratch out side screen which i could never identify till date, but the FLIPKART person could, so he reduced 50% from exchange rate. I decided not to trade in, but paid money.',\n",
       "  '',\n",
       "  'iPhone 11 Detail Below',\n",
       "  '---------------------------------------------',\n",
       "  'It came with no charging, then i have put for charging, it took lot of time for charging, the phone also showe...',\n",
       "  'READ MORE'],\n",
       " ['awesome phone to have. it has got many smart features apart from mind blowing looks, camera, display, battery and sound. have fallen in love with this phone. must buy phone if you have got enough money. thanks to flipkart and apple of course..'],\n",
       " ['Its a fabulous mobile look awesome performance unbeaten camera like dslr battery good i think this is a beast of mobile'],\n",
       " ['Dear friends... I want to share my experience with you about this amazing I phone 11....this is my first iPhone and special things about this mobile is it has great camera, battery backup and awesome display.... I mean everything is perfect.loved it 👍👍👍'],\n",
       " ['Just got this iphone 11',\n",
       "  'And it is most powerful mobile phone I have used ever',\n",
       "  '',\n",
       "  'So,go for it if you want a phone with best specification like camera,battery backup,display, A13 bionic chip',\n",
       "  '',\n",
       "  \"That's my review about this phone but yours can be differ from me....\"],\n",
       " [\"The best all rounder iphone. Flipkart is doing a great job. They're delivery services are blazing fast. I got delivery on the same day. Genuine Apple Product. Working great. Talking about review There's no need of review for iphones. They're simply the best.\"],\n",
       " ['Amazing phone and on great deal I received with super fast delivery by Flipkart...'],\n",
       " ['finally an iPhone with very nice battery backup. update from iPhone 7 and happy to have it. camera is not up to the mark in low light but overall a recommended phone if your budget allows 😀']]"
      ]
     },
     "execution_count": 223,
     "metadata": {},
     "output_type": "execute_result"
    }
   ],
   "source": [
    "FullReview24 = []\n",
    "\n",
    "for freview in fulrevline24:\n",
    "    FullReview24.append(freview.text.split('\\n'))\n",
    "FullReview24"
   ]
  },
  {
   "cell_type": "code",
   "execution_count": 231,
   "id": "845e52e5",
   "metadata": {},
   "outputs": [
    {
     "data": {
      "text/html": [
       "<div>\n",
       "<style scoped>\n",
       "    .dataframe tbody tr th:only-of-type {\n",
       "        vertical-align: middle;\n",
       "    }\n",
       "\n",
       "    .dataframe tbody tr th {\n",
       "        vertical-align: top;\n",
       "    }\n",
       "\n",
       "    .dataframe thead th {\n",
       "        text-align: right;\n",
       "    }\n",
       "</style>\n",
       "<table border=\"1\" class=\"dataframe\">\n",
       "  <thead>\n",
       "    <tr style=\"text-align: right;\">\n",
       "      <th></th>\n",
       "      <th>Rating</th>\n",
       "      <th>Short Review</th>\n",
       "      <th>Full Review</th>\n",
       "    </tr>\n",
       "  </thead>\n",
       "  <tbody>\n",
       "    <tr>\n",
       "      <th>0</th>\n",
       "      <td>[5]</td>\n",
       "      <td>[Awesome]</td>\n",
       "      <td>[Always love the apple products, upgraded from...</td>\n",
       "    </tr>\n",
       "    <tr>\n",
       "      <th>1</th>\n",
       "      <td>[5]</td>\n",
       "      <td>[Perfect product!]</td>\n",
       "      <td>[Value for money, 5 star rating, Excellent cam...</td>\n",
       "    </tr>\n",
       "    <tr>\n",
       "      <th>2</th>\n",
       "      <td>[1]</td>\n",
       "      <td>[Very poor]</td>\n",
       "      <td>[Please DONT buy from here,, , I purchased App...</td>\n",
       "    </tr>\n",
       "    <tr>\n",
       "      <th>3</th>\n",
       "      <td>[5]</td>\n",
       "      <td>[Fabulous!]</td>\n",
       "      <td>[awesome phone to have. it has got many smart ...</td>\n",
       "    </tr>\n",
       "    <tr>\n",
       "      <th>4</th>\n",
       "      <td>[5]</td>\n",
       "      <td>[Excellent]</td>\n",
       "      <td>[Its a fabulous mobile look awesome performanc...</td>\n",
       "    </tr>\n",
       "    <tr>\n",
       "      <th>5</th>\n",
       "      <td>[5]</td>\n",
       "      <td>[Must buy!]</td>\n",
       "      <td>[Dear friends... I want to share my experience...</td>\n",
       "    </tr>\n",
       "    <tr>\n",
       "      <th>6</th>\n",
       "      <td>[4]</td>\n",
       "      <td>[Value-for-money]</td>\n",
       "      <td>[Just got this iphone 11, And it is most power...</td>\n",
       "    </tr>\n",
       "    <tr>\n",
       "      <th>7</th>\n",
       "      <td>[5]</td>\n",
       "      <td>[Best in the market!]</td>\n",
       "      <td>[The best all rounder iphone. Flipkart is doin...</td>\n",
       "    </tr>\n",
       "    <tr>\n",
       "      <th>8</th>\n",
       "      <td>[5]</td>\n",
       "      <td>[Brilliant]</td>\n",
       "      <td>[Amazing phone and on great deal I received wi...</td>\n",
       "    </tr>\n",
       "    <tr>\n",
       "      <th>9</th>\n",
       "      <td>[5]</td>\n",
       "      <td>[Terrific purchase]</td>\n",
       "      <td>[finally an iPhone with very nice battery back...</td>\n",
       "    </tr>\n",
       "  </tbody>\n",
       "</table>\n",
       "</div>"
      ],
      "text/plain": [
       "  Rating           Short Review  \\\n",
       "0    [5]              [Awesome]   \n",
       "1    [5]     [Perfect product!]   \n",
       "2    [1]            [Very poor]   \n",
       "3    [5]            [Fabulous!]   \n",
       "4    [5]            [Excellent]   \n",
       "5    [5]            [Must buy!]   \n",
       "6    [4]      [Value-for-money]   \n",
       "7    [5]  [Best in the market!]   \n",
       "8    [5]            [Brilliant]   \n",
       "9    [5]    [Terrific purchase]   \n",
       "\n",
       "                                         Full Review  \n",
       "0  [Always love the apple products, upgraded from...  \n",
       "1  [Value for money, 5 star rating, Excellent cam...  \n",
       "2  [Please DONT buy from here,, , I purchased App...  \n",
       "3  [awesome phone to have. it has got many smart ...  \n",
       "4  [Its a fabulous mobile look awesome performanc...  \n",
       "5  [Dear friends... I want to share my experience...  \n",
       "6  [Just got this iphone 11, And it is most power...  \n",
       "7  [The best all rounder iphone. Flipkart is doin...  \n",
       "8  [Amazing phone and on great deal I received wi...  \n",
       "9  [finally an iPhone with very nice battery back...  "
      ]
     },
     "execution_count": 231,
     "metadata": {},
     "output_type": "execute_result"
    }
   ],
   "source": [
    "data7 = pd.DataFrame()\n",
    "data7 ['Rating'] = FullReview22\n",
    "data7 ['Short Review'] = FullReview23\n",
    "data7 ['Full Review'] = FullReview24\n",
    "data7.head(11)"
   ]
  },
  {
   "cell_type": "code",
   "execution_count": 234,
   "id": "5a44f216",
   "metadata": {},
   "outputs": [
    {
     "data": {
      "text/plain": [
       "<selenium.webdriver.remote.webelement.WebElement (session=\"564f79b0035b341a0ba0e97b1cfa4ff2\", element=\"05a3a826-7e23-4d1e-88c9-580d52d08c4b\")>"
      ]
     },
     "execution_count": 234,
     "metadata": {},
     "output_type": "execute_result"
    }
   ],
   "source": [
    "clicknextpage8 = driver.find_element_by_xpath('/html/body/div[1]/div/div[3]/div/div/div[2]/div[13]/div/div/nav/a[8]')\n",
    "clicknextpage8"
   ]
  },
  {
   "cell_type": "code",
   "execution_count": 235,
   "id": "666efedb",
   "metadata": {},
   "outputs": [],
   "source": [
    "clicknextpage8.click()"
   ]
  },
  {
   "cell_type": "code",
   "execution_count": 238,
   "id": "bb8dd85b",
   "metadata": {},
   "outputs": [
    {
     "data": {
      "text/plain": [
       "[<selenium.webdriver.remote.webelement.WebElement (session=\"564f79b0035b341a0ba0e97b1cfa4ff2\", element=\"6c2b0ae4-d692-4448-98ef-d0babd50e6b9\")>,\n",
       " <selenium.webdriver.remote.webelement.WebElement (session=\"564f79b0035b341a0ba0e97b1cfa4ff2\", element=\"4f15d3c2-26a2-4be7-bd52-f313bb7ef88c\")>,\n",
       " <selenium.webdriver.remote.webelement.WebElement (session=\"564f79b0035b341a0ba0e97b1cfa4ff2\", element=\"6be67b23-da22-4104-9abe-a285119b3c1b\")>,\n",
       " <selenium.webdriver.remote.webelement.WebElement (session=\"564f79b0035b341a0ba0e97b1cfa4ff2\", element=\"80790795-9aa8-4878-9880-67dc8326cf42\")>,\n",
       " <selenium.webdriver.remote.webelement.WebElement (session=\"564f79b0035b341a0ba0e97b1cfa4ff2\", element=\"96b4e2a7-ec13-4e4f-8b50-11f1c79f9c03\")>,\n",
       " <selenium.webdriver.remote.webelement.WebElement (session=\"564f79b0035b341a0ba0e97b1cfa4ff2\", element=\"836c959f-e67b-4d8b-829b-ddacca821b2d\")>,\n",
       " <selenium.webdriver.remote.webelement.WebElement (session=\"564f79b0035b341a0ba0e97b1cfa4ff2\", element=\"1162fe58-c431-4287-af13-a02f3044eb8d\")>,\n",
       " <selenium.webdriver.remote.webelement.WebElement (session=\"564f79b0035b341a0ba0e97b1cfa4ff2\", element=\"e438c1e5-9705-476b-b12a-b97177ac95d1\")>,\n",
       " <selenium.webdriver.remote.webelement.WebElement (session=\"564f79b0035b341a0ba0e97b1cfa4ff2\", element=\"dd9a0c3e-2bdf-4a65-934c-2c845cfd843d\")>,\n",
       " <selenium.webdriver.remote.webelement.WebElement (session=\"564f79b0035b341a0ba0e97b1cfa4ff2\", element=\"600598ea-73c5-4fd7-bae7-87833fb510fc\")>,\n",
       " <selenium.webdriver.remote.webelement.WebElement (session=\"564f79b0035b341a0ba0e97b1cfa4ff2\", element=\"4ac0141d-099e-47be-925f-48746f9ba571\")>,\n",
       " <selenium.webdriver.remote.webelement.WebElement (session=\"564f79b0035b341a0ba0e97b1cfa4ff2\", element=\"2e85dcd7-ac07-4d7b-b07e-a7254accb731\")>,\n",
       " <selenium.webdriver.remote.webelement.WebElement (session=\"564f79b0035b341a0ba0e97b1cfa4ff2\", element=\"a2f0bc4f-ee34-4138-a626-ac5d75f3d16e\")>,\n",
       " <selenium.webdriver.remote.webelement.WebElement (session=\"564f79b0035b341a0ba0e97b1cfa4ff2\", element=\"12c2e8f3-226b-44c4-a7e2-8b30d049ff7e\")>,\n",
       " <selenium.webdriver.remote.webelement.WebElement (session=\"564f79b0035b341a0ba0e97b1cfa4ff2\", element=\"f846f6f5-4942-43f0-9f53-a6fb200cac28\")>,\n",
       " <selenium.webdriver.remote.webelement.WebElement (session=\"564f79b0035b341a0ba0e97b1cfa4ff2\", element=\"e5fc91a8-155d-4e88-a58b-c1665b95a2cb\")>,\n",
       " <selenium.webdriver.remote.webelement.WebElement (session=\"564f79b0035b341a0ba0e97b1cfa4ff2\", element=\"93762504-0991-4b66-be0d-c6e977e0a0ce\")>,\n",
       " <selenium.webdriver.remote.webelement.WebElement (session=\"564f79b0035b341a0ba0e97b1cfa4ff2\", element=\"16b504e9-e2de-4be1-83c2-0e58cbcb943f\")>,\n",
       " <selenium.webdriver.remote.webelement.WebElement (session=\"564f79b0035b341a0ba0e97b1cfa4ff2\", element=\"30f14f97-7821-420d-a992-3986b8018fc6\")>,\n",
       " <selenium.webdriver.remote.webelement.WebElement (session=\"564f79b0035b341a0ba0e97b1cfa4ff2\", element=\"3b64b914-7284-4ff8-943f-2049f395cd30\")>,\n",
       " <selenium.webdriver.remote.webelement.WebElement (session=\"564f79b0035b341a0ba0e97b1cfa4ff2\", element=\"1152c008-3efb-4fa3-958e-fc267481147f\")>,\n",
       " <selenium.webdriver.remote.webelement.WebElement (session=\"564f79b0035b341a0ba0e97b1cfa4ff2\", element=\"ad0686c6-ad56-4d18-9c5a-9fc3d690f133\")>,\n",
       " <selenium.webdriver.remote.webelement.WebElement (session=\"564f79b0035b341a0ba0e97b1cfa4ff2\", element=\"503392ef-b1ac-429c-8279-dac9507cf899\")>,\n",
       " <selenium.webdriver.remote.webelement.WebElement (session=\"564f79b0035b341a0ba0e97b1cfa4ff2\", element=\"f62414f1-a835-4e22-a2dd-94f29a463858\")>,\n",
       " <selenium.webdriver.remote.webelement.WebElement (session=\"564f79b0035b341a0ba0e97b1cfa4ff2\", element=\"685db3bf-8e91-4432-99bc-9ebad79e5317\")>,\n",
       " <selenium.webdriver.remote.webelement.WebElement (session=\"564f79b0035b341a0ba0e97b1cfa4ff2\", element=\"b2a06760-4a20-4cd9-bed7-c512e582603a\")>,\n",
       " <selenium.webdriver.remote.webelement.WebElement (session=\"564f79b0035b341a0ba0e97b1cfa4ff2\", element=\"5aa241ab-9c12-40e8-bbae-a50bccf77cdf\")>,\n",
       " <selenium.webdriver.remote.webelement.WebElement (session=\"564f79b0035b341a0ba0e97b1cfa4ff2\", element=\"a74f71d2-0e15-4a53-a1b0-82df6f6cfab2\")>,\n",
       " <selenium.webdriver.remote.webelement.WebElement (session=\"564f79b0035b341a0ba0e97b1cfa4ff2\", element=\"af8159e7-b283-49d1-a3d0-d368b50a8c5e\")>,\n",
       " <selenium.webdriver.remote.webelement.WebElement (session=\"564f79b0035b341a0ba0e97b1cfa4ff2\", element=\"64a3c7b8-b033-4867-b06a-74a946c8527b\")>]"
      ]
     },
     "execution_count": 238,
     "metadata": {},
     "output_type": "execute_result"
    }
   ],
   "source": [
    "fulrevline25_1 = driver.find_elements_by_xpath('//div[@class=\"_3LWZlK _1BLPMq\"]')[:7]\n",
    "fulrevline25_2 = driver.find_elements_by_xpath('//div[@class=\"_3LWZlK _1rdVr6 _1BLPMq\"]')[:1]\n",
    "fulrevline25_3 = driver.find_elements_by_xpath('//div[@class=\"_3LWZlK _1BLPMq\"]')[7:100]\n",
    "fulrevline26 = driver.find_elements_by_xpath('//p[@class=\"_2-N8zT\"]')[:100]\n",
    "fulrevline27 = driver.find_elements_by_xpath('//div[@class=\"t-ZTKy\"]')[:100]\n",
    "fulrevline27\n",
    "\n",
    "fulreviewpag9 = list(fulrevline25_1+fulrevline25_2+fulrevline25_3+fulrevline26+fulrevline27)\n",
    "fulreviewpag9"
   ]
  },
  {
   "cell_type": "code",
   "execution_count": 239,
   "id": "36cc7806",
   "metadata": {},
   "outputs": [
    {
     "data": {
      "text/plain": [
       "[['4'], ['5'], ['5'], ['5'], ['5'], ['4'], ['5']]"
      ]
     },
     "execution_count": 239,
     "metadata": {},
     "output_type": "execute_result"
    }
   ],
   "source": [
    "FullReview25_1 = []\n",
    "\n",
    "for freview in fulrevline25_1:\n",
    "    FullReview25_1.append(freview.text.split('\\n'))\n",
    "FullReview25_1"
   ]
  },
  {
   "cell_type": "code",
   "execution_count": 240,
   "id": "7d49b83e",
   "metadata": {},
   "outputs": [
    {
     "data": {
      "text/plain": [
       "[['1']]"
      ]
     },
     "execution_count": 240,
     "metadata": {},
     "output_type": "execute_result"
    }
   ],
   "source": [
    "FullReview25_2 = []\n",
    "\n",
    "for freview in fulrevline25_2:\n",
    "    FullReview25_2.append(freview.text.split('\\n'))\n",
    "FullReview25_2"
   ]
  },
  {
   "cell_type": "code",
   "execution_count": 241,
   "id": "40592287",
   "metadata": {},
   "outputs": [
    {
     "data": {
      "text/plain": [
       "[['5'], ['5']]"
      ]
     },
     "execution_count": 241,
     "metadata": {},
     "output_type": "execute_result"
    }
   ],
   "source": [
    "FullReview25_3 = []\n",
    "\n",
    "for freview in fulrevline25_3:\n",
    "    FullReview25_3.append(freview.text.split('\\n'))\n",
    "FullReview25_3"
   ]
  },
  {
   "cell_type": "code",
   "execution_count": 242,
   "id": "6d428d8c",
   "metadata": {},
   "outputs": [
    {
     "data": {
      "text/plain": [
       "[['4'], ['5'], ['5'], ['5'], ['5'], ['4'], ['5'], ['1'], ['5'], ['5']]"
      ]
     },
     "execution_count": 242,
     "metadata": {},
     "output_type": "execute_result"
    }
   ],
   "source": [
    "FullReview25 = list(FullReview25_1+FullReview25_2+FullReview25_3)\n",
    "FullReview25"
   ]
  },
  {
   "cell_type": "code",
   "execution_count": 243,
   "id": "1c3b6fad",
   "metadata": {},
   "outputs": [
    {
     "data": {
      "text/plain": [
       "[['Good quality product'],\n",
       " ['Terrific'],\n",
       " ['Best in the market!'],\n",
       " ['Perfect product!'],\n",
       " ['Awesome'],\n",
       " ['Value-for-money'],\n",
       " ['Just wow!'],\n",
       " ['Worthless'],\n",
       " ['Super!'],\n",
       " ['Excellent']]"
      ]
     },
     "execution_count": 243,
     "metadata": {},
     "output_type": "execute_result"
    }
   ],
   "source": [
    "FullReview26 = []\n",
    "\n",
    "for freview in fulrevline26:\n",
    "    FullReview26.append(freview.text.split('\\n'))\n",
    "FullReview26"
   ]
  },
  {
   "cell_type": "code",
   "execution_count": 244,
   "id": "7aee9ef7",
   "metadata": {},
   "outputs": [
    {
     "data": {
      "text/plain": [
       "[[\"I'm switching this phone to oppo reno 10x zoom\",\n",
       "  \"It's really impressive\",\n",
       "  \"Rarely I'm missing smooth display touch response like oppo reno but\",\n",
       "  'I really loved it.',\n",
       "  'Camera really impressive'],\n",
       " ['Simply Awesome',\n",
       "  '',\n",
       "  'I have upgraded from iPhone 7 to iPhone 11.',\n",
       "  '',\n",
       "  '3110 mah Battery is good. I am not a heavy gamer. For official purpose, this is better than 12 mini.',\n",
       "  '',\n",
       "  'Totally impressed with battery performance.'],\n",
       " ['Damn this phone is a blast . Upgraded from android to ios and is a duperb experience. Battery backup is top notch and display also pretty good'],\n",
       " ['Worth the money’ starting first from its performance it beats out all phones , second the smoothness of camera is awesome, contrast ratio is much than expected. Price will not matter if u r a quality person, if not other phones are available with better discount'],\n",
       " ['I dreamt about this day from a long time.... Getting an iPhone with my own money.... Super happy and worth spending every penny'],\n",
       " [\"I'm Really happy with the product\",\n",
       "  'Delivery was fast as well',\n",
       "  '..it was a gift for my sister and she loved it so much.'],\n",
       " ['Great iphone.',\n",
       "  'I am writing this review after 2 months of usage.',\n",
       "  'Camera is excellent, especially the nightmode',\n",
       "  'Display perfect',\n",
       "  'Battery backup awesome',\n",
       "  'Sound quality very good',\n",
       "  'Overall Apple gives you a perfect iphone in this range.',\n",
       "  'Really in love with iPhone 11'],\n",
       " ['Phone is awesome no doubt. But Camera & Display is not great. Performance is mind blowing.',\n",
       "  \"But the phone is heating too much when charging or when you regularly used. It's experience after using 1 week. It's heating extrem when I play PUBG for 30 minutes.\",\n",
       "  'Go for iPhone 11 pro or 12. Otherwise go for Android phone you will get much better phone in less price.'],\n",
       " ['Did an upgrade from 6s plus to iphone 11.',\n",
       "  'Ao far the experience is well and good. Felt smoother than 6s plus. The camera quality is superb. Battery backup is descent. Not a heavy user, and gets power more than a day. Go for it if you need an alrounder iphone in a competitve price.'],\n",
       " [\"It was amazing experience for me. Honestly i am using iPhone first time so I don't have that much past experience about that. But after using 7 days this mobile i want to give some honest feedback.\",\n",
       "  '1- Display 9 out of 10',\n",
       "  '2- Camera 9.5 out of 10',\n",
       "  '3- Battery 7 out of 10',\n",
       "  '4- Performance 9.5 out of 10',\n",
       "  '5- Features & Functions 10 out of 10',\n",
       "  '6- Outer looks and colour 10 out of 10',\n",
       "  'Rest i think i will understand after using this for few months.',\n",
       "  'I will highly recommend you guys if you have budget then you...',\n",
       "  'READ MORE']]"
      ]
     },
     "execution_count": 244,
     "metadata": {},
     "output_type": "execute_result"
    }
   ],
   "source": [
    "FullReview27 = []\n",
    "\n",
    "for freview in fulrevline27:\n",
    "    FullReview27.append(freview.text.split('\\n'))\n",
    "FullReview27"
   ]
  },
  {
   "cell_type": "code",
   "execution_count": 245,
   "id": "91f7da6c",
   "metadata": {},
   "outputs": [
    {
     "data": {
      "text/html": [
       "<div>\n",
       "<style scoped>\n",
       "    .dataframe tbody tr th:only-of-type {\n",
       "        vertical-align: middle;\n",
       "    }\n",
       "\n",
       "    .dataframe tbody tr th {\n",
       "        vertical-align: top;\n",
       "    }\n",
       "\n",
       "    .dataframe thead th {\n",
       "        text-align: right;\n",
       "    }\n",
       "</style>\n",
       "<table border=\"1\" class=\"dataframe\">\n",
       "  <thead>\n",
       "    <tr style=\"text-align: right;\">\n",
       "      <th></th>\n",
       "      <th>Rating</th>\n",
       "      <th>Short Review</th>\n",
       "      <th>Full Review</th>\n",
       "    </tr>\n",
       "  </thead>\n",
       "  <tbody>\n",
       "    <tr>\n",
       "      <th>0</th>\n",
       "      <td>[4]</td>\n",
       "      <td>[Good quality product]</td>\n",
       "      <td>[I'm switching this phone to oppo reno 10x zoo...</td>\n",
       "    </tr>\n",
       "    <tr>\n",
       "      <th>1</th>\n",
       "      <td>[5]</td>\n",
       "      <td>[Terrific]</td>\n",
       "      <td>[Simply Awesome, , I have upgraded from iPhone...</td>\n",
       "    </tr>\n",
       "    <tr>\n",
       "      <th>2</th>\n",
       "      <td>[5]</td>\n",
       "      <td>[Best in the market!]</td>\n",
       "      <td>[Damn this phone is a blast . Upgraded from an...</td>\n",
       "    </tr>\n",
       "    <tr>\n",
       "      <th>3</th>\n",
       "      <td>[5]</td>\n",
       "      <td>[Perfect product!]</td>\n",
       "      <td>[Worth the money’ starting first from its perf...</td>\n",
       "    </tr>\n",
       "    <tr>\n",
       "      <th>4</th>\n",
       "      <td>[5]</td>\n",
       "      <td>[Awesome]</td>\n",
       "      <td>[I dreamt about this day from a long time.... ...</td>\n",
       "    </tr>\n",
       "    <tr>\n",
       "      <th>5</th>\n",
       "      <td>[4]</td>\n",
       "      <td>[Value-for-money]</td>\n",
       "      <td>[I'm Really happy with the product, Delivery w...</td>\n",
       "    </tr>\n",
       "    <tr>\n",
       "      <th>6</th>\n",
       "      <td>[5]</td>\n",
       "      <td>[Just wow!]</td>\n",
       "      <td>[Great iphone., I am writing this review after...</td>\n",
       "    </tr>\n",
       "    <tr>\n",
       "      <th>7</th>\n",
       "      <td>[1]</td>\n",
       "      <td>[Worthless]</td>\n",
       "      <td>[Phone is awesome no doubt. But Camera &amp; Displ...</td>\n",
       "    </tr>\n",
       "    <tr>\n",
       "      <th>8</th>\n",
       "      <td>[5]</td>\n",
       "      <td>[Super!]</td>\n",
       "      <td>[Did an upgrade from 6s plus to iphone 11., Ao...</td>\n",
       "    </tr>\n",
       "    <tr>\n",
       "      <th>9</th>\n",
       "      <td>[5]</td>\n",
       "      <td>[Excellent]</td>\n",
       "      <td>[It was amazing experience for me. Honestly i ...</td>\n",
       "    </tr>\n",
       "  </tbody>\n",
       "</table>\n",
       "</div>"
      ],
      "text/plain": [
       "  Rating            Short Review  \\\n",
       "0    [4]  [Good quality product]   \n",
       "1    [5]              [Terrific]   \n",
       "2    [5]   [Best in the market!]   \n",
       "3    [5]      [Perfect product!]   \n",
       "4    [5]               [Awesome]   \n",
       "5    [4]       [Value-for-money]   \n",
       "6    [5]             [Just wow!]   \n",
       "7    [1]             [Worthless]   \n",
       "8    [5]                [Super!]   \n",
       "9    [5]             [Excellent]   \n",
       "\n",
       "                                         Full Review  \n",
       "0  [I'm switching this phone to oppo reno 10x zoo...  \n",
       "1  [Simply Awesome, , I have upgraded from iPhone...  \n",
       "2  [Damn this phone is a blast . Upgraded from an...  \n",
       "3  [Worth the money’ starting first from its perf...  \n",
       "4  [I dreamt about this day from a long time.... ...  \n",
       "5  [I'm Really happy with the product, Delivery w...  \n",
       "6  [Great iphone., I am writing this review after...  \n",
       "7  [Phone is awesome no doubt. But Camera & Displ...  \n",
       "8  [Did an upgrade from 6s plus to iphone 11., Ao...  \n",
       "9  [It was amazing experience for me. Honestly i ...  "
      ]
     },
     "execution_count": 245,
     "metadata": {},
     "output_type": "execute_result"
    }
   ],
   "source": [
    "data8 = pd.DataFrame()\n",
    "data8 ['Rating'] = FullReview25\n",
    "data8 ['Short Review'] = FullReview26\n",
    "data8 ['Full Review'] = FullReview27\n",
    "data8.head(11)"
   ]
  },
  {
   "cell_type": "code",
   "execution_count": 251,
   "id": "af6ddad9",
   "metadata": {},
   "outputs": [
    {
     "data": {
      "text/plain": [
       "<selenium.webdriver.remote.webelement.WebElement (session=\"564f79b0035b341a0ba0e97b1cfa4ff2\", element=\"15d1bfda-a838-4fb5-9713-bf4ae48d715f\")>"
      ]
     },
     "execution_count": 251,
     "metadata": {},
     "output_type": "execute_result"
    }
   ],
   "source": [
    "clicknextpage9 = driver.find_element_by_xpath('/html/body/div[1]/div/div[3]/div/div/div[2]/div[13]/div/div/nav/a[7]')\n",
    "clicknextpage9"
   ]
  },
  {
   "cell_type": "code",
   "execution_count": 252,
   "id": "1ea5107b",
   "metadata": {},
   "outputs": [],
   "source": [
    "clicknextpage9.click()"
   ]
  },
  {
   "cell_type": "code",
   "execution_count": 253,
   "id": "f02660e6",
   "metadata": {},
   "outputs": [
    {
     "data": {
      "text/plain": [
       "[<selenium.webdriver.remote.webelement.WebElement (session=\"564f79b0035b341a0ba0e97b1cfa4ff2\", element=\"a3744329-50bf-4ada-a45b-601fa4a69741\")>,\n",
       " <selenium.webdriver.remote.webelement.WebElement (session=\"564f79b0035b341a0ba0e97b1cfa4ff2\", element=\"9cf4fccd-6c10-434a-b06c-3d80f6924208\")>,\n",
       " <selenium.webdriver.remote.webelement.WebElement (session=\"564f79b0035b341a0ba0e97b1cfa4ff2\", element=\"2dd0f528-ea54-4ab0-ad23-b53ec976d1ad\")>,\n",
       " <selenium.webdriver.remote.webelement.WebElement (session=\"564f79b0035b341a0ba0e97b1cfa4ff2\", element=\"44d94107-f1c6-4c2b-8269-2629409ead97\")>,\n",
       " <selenium.webdriver.remote.webelement.WebElement (session=\"564f79b0035b341a0ba0e97b1cfa4ff2\", element=\"ffc9f7d2-2ab9-4bce-ae77-764668c4f7d2\")>,\n",
       " <selenium.webdriver.remote.webelement.WebElement (session=\"564f79b0035b341a0ba0e97b1cfa4ff2\", element=\"419b3ff0-5429-4d04-ace2-bd71ed842b5b\")>,\n",
       " <selenium.webdriver.remote.webelement.WebElement (session=\"564f79b0035b341a0ba0e97b1cfa4ff2\", element=\"6dab6ae9-2582-4867-87c1-9597568bb5e7\")>,\n",
       " <selenium.webdriver.remote.webelement.WebElement (session=\"564f79b0035b341a0ba0e97b1cfa4ff2\", element=\"bd7efe78-85bc-4da8-be51-29d45687b8a5\")>,\n",
       " <selenium.webdriver.remote.webelement.WebElement (session=\"564f79b0035b341a0ba0e97b1cfa4ff2\", element=\"abe234b0-8598-4295-83f6-0e15af5bcbab\")>,\n",
       " <selenium.webdriver.remote.webelement.WebElement (session=\"564f79b0035b341a0ba0e97b1cfa4ff2\", element=\"bf09eecf-af4f-40d3-aa63-0481835de643\")>,\n",
       " <selenium.webdriver.remote.webelement.WebElement (session=\"564f79b0035b341a0ba0e97b1cfa4ff2\", element=\"cc9b9aca-35dd-4621-bf61-021c8e52297e\")>,\n",
       " <selenium.webdriver.remote.webelement.WebElement (session=\"564f79b0035b341a0ba0e97b1cfa4ff2\", element=\"d1c07005-c69b-49a6-9ac7-14d8bd907baa\")>,\n",
       " <selenium.webdriver.remote.webelement.WebElement (session=\"564f79b0035b341a0ba0e97b1cfa4ff2\", element=\"7534aeef-e368-4622-8984-1612cccc6a62\")>,\n",
       " <selenium.webdriver.remote.webelement.WebElement (session=\"564f79b0035b341a0ba0e97b1cfa4ff2\", element=\"d093d11e-40a0-4523-992a-f06fac13a335\")>,\n",
       " <selenium.webdriver.remote.webelement.WebElement (session=\"564f79b0035b341a0ba0e97b1cfa4ff2\", element=\"9f931519-6183-4513-b757-6ea812fec197\")>,\n",
       " <selenium.webdriver.remote.webelement.WebElement (session=\"564f79b0035b341a0ba0e97b1cfa4ff2\", element=\"9a3053e5-113a-4b35-837b-368aaea112d7\")>,\n",
       " <selenium.webdriver.remote.webelement.WebElement (session=\"564f79b0035b341a0ba0e97b1cfa4ff2\", element=\"ae0ef500-49bb-44b2-b7cb-60a84ccfa824\")>,\n",
       " <selenium.webdriver.remote.webelement.WebElement (session=\"564f79b0035b341a0ba0e97b1cfa4ff2\", element=\"659570a9-f628-4ad8-b12f-e1f39a20e666\")>,\n",
       " <selenium.webdriver.remote.webelement.WebElement (session=\"564f79b0035b341a0ba0e97b1cfa4ff2\", element=\"6d28c556-ea86-4840-9f76-39ba448e2f49\")>,\n",
       " <selenium.webdriver.remote.webelement.WebElement (session=\"564f79b0035b341a0ba0e97b1cfa4ff2\", element=\"fcb2e149-9bf5-489d-b4c4-6646516bc6bf\")>,\n",
       " <selenium.webdriver.remote.webelement.WebElement (session=\"564f79b0035b341a0ba0e97b1cfa4ff2\", element=\"1decf429-87b6-4d8e-b013-6becaa625f2c\")>,\n",
       " <selenium.webdriver.remote.webelement.WebElement (session=\"564f79b0035b341a0ba0e97b1cfa4ff2\", element=\"0d8d53dd-0029-4a7b-ade4-487092a06987\")>,\n",
       " <selenium.webdriver.remote.webelement.WebElement (session=\"564f79b0035b341a0ba0e97b1cfa4ff2\", element=\"43b446cd-ccbc-4206-a1e3-b1c3a68d6308\")>,\n",
       " <selenium.webdriver.remote.webelement.WebElement (session=\"564f79b0035b341a0ba0e97b1cfa4ff2\", element=\"bee3b57d-1f2d-417a-b02c-94677a1b204d\")>,\n",
       " <selenium.webdriver.remote.webelement.WebElement (session=\"564f79b0035b341a0ba0e97b1cfa4ff2\", element=\"14f8d6bc-85f1-4d48-8b52-d55616029134\")>,\n",
       " <selenium.webdriver.remote.webelement.WebElement (session=\"564f79b0035b341a0ba0e97b1cfa4ff2\", element=\"1b296df6-e926-49ee-93e8-cac84b4992e9\")>,\n",
       " <selenium.webdriver.remote.webelement.WebElement (session=\"564f79b0035b341a0ba0e97b1cfa4ff2\", element=\"7cddf32b-10bb-4d4a-9ca3-9b0753c06f36\")>,\n",
       " <selenium.webdriver.remote.webelement.WebElement (session=\"564f79b0035b341a0ba0e97b1cfa4ff2\", element=\"6ab423e1-3fe1-4ae5-9a88-6d8736422161\")>,\n",
       " <selenium.webdriver.remote.webelement.WebElement (session=\"564f79b0035b341a0ba0e97b1cfa4ff2\", element=\"6042d3e4-3cce-41c9-8520-e9742e239434\")>,\n",
       " <selenium.webdriver.remote.webelement.WebElement (session=\"564f79b0035b341a0ba0e97b1cfa4ff2\", element=\"08d99f7c-6202-451c-847c-da4dda7becbd\")>]"
      ]
     },
     "execution_count": 253,
     "metadata": {},
     "output_type": "execute_result"
    }
   ],
   "source": [
    "fulrevline28 = driver.find_elements_by_xpath('//div[@class=\"_3LWZlK _1BLPMq\"]')[:100]\n",
    "fulrevline29 = driver.find_elements_by_xpath('//p[@class=\"_2-N8zT\"]')[:100]\n",
    "fulrevline30 = driver.find_elements_by_xpath('//div[@class=\"t-ZTKy\"]')[:100]\n",
    "fulrevline30\n",
    "\n",
    "fulreviewpag10 = list(fulrevline28+fulrevline29+fulrevline30)\n",
    "fulreviewpag10"
   ]
  },
  {
   "cell_type": "code",
   "execution_count": 254,
   "id": "e531e7ed",
   "metadata": {},
   "outputs": [
    {
     "data": {
      "text/plain": [
       "[['5'], ['4'], ['5'], ['5'], ['5'], ['5'], ['5'], ['5'], ['4'], ['5']]"
      ]
     },
     "execution_count": 254,
     "metadata": {},
     "output_type": "execute_result"
    }
   ],
   "source": [
    "FullReview28 = []\n",
    "\n",
    "for freview in fulrevline28:\n",
    "    FullReview28.append(freview.text.split('\\n'))\n",
    "FullReview28"
   ]
  },
  {
   "cell_type": "code",
   "execution_count": 255,
   "id": "f4621864",
   "metadata": {},
   "outputs": [
    {
     "data": {
      "text/plain": [
       "[['Wonderful'],\n",
       " ['Nice product'],\n",
       " ['Mind-blowing purchase'],\n",
       " ['Classy product'],\n",
       " ['Terrific'],\n",
       " ['Worth every penny'],\n",
       " ['Excellent'],\n",
       " ['Fabulous!'],\n",
       " ['Pretty good'],\n",
       " ['Highly recommended']]"
      ]
     },
     "execution_count": 255,
     "metadata": {},
     "output_type": "execute_result"
    }
   ],
   "source": [
    "FullReview29 = []\n",
    "\n",
    "for freview in fulrevline29:\n",
    "    FullReview29.append(freview.text.split('\\n'))\n",
    "FullReview29"
   ]
  },
  {
   "cell_type": "code",
   "execution_count": 256,
   "id": "e5eb31d4",
   "metadata": {},
   "outputs": [
    {
     "data": {
      "text/plain": [
       "[['Super and marvellous phone look very cute and nice sound. I love this phone i think white is good colur.Excellent camer 5*😍😘♥️♥️'],\n",
       " [\"If you are looking for a premium phone under 55k, this is the one for you.Got the iPhone 11 during the Republic day sale. Performance is top notch in this price range. Camera's do a perfect job in taking good quality photos and videos. Battery backup too is satisfactory. Writing this review after using for a week. Any further observations would be updated.\"],\n",
       " ['awesome Phone Smooth Touch Too good Sexyy looks one word Awesome'],\n",
       " ['Gifted my man on his 30th birthday 🎂 He loves it.. Him happy so i am more than happy 😍😘❤️🥰'],\n",
       " ['I bought iPhone 11 On March 2021, And I am Writing this review after using the phone for 4 Months. I would Say Everything is fine, Top Performance, Nice Camera as Anyone would Expect from any series of iPhone but when the Question comes to Battery it is complicated. The Battery is fully optimised and it comes 3110 mAh capacity but the problem is with the charger. Honestly Apple Removed charger from in Box items in the name of Environment and they are also forcing us to buy any 20W PD 3rd part...',\n",
       "  'READ MORE'],\n",
       " ['Here is the thing',\n",
       "  '',\n",
       "  'The only reason why you should buy this phone is for the camera, iOS, and if you have headaches looking at AMOLED display.',\n",
       "  '',\n",
       "  'I’m not an avid gamer but watch a lot of movies on smartphone. However, my migraine attacks increased considerably after using AMOLED Smartphone. That’s why I made a calculated decision to buy iPhone 11. It has the best LCD display and the blacks, though not as natural as an AMOLED, is better than some of the other smartphones.',\n",
       "  '',\n",
       "  'Adding to this the ste...',\n",
       "  'READ MORE'],\n",
       " ['Just go for it.',\n",
       "  \"This phone is really amazing. I ordered it for my wife and we click photos on this thing which are better than dslr. I own OnePlus 6t but it's camera sucks. iPhone is really amazing when it comes to camera. It's worth spending 50k on this. Cons- only display is lcd. While using u don't feel it but if u compare with other phone then u can see difference quite easily.\",\n",
       "  \"Changing from Android to iphone is bit difficult coz most of things u don't know but I liked it. Some of the a...\",\n",
       "  'READ MORE'],\n",
       " ['Everything is perfect pictures come out so clearly and at first I wasn’t sure when I got it then when I started to use it and get the hang of it it was amazing!! I can’t wait to see what the next future phones will be like. The screen display on this bad boy are unbelievable they are so clear and never fail me. The performance is super cool there is a lot of cool features as well I like this phone because I feel that it is easy to use and one of my favorite things about this phone is the Face...',\n",
       "  'READ MORE'],\n",
       " [\"I've used this phone for over a month now and here are my takeaways.\",\n",
       "  'I would like to first talk about the best things about this phone and then the cons of it.',\n",
       "  '',\n",
       "  'Pros:',\n",
       "  \"This phone is a performance beast. It handles large games and applications effortlessly and you won't find any stutters or lags while playing graphic intensive games like pubg, cod , mortal kombat and asphalt.\",\n",
       "  '',\n",
       "  'This phone has only 4gb ram and yet the ram management is amazing, it can keep 3 heavy games in memory without reload...',\n",
       "  'READ MORE'],\n",
       " ['Thanks Flipkart For this amazing deal! I had a dream of owning a iphone since i had known about.',\n",
       "  'Im very happy with my purchase & it is totally worth it.',\n",
       "  'Amazing experience all over !!',\n",
       "  '',\n",
       "  'Anyone who’s thinking of buying it in 2021, i would simply say go for it without any second thoughts ❤️']]"
      ]
     },
     "execution_count": 256,
     "metadata": {},
     "output_type": "execute_result"
    }
   ],
   "source": [
    "FullReview30 = []\n",
    "\n",
    "for freview in fulrevline30:\n",
    "    FullReview30.append(freview.text.split('\\n'))\n",
    "FullReview30"
   ]
  },
  {
   "cell_type": "code",
   "execution_count": 257,
   "id": "a7300b36",
   "metadata": {},
   "outputs": [
    {
     "data": {
      "text/html": [
       "<div>\n",
       "<style scoped>\n",
       "    .dataframe tbody tr th:only-of-type {\n",
       "        vertical-align: middle;\n",
       "    }\n",
       "\n",
       "    .dataframe tbody tr th {\n",
       "        vertical-align: top;\n",
       "    }\n",
       "\n",
       "    .dataframe thead th {\n",
       "        text-align: right;\n",
       "    }\n",
       "</style>\n",
       "<table border=\"1\" class=\"dataframe\">\n",
       "  <thead>\n",
       "    <tr style=\"text-align: right;\">\n",
       "      <th></th>\n",
       "      <th>Rating</th>\n",
       "      <th>Short Review</th>\n",
       "      <th>Full Review</th>\n",
       "    </tr>\n",
       "  </thead>\n",
       "  <tbody>\n",
       "    <tr>\n",
       "      <th>0</th>\n",
       "      <td>[5]</td>\n",
       "      <td>[Wonderful]</td>\n",
       "      <td>[Super and marvellous phone look very cute and...</td>\n",
       "    </tr>\n",
       "    <tr>\n",
       "      <th>1</th>\n",
       "      <td>[4]</td>\n",
       "      <td>[Nice product]</td>\n",
       "      <td>[If you are looking for a premium phone under ...</td>\n",
       "    </tr>\n",
       "    <tr>\n",
       "      <th>2</th>\n",
       "      <td>[5]</td>\n",
       "      <td>[Mind-blowing purchase]</td>\n",
       "      <td>[awesome Phone Smooth Touch Too good Sexyy loo...</td>\n",
       "    </tr>\n",
       "    <tr>\n",
       "      <th>3</th>\n",
       "      <td>[5]</td>\n",
       "      <td>[Classy product]</td>\n",
       "      <td>[Gifted my man on his 30th birthday 🎂 He loves...</td>\n",
       "    </tr>\n",
       "    <tr>\n",
       "      <th>4</th>\n",
       "      <td>[5]</td>\n",
       "      <td>[Terrific]</td>\n",
       "      <td>[I bought iPhone 11 On March 2021, And I am Wr...</td>\n",
       "    </tr>\n",
       "    <tr>\n",
       "      <th>5</th>\n",
       "      <td>[5]</td>\n",
       "      <td>[Worth every penny]</td>\n",
       "      <td>[Here is the thing, , The only reason why you ...</td>\n",
       "    </tr>\n",
       "    <tr>\n",
       "      <th>6</th>\n",
       "      <td>[5]</td>\n",
       "      <td>[Excellent]</td>\n",
       "      <td>[Just go for it., This phone is really amazing...</td>\n",
       "    </tr>\n",
       "    <tr>\n",
       "      <th>7</th>\n",
       "      <td>[5]</td>\n",
       "      <td>[Fabulous!]</td>\n",
       "      <td>[Everything is perfect pictures come out so cl...</td>\n",
       "    </tr>\n",
       "    <tr>\n",
       "      <th>8</th>\n",
       "      <td>[4]</td>\n",
       "      <td>[Pretty good]</td>\n",
       "      <td>[I've used this phone for over a month now and...</td>\n",
       "    </tr>\n",
       "    <tr>\n",
       "      <th>9</th>\n",
       "      <td>[5]</td>\n",
       "      <td>[Highly recommended]</td>\n",
       "      <td>[Thanks Flipkart For this amazing deal! I had ...</td>\n",
       "    </tr>\n",
       "  </tbody>\n",
       "</table>\n",
       "</div>"
      ],
      "text/plain": [
       "  Rating             Short Review  \\\n",
       "0    [5]              [Wonderful]   \n",
       "1    [4]           [Nice product]   \n",
       "2    [5]  [Mind-blowing purchase]   \n",
       "3    [5]         [Classy product]   \n",
       "4    [5]               [Terrific]   \n",
       "5    [5]      [Worth every penny]   \n",
       "6    [5]              [Excellent]   \n",
       "7    [5]              [Fabulous!]   \n",
       "8    [4]            [Pretty good]   \n",
       "9    [5]     [Highly recommended]   \n",
       "\n",
       "                                         Full Review  \n",
       "0  [Super and marvellous phone look very cute and...  \n",
       "1  [If you are looking for a premium phone under ...  \n",
       "2  [awesome Phone Smooth Touch Too good Sexyy loo...  \n",
       "3  [Gifted my man on his 30th birthday 🎂 He loves...  \n",
       "4  [I bought iPhone 11 On March 2021, And I am Wr...  \n",
       "5  [Here is the thing, , The only reason why you ...  \n",
       "6  [Just go for it., This phone is really amazing...  \n",
       "7  [Everything is perfect pictures come out so cl...  \n",
       "8  [I've used this phone for over a month now and...  \n",
       "9  [Thanks Flipkart For this amazing deal! I had ...  "
      ]
     },
     "execution_count": 257,
     "metadata": {},
     "output_type": "execute_result"
    }
   ],
   "source": [
    "data9 = pd.DataFrame()\n",
    "data9 ['Rating'] = FullReview28\n",
    "data9 ['Short Review'] = FullReview29\n",
    "data9 ['Full Review'] = FullReview30\n",
    "data9.head(11)"
   ]
  },
  {
   "cell_type": "code",
   "execution_count": 258,
   "id": "a1e0f9f4",
   "metadata": {},
   "outputs": [
    {
     "data": {
      "text/plain": [
       "<selenium.webdriver.remote.webelement.WebElement (session=\"564f79b0035b341a0ba0e97b1cfa4ff2\", element=\"9a84707e-b02d-438c-a647-ee2b3ca7f112\")>"
      ]
     },
     "execution_count": 258,
     "metadata": {},
     "output_type": "execute_result"
    }
   ],
   "source": [
    "clicknextpage10 = driver.find_element_by_xpath('/html/body/div[1]/div/div[3]/div/div/div[2]/div[13]/div/div/nav/a[7]')\n",
    "clicknextpage10"
   ]
  },
  {
   "cell_type": "code",
   "execution_count": 259,
   "id": "3c555f20",
   "metadata": {},
   "outputs": [],
   "source": [
    "clicknextpage10.click()"
   ]
  },
  {
   "cell_type": "code",
   "execution_count": 262,
   "id": "c346b302",
   "metadata": {},
   "outputs": [
    {
     "data": {
      "text/plain": [
       "[['A perfect phone and a good battery super camera and the sound is dynamic overall the phone is perfect for upgrading from lower iPhone model to iPhone 11'],\n",
       " ['Undoubtedly Iphone 11 is the most successful model till now and its performance is extraordinary and the security features are very impressive, display is more vibrant sound quality Camera Quality 5*****, but Iphone should add accessories too and act like scrooge.'],\n",
       " ['I purchased the iPhone 11 a month back. I must say Apple has impressed me yet again . I have been an Apple user for past 5 years . The phone is power packed with amazing features . What impressed me the most was the battery backup the phone offers . Battery can easily run upto 1.5 days in single charge with moderate to',\n",
       "  'Heavy usage . If you’re looking for a value for money device , I don’t see any other phone in the price range which can match the iPhone 11 .',\n",
       "  'One thing I didn’t like was that ...',\n",
       "  'READ MORE'],\n",
       " ['A wort full value for money decision it’s . Simply go for it in 2021 its still a good decision . Awesome camera , Super smothered performance, Heck of build quality. And Most important it protects your privacy.'],\n",
       " ['The ultimate performance',\n",
       "  'Camera is superb',\n",
       "  'The battery backup also very good i never saw iphone gives this much of battery backup',\n",
       "  'If any one wana buy iphone 11 definitely i will recommend this mobile',\n",
       "  'It has the better battery and powerfull processer peak performance glorious camera and the display also 100% high quality lcd display if u had money for for 12 if u dont wana invest much money on that then go for iphone 11 it has maximum same specs only main difference between the 12 and 11 is...',\n",
       "  'READ MORE'],\n",
       " [\"Camera is excellent just lack of telephoto mode frankly dose not needed either night mode is just 🙏🙏 12 12 12 mp (2back 1 front) camera lover just don't miss the deal\",\n",
       "  'Display lcd but feel like super amoled',\n",
       "  'At46999 with no cost EMI just a best deal'],\n",
       " ['I use a Note10+ and have been using both iOS and Android devices.',\n",
       "  '',\n",
       "  'Camera has really good features and portraits are super good, better than Samsung flagship. Overall camera setup can still be enhanced and hopeful for better upgrades on software in next release',\n",
       "  '',\n",
       "  'Operating system is quite a breeze and user experience of daily usage is very high as compared to Android. I moved to iOS very swiftly in 2 days for all my office work from Note10+',\n",
       "  '',\n",
       "  'Battery holds up quite well with 4 hrs of call and ...',\n",
       "  'READ MORE'],\n",
       " ['The phone is completely good',\n",
       "  'As far as camera Apple is king of it',\n",
       "  'And its a beast in performance',\n",
       "  'And the battery is pretty good too'],\n",
       " ['Everything u ll like it when u use this iPhone. Simple changes only not many to lower models but it’s nice to use. Little heavy compared to previous models like 7,8'],\n",
       " ['Excellent camera 📸 And Display touching very Nice And Smooth and very improvement against',\n",
       "  'I phone 11 and new processor is very fast']]"
      ]
     },
     "execution_count": 262,
     "metadata": {},
     "output_type": "execute_result"
    }
   ],
   "source": [
    "fulrevline31 = driver.find_elements_by_xpath('//div[@class=\"_3LWZlK _1BLPMq\"]')[:100]\n",
    "fulrevline32 = driver.find_elements_by_xpath('//p[@class=\"_2-N8zT\"]')[:100]\n",
    "fulrevline33 = driver.find_elements_by_xpath('//div[@class=\"t-ZTKy\"]')[:100]\n",
    "fulrevline33\n",
    "\n",
    "fulreviewpag11 = list(fulrevline31+fulrevline32+fulrevline33)\n",
    "fulreviewpag11\n",
    "\n",
    "FullReview31 = []\n",
    "\n",
    "for freview in fulrevline31:\n",
    "    FullReview31.append(freview.text.split('\\n'))\n",
    "FullReview31\n",
    "\n",
    "FullReview32 = []\n",
    "\n",
    "for freview in fulrevline32:\n",
    "    FullReview32.append(freview.text.split('\\n'))\n",
    "FullReview32\n",
    "\n",
    "FullReview33 = []\n",
    "\n",
    "for freview in fulrevline33:\n",
    "    FullReview33.append(freview.text.split('\\n'))\n",
    "FullReview33"
   ]
  },
  {
   "cell_type": "code",
   "execution_count": 263,
   "id": "547876ab",
   "metadata": {},
   "outputs": [
    {
     "data": {
      "text/html": [
       "<div>\n",
       "<style scoped>\n",
       "    .dataframe tbody tr th:only-of-type {\n",
       "        vertical-align: middle;\n",
       "    }\n",
       "\n",
       "    .dataframe tbody tr th {\n",
       "        vertical-align: top;\n",
       "    }\n",
       "\n",
       "    .dataframe thead th {\n",
       "        text-align: right;\n",
       "    }\n",
       "</style>\n",
       "<table border=\"1\" class=\"dataframe\">\n",
       "  <thead>\n",
       "    <tr style=\"text-align: right;\">\n",
       "      <th></th>\n",
       "      <th>Rating</th>\n",
       "      <th>Short Review</th>\n",
       "      <th>Full Review</th>\n",
       "    </tr>\n",
       "  </thead>\n",
       "  <tbody>\n",
       "    <tr>\n",
       "      <th>0</th>\n",
       "      <td>[5]</td>\n",
       "      <td>[Excellent]</td>\n",
       "      <td>[A perfect phone and a good battery super came...</td>\n",
       "    </tr>\n",
       "    <tr>\n",
       "      <th>1</th>\n",
       "      <td>[5]</td>\n",
       "      <td>[Worth every penny]</td>\n",
       "      <td>[Undoubtedly Iphone 11 is the most successful ...</td>\n",
       "    </tr>\n",
       "    <tr>\n",
       "      <th>2</th>\n",
       "      <td>[5]</td>\n",
       "      <td>[Fabulous!]</td>\n",
       "      <td>[I purchased the iPhone 11 a month back. I mus...</td>\n",
       "    </tr>\n",
       "    <tr>\n",
       "      <th>3</th>\n",
       "      <td>[5]</td>\n",
       "      <td>[Brilliant]</td>\n",
       "      <td>[A wort full value for money decision it’s . S...</td>\n",
       "    </tr>\n",
       "    <tr>\n",
       "      <th>4</th>\n",
       "      <td>[5]</td>\n",
       "      <td>[Just wow!]</td>\n",
       "      <td>[The ultimate performance, Camera is superb, T...</td>\n",
       "    </tr>\n",
       "    <tr>\n",
       "      <th>5</th>\n",
       "      <td>[5]</td>\n",
       "      <td>[Must buy!]</td>\n",
       "      <td>[Camera is excellent just lack of telephoto mo...</td>\n",
       "    </tr>\n",
       "    <tr>\n",
       "      <th>6</th>\n",
       "      <td>[5]</td>\n",
       "      <td>[Terrific purchase]</td>\n",
       "      <td>[I use a Note10+ and have been using both iOS ...</td>\n",
       "    </tr>\n",
       "    <tr>\n",
       "      <th>7</th>\n",
       "      <td>[5]</td>\n",
       "      <td>[Awesome]</td>\n",
       "      <td>[The phone is completely good, As far as camer...</td>\n",
       "    </tr>\n",
       "    <tr>\n",
       "      <th>8</th>\n",
       "      <td>[3]</td>\n",
       "      <td>[Decent product]</td>\n",
       "      <td>[Everything u ll like it when u use this iPhon...</td>\n",
       "    </tr>\n",
       "    <tr>\n",
       "      <th>9</th>\n",
       "      <td>[5]</td>\n",
       "      <td>[Mind-blowing purchase]</td>\n",
       "      <td>[Excellent camera 📸 And Display touching very ...</td>\n",
       "    </tr>\n",
       "  </tbody>\n",
       "</table>\n",
       "</div>"
      ],
      "text/plain": [
       "  Rating             Short Review  \\\n",
       "0    [5]              [Excellent]   \n",
       "1    [5]      [Worth every penny]   \n",
       "2    [5]              [Fabulous!]   \n",
       "3    [5]              [Brilliant]   \n",
       "4    [5]              [Just wow!]   \n",
       "5    [5]              [Must buy!]   \n",
       "6    [5]      [Terrific purchase]   \n",
       "7    [5]                [Awesome]   \n",
       "8    [3]         [Decent product]   \n",
       "9    [5]  [Mind-blowing purchase]   \n",
       "\n",
       "                                         Full Review  \n",
       "0  [A perfect phone and a good battery super came...  \n",
       "1  [Undoubtedly Iphone 11 is the most successful ...  \n",
       "2  [I purchased the iPhone 11 a month back. I mus...  \n",
       "3  [A wort full value for money decision it’s . S...  \n",
       "4  [The ultimate performance, Camera is superb, T...  \n",
       "5  [Camera is excellent just lack of telephoto mo...  \n",
       "6  [I use a Note10+ and have been using both iOS ...  \n",
       "7  [The phone is completely good, As far as camer...  \n",
       "8  [Everything u ll like it when u use this iPhon...  \n",
       "9  [Excellent camera 📸 And Display touching very ...  "
      ]
     },
     "execution_count": 263,
     "metadata": {},
     "output_type": "execute_result"
    }
   ],
   "source": [
    "data10 = pd.DataFrame()\n",
    "data10 ['Rating'] = FullReview31\n",
    "data10 ['Short Review'] = FullReview32\n",
    "data10 ['Full Review'] = FullReview33\n",
    "data10.head(11)"
   ]
  },
  {
   "cell_type": "code",
   "execution_count": 264,
   "id": "3235ce8f",
   "metadata": {},
   "outputs": [
    {
     "data": {
      "text/html": [
       "<div>\n",
       "<style scoped>\n",
       "    .dataframe tbody tr th:only-of-type {\n",
       "        vertical-align: middle;\n",
       "    }\n",
       "\n",
       "    .dataframe tbody tr th {\n",
       "        vertical-align: top;\n",
       "    }\n",
       "\n",
       "    .dataframe thead th {\n",
       "        text-align: right;\n",
       "    }\n",
       "</style>\n",
       "<table border=\"1\" class=\"dataframe\">\n",
       "  <thead>\n",
       "    <tr style=\"text-align: right;\">\n",
       "      <th></th>\n",
       "      <th>Rating</th>\n",
       "      <th>Short Review</th>\n",
       "      <th>Full Review</th>\n",
       "    </tr>\n",
       "  </thead>\n",
       "  <tbody>\n",
       "    <tr>\n",
       "      <th>0</th>\n",
       "      <td>[5]</td>\n",
       "      <td>[Brilliant]</td>\n",
       "      <td>[The Best Phone for the Money, , The iPhone 11...</td>\n",
       "    </tr>\n",
       "    <tr>\n",
       "      <th>1</th>\n",
       "      <td>[5]</td>\n",
       "      <td>[Simply awesome]</td>\n",
       "      <td>[Really satisfied with the Product I received....</td>\n",
       "    </tr>\n",
       "    <tr>\n",
       "      <th>2</th>\n",
       "      <td>[5]</td>\n",
       "      <td>[Perfect product!]</td>\n",
       "      <td>[Amazing phone with great cameras and better b...</td>\n",
       "    </tr>\n",
       "    <tr>\n",
       "      <th>3</th>\n",
       "      <td>[5]</td>\n",
       "      <td>[Best in the market!]</td>\n",
       "      <td>[Great iPhone very snappy experience as apple ...</td>\n",
       "    </tr>\n",
       "    <tr>\n",
       "      <th>4</th>\n",
       "      <td>[5]</td>\n",
       "      <td>[Worth every penny]</td>\n",
       "      <td>[Previously I was using one plus 3t it was a g...</td>\n",
       "    </tr>\n",
       "    <tr>\n",
       "      <th>...</th>\n",
       "      <td>...</td>\n",
       "      <td>...</td>\n",
       "      <td>...</td>\n",
       "    </tr>\n",
       "    <tr>\n",
       "      <th>5</th>\n",
       "      <td>[5]</td>\n",
       "      <td>[Must buy!]</td>\n",
       "      <td>[Camera is excellent just lack of telephoto mo...</td>\n",
       "    </tr>\n",
       "    <tr>\n",
       "      <th>6</th>\n",
       "      <td>[5]</td>\n",
       "      <td>[Terrific purchase]</td>\n",
       "      <td>[I use a Note10+ and have been using both iOS ...</td>\n",
       "    </tr>\n",
       "    <tr>\n",
       "      <th>7</th>\n",
       "      <td>[5]</td>\n",
       "      <td>[Awesome]</td>\n",
       "      <td>[The phone is completely good, As far as camer...</td>\n",
       "    </tr>\n",
       "    <tr>\n",
       "      <th>8</th>\n",
       "      <td>[3]</td>\n",
       "      <td>[Decent product]</td>\n",
       "      <td>[Everything u ll like it when u use this iPhon...</td>\n",
       "    </tr>\n",
       "    <tr>\n",
       "      <th>9</th>\n",
       "      <td>[5]</td>\n",
       "      <td>[Mind-blowing purchase]</td>\n",
       "      <td>[Excellent camera 📸 And Display touching very ...</td>\n",
       "    </tr>\n",
       "  </tbody>\n",
       "</table>\n",
       "<p>100 rows × 3 columns</p>\n",
       "</div>"
      ],
      "text/plain": [
       "   Rating             Short Review  \\\n",
       "0     [5]              [Brilliant]   \n",
       "1     [5]         [Simply awesome]   \n",
       "2     [5]       [Perfect product!]   \n",
       "3     [5]    [Best in the market!]   \n",
       "4     [5]      [Worth every penny]   \n",
       "..    ...                      ...   \n",
       "5     [5]              [Must buy!]   \n",
       "6     [5]      [Terrific purchase]   \n",
       "7     [5]                [Awesome]   \n",
       "8     [3]         [Decent product]   \n",
       "9     [5]  [Mind-blowing purchase]   \n",
       "\n",
       "                                          Full Review  \n",
       "0   [The Best Phone for the Money, , The iPhone 11...  \n",
       "1   [Really satisfied with the Product I received....  \n",
       "2   [Amazing phone with great cameras and better b...  \n",
       "3   [Great iPhone very snappy experience as apple ...  \n",
       "4   [Previously I was using one plus 3t it was a g...  \n",
       "..                                                ...  \n",
       "5   [Camera is excellent just lack of telephoto mo...  \n",
       "6   [I use a Note10+ and have been using both iOS ...  \n",
       "7   [The phone is completely good, As far as camer...  \n",
       "8   [Everything u ll like it when u use this iPhon...  \n",
       "9   [Excellent camera 📸 And Display touching very ...  \n",
       "\n",
       "[100 rows x 3 columns]"
      ]
     },
     "execution_count": 264,
     "metadata": {},
     "output_type": "execute_result"
    }
   ],
   "source": [
    "pd.concat([data1,data2,data3,data4,data5,data6,data7,data8,data9,data10])"
   ]
  },
  {
   "cell_type": "code",
   "execution_count": null,
   "id": "24fa51a9",
   "metadata": {},
   "outputs": [],
   "source": []
  }
 ],
 "metadata": {
  "kernelspec": {
   "display_name": "Python 3",
   "language": "python",
   "name": "python3"
  },
  "language_info": {
   "codemirror_mode": {
    "name": "ipython",
    "version": 3
   },
   "file_extension": ".py",
   "mimetype": "text/x-python",
   "name": "python",
   "nbconvert_exporter": "python",
   "pygments_lexer": "ipython3",
   "version": "3.8.8"
  }
 },
 "nbformat": 4,
 "nbformat_minor": 5
}
